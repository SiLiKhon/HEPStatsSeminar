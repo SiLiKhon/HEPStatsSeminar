{
  "nbformat": 4,
  "nbformat_minor": 0,
  "metadata": {
    "colab": {
      "name": "Basics of Data Handling.ipynb",
      "version": "0.3.2",
      "provenance": [],
      "include_colab_link": true
    },
    "kernelspec": {
      "name": "python3",
      "display_name": "Python 3"
    }
  },
  "cells": [
    {
      "cell_type": "markdown",
      "metadata": {
        "id": "view-in-github",
        "colab_type": "text"
      },
      "source": [
        "<a href=\"https://colab.research.google.com/github/SiLiKhon/HEPStatsSeminar/blob/master/Basics_of_Data_Handling.ipynb\" target=\"_parent\"><img src=\"https://colab.research.google.com/assets/colab-badge.svg\" alt=\"Open In Colab\"/></a>"
      ]
    },
    {
      "metadata": {
        "id": "E0bzjxGbr7XN",
        "colab_type": "text"
      },
      "cell_type": "markdown",
      "source": [
        "# File I/O"
      ]
    },
    {
      "metadata": {
        "id": "lPWZYzvIr-VS",
        "colab_type": "text"
      },
      "cell_type": "markdown",
      "source": [
        "## Comma-separated values (CSV)\n",
        "\n",
        "A very common file format for data files is comma-separated values (CSV), or related formats such as TSV (tab-separated values). To read data from such files into Numpy arrays we can use the numpy.genfromtxt function. For example,"
      ]
    }
  ]
}