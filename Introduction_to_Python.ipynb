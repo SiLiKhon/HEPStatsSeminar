{
  "nbformat": 4,
  "nbformat_minor": 0,
  "metadata": {
    "colab": {
      "name": "Introduction to Python.ipynb",
      "version": "0.3.2",
      "provenance": [],
      "toc_visible": true,
      "include_colab_link": true
    },
    "kernelspec": {
      "name": "python3",
      "display_name": "Python 3"
    }
  },
  "cells": [
    {
      "cell_type": "markdown",
      "metadata": {
        "id": "view-in-github",
        "colab_type": "text"
      },
      "source": [
        "<a href=\"https://colab.research.google.com/github/SiLiKhon/HEPStatsSeminar/blob/master/Introduction_to_Python.ipynb\" target=\"_parent\"><img src=\"https://colab.research.google.com/assets/colab-badge.svg\" alt=\"Open In Colab\"/></a>"
      ]
    },
    {
      "metadata": {
        "id": "J8Qej4eV_aUo",
        "colab_type": "toc"
      },
      "cell_type": "markdown",
      "source": [
        ">[What is Python?](#scrollTo=a8Y4WlA4zijO)\n",
        "\n",
        ">>[Python interpreter](#scrollTo=LRyoLkE230p6)\n",
        "\n",
        ">>[IPython](#scrollTo=Agcq0nG49JxP)\n",
        "\n",
        ">>[Jupyter notebook](#scrollTo=zWI1ypD96S1k)\n",
        "\n",
        ">>[Python versions](#scrollTo=5DOBtEb3XBw7)\n",
        "\n",
        ">[Welcome to Jupyter Notebooks!](#scrollTo=LDw7MgHKxVkU)\n",
        "\n",
        ">>[Let's get to it](#scrollTo=DbiTQ6BR-d8X)\n",
        "\n",
        ">>[Basics](#scrollTo=K3Co4QxLVE_A)\n",
        "\n",
        ">>>[Exercise 1.1](#scrollTo=OKpU0kauWlCX)\n",
        "\n",
        ">>>[Exercise 1.2](#scrollTo=w3-J1a-0a785)\n",
        "\n",
        ">>>[Exercise 1.3](#scrollTo=M6WjpCbtbjm_)\n",
        "\n",
        ">>>[Exercise 1.4](#scrollTo=2h9WZaZ5c5R-)\n",
        "\n",
        ">>>[Exercise 1.5](#scrollTo=72n2Z1BVdQ4_)\n",
        "\n",
        ">>>[Exercise 1.6 (Homework)](#scrollTo=aRE8jfD-dmM7)\n",
        "\n",
        ">[References](#scrollTo=Fi6TMSDIePAj)\n",
        "\n"
      ]
    },
    {
      "metadata": {
        "id": "a8Y4WlA4zijO",
        "colab_type": "text"
      },
      "cell_type": "markdown",
      "source": [
        "# What is Python?\n",
        "\n",
        "\n",
        "[Python](https://python.org) is a modern, general-purpose, object-oriented, high-level programming language.\n",
        "\n",
        "General characteristics of Python:\n",
        "\n",
        "*   **clean and simple language:** Easy-to-read and intuitive code, easy-to-learn minimalistic syntax, maintainability scales well with size of projects\n",
        "*   **expressive language:** Fewer lines of code, fewer bugs, easier to maintain\n",
        "\n",
        "\n",
        "Technical details:\n",
        "\n",
        "*    **dynamically typed:** No need to define the type of variables, function arguments or return types\n",
        "*   **automatic memory management:** No need to explicitly allocate and deallocate memory for variables and data arrays. No memory leak bugs\n",
        "*  **interpreted:** No need to compile the code. The Python interpreter reads and executes the python code directly\n",
        "\n",
        "\n",
        "Advantages:\n",
        "\n",
        "* The main advantage is ease of programming, minimizing the time required to develop, debug and maintain the code\n",
        "* Well designed language that encourage many good programming practices:\n",
        " *  Modular and object-oriented programming, good system for packaging and re-use of code. This often results in more transparent, maintainable and bug-free code\n",
        " * Documentation tightly integrated with the code\n",
        "* A large standard library, and a large collection of add-on packages\n",
        "\n",
        "\n",
        "Disadvantages:\n",
        "\n",
        "*    Since Python is an interpreted and dynamically typed programming language, the execution of python code **can be slow** compared to compiled statically typed programming languages, such as C and Fortran (see Bonus part at the end of this seminar)\n",
        "*    Somewhat **decentralized**, with different environment, packages and documentation spread out at different places. Can make it harder to get started\n",
        "\n",
        "\n"
      ]
    },
    {
      "metadata": {
        "id": "LRyoLkE230p6",
        "colab_type": "text"
      },
      "cell_type": "markdown",
      "source": [
        "## Python interpreter\n",
        "\n",
        "\n",
        "The standard way to use the Python programming language is to use the Python interpreter to run python code. The python interpreter is a program that reads and execute the python code in files passed to it as arguments. At the command prompt, the command python is used to invoke the Python interpreter.\n",
        "\n",
        "For example, to run a file my-program.py that contains python code from the command prompt, use:\n",
        "\n",
        "```\n",
        "$ python my-program.py\n",
        "```\n",
        "\n",
        "We can also start the interpreter by simply typing python at the command line, and interactively type python code into the interpreter:"
      ]
    },
    {
      "metadata": {
        "colab_type": "text",
        "id": "Agcq0nG49JxP"
      },
      "cell_type": "markdown",
      "source": [
        "## IPython\n",
        "\n",
        "IPython is an interactive shell that addresses the limitation of the standard python interpreter, and it is a work-horse for scientific use of python. It provides an interactive prompt to the python interpreter with a greatly improved user-friendliness.\n",
        "\n",
        "Some of the many useful features of IPython includes:\n",
        "\n",
        "* Command history, which can be browsed with the up and down arrows on the keyboard\n",
        "* Tab auto-completion\n",
        "* In-line editing of code\n",
        "* Object introspection, and automatic extract of documentation strings from python objects like classes and functions\n",
        "* Good interaction with operating system shell\n",
        "* Support for multiple parallel back-end processes, that can run on computing clusters or cloud services like Amazon EC2\n"
      ]
    },
    {
      "metadata": {
        "id": "zWI1ypD96S1k",
        "colab_type": "text"
      },
      "cell_type": "markdown",
      "source": [
        "## Jupyter notebook\n",
        "[Jupyter notebook](https://jupyter.org/) (formerly known as the IPython notebook) is an HTML-based notebook environment for Python (but [not only](https://github.com/jupyter/jupyter/wiki/Jupyter-kernels)), similar to Mathematica or Maple. It is based on the IPython shell, but provides a cell-based environment with great interactivity, where calculations can be organized and documented in a structured way.\n",
        "\n"
      ]
    },
    {
      "metadata": {
        "id": "5DOBtEb3XBw7",
        "colab_type": "text"
      },
      "cell_type": "markdown",
      "source": [
        "## Python versions\n",
        "\n",
        "There are currently two versions of python: Python 2 and Python 3. Python 3 will eventually supercede Python 2, but it is not backward-compatible with Python 2. A lot of existing python code and packages has been written for Python 2, and it is still the most wide-spread version. For these lectures either version will be fine, but it is probably easier to stick with Python 2 for now, because it is more readily available via prebuilt packages and binary installers.\n",
        "\n",
        "To see which version of Python you have, run:\n",
        "\n",
        "```\n",
        "$ python --version\n",
        "Python 2.7.13\n",
        "$ python3 --version\n",
        "Python 3.4.9\n",
        "```\n",
        "\n",
        "Several versions of Python can be installed in parallel, as shown above.\n"
      ]
    },
    {
      "metadata": {
        "id": "LDw7MgHKxVkU",
        "colab_type": "text"
      },
      "cell_type": "markdown",
      "source": [
        "\n",
        "# Welcome to Jupyter Notebooks!\n",
        "\n",
        "Notebooks are interactive documents, almost like web pages, where you can easily combine text, pictures, code and data in a very user friendly manner. You can easily use them for a wide variety of things. Let's take a look at some of their features.\n",
        "\n",
        "**Note**: for this seminar we are using [Google Colab](https://colab.research.google.com) platform. But it can vary.\n",
        "We will use Python 3 in this Seminar. But in case you can change it using *Runtime* menu: *Runtime $\\rightarrow$ Change runtime type*.\n"
      ]
    },
    {
      "metadata": {
        "id": "DbiTQ6BR-d8X",
        "colab_type": "text"
      },
      "cell_type": "markdown",
      "source": [
        "## **Let's get to it**\n",
        "\n",
        "As you can see, this document is made from **cells**. These cells may contain either code (in the language used by the current kernel) or text (markdown, which also understands HTML-code). CODE and TEXT buttons at the top left (in particular this interface) will create code and text cells, accordingly. You're welcome to use shortcuts (just press Ctrl+M) instead of pressing butons.\n",
        "\n",
        "In Jupyter, each block of code is in its own cell, which you can run by selecting the cell and pressing *Ctrl + Enter*.\n",
        "You also can run code in multiple cells: go to *Runtime* menu item and use *Run all* or *Run after* items (this interface).\n",
        "\n",
        "If you wish to save your work, you can download the file as it currently is via *File $\\rightarrow$ Download .ipynb*. That file can then later on be uploaded to a new workspace and you can carry on with it."
      ]
    },
    {
      "metadata": {
        "id": "K3Co4QxLVE_A",
        "colab_type": "text"
      },
      "cell_type": "markdown",
      "source": [
        "## 1. Basics\n",
        "Let start with generating some fake random data. You can get a random number between 0 and 1 using the python random module as follow:"
      ]
    },
    {
      "metadata": {
        "id": "nXFNKPnrWOTD",
        "colab_type": "code",
        "colab": {
          "base_uri": "https://localhost:8080/",
          "height": 35
        },
        "outputId": "bd5f9640-2307-4065-93cd-33a775f6a5f6"
      },
      "cell_type": "code",
      "source": [
        "import random\n",
        "x=random.random()\n",
        "print(\"The Value of x is\", x)"
      ],
      "execution_count": 4,
      "outputs": [
        {
          "output_type": "stream",
          "text": [
            "The Value of x is 0.3393094555877463\n"
          ],
          "name": "stdout"
        }
      ]
    },
    {
      "metadata": {
        "id": "OKpU0kauWlCX",
        "colab_type": "text"
      },
      "cell_type": "markdown",
      "source": [
        "### Exercise 1.1\n",
        "\n",
        "Using random, write a function GenerateData(N, mymin, mymax), that returns a python list containing N random numbers between specified minimum and maximum value. Note that you may want to quickly work out on paper how to turn numbers between 0 and 1 to between other values.\n"
      ]
    },
    {
      "metadata": {
        "id": "u55kGmF4WtRh",
        "colab_type": "code",
        "colab": {
          "base_uri": "https://localhost:8080/",
          "height": 53
        },
        "outputId": "bd1a838a-67d8-41f7-a262-747c16082d89"
      },
      "cell_type": "code",
      "source": [
        "# Skeleton\n",
        "def GenerateData(N,min,max):\n",
        "    out = []\n",
        "    ### BEGIN SOLUTION\n",
        "\n",
        "    # Fill in your solution here        \n",
        "    \n",
        "    ### END SOLUTION\n",
        "    return out\n",
        "\n",
        "Data=GenerateData(1000,-10,10)\n",
        "print(\"Data Type:\", type(Data))\n",
        "print(\"Data Length:\", len(Data))\n",
        "if len(Data)>0: \n",
        "    print(\"Type of Data Contents:\", type(Data[0]))\n",
        "    print(\"Data Minimum:\", min(Data))\n",
        "    print(\"Data Maximum:\", max(Data))"
      ],
      "execution_count": 8,
      "outputs": [
        {
          "output_type": "stream",
          "text": [
            "Data Type: <class 'list'>\n",
            "Data Length: 0\n"
          ],
          "name": "stdout"
        }
      ]
    },
    {
      "metadata": {
        "id": "w3-J1a-0a785",
        "colab_type": "text"
      },
      "cell_type": "markdown",
      "source": [
        "### Exercise 1.2\n",
        "\n",
        "Write a function that computes the mean of values in a list.\n"
      ]
    },
    {
      "metadata": {
        "id": "t3RV3Lp5bV9P",
        "colab_type": "code",
        "colab": {
          "base_uri": "https://localhost:8080/",
          "height": 35
        },
        "outputId": "bdd4da86-a999-44f7-b226-2fea229a107a"
      },
      "cell_type": "code",
      "source": [
        "# Skeleton\n",
        "def mean(Data):\n",
        "    m=0\n",
        "    \n",
        "    ### BEGIN SOLUTION\n",
        "\n",
        "    # Fill in your solution here        \n",
        "    \n",
        "    ### END SOLUTION\n",
        "    \n",
        "    return m\n",
        "\n",
        "print(\"Mean of Data:\", mean(Data))"
      ],
      "execution_count": 9,
      "outputs": [
        {
          "output_type": "stream",
          "text": [
            "Mean of Data: 0\n"
          ],
          "name": "stdout"
        }
      ]
    },
    {
      "metadata": {
        "id": "M6WjpCbtbjm_",
        "colab_type": "text"
      },
      "cell_type": "markdown",
      "source": [
        "### Exercise 1.3\n",
        "\n",
        "Write a function the applies a booling function (that returns true/false) to every element in data, and return a list of indices of elements where the result was true. Use this function to find the indices of positive entries.\n"
      ]
    },
    {
      "metadata": {
        "id": "e_JIBJv1cwt6",
        "colab_type": "code",
        "colab": {}
      },
      "cell_type": "code",
      "source": [
        "def where(mylist,myfunc):\n",
        "    out= []\n",
        "    \n",
        "    ### BEGIN SOLUTION\n",
        "\n",
        "    # Fill in your solution here        \n",
        "    \n",
        "    ### END SOLUTION\n",
        "    \n",
        "    return out"
      ],
      "execution_count": 0,
      "outputs": []
    },
    {
      "metadata": {
        "id": "2h9WZaZ5c5R-",
        "colab_type": "text"
      },
      "cell_type": "markdown",
      "source": [
        "### Exercise 1.4\n",
        "\n",
        "The inrange(mymin,mymax) function below returns a function that tests if it's input is between the specified values. Use this function, in conjunction to your solution to 1.3, to demonstrate that your data is \"flat\". Hint: pick several sub-ranges and show that the number of data point divided by the size of the range is roughly constant.\n"
      ]
    },
    {
      "metadata": {
        "id": "a9yNclB3dFOr",
        "colab_type": "code",
        "colab": {
          "base_uri": "https://localhost:8080/",
          "height": 88
        },
        "outputId": "b09e5d49-3410-45ab-d2bc-5d0a599a003b"
      },
      "cell_type": "code",
      "source": [
        "def inrange(mymin,mymax):\n",
        "    def testrange(x):\n",
        "        return x<mymax and x>=mymin\n",
        "    return testrange\n",
        "\n",
        "# Examples:\n",
        "F1=inrange(0,10)\n",
        "F2=inrange(10,20)\n",
        "\n",
        "print(F1(0), F1(1), F1(10), F1(15), F1(20))\n",
        "print(F2(0), F2(1), F2(10), F2(15), F2(20))\n",
        "\n",
        "print(\"Number of Entries passing F1:\", len(where(Data,F1)))\n",
        "print(\"Number of Entries passing F2:\", len(where(Data,F2)))"
      ],
      "execution_count": 12,
      "outputs": [
        {
          "output_type": "stream",
          "text": [
            "True True False False False\n",
            "False False True True False\n",
            "Number of Entries passing F1: 0\n",
            "Number of Entries passing F2: 0\n"
          ],
          "name": "stdout"
        }
      ]
    },
    {
      "metadata": {
        "id": "72n2Z1BVdQ4_",
        "colab_type": "text"
      },
      "cell_type": "markdown",
      "source": [
        "### Exercise 1.5\n",
        "\n",
        "Repeat Exercise 1.5 using the built in python functions sum and map instead of your solution to 1.3.\n"
      ]
    },
    {
      "metadata": {
        "id": "u9W2v70pddJR",
        "colab_type": "code",
        "colab": {}
      },
      "cell_type": "code",
      "source": [
        "### BEGIN SOLUTION\n",
        "\n",
        "    # Fill in your solution here        \n",
        "    \n",
        "### END SOLUTION"
      ],
      "execution_count": 0,
      "outputs": []
    },
    {
      "metadata": {
        "id": "aRE8jfD-dmM7",
        "colab_type": "text"
      },
      "cell_type": "markdown",
      "source": [
        "### Exercise 1.6 (Homework)\n",
        "\n",
        "Write a new function called GenerateDataFromFunction(N,mymin,mymax,myfunc), that instead of generating a flat distribution, generates a distribution with functional form coded in myfunc. Note that myfunc will always be > 0.\n",
        "\n",
        "Use your function to generate 1000 numbers that are Gaussian distributed, using the Gaussian function below. Confirm the mean of the data is close to mean you specify when building the Gaussian.\n",
        "\n",
        "Hint: A simple, but slow, solution is to a draw random number test_x within the specified range and another number p between the min and max of the function (which you will have to determine). If p<=function(test_x), then place test_x on the output. If not, repeat the process, drawing two new numbers. Repeat until you have the specified number of generated numbers, N. For this problem, it's OK to determine the min and max by numerically sampling the function.\n"
      ]
    },
    {
      "metadata": {
        "id": "xTJl0TwBdrWN",
        "colab_type": "code",
        "colab": {}
      },
      "cell_type": "code",
      "source": [
        "import math\n",
        "\n",
        "def gaussian(mean, sigma):\n",
        "    def f(x):\n",
        "        return math.exp(((x-mean)**2)/(2*sigma**2))/math.sqrt(math.pi*sigma)\n",
        "    return f\n",
        "\n",
        "# Example Instantiation\n",
        "g1=gaussian(0,1)\n",
        "g2=gaussian(10,3)\n",
        "\n",
        "### BEGIN SOLUTION\n",
        "\n",
        "# Fill in your solution here        \n",
        "    \n",
        "### END SOLUTION"
      ],
      "execution_count": 0,
      "outputs": []
    },
    {
      "metadata": {
        "id": "Fi6TMSDIePAj",
        "colab_type": "text"
      },
      "cell_type": "markdown",
      "source": [
        "# References\n",
        "\n",
        "*   [Lectures on scientific computing with Python](https://github.com/jrjohansson/scientific-python-lectures)\n",
        "*   [https://github.com/koshikraj/PythonLectures](https://github.com/koshikraj/PythonLectures)\n",
        "\n"
      ]
    }
  ]
}