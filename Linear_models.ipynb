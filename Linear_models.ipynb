{
  "nbformat": 4,
  "nbformat_minor": 0,
  "metadata": {
    "colab": {
      "name": "Linear_models.ipynb",
      "version": "0.3.2",
      "provenance": [],
      "collapsed_sections": [],
      "include_colab_link": true
    },
    "kernelspec": {
      "name": "python3",
      "display_name": "Python 3"
    }
  },
  "cells": [
    {
      "cell_type": "markdown",
      "metadata": {
        "id": "view-in-github",
        "colab_type": "text"
      },
      "source": [
        "<a href=\"https://colab.research.google.com/github/SiLiKhon/HEPStatsSeminar/blob/master/Linear_models.ipynb\" target=\"_parent\"><img src=\"https://colab.research.google.com/assets/colab-badge.svg\" alt=\"Open In Colab\"/></a>"
      ]
    },
    {
      "metadata": {
        "id": "E6Z26DaAgSF_",
        "colab_type": "code",
        "outputId": "bd275ecf-b28e-4d37-e518-b9a68ed1d257",
        "colab": {
          "base_uri": "https://localhost:8080/",
          "height": 124
        }
      },
      "cell_type": "code",
      "source": [
        "import pandas as pd\n",
        "import numpy as np\n",
        "import matplotlib.pyplot as plt\n",
        "!pip install uproot\n",
        "import uproot\n",
        "import uproot\n",
        "%matplotlib inline"
      ],
      "execution_count": 120,
      "outputs": [
        {
          "output_type": "stream",
          "text": [
            "Requirement already satisfied: uproot in /usr/local/lib/python3.6/dist-packages (3.2.12)\n",
            "Requirement already satisfied: uproot-methods>=0.2.0 in /usr/local/lib/python3.6/dist-packages (from uproot) (0.2.7)\n",
            "Requirement already satisfied: awkward in /usr/local/lib/python3.6/dist-packages (from uproot) (0.4.3)\n",
            "Requirement already satisfied: numpy>=1.13.1 in /usr/local/lib/python3.6/dist-packages (from uproot) (1.14.6)\n",
            "Requirement already satisfied: cachetools in /usr/local/lib/python3.6/dist-packages (from uproot) (3.0.0)\n",
            "Requirement already satisfied: lz4 in /usr/local/lib/python3.6/dist-packages (from uproot) (2.1.2)\n"
          ],
          "name": "stdout"
        }
      ]
    },
    {
      "metadata": {
        "id": "nyS0yX0xhAwX",
        "colab_type": "code",
        "colab": {}
      },
      "cell_type": "code",
      "source": [
        "pp_h_4l_file = uproot.open(\"https://raw.githubusercontent.com/SiLiKhon/HEPStatsSeminar/master/data/pp_h_4l_tree.root\")[\"events\"]\n",
        "pp_zgzg_4l_file = uproot.open(\"https://raw.githubusercontent.com/SiLiKhon/HEPStatsSeminar/master/data/pp_zgzg_4l_tree.root\")[\"events\"]"
      ],
      "execution_count": 0,
      "outputs": []
    },
    {
      "metadata": {
        "id": "kYyxFMZL7sBT",
        "colab_type": "code",
        "colab": {
          "base_uri": "https://localhost:8080/",
          "height": 1464
        },
        "outputId": "88d948e6-24a5-40d3-9f1a-e7244396b327"
      },
      "cell_type": "code",
      "source": [
        "pp_h_4l_file.keys()"
      ],
      "execution_count": 147,
      "outputs": [
        {
          "output_type": "execute_result",
          "data": {
            "text/plain": [
              "[b'weight',\n",
              " b'lep1vsPt_pdgid',\n",
              " b'lep1vsPt_e',\n",
              " b'lep1vsPt_pt',\n",
              " b'lep1vsPt_px',\n",
              " b'lep1vsPt_py',\n",
              " b'lep1vsPt_pz',\n",
              " b'lep1vsPt_theta',\n",
              " b'lep1vsPt_eta',\n",
              " b'lep1vsPt_phi',\n",
              " b'lep1vsPt_m',\n",
              " b'lep2vsPt_pdgid',\n",
              " b'lep2vsPt_e',\n",
              " b'lep2vsPt_pt',\n",
              " b'lep2vsPt_px',\n",
              " b'lep2vsPt_py',\n",
              " b'lep2vsPt_pz',\n",
              " b'lep2vsPt_theta',\n",
              " b'lep2vsPt_eta',\n",
              " b'lep2vsPt_phi',\n",
              " b'lep2vsPt_m',\n",
              " b'lep3vsPt_pdgid',\n",
              " b'lep3vsPt_e',\n",
              " b'lep3vsPt_pt',\n",
              " b'lep3vsPt_px',\n",
              " b'lep3vsPt_py',\n",
              " b'lep3vsPt_pz',\n",
              " b'lep3vsPt_theta',\n",
              " b'lep3vsPt_eta',\n",
              " b'lep3vsPt_phi',\n",
              " b'lep3vsPt_m',\n",
              " b'lep4vsPt_pdgid',\n",
              " b'lep4vsPt_e',\n",
              " b'lep4vsPt_pt',\n",
              " b'lep4vsPt_px',\n",
              " b'lep4vsPt_py',\n",
              " b'lep4vsPt_pz',\n",
              " b'lep4vsPt_theta',\n",
              " b'lep4vsPt_eta',\n",
              " b'lep4vsPt_phi',\n",
              " b'lep4vsPt_m',\n",
              " b'lep1vsEta_pdgid',\n",
              " b'lep1vsEta_e',\n",
              " b'lep1vsEta_pt',\n",
              " b'lep1vsEta_px',\n",
              " b'lep1vsEta_py',\n",
              " b'lep1vsEta_pz',\n",
              " b'lep1vsEta_theta',\n",
              " b'lep1vsEta_eta',\n",
              " b'lep1vsEta_phi',\n",
              " b'lep1vsEta_m',\n",
              " b'lep2vsEta_pdgid',\n",
              " b'lep2vsEta_e',\n",
              " b'lep2vsEta_pt',\n",
              " b'lep2vsEta_px',\n",
              " b'lep2vsEta_py',\n",
              " b'lep2vsEta_pz',\n",
              " b'lep2vsEta_theta',\n",
              " b'lep2vsEta_eta',\n",
              " b'lep2vsEta_phi',\n",
              " b'lep2vsEta_m',\n",
              " b'lep3vsEta_pdgid',\n",
              " b'lep3vsEta_e',\n",
              " b'lep3vsEta_pt',\n",
              " b'lep3vsEta_px',\n",
              " b'lep3vsEta_py',\n",
              " b'lep3vsEta_pz',\n",
              " b'lep3vsEta_theta',\n",
              " b'lep3vsEta_eta',\n",
              " b'lep3vsEta_phi',\n",
              " b'lep3vsEta_m',\n",
              " b'lep4vsEta_pdgid',\n",
              " b'lep4vsEta_e',\n",
              " b'lep4vsEta_pt',\n",
              " b'lep4vsEta_px',\n",
              " b'lep4vsEta_py',\n",
              " b'lep4vsEta_pz',\n",
              " b'lep4vsEta_theta',\n",
              " b'lep4vsEta_eta',\n",
              " b'lep4vsEta_phi',\n",
              " b'lep4vsEta_m']"
            ]
          },
          "metadata": {
            "tags": []
          },
          "execution_count": 147
        }
      ]
    },
    {
      "metadata": {
        "id": "mj4s_yZ5hcES",
        "colab_type": "code",
        "colab": {}
      },
      "cell_type": "code",
      "source": [
        "vars = ['lep1vsPt_pt', 'lep2vsPt_pt', 'lep3vsPt_pt', 'lep4vsPt_pt', 'lep1vsEta_eta', 'lep2vsEta_eta', 'lep3vsEta_eta', 'lep4vsEta_eta']\n",
        "pp_h_4l = pp_h_4l_file.pandas.df(vars)\n",
        "pp_zgzg_4l = pp_zgzg_4l_file.pandas.df(vars)"
      ],
      "execution_count": 0,
      "outputs": []
    },
    {
      "metadata": {
        "id": "QFbCgReoLzeL",
        "colab_type": "code",
        "colab": {}
      },
      "cell_type": "code",
      "source": [
        "all_vars = "
      ],
      "execution_count": 0,
      "outputs": []
    },
    {
      "metadata": {
        "id": "-0OkPAOJhuVU",
        "colab_type": "code",
        "outputId": "2d82bbb3-ef82-4d98-f5d8-d29b1ed73948",
        "colab": {
          "base_uri": "https://localhost:8080/",
          "height": 206
        }
      },
      "cell_type": "code",
      "source": [
        "pp_h_4l.head()"
      ],
      "execution_count": 124,
      "outputs": [
        {
          "output_type": "execute_result",
          "data": {
            "text/html": [
              "<div>\n",
              "<style scoped>\n",
              "    .dataframe tbody tr th:only-of-type {\n",
              "        vertical-align: middle;\n",
              "    }\n",
              "\n",
              "    .dataframe tbody tr th {\n",
              "        vertical-align: top;\n",
              "    }\n",
              "\n",
              "    .dataframe thead th {\n",
              "        text-align: right;\n",
              "    }\n",
              "</style>\n",
              "<table border=\"1\" class=\"dataframe\">\n",
              "  <thead>\n",
              "    <tr style=\"text-align: right;\">\n",
              "      <th></th>\n",
              "      <th>lep1vsPt_pt</th>\n",
              "      <th>lep2vsPt_pt</th>\n",
              "      <th>lep3vsPt_pt</th>\n",
              "      <th>lep4vsPt_pt</th>\n",
              "      <th>lep1vsEta_eta</th>\n",
              "      <th>lep2vsEta_eta</th>\n",
              "      <th>lep3vsEta_eta</th>\n",
              "      <th>lep4vsEta_eta</th>\n",
              "    </tr>\n",
              "  </thead>\n",
              "  <tbody>\n",
              "    <tr>\n",
              "      <th>0</th>\n",
              "      <td>40.816309</td>\n",
              "      <td>23.472932</td>\n",
              "      <td>12.565762</td>\n",
              "      <td>8.581384</td>\n",
              "      <td>0.007949</td>\n",
              "      <td>0.563201</td>\n",
              "      <td>0.754716</td>\n",
              "      <td>-0.776280</td>\n",
              "    </tr>\n",
              "    <tr>\n",
              "      <th>1</th>\n",
              "      <td>50.237450</td>\n",
              "      <td>44.543362</td>\n",
              "      <td>14.267538</td>\n",
              "      <td>9.268806</td>\n",
              "      <td>2.951899</td>\n",
              "      <td>3.488011</td>\n",
              "      <td>3.716492</td>\n",
              "      <td>3.788606</td>\n",
              "    </tr>\n",
              "    <tr>\n",
              "      <th>2</th>\n",
              "      <td>73.585952</td>\n",
              "      <td>45.557505</td>\n",
              "      <td>43.865732</td>\n",
              "      <td>4.738079</td>\n",
              "      <td>-1.302381</td>\n",
              "      <td>-1.565062</td>\n",
              "      <td>-1.849592</td>\n",
              "      <td>-1.850662</td>\n",
              "    </tr>\n",
              "    <tr>\n",
              "      <th>3</th>\n",
              "      <td>39.489943</td>\n",
              "      <td>35.231351</td>\n",
              "      <td>27.426501</td>\n",
              "      <td>15.589799</td>\n",
              "      <td>0.335038</td>\n",
              "      <td>-0.373830</td>\n",
              "      <td>0.428923</td>\n",
              "      <td>0.794389</td>\n",
              "    </tr>\n",
              "    <tr>\n",
              "      <th>4</th>\n",
              "      <td>654.673065</td>\n",
              "      <td>298.892961</td>\n",
              "      <td>234.148659</td>\n",
              "      <td>33.571311</td>\n",
              "      <td>0.112259</td>\n",
              "      <td>0.299380</td>\n",
              "      <td>0.388696</td>\n",
              "      <td>0.417913</td>\n",
              "    </tr>\n",
              "  </tbody>\n",
              "</table>\n",
              "</div>"
            ],
            "text/plain": [
              "   lep1vsPt_pt  lep2vsPt_pt  lep3vsPt_pt  lep4vsPt_pt  lep1vsEta_eta  \\\n",
              "0    40.816309    23.472932    12.565762     8.581384       0.007949   \n",
              "1    50.237450    44.543362    14.267538     9.268806       2.951899   \n",
              "2    73.585952    45.557505    43.865732     4.738079      -1.302381   \n",
              "3    39.489943    35.231351    27.426501    15.589799       0.335038   \n",
              "4   654.673065   298.892961   234.148659    33.571311       0.112259   \n",
              "\n",
              "   lep2vsEta_eta  lep3vsEta_eta  lep4vsEta_eta  \n",
              "0       0.563201       0.754716      -0.776280  \n",
              "1       3.488011       3.716492       3.788606  \n",
              "2      -1.565062      -1.849592      -1.850662  \n",
              "3      -0.373830       0.428923       0.794389  \n",
              "4       0.299380       0.388696       0.417913  "
            ]
          },
          "metadata": {
            "tags": []
          },
          "execution_count": 124
        }
      ]
    },
    {
      "metadata": {
        "id": "3rj2R842hzq3",
        "colab_type": "code",
        "outputId": "8c37d4fd-0998-405f-8844-05fb2ac63200",
        "colab": {
          "base_uri": "https://localhost:8080/",
          "height": 206
        }
      },
      "cell_type": "code",
      "source": [
        "pp_zgzg_4l.head()"
      ],
      "execution_count": 125,
      "outputs": [
        {
          "output_type": "execute_result",
          "data": {
            "text/html": [
              "<div>\n",
              "<style scoped>\n",
              "    .dataframe tbody tr th:only-of-type {\n",
              "        vertical-align: middle;\n",
              "    }\n",
              "\n",
              "    .dataframe tbody tr th {\n",
              "        vertical-align: top;\n",
              "    }\n",
              "\n",
              "    .dataframe thead th {\n",
              "        text-align: right;\n",
              "    }\n",
              "</style>\n",
              "<table border=\"1\" class=\"dataframe\">\n",
              "  <thead>\n",
              "    <tr style=\"text-align: right;\">\n",
              "      <th></th>\n",
              "      <th>lep1vsPt_pt</th>\n",
              "      <th>lep2vsPt_pt</th>\n",
              "      <th>lep3vsPt_pt</th>\n",
              "      <th>lep4vsPt_pt</th>\n",
              "      <th>lep1vsEta_eta</th>\n",
              "      <th>lep2vsEta_eta</th>\n",
              "      <th>lep3vsEta_eta</th>\n",
              "      <th>lep4vsEta_eta</th>\n",
              "    </tr>\n",
              "  </thead>\n",
              "  <tbody>\n",
              "    <tr>\n",
              "      <th>0</th>\n",
              "      <td>258.227362</td>\n",
              "      <td>161.965285</td>\n",
              "      <td>32.817045</td>\n",
              "      <td>27.574095</td>\n",
              "      <td>-0.670175</td>\n",
              "      <td>-1.490213</td>\n",
              "      <td>-1.555875</td>\n",
              "      <td>-1.877250</td>\n",
              "    </tr>\n",
              "    <tr>\n",
              "      <th>1</th>\n",
              "      <td>102.284294</td>\n",
              "      <td>102.264955</td>\n",
              "      <td>43.568211</td>\n",
              "      <td>35.243782</td>\n",
              "      <td>0.213835</td>\n",
              "      <td>0.633032</td>\n",
              "      <td>0.764208</td>\n",
              "      <td>1.777444</td>\n",
              "    </tr>\n",
              "    <tr>\n",
              "      <th>2</th>\n",
              "      <td>38.580032</td>\n",
              "      <td>19.485964</td>\n",
              "      <td>11.658343</td>\n",
              "      <td>9.766749</td>\n",
              "      <td>0.360255</td>\n",
              "      <td>0.401828</td>\n",
              "      <td>-0.615403</td>\n",
              "      <td>-0.876072</td>\n",
              "    </tr>\n",
              "    <tr>\n",
              "      <th>3</th>\n",
              "      <td>56.364481</td>\n",
              "      <td>21.136718</td>\n",
              "      <td>9.334760</td>\n",
              "      <td>8.582984</td>\n",
              "      <td>0.183222</td>\n",
              "      <td>0.188110</td>\n",
              "      <td>-0.295534</td>\n",
              "      <td>-1.113323</td>\n",
              "    </tr>\n",
              "    <tr>\n",
              "      <th>4</th>\n",
              "      <td>43.995675</td>\n",
              "      <td>36.268386</td>\n",
              "      <td>29.371148</td>\n",
              "      <td>26.491958</td>\n",
              "      <td>-1.721070</td>\n",
              "      <td>-3.615566</td>\n",
              "      <td>-4.308475</td>\n",
              "      <td>-5.365639</td>\n",
              "    </tr>\n",
              "  </tbody>\n",
              "</table>\n",
              "</div>"
            ],
            "text/plain": [
              "   lep1vsPt_pt  lep2vsPt_pt  lep3vsPt_pt  lep4vsPt_pt  lep1vsEta_eta  \\\n",
              "0   258.227362   161.965285    32.817045    27.574095      -0.670175   \n",
              "1   102.284294   102.264955    43.568211    35.243782       0.213835   \n",
              "2    38.580032    19.485964    11.658343     9.766749       0.360255   \n",
              "3    56.364481    21.136718     9.334760     8.582984       0.183222   \n",
              "4    43.995675    36.268386    29.371148    26.491958      -1.721070   \n",
              "\n",
              "   lep2vsEta_eta  lep3vsEta_eta  lep4vsEta_eta  \n",
              "0      -1.490213      -1.555875      -1.877250  \n",
              "1       0.633032       0.764208       1.777444  \n",
              "2       0.401828      -0.615403      -0.876072  \n",
              "3       0.188110      -0.295534      -1.113323  \n",
              "4      -3.615566      -4.308475      -5.365639  "
            ]
          },
          "metadata": {
            "tags": []
          },
          "execution_count": 125
        }
      ]
    },
    {
      "metadata": {
        "id": "vJmHLY5CqFRX",
        "colab_type": "code",
        "colab": {
          "base_uri": "https://localhost:8080/",
          "height": 1884
        },
        "outputId": "6f6b0961-8e59-4d28-9dda-00265ccf6864"
      },
      "cell_type": "code",
      "source": [
        "for var in vars[1:]:\n",
        "    print(var)\n",
        "    plt.figure()\n",
        "    plt.hist(pp_h_4l[var],bins=100,histtype=\"step\", color=\"red\",label=\"background\",stacked=True)\n",
        "    plt.hist(pp_zgzg_4l[var],bins=100,histtype=\"step\", color=\"blue\", label=\"signal\",stacked=True)\n",
        "    plt.legend(loc='upper right')\n",
        "    plt.show()\n"
      ],
      "execution_count": 126,
      "outputs": [
        {
          "output_type": "stream",
          "text": [
            "lep2vsPt_pt\n"
          ],
          "name": "stdout"
        },
        {
          "output_type": "display_data",
          "data": {
            "image/png": "[encoded data removed]",
            "text/plain": [
              "<matplotlib.figure.Figure at 0x7fea7e6b87b8>"
            ]
          },
          "metadata": {
            "tags": []
          }
        },
        {
          "output_type": "stream",
          "text": [
            "lep3vsPt_pt\n"
          ],
          "name": "stdout"
        },
        {
          "output_type": "display_data",
          "data": {
            "image/png": "[encoded data removed]",
            "text/plain": [
              "<matplotlib.figure.Figure at 0x7fea7e81a198>"
            ]
          },
          "metadata": {
            "tags": []
          }
        },
        {
          "output_type": "stream",
          "text": [
            "lep4vsPt_pt\n"
          ],
          "name": "stdout"
        },
        {
          "output_type": "display_data",
          "data": {
            "image/png": "[encoded data removed]",
            "text/plain": [
              "<matplotlib.figure.Figure at 0x7fea7e6d87b8>"
            ]
          },
          "metadata": {
            "tags": []
          }
        },
        {
          "output_type": "stream",
          "text": [
            "lep1vsEta_eta\n"
          ],
          "name": "stdout"
        },
        {
          "output_type": "display_data",
          "data": {
            "image/png": "[encoded data removed]",
            "text/plain": [
              "<matplotlib.figure.Figure at 0x7fea7e760710>"
            ]
          },
          "metadata": {
            "tags": []
          }
        },
        {
          "output_type": "stream",
          "text": [
            "lep2vsEta_eta\n"
          ],
          "name": "stdout"
        },
        {
          "output_type": "display_data",
          "data": {
            "image/png": "[encoded data removed]",
            "text/plain": [
              "<matplotlib.figure.Figure at 0x7fea86b08a90>"
            ]
          },
          "metadata": {
            "tags": []
          }
        },
        {
          "output_type": "stream",
          "text": [
            "lep3vsEta_eta\n"
          ],
          "name": "stdout"
        },
        {
          "output_type": "display_data",
          "data": {
            "image/png": "[encoded data removed]",
            "text/plain": [
              "<matplotlib.figure.Figure at 0x7fea86b5aa58>"
            ]
          },
          "metadata": {
            "tags": []
          }
        },
        {
          "output_type": "stream",
          "text": [
            "lep4vsEta_eta\n"
          ],
          "name": "stdout"
        },
        {
          "output_type": "display_data",
          "data": {
            "image/png": "[encoded data removed]",
            "text/plain": [
              "<matplotlib.figure.Figure at 0x7fea7e4fbf60>"
            ]
          },
          "metadata": {
            "tags": []
          }
        }
      ]
    },
    {
      "metadata": {
        "id": "-a749Xpm0Fzv",
        "colab_type": "code",
        "colab": {}
      },
      "cell_type": "code",
      "source": [
        "#idx = 0\n",
        "#sig_col = 1.0  # can be a list, a Series, an array or a scalar\n",
        "#bkg_col = 0.0  # can be a list, a Series, an array or a scalar\n",
        "#pp_h_4l.insert(loc=idx, column='signal', value=sig_col)\n",
        "#pp_zgzg_4l.insert(loc=idx, column='signal', value=bkg_col)\n",
        "\n",
        "pp_h_4l['signal'] = 1.0\n",
        "pp_zgzg_4l['signal'] = 0.0"
      ],
      "execution_count": 0,
      "outputs": []
    },
    {
      "metadata": {
        "id": "Vx1dhfRX2QK9",
        "colab_type": "code",
        "colab": {
          "base_uri": "https://localhost:8080/",
          "height": 35
        },
        "outputId": "351e67a5-cbb8-4a92-90e6-0276acc4f059"
      },
      "cell_type": "code",
      "source": [
        "print(pp_h_4l.shape)"
      ],
      "execution_count": 128,
      "outputs": [
        {
          "output_type": "stream",
          "text": [
            "(10000, 9)\n"
          ],
          "name": "stdout"
        }
      ]
    },
    {
      "metadata": {
        "id": "_jGsKMBy2ZUJ",
        "colab_type": "code",
        "colab": {
          "base_uri": "https://localhost:8080/",
          "height": 35
        },
        "outputId": "80a2e13e-d553-4704-f677-6615f6f6cd29"
      },
      "cell_type": "code",
      "source": [
        "print(pp_zgzg_4l.shape)"
      ],
      "execution_count": 129,
      "outputs": [
        {
          "output_type": "stream",
          "text": [
            "(9998, 9)\n"
          ],
          "name": "stdout"
        }
      ]
    },
    {
      "metadata": {
        "id": "Ol6zV_MCuaMP",
        "colab_type": "code",
        "outputId": "06113579-8c54-468b-905c-15aa5ccb87fe",
        "colab": {
          "base_uri": "https://localhost:8080/",
          "height": 206
        }
      },
      "cell_type": "code",
      "source": [
        "frames = [pp_h_4l, pp_zgzg_4l]\n",
        "ds = pd.concat(frames, ignore_index=True)\n",
        "\n",
        "ds.head()"
      ],
      "execution_count": 130,
      "outputs": [
        {
          "output_type": "execute_result",
          "data": {
            "text/html": [
              "<div>\n",
              "<style scoped>\n",
              "    .dataframe tbody tr th:only-of-type {\n",
              "        vertical-align: middle;\n",
              "    }\n",
              "\n",
              "    .dataframe tbody tr th {\n",
              "        vertical-align: top;\n",
              "    }\n",
              "\n",
              "    .dataframe thead th {\n",
              "        text-align: right;\n",
              "    }\n",
              "</style>\n",
              "<table border=\"1\" class=\"dataframe\">\n",
              "  <thead>\n",
              "    <tr style=\"text-align: right;\">\n",
              "      <th></th>\n",
              "      <th>lep1vsPt_pt</th>\n",
              "      <th>lep2vsPt_pt</th>\n",
              "      <th>lep3vsPt_pt</th>\n",
              "      <th>lep4vsPt_pt</th>\n",
              "      <th>lep1vsEta_eta</th>\n",
              "      <th>lep2vsEta_eta</th>\n",
              "      <th>lep3vsEta_eta</th>\n",
              "      <th>lep4vsEta_eta</th>\n",
              "      <th>signal</th>\n",
              "    </tr>\n",
              "  </thead>\n",
              "  <tbody>\n",
              "    <tr>\n",
              "      <th>0</th>\n",
              "      <td>40.816309</td>\n",
              "      <td>23.472932</td>\n",
              "      <td>12.565762</td>\n",
              "      <td>8.581384</td>\n",
              "      <td>0.007949</td>\n",
              "      <td>0.563201</td>\n",
              "      <td>0.754716</td>\n",
              "      <td>-0.776280</td>\n",
              "      <td>1.0</td>\n",
              "    </tr>\n",
              "    <tr>\n",
              "      <th>1</th>\n",
              "      <td>50.237450</td>\n",
              "      <td>44.543362</td>\n",
              "      <td>14.267538</td>\n",
              "      <td>9.268806</td>\n",
              "      <td>2.951899</td>\n",
              "      <td>3.488011</td>\n",
              "      <td>3.716492</td>\n",
              "      <td>3.788606</td>\n",
              "      <td>1.0</td>\n",
              "    </tr>\n",
              "    <tr>\n",
              "      <th>2</th>\n",
              "      <td>73.585952</td>\n",
              "      <td>45.557505</td>\n",
              "      <td>43.865732</td>\n",
              "      <td>4.738079</td>\n",
              "      <td>-1.302381</td>\n",
              "      <td>-1.565062</td>\n",
              "      <td>-1.849592</td>\n",
              "      <td>-1.850662</td>\n",
              "      <td>1.0</td>\n",
              "    </tr>\n",
              "    <tr>\n",
              "      <th>3</th>\n",
              "      <td>39.489943</td>\n",
              "      <td>35.231351</td>\n",
              "      <td>27.426501</td>\n",
              "      <td>15.589799</td>\n",
              "      <td>0.335038</td>\n",
              "      <td>-0.373830</td>\n",
              "      <td>0.428923</td>\n",
              "      <td>0.794389</td>\n",
              "      <td>1.0</td>\n",
              "    </tr>\n",
              "    <tr>\n",
              "      <th>4</th>\n",
              "      <td>654.673065</td>\n",
              "      <td>298.892961</td>\n",
              "      <td>234.148659</td>\n",
              "      <td>33.571311</td>\n",
              "      <td>0.112259</td>\n",
              "      <td>0.299380</td>\n",
              "      <td>0.388696</td>\n",
              "      <td>0.417913</td>\n",
              "      <td>1.0</td>\n",
              "    </tr>\n",
              "  </tbody>\n",
              "</table>\n",
              "</div>"
            ],
            "text/plain": [
              "   lep1vsPt_pt  lep2vsPt_pt  lep3vsPt_pt  lep4vsPt_pt  lep1vsEta_eta  \\\n",
              "0    40.816309    23.472932    12.565762     8.581384       0.007949   \n",
              "1    50.237450    44.543362    14.267538     9.268806       2.951899   \n",
              "2    73.585952    45.557505    43.865732     4.738079      -1.302381   \n",
              "3    39.489943    35.231351    27.426501    15.589799       0.335038   \n",
              "4   654.673065   298.892961   234.148659    33.571311       0.112259   \n",
              "\n",
              "   lep2vsEta_eta  lep3vsEta_eta  lep4vsEta_eta  signal  \n",
              "0       0.563201       0.754716      -0.776280     1.0  \n",
              "1       3.488011       3.716492       3.788606     1.0  \n",
              "2      -1.565062      -1.849592      -1.850662     1.0  \n",
              "3      -0.373830       0.428923       0.794389     1.0  \n",
              "4       0.299380       0.388696       0.417913     1.0  "
            ]
          },
          "metadata": {
            "tags": []
          },
          "execution_count": 130
        }
      ]
    },
    {
      "metadata": {
        "id": "H-sZhLK233Ee",
        "colab_type": "code",
        "colab": {
          "base_uri": "https://localhost:8080/",
          "height": 35
        },
        "outputId": "0d286300-7e42-4cb4-d3a0-b1564ac0979c"
      },
      "cell_type": "code",
      "source": [
        "print(ds.shape)"
      ],
      "execution_count": 131,
      "outputs": [
        {
          "output_type": "stream",
          "text": [
            "(19998, 9)\n"
          ],
          "name": "stdout"
        }
      ]
    },
    {
      "metadata": {
        "id": "CClwd6rc0u2W",
        "colab_type": "code",
        "colab": {}
      },
      "cell_type": "code",
      "source": [
        "from sklearn.metrics import roc_auc_score, roc_curve\n",
        "from sklearn.model_selection import train_test_split\n",
        "from sklearn.linear_model import LogisticRegression"
      ],
      "execution_count": 0,
      "outputs": []
    },
    {
      "metadata": {
        "id": "tpfmz1nt1mcZ",
        "colab_type": "code",
        "colab": {}
      },
      "cell_type": "code",
      "source": [
        "np.random.seed(14)\n",
        "ds = ds.iloc[np.random.permutation(len(ds))].reset_index(drop=True).copy()"
      ],
      "execution_count": 0,
      "outputs": []
    },
    {
      "metadata": {
        "id": "P9ltaeB6442r",
        "colab_type": "code",
        "colab": {}
      },
      "cell_type": "code",
      "source": [
        "train, test = train_test_split(ds, test_size=0.25)"
      ],
      "execution_count": 0,
      "outputs": []
    },
    {
      "metadata": {
        "id": "gLDUdKpvAjW-",
        "colab_type": "code",
        "colab": {
          "base_uri": "https://localhost:8080/",
          "height": 160
        },
        "outputId": "73f7703d-0e58-430f-fd5a-0a1dc81fd7e3"
      },
      "cell_type": "code",
      "source": [
        "vars"
      ],
      "execution_count": 135,
      "outputs": [
        {
          "output_type": "execute_result",
          "data": {
            "text/plain": [
              "['lep1vsPt_pt',\n",
              " 'lep2vsPt_pt',\n",
              " 'lep3vsPt_pt',\n",
              " 'lep4vsPt_pt',\n",
              " 'lep1vsEta_eta',\n",
              " 'lep2vsEta_eta',\n",
              " 'lep3vsEta_eta',\n",
              " 'lep4vsEta_eta']"
            ]
          },
          "metadata": {
            "tags": []
          },
          "execution_count": 135
        }
      ]
    },
    {
      "metadata": {
        "id": "gXtGgHsh8ViT",
        "colab_type": "code",
        "colab": {
          "base_uri": "https://localhost:8080/",
          "height": 206
        },
        "outputId": "af17e50d-2e19-4ace-e26f-d0213d5be7bb"
      },
      "cell_type": "code",
      "source": [
        "ds.head()"
      ],
      "execution_count": 136,
      "outputs": [
        {
          "output_type": "execute_result",
          "data": {
            "text/html": [
              "<div>\n",
              "<style scoped>\n",
              "    .dataframe tbody tr th:only-of-type {\n",
              "        vertical-align: middle;\n",
              "    }\n",
              "\n",
              "    .dataframe tbody tr th {\n",
              "        vertical-align: top;\n",
              "    }\n",
              "\n",
              "    .dataframe thead th {\n",
              "        text-align: right;\n",
              "    }\n",
              "</style>\n",
              "<table border=\"1\" class=\"dataframe\">\n",
              "  <thead>\n",
              "    <tr style=\"text-align: right;\">\n",
              "      <th></th>\n",
              "      <th>lep1vsPt_pt</th>\n",
              "      <th>lep2vsPt_pt</th>\n",
              "      <th>lep3vsPt_pt</th>\n",
              "      <th>lep4vsPt_pt</th>\n",
              "      <th>lep1vsEta_eta</th>\n",
              "      <th>lep2vsEta_eta</th>\n",
              "      <th>lep3vsEta_eta</th>\n",
              "      <th>lep4vsEta_eta</th>\n",
              "      <th>signal</th>\n",
              "    </tr>\n",
              "  </thead>\n",
              "  <tbody>\n",
              "    <tr>\n",
              "      <th>0</th>\n",
              "      <td>471.187987</td>\n",
              "      <td>419.084715</td>\n",
              "      <td>190.912943</td>\n",
              "      <td>42.164620</td>\n",
              "      <td>-1.061637</td>\n",
              "      <td>-1.171791</td>\n",
              "      <td>-1.190312</td>\n",
              "      <td>-1.239189</td>\n",
              "      <td>1.0</td>\n",
              "    </tr>\n",
              "    <tr>\n",
              "      <th>1</th>\n",
              "      <td>461.163817</td>\n",
              "      <td>207.377936</td>\n",
              "      <td>86.185889</td>\n",
              "      <td>3.537480</td>\n",
              "      <td>0.252529</td>\n",
              "      <td>0.254957</td>\n",
              "      <td>1.201753</td>\n",
              "      <td>1.285837</td>\n",
              "      <td>1.0</td>\n",
              "    </tr>\n",
              "    <tr>\n",
              "      <th>2</th>\n",
              "      <td>73.144065</td>\n",
              "      <td>50.087118</td>\n",
              "      <td>27.434853</td>\n",
              "      <td>17.351076</td>\n",
              "      <td>-0.406716</td>\n",
              "      <td>1.232339</td>\n",
              "      <td>1.485036</td>\n",
              "      <td>-1.986830</td>\n",
              "      <td>0.0</td>\n",
              "    </tr>\n",
              "    <tr>\n",
              "      <th>3</th>\n",
              "      <td>178.375267</td>\n",
              "      <td>22.481229</td>\n",
              "      <td>14.389786</td>\n",
              "      <td>9.946511</td>\n",
              "      <td>-0.047216</td>\n",
              "      <td>-0.048086</td>\n",
              "      <td>-0.268728</td>\n",
              "      <td>-0.912760</td>\n",
              "      <td>1.0</td>\n",
              "    </tr>\n",
              "    <tr>\n",
              "      <th>4</th>\n",
              "      <td>59.574351</td>\n",
              "      <td>48.947578</td>\n",
              "      <td>42.805625</td>\n",
              "      <td>37.593548</td>\n",
              "      <td>-1.680006</td>\n",
              "      <td>-2.191995</td>\n",
              "      <td>-2.661254</td>\n",
              "      <td>-2.796793</td>\n",
              "      <td>0.0</td>\n",
              "    </tr>\n",
              "  </tbody>\n",
              "</table>\n",
              "</div>"
            ],
            "text/plain": [
              "   lep1vsPt_pt  lep2vsPt_pt  lep3vsPt_pt  lep4vsPt_pt  lep1vsEta_eta  \\\n",
              "0   471.187987   419.084715   190.912943    42.164620      -1.061637   \n",
              "1   461.163817   207.377936    86.185889     3.537480       0.252529   \n",
              "2    73.144065    50.087118    27.434853    17.351076      -0.406716   \n",
              "3   178.375267    22.481229    14.389786     9.946511      -0.047216   \n",
              "4    59.574351    48.947578    42.805625    37.593548      -1.680006   \n",
              "\n",
              "   lep2vsEta_eta  lep3vsEta_eta  lep4vsEta_eta  signal  \n",
              "0      -1.171791      -1.190312      -1.239189     1.0  \n",
              "1       0.254957       1.201753       1.285837     1.0  \n",
              "2       1.232339       1.485036      -1.986830     0.0  \n",
              "3      -0.048086      -0.268728      -0.912760     1.0  \n",
              "4      -2.191995      -2.661254      -2.796793     0.0  "
            ]
          },
          "metadata": {
            "tags": []
          },
          "execution_count": 136
        }
      ]
    },
    {
      "metadata": {
        "id": "F5NRgFryGa7S",
        "colab_type": "code",
        "colab": {}
      },
      "cell_type": "code",
      "source": [
        "from sklearn.preprocessing import RobustScaler"
      ],
      "execution_count": 0,
      "outputs": []
    },
    {
      "metadata": {
        "id": "r25GtjImGpVr",
        "colab_type": "code",
        "colab": {
          "base_uri": "https://localhost:8080/",
          "height": 53
        },
        "outputId": "7d6c2e56-350f-42bb-af6b-1fcd6fd2cc27"
      },
      "cell_type": "code",
      "source": [
        "def features(x):\n",
        "    return np.array([\n",
        "        x['lep1vsPt_pt'],\n",
        "        x['lep2vsPt_pt'] ** 2,\n",
        "        x['lep3vsPt_pt']**2 - x['lep4vsPt_pt']**2,\n",
        "    ]).T\n",
        "\n",
        "scaler = RobustScaler()\n",
        "model = LogisticRegression()\n",
        "scaler.fit(features(train))\n",
        "model.fit(scaler.transform(features(train)), train.signal)\n",
        "\n",
        "preds_train = model.predict_proba(scaler.transform(features(train)))[:,1]\n",
        "preds_test  = model.predict_proba(scaler.transform(features(test )))[:,1]\n",
        "\n",
        "print(roc_auc_score(train.signal, preds_train))\n",
        "print(roc_auc_score(test .signal, preds_test ))"
      ],
      "execution_count": 149,
      "outputs": [
        {
          "output_type": "stream",
          "text": [
            "0.5678945953213229\n",
            "0.5647081518954918\n"
          ],
          "name": "stdout"
        }
      ]
    },
    {
      "metadata": {
        "id": "Au1O0Wn_JeYq",
        "colab_type": "code",
        "colab": {}
      },
      "cell_type": "code",
      "source": [
        "fpr_mod, tpr_mod, _ = roc_curve(test.signal, preds_test)\n",
        "\n",
        "plt.plot(fpr_mod, tpr_mod, label='Our Model')\n",
        "plt.legend()\n",
        "plt.xlabel('False pos rate')\n",
        "plt.ylabel('True pos rate')\n",
        "\n",
        "plt.show();"
      ],
      "execution_count": 0,
      "outputs": []
    },
    {
      "metadata": {
        "id": "w_tgBN9SGpq2",
        "colab_type": "code",
        "colab": {
          "base_uri": "https://localhost:8080/",
          "height": 279
        },
        "outputId": "32dcffa9-0b32-469b-d2f4-86390d662fc7"
      },
      "cell_type": "code",
      "source": [
        "fpr_mod, tpr_mod, _ = roc_curve(test.signal, preds_test)\n",
        "\n",
        "roc_auc = auc(fpr_mod, tpr_mod)\n",
        "\n",
        "plt.plot(fpr,tpr,color='darkorange',label='ROC curve (area = %0.2f)' % roc_auc)\n",
        "plt.legend(loc=\"lower right\")\n",
        "plt.xlabel('False Positive Rate')\n",
        "plt.ylabel('True Positive Rate')\n",
        "\n",
        "plt.show()"
      ],
      "execution_count": 154,
      "outputs": [
        {
          "output_type": "display_data",
          "data": {
            "image/png": "[encoded data removed]",
            "text/plain": [
              "<matplotlib.figure.Figure at 0x7fea7e501278>"
            ]
          },
          "metadata": {
            "tags": []
          }
        }
      ]
    },
    {
      "metadata": {
        "id": "a4IfKV2CGp8V",
        "colab_type": "code",
        "colab": {}
      },
      "cell_type": "code",
      "source": [
        ""
      ],
      "execution_count": 0,
      "outputs": []
    },
    {
      "metadata": {
        "id": "m3enu4JFGqKu",
        "colab_type": "code",
        "colab": {}
      },
      "cell_type": "code",
      "source": [
        ""
      ],
      "execution_count": 0,
      "outputs": []
    },
    {
      "metadata": {
        "id": "WkWPL9viGqXz",
        "colab_type": "code",
        "colab": {}
      },
      "cell_type": "code",
      "source": [
        ""
      ],
      "execution_count": 0,
      "outputs": []
    },
    {
      "metadata": {
        "id": "r53_egVV1cjd",
        "colab_type": "text"
      },
      "cell_type": "markdown",
      "source": [
        "# Fisher Discriminant (aka Linear Discriminant Analysis, or LDA)"
      ]
    },
    {
      "metadata": {
        "id": "mc8mheWltSwL",
        "colab_type": "code",
        "colab": {}
      },
      "cell_type": "code",
      "source": [
        "import sklearn.discriminant_analysis as DA\n",
        "Fisher=DA.LinearDiscriminantAnalysis()"
      ],
      "execution_count": 0,
      "outputs": []
    },
    {
      "metadata": {
        "id": "8QA2sb95tZuw",
        "colab_type": "code",
        "colab": {}
      },
      "cell_type": "code",
      "source": [
        "N_Train=9999\n",
        "\n",
        "Train_Sample=ds[:N_Train]\n",
        "Test_Sample=ds[N_Train:]\n",
        "\n",
        "X_Train=Train_Sample[vars[1:]]\n",
        "y_Train=Train_Sample[\"signal\"]\n",
        "\n",
        "X_Test=Test_Sample[vars[1:]]\n",
        "y_Test=Test_Sample[\"signal\"]\n",
        "\n",
        "Test_sig=Test_Sample[Test_Sample.signal==1]\n",
        "Test_bkg=Test_Sample[Test_Sample.signal==0]"
      ],
      "execution_count": 0,
      "outputs": []
    },
    {
      "metadata": {
        "id": "KeJNRaaw0TKx",
        "colab_type": "code",
        "outputId": "2ea524c7-c07e-4f54-e82e-ee7bd6d532e5",
        "colab": {
          "base_uri": "https://localhost:8080/",
          "height": 53
        }
      },
      "cell_type": "code",
      "source": [
        "#np.seterr(divide='ignore', invalid='ignore')\n",
        "\n",
        "Fisher.fit(X_Train,y_Train)"
      ],
      "execution_count": 139,
      "outputs": [
        {
          "output_type": "execute_result",
          "data": {
            "text/plain": [
              "LinearDiscriminantAnalysis(n_components=None, priors=None, shrinkage=None,\n",
              "              solver='svd', store_covariance=False, tol=0.0001)"
            ]
          },
          "metadata": {
            "tags": []
          },
          "execution_count": 139
        }
      ]
    },
    {
      "metadata": {
        "id": "SzEDrAmE0YdX",
        "colab_type": "code",
        "outputId": "9e978a94-c784-4212-c990-de6f5d467d66",
        "colab": {
          "base_uri": "https://localhost:8080/",
          "height": 265
        }
      },
      "cell_type": "code",
      "source": [
        "plt.figure()\n",
        "plt.hist(Fisher.decision_function(Test_sig[vars[1:]]),bins=100,histtype=\"step\", color=\"blue\", label=\"signal\",stacked=True)\n",
        "plt.hist(Fisher.decision_function(Test_bkg[vars[1:]]),bins=100,histtype=\"step\", color=\"red\", label=\"background\",stacked=True)\n",
        "plt.legend(loc='upper right')\n",
        "plt.show()\n"
      ],
      "execution_count": 140,
      "outputs": [
        {
          "output_type": "display_data",
          "data": {
            "image/png": "[encoded data removed]",
            "text/plain": [
              "<matplotlib.figure.Figure at 0x7fea86aae4e0>"
            ]
          },
          "metadata": {
            "tags": []
          }
        }
      ]
    },
    {
      "metadata": {
        "id": "rspzLsQdzaAE",
        "colab_type": "code",
        "colab": {
          "base_uri": "https://localhost:8080/",
          "height": 279
        },
        "outputId": "108b1a61-e9a2-4b9f-9b6a-c9efd6fbafd3"
      },
      "cell_type": "code",
      "source": [
        "from sklearn.metrics import roc_curve, auc\n",
        "fpr, tpr, _ = roc_curve(y_Test, Fisher.decision_function(X_Test))\n",
        "\n",
        "roc_auc = auc(fpr, tpr)\n",
        "\n",
        "plt.plot(fpr,tpr,color='darkorange',label='ROC curve (area = %0.2f)' % roc_auc)\n",
        "plt.legend(loc=\"lower right\")\n",
        "plt.xlabel('False Positive Rate')\n",
        "plt.ylabel('True Positive Rate')\n",
        "\n",
        "plt.show()"
      ],
      "execution_count": 141,
      "outputs": [
        {
          "output_type": "display_data",
          "data": {
            "image/png": "[encoded data removed]",
            "text/plain": [
              "<matplotlib.figure.Figure at 0x7fea86aaee10>"
            ]
          },
          "metadata": {
            "tags": []
          }
        }
      ]
    }
  ]
}