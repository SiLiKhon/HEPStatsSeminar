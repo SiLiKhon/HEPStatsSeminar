{
  "nbformat": 4,
  "nbformat_minor": 0,
  "metadata": {
    "colab": {
      "name": "MLFit_OpenData.ipynb",
      "version": "0.3.2",
      "provenance": [],
      "collapsed_sections": [],
      "include_colab_link": true
    },
    "kernelspec": {
      "name": "python3",
      "display_name": "Python 3"
    }
  },
  "cells": [
    {
      "cell_type": "markdown",
      "metadata": {
        "id": "view-in-github",
        "colab_type": "text"
      },
      "source": [
        "<a href=\"https://colab.research.google.com/github/SiLiKhon/HEPStatsSeminar/blob/master/MLFit_OpenData.ipynb\" target=\"_parent\"><img src=\"https://colab.research.google.com/assets/colab-badge.svg\" alt=\"Open In Colab\"/></a>"
      ]
    },
    {
      "metadata": {
        "id": "QC9dYzX3Mpiw",
        "colab_type": "code",
        "colab": {}
      },
      "cell_type": "code",
      "source": [
        "!pip install probfit"
      ],
      "execution_count": 0,
      "outputs": []
    },
    {
      "metadata": {
        "id": "lYHp8ASpVCka",
        "colab_type": "code",
        "colab": {}
      },
      "cell_type": "code",
      "source": [
        "import numpy as np\n",
        "import pandas as pd\n",
        "import probfit\n",
        "import iminuit\n",
        "import matplotlib.pyplot as plt\n",
        "%matplotlib inline"
      ],
      "execution_count": 0,
      "outputs": []
    },
    {
      "metadata": {
        "id": "LumZbLsVVK-c",
        "colab_type": "code",
        "outputId": "6c4e8442-710e-4f86-d175-2029879c5c1e",
        "colab": {
          "base_uri": "https://localhost:8080/",
          "height": 408
        }
      },
      "cell_type": "code",
      "source": [
        "##############################################\n",
        "#### Let's get some real data!\n",
        "####\n",
        "#### We'll work with events with pairs of oppositely charged muons, and\n",
        "#### we'll try to select Z->mu mu decays and estimate the Z-boson mass.\n",
        "#### For more details on the dataset see:\n",
        "#### http://opendata.cern.ch/record/545\n",
        "\n",
        "data = pd.read_csv('http://opendata.cern.ch/record/545/files/Dimuon_DoubleMu.csv')\n",
        "print(\"Nuber of events: {}\".format(len(data)))\n",
        "print(\"Columns are:\")\n",
        "for col in data.columns:\n",
        "  print(\"  {}\".format(col))"
      ],
      "execution_count": 3,
      "outputs": [
        {
          "output_type": "stream",
          "text": [
            "Nuber of events: 100000\n",
            "Columns are:\n",
            "  Run\n",
            "  Event\n",
            "  type1\n",
            "  E1\n",
            "  px1\n",
            "  py1\n",
            "  pz1\n",
            "  pt1\n",
            "  eta1\n",
            "  phi1\n",
            "  Q1\n",
            "  type2\n",
            "  E2\n",
            "  px2\n",
            "  py2\n",
            "  pz2\n",
            "  pt2\n",
            "  eta2\n",
            "  phi2\n",
            "  Q2\n",
            "  M\n"
          ],
          "name": "stdout"
        }
      ]
    },
    {
      "metadata": {
        "id": "N74saHIHVPmU",
        "colab_type": "code",
        "outputId": "55728743-5737-4417-8634-22580d7733c4",
        "colab": {
          "base_uri": "https://localhost:8080/",
          "height": 265
        }
      },
      "cell_type": "code",
      "source": [
        "# So far we are only going to work with the invariant mass of the two muons.\n",
        "# Let's plot it:\n",
        "plt.hist(data.M, bins=100);"
      ],
      "execution_count": 4,
      "outputs": [
        {
          "output_type": "display_data",
          "data": {
            "image/png": "[encoded data removed]",
            "text/plain": [
              "<matplotlib.figure.Figure at 0x7fcfcce29518>"
            ]
          },
          "metadata": {
            "tags": []
          }
        }
      ]
    },
    {
      "metadata": {
        "id": "a1IaaCbAVQ3M",
        "colab_type": "code",
        "outputId": "85f0b83c-fa9f-47b8-9d23-e23b78085fb7",
        "colab": {
          "base_uri": "https://localhost:8080/",
          "height": 265
        }
      },
      "cell_type": "code",
      "source": [
        "# Z-boson should be located somewhere in this range:\n",
        "mass_range = (60., 120.)\n",
        "\n",
        "data = data.loc[(data.M > mass_range[0]) & (data.M < mass_range[1])]\n",
        "plt.hist(data.M, bins=100);"
      ],
      "execution_count": 5,
      "outputs": [
        {
          "output_type": "display_data",
          "data": {
            "image/png": "[encoded data removed]",
            "text/plain": [
              "<matplotlib.figure.Figure at 0x7fcfcadc6940>"
            ]
          },
          "metadata": {
            "tags": []
          }
        }
      ]
    },
    {
      "metadata": {
        "id": "3RmYzfC-VTEL",
        "colab_type": "code",
        "colab": {}
      },
      "cell_type": "code",
      "source": [
        "# Now, we'll do the same ML fit as we did before, using the same model\n",
        "\n",
        "def SignalPDF(x, mass, sigma):\n",
        "  return probfit.gaussian(x, mass, sigma)\n",
        "\n",
        "def BgPDF(x, bg_slope):\n",
        "  return bg_slope * np.exp(-bg_slope * x)\n",
        "\n",
        "SignalPDF_n = probfit.Normalized(SignalPDF, mass_range)\n",
        "BgPDF_n     = probfit.Normalized(BgPDF    , mass_range)\n",
        "\n",
        "ModelPDF = probfit.AddPdfNorm(SignalPDF_n, BgPDF_n, facname=['fsig'])"
      ],
      "execution_count": 0,
      "outputs": []
    },
    {
      "metadata": {
        "id": "dqa3crysVXv0",
        "colab_type": "code",
        "colab": {}
      },
      "cell_type": "code",
      "source": [
        "likelihood = probfit.UnbinnedLH(ModelPDF, data.M.values)"
      ],
      "execution_count": 0,
      "outputs": []
    },
    {
      "metadata": {
        "id": "zZ1ufPUpOLhE",
        "colab_type": "code",
        "outputId": "64335353-f92b-44e2-b285-32c471110d65",
        "colab": {
          "base_uri": "https://localhost:8080/",
          "height": 34
        }
      },
      "cell_type": "code",
      "source": [
        "print(iminuit.describe(likelihood))"
      ],
      "execution_count": 8,
      "outputs": [
        {
          "output_type": "stream",
          "text": [
            "['mass', 'sigma', 'bg_slope', 'fsig']\n"
          ],
          "name": "stdout"
        }
      ]
    },
    {
      "metadata": {
        "id": "LPFFpcOdYJt9",
        "colab_type": "text"
      },
      "cell_type": "markdown",
      "source": [
        "Now your turn to specify the initial parameter values, their limits and steps:"
      ]
    },
    {
      "metadata": {
        "id": "ST0eFHBgOWY2",
        "colab_type": "code",
        "colab": {}
      },
      "cell_type": "code",
      "source": [
        "init_pars = dict(mass=90.,\n",
        "                 sigma=5.,\n",
        "                 bg_slope=1./60,\n",
        "                 fsig=0.9)\n",
        "\n",
        "par_limits = dict(limit_mass    =(80, 100),\n",
        "                  limit_sigma   =( 2,  20),\n",
        "                  limit_bg_slope=(1./500, 1./10),\n",
        "                  limit_fsig    =(0.,  1.))\n",
        "\n",
        "par_errors = dict(error_mass    =5.,\n",
        "                  error_sigma   =1.,\n",
        "                  error_bg_slope=0.05,\n",
        "                  error_fsig    =0.05,\n",
        "                 )\n",
        "\n",
        "minuit = iminuit.Minuit(likelihood, **init_pars, **par_limits, **par_errors)"
      ],
      "execution_count": 0,
      "outputs": []
    },
    {
      "metadata": {
        "id": "rJPVYjorOu8I",
        "colab_type": "code",
        "outputId": "9503f8bb-af95-4586-8615-252c062c2f6a",
        "colab": {
          "base_uri": "https://localhost:8080/",
          "height": 265
        }
      },
      "cell_type": "code",
      "source": [
        "likelihood.draw(minuit=minuit);"
      ],
      "execution_count": 10,
      "outputs": [
        {
          "output_type": "display_data",
          "data": {
            "image/png": "[encoded data removed]",
            "text/plain": [
              "<matplotlib.figure.Figure at 0x7fcfcae7f390>"
            ]
          },
          "metadata": {
            "tags": []
          }
        }
      ]
    },
    {
      "metadata": {
        "id": "PGWpsIUnO2TQ",
        "colab_type": "code",
        "outputId": "98d5478b-31eb-45e4-b1aa-114a08aead6f",
        "colab": {
          "base_uri": "https://localhost:8080/",
          "height": 286
        }
      },
      "cell_type": "code",
      "source": [
        "minuit.migrad();"
      ],
      "execution_count": 11,
      "outputs": [
        {
          "output_type": "display_data",
          "data": {
            "text/html": [
              "<hr>"
            ]
          },
          "metadata": {
            "tags": []
          }
        },
        {
          "output_type": "display_data",
          "data": {
            "text/html": [
              "<table>\n",
              "    <tr>\n",
              "        <td title=\"Minimum value of function\">FCN = 19274.332167662906</td>\n",
              "        <td title=\"Total number of call to FCN so far\">TOTAL NCALL = 122</td>\n",
              "        <td title=\"Number of call in last migrad\">NCALLS = 122</td>\n",
              "    </tr>\n",
              "    <tr>\n",
              "        <td title=\"Estimated distance to minimum\">EDM = 4.983867467212345e-06</td>\n",
              "        <td title=\"Maximum EDM definition of convergence\">GOAL EDM = 5e-06</td>\n",
              "        <td title=\"Error def. Amount of increase in FCN to be defined as 1 standard deviation\">\n",
              "        UP = 0.5</td>\n",
              "    </tr>\n",
              "</table>\n",
              "<table>\n",
              "    <tr>\n",
              "        <td align=\"center\" title=\"Validity of the migrad call\">Valid</td>\n",
              "        <td align=\"center\" title=\"Validity of parameters\">Valid Param</td>\n",
              "        <td align=\"center\" title=\"Is Covariance matrix accurate?\">Accurate Covar</td>\n",
              "        <td align=\"center\" title=\"Positive definiteness of covariance matrix\">PosDef</td>\n",
              "        <td align=\"center\" title=\"Was covariance matrix made posdef by adding diagonal element\">Made PosDef</td>\n",
              "    </tr>\n",
              "    <tr>\n",
              "        <td align=\"center\" style=\"background-color:#92CCA6\">True</td>\n",
              "        <td align=\"center\" style=\"background-color:#92CCA6\">True</td>\n",
              "        <td align=\"center\" style=\"background-color:#92CCA6\">True</td>\n",
              "        <td align=\"center\" style=\"background-color:#92CCA6\">True</td>\n",
              "        <td align=\"center\" style=\"background-color:#92CCA6\">False</td>\n",
              "    </tr>\n",
              "    <tr>\n",
              "        <td align=\"center\" title=\"Was last hesse call fail?\">Hesse Fail</td>\n",
              "        <td align=\"center\" title=\"Validity of covariance\">HasCov</td>\n",
              "        <td align=\"center\" title=\"Is EDM above goal EDM?\">Above EDM</td>\n",
              "        <td align=\"center\"></td>\n",
              "        <td align=\"center\" title=\"Did last migrad call reach max call limit?\">Reach calllim</td>\n",
              "    </tr>\n",
              "    <tr>\n",
              "        <td align=\"center\" style=\"background-color:#92CCA6\">False</td>\n",
              "        <td align=\"center\" style=\"background-color:#92CCA6\">True</td>\n",
              "        <td align=\"center\" style=\"background-color:#92CCA6\">False</td>\n",
              "        <td align=\"center\"></td>\n",
              "        <td align=\"center\" style=\"background-color:#92CCA6\">False</td>\n",
              "    </tr>\n",
              "</table>"
            ]
          },
          "metadata": {
            "tags": []
          }
        },
        {
          "output_type": "display_data",
          "data": {
            "text/html": [
              "<table>\n",
              "    <tr>\n",
              "        <td><a href=\"#\" onclick=\"$('#vOCfmLDupi').toggle()\">+</a></td>\n",
              "        <td title=\"Variable name\">Name</td>\n",
              "        <td title=\"Value of parameter\">Value</td>\n",
              "        <td title=\"Hesse error\">Hesse Error</td>\n",
              "        <td title=\"Minos lower error\">Minos Error-</td>\n",
              "        <td title=\"Minos upper error\">Minos Error+</td>\n",
              "        <td title=\"Lower limit of the parameter\">Limit-</td>\n",
              "        <td title=\"Upper limit of the parameter\">Limit+</td>\n",
              "        <td title=\"Is the parameter fixed in the fit\">Fixed?</td>\n",
              "    </tr>\n",
              "    <tr>\n",
              "        <td>0</td>\n",
              "        <td>mass</td>\n",
              "        <td>90.7161</td>\n",
              "        <td>0.0427106</td>\n",
              "        <td></td>\n",
              "        <td></td>\n",
              "        <td>80</td>\n",
              "        <td>100</td>\n",
              "        <td>No</td>\n",
              "    </tr>\n",
              "    <tr>\n",
              "        <td>1</td>\n",
              "        <td>sigma</td>\n",
              "        <td>2.50415</td>\n",
              "        <td>0.0436855</td>\n",
              "        <td></td>\n",
              "        <td></td>\n",
              "        <td>2</td>\n",
              "        <td>20</td>\n",
              "        <td>No</td>\n",
              "    </tr>\n",
              "    <tr>\n",
              "        <td>2</td>\n",
              "        <td>bg_slope</td>\n",
              "        <td>0.0288698</td>\n",
              "        <td>0.00166067</td>\n",
              "        <td></td>\n",
              "        <td></td>\n",
              "        <td>0.002</td>\n",
              "        <td>0.1</td>\n",
              "        <td>No</td>\n",
              "    </tr>\n",
              "    <tr>\n",
              "        <td>3</td>\n",
              "        <td>fsig</td>\n",
              "        <td>0.739409</td>\n",
              "        <td>0.00725663</td>\n",
              "        <td></td>\n",
              "        <td></td>\n",
              "        <td>0</td>\n",
              "        <td>1</td>\n",
              "        <td>No</td>\n",
              "    </tr>\n",
              "</table>\n",
              "<pre id=\"vOCfmLDupi\" style=\"display:none;\">\n",
              "<textarea rows=\"14\" cols=\"50\" onclick=\"this.select()\" readonly>\n",
              "\\begin{tabular}{|c|r|r|r|r|r|r|r|c|}\n",
              "\\hline\n",
              " & Name & Value & Hesse Error & Minos Error- & Minos Error+ & Limit- & Limit+ & Fixed?\\\\\n",
              "\\hline\n",
              "0 & mass & 90.7161 & 0.0427106 &  &  & 80.0 & 100 & No\\\\\n",
              "\\hline\n",
              "1 & $\\sigma$ & 2.50415 & 0.0436855 &  &  & 2.0 & 20 & No\\\\\n",
              "\\hline\n",
              "2 & $bg_{slope}$ & 0.0288698 & 0.00166067 &  &  & 0.002 & 0.1 & No\\\\\n",
              "\\hline\n",
              "3 & fsig & 0.739409 & 0.00725663 &  &  & 0.0 & 1 & No\\\\\n",
              "\\hline\n",
              "\\end{tabular}\n",
              "</textarea>\n",
              "</pre>"
            ]
          },
          "metadata": {
            "tags": []
          }
        },
        {
          "output_type": "display_data",
          "data": {
            "text/html": [
              "<hr>"
            ]
          },
          "metadata": {
            "tags": []
          }
        }
      ]
    },
    {
      "metadata": {
        "id": "hl-r21vaO9Yp",
        "colab_type": "code",
        "outputId": "e5dcdb68-4fde-47e4-fd52-566aeee20ad0",
        "colab": {
          "base_uri": "https://localhost:8080/",
          "height": 265
        }
      },
      "cell_type": "code",
      "source": [
        "likelihood.draw(minuit=minuit);"
      ],
      "execution_count": 12,
      "outputs": [
        {
          "output_type": "display_data",
          "data": {
            "image/png": "[encoded data removed]",
            "text/plain": [
              "<matplotlib.figure.Figure at 0x7fcfcaf5c2e8>"
            ]
          },
          "metadata": {
            "tags": []
          }
        }
      ]
    },
    {
      "metadata": {
        "id": "ZRtKPBX2Xewp",
        "colab_type": "text"
      },
      "cell_type": "markdown",
      "source": [
        "It's easy to see that this fit is not perfect: our model does not seem to describe the data very well.\n",
        "Any ideas how our model can be modified to improve this?"
      ]
    },
    {
      "metadata": {
        "id": "F799YUf_PGEK",
        "colab_type": "code",
        "colab": {}
      },
      "cell_type": "code",
      "source": [
        "def sig1(x, mass, sigma, a, n):\n",
        "  return probfit.crystalball(x, a, n, mass, sigma)\n",
        "sig1 = probfit.Normalized(sig1, mass_range)\n",
        "\n",
        "def sig2(x, mass, sigma, d_sigma):\n",
        "  return probfit.gaussian(x, mass, sigma + d_sigma)\n",
        "sig2 = probfit.Normalized(sig2, mass_range)\n",
        "\n",
        "sig = probfit.AddPdfNorm(sig2, sig1, facname=['gaus_frac'])\n",
        "\n",
        "def bg(x, bg_slope):\n",
        "  return bg_slope * np.exp(-bg_slope * x)\n",
        "\n",
        "bg = probfit.Normalized(bg, mass_range)\n",
        "\n",
        "model_pdf = probfit.AddPdfNorm(sig, bg, facname=['fsig'])"
      ],
      "execution_count": 0,
      "outputs": []
    },
    {
      "metadata": {
        "id": "vsIzTuzOa6gE",
        "colab_type": "code",
        "colab": {
          "base_uri": "https://localhost:8080/",
          "height": 34
        },
        "outputId": "9cb78542-a53f-4780-e3f5-1eae53201736"
      },
      "cell_type": "code",
      "source": [
        "likelihood = probfit.UnbinnedLH(model_pdf, data.M.values)\n",
        "print(iminuit.describe(likelihood))"
      ],
      "execution_count": 14,
      "outputs": [
        {
          "output_type": "stream",
          "text": [
            "['mass', 'sigma', 'd_sigma', 'a', 'n', 'gaus_frac', 'bg_slope', 'fsig']\n"
          ],
          "name": "stdout"
        }
      ]
    },
    {
      "metadata": {
        "id": "dWQin2zIbCWV",
        "colab_type": "code",
        "colab": {}
      },
      "cell_type": "code",
      "source": [
        "init_pars = dict(mass=90,\n",
        "                 sigma=5,\n",
        "                 d_sigma=15,\n",
        "                 a=1.,\n",
        "                 n=2.,\n",
        "                 gaus_frac=0.2,\n",
        "                 bg_slope=1./60,\n",
        "                 fsig=0.9)\n",
        "\n",
        "par_limits = dict(limit_mass=(80, 100),\n",
        "                  limit_sigma=(1, 15),\n",
        "                  limit_d_sigma=(1, 80),\n",
        "                  limit_a=(0.05, 5),\n",
        "                  limit_n=(0.1, 10.),\n",
        "                  limit_gaus_frac=(0., 1.),\n",
        "                  limit_bg_slope=(1./10000, 3./10),\n",
        "                  limit_fsig=(0., 1.))\n",
        "\n",
        "par_errors = dict(error_mass=5,\n",
        "                  error_sigma=2,\n",
        "                  error_d_sigma=10,\n",
        "                  error_a=0.2,\n",
        "                  error_n=0.5,\n",
        "                  error_gaus_frac=0.1,\n",
        "                  error_bg_slope=0.01,\n",
        "                  error_fsig=0.05)\n",
        "\n",
        "minuit = iminuit.Minuit(likelihood, **init_pars, **par_limits, **par_errors)"
      ],
      "execution_count": 0,
      "outputs": []
    },
    {
      "metadata": {
        "id": "bbqmDQ-Ecdry",
        "colab_type": "code",
        "colab": {
          "base_uri": "https://localhost:8080/",
          "height": 265
        },
        "outputId": "7385ffae-21d8-4f92-fe44-b5d55475edf2"
      },
      "cell_type": "code",
      "source": [
        "likelihood.draw(minuit=minuit);"
      ],
      "execution_count": 16,
      "outputs": [
        {
          "output_type": "display_data",
          "data": {
            "image/png": "[encoded data removed]",
            "text/plain": [
              "<matplotlib.figure.Figure at 0x7fcfc8441b00>"
            ]
          },
          "metadata": {
            "tags": []
          }
        }
      ]
    },
    {
      "metadata": {
        "id": "kCd37nhzchnU",
        "colab_type": "code",
        "colab": {
          "base_uri": "https://localhost:8080/",
          "height": 404
        },
        "outputId": "0ee80a9f-3a68-4c00-b086-79691e32d520"
      },
      "cell_type": "code",
      "source": [
        "minuit.migrad();"
      ],
      "execution_count": 17,
      "outputs": [
        {
          "output_type": "stream",
          "text": [
            "/usr/local/lib/python3.6/dist-packages/ipykernel_launcher.py:1: SmallIntegralWarning: (89.9557, 90.84301235841058, 1.8328296203404941, 1.6975581199486824, 0.8918272835757358)\n",
            "  \"\"\"Entry point for launching an IPython kernel.\n"
          ],
          "name": "stderr"
        },
        {
          "output_type": "display_data",
          "data": {
            "text/html": [
              "<hr>"
            ]
          },
          "metadata": {
            "tags": []
          }
        },
        {
          "output_type": "display_data",
          "data": {
            "text/html": [
              "<table>\n",
              "    <tr>\n",
              "        <td title=\"Minimum value of function\">FCN = 19082.837455351015</td>\n",
              "        <td title=\"Total number of call to FCN so far\">TOTAL NCALL = 732</td>\n",
              "        <td title=\"Number of call in last migrad\">NCALLS = 732</td>\n",
              "    </tr>\n",
              "    <tr>\n",
              "        <td title=\"Estimated distance to minimum\">EDM = 5.7397523390195875e-05</td>\n",
              "        <td title=\"Maximum EDM definition of convergence\">GOAL EDM = 5e-06</td>\n",
              "        <td title=\"Error def. Amount of increase in FCN to be defined as 1 standard deviation\">\n",
              "        UP = 0.5</td>\n",
              "    </tr>\n",
              "</table>\n",
              "<table>\n",
              "    <tr>\n",
              "        <td align=\"center\" title=\"Validity of the migrad call\">Valid</td>\n",
              "        <td align=\"center\" title=\"Validity of parameters\">Valid Param</td>\n",
              "        <td align=\"center\" title=\"Is Covariance matrix accurate?\">Accurate Covar</td>\n",
              "        <td align=\"center\" title=\"Positive definiteness of covariance matrix\">PosDef</td>\n",
              "        <td align=\"center\" title=\"Was covariance matrix made posdef by adding diagonal element\">Made PosDef</td>\n",
              "    </tr>\n",
              "    <tr>\n",
              "        <td align=\"center\" style=\"background-color:#92CCA6\">True</td>\n",
              "        <td align=\"center\" style=\"background-color:#92CCA6\">True</td>\n",
              "        <td align=\"center\" style=\"background-color:#92CCA6\">True</td>\n",
              "        <td align=\"center\" style=\"background-color:#92CCA6\">True</td>\n",
              "        <td align=\"center\" style=\"background-color:#92CCA6\">False</td>\n",
              "    </tr>\n",
              "    <tr>\n",
              "        <td align=\"center\" title=\"Was last hesse call fail?\">Hesse Fail</td>\n",
              "        <td align=\"center\" title=\"Validity of covariance\">HasCov</td>\n",
              "        <td align=\"center\" title=\"Is EDM above goal EDM?\">Above EDM</td>\n",
              "        <td align=\"center\"></td>\n",
              "        <td align=\"center\" title=\"Did last migrad call reach max call limit?\">Reach calllim</td>\n",
              "    </tr>\n",
              "    <tr>\n",
              "        <td align=\"center\" style=\"background-color:#92CCA6\">False</td>\n",
              "        <td align=\"center\" style=\"background-color:#92CCA6\">True</td>\n",
              "        <td align=\"center\" style=\"background-color:#92CCA6\">False</td>\n",
              "        <td align=\"center\"></td>\n",
              "        <td align=\"center\" style=\"background-color:#92CCA6\">False</td>\n",
              "    </tr>\n",
              "</table>"
            ]
          },
          "metadata": {
            "tags": []
          }
        },
        {
          "output_type": "display_data",
          "data": {
            "text/html": [
              "<table>\n",
              "    <tr>\n",
              "        <td><a href=\"#\" onclick=\"$('#cmsbUhCDVa').toggle()\">+</a></td>\n",
              "        <td title=\"Variable name\">Name</td>\n",
              "        <td title=\"Value of parameter\">Value</td>\n",
              "        <td title=\"Hesse error\">Hesse Error</td>\n",
              "        <td title=\"Minos lower error\">Minos Error-</td>\n",
              "        <td title=\"Minos upper error\">Minos Error+</td>\n",
              "        <td title=\"Lower limit of the parameter\">Limit-</td>\n",
              "        <td title=\"Upper limit of the parameter\">Limit+</td>\n",
              "        <td title=\"Is the parameter fixed in the fit\">Fixed?</td>\n",
              "    </tr>\n",
              "    <tr>\n",
              "        <td>0</td>\n",
              "        <td>mass</td>\n",
              "        <td>90.8546</td>\n",
              "        <td>0.0445875</td>\n",
              "        <td></td>\n",
              "        <td></td>\n",
              "        <td>80</td>\n",
              "        <td>100</td>\n",
              "        <td>No</td>\n",
              "    </tr>\n",
              "    <tr>\n",
              "        <td>1</td>\n",
              "        <td>sigma</td>\n",
              "        <td>1.84957</td>\n",
              "        <td>0.0719601</td>\n",
              "        <td></td>\n",
              "        <td></td>\n",
              "        <td>1</td>\n",
              "        <td>15</td>\n",
              "        <td>No</td>\n",
              "    </tr>\n",
              "    <tr>\n",
              "        <td>2</td>\n",
              "        <td>d_sigma</td>\n",
              "        <td>3.60628</td>\n",
              "        <td>0.528537</td>\n",
              "        <td></td>\n",
              "        <td></td>\n",
              "        <td>1</td>\n",
              "        <td>80</td>\n",
              "        <td>No</td>\n",
              "    </tr>\n",
              "    <tr>\n",
              "        <td>3</td>\n",
              "        <td>a</td>\n",
              "        <td>1.6828</td>\n",
              "        <td>0.150861</td>\n",
              "        <td></td>\n",
              "        <td></td>\n",
              "        <td>0.05</td>\n",
              "        <td>5</td>\n",
              "        <td>No</td>\n",
              "    </tr>\n",
              "    <tr>\n",
              "        <td>4</td>\n",
              "        <td>n</td>\n",
              "        <td>1.0068</td>\n",
              "        <td>0.309454</td>\n",
              "        <td></td>\n",
              "        <td></td>\n",
              "        <td>0.1</td>\n",
              "        <td>10</td>\n",
              "        <td>No</td>\n",
              "    </tr>\n",
              "    <tr>\n",
              "        <td>5</td>\n",
              "        <td>gaus_frac</td>\n",
              "        <td>0.240204</td>\n",
              "        <td>0.0319816</td>\n",
              "        <td></td>\n",
              "        <td></td>\n",
              "        <td>0</td>\n",
              "        <td>1</td>\n",
              "        <td>No</td>\n",
              "    </tr>\n",
              "    <tr>\n",
              "        <td>6</td>\n",
              "        <td>bg_slope</td>\n",
              "        <td>0.0334204</td>\n",
              "        <td>0.00414197</td>\n",
              "        <td></td>\n",
              "        <td></td>\n",
              "        <td>0.0001</td>\n",
              "        <td>0.3</td>\n",
              "        <td>No</td>\n",
              "    </tr>\n",
              "    <tr>\n",
              "        <td>7</td>\n",
              "        <td>fsig</td>\n",
              "        <td>0.856943</td>\n",
              "        <td>0.014052</td>\n",
              "        <td></td>\n",
              "        <td></td>\n",
              "        <td>0</td>\n",
              "        <td>1</td>\n",
              "        <td>No</td>\n",
              "    </tr>\n",
              "</table>\n",
              "<pre id=\"cmsbUhCDVa\" style=\"display:none;\">\n",
              "<textarea rows=\"22\" cols=\"50\" onclick=\"this.select()\" readonly>\n",
              "\\begin{tabular}{|c|r|r|r|r|r|r|r|c|}\n",
              "\\hline\n",
              " & Name & Value & Hesse Error & Minos Error- & Minos Error+ & Limit- & Limit+ & Fixed?\\\\\n",
              "\\hline\n",
              "0 & mass & 90.8546 & 0.0445875 &  &  & 80.0 & 100 & No\\\\\n",
              "\\hline\n",
              "1 & $\\sigma$ & 1.84957 & 0.0719601 &  &  & 1.0 & 15 & No\\\\\n",
              "\\hline\n",
              "2 & $d_{\\sigma}$ & 3.60628 & 0.528537 &  &  & 1.0 & 80 & No\\\\\n",
              "\\hline\n",
              "3 & a & 1.6828 & 0.150861 &  &  & 0.05 & 5 & No\\\\\n",
              "\\hline\n",
              "4 & n & 1.0068 & 0.309454 &  &  & 0.1 & 10 & No\\\\\n",
              "\\hline\n",
              "5 & $gaus_{frac}$ & 0.240204 & 0.0319816 &  &  & 0.0 & 1 & No\\\\\n",
              "\\hline\n",
              "6 & $bg_{slope}$ & 0.0334204 & 0.00414197 &  &  & 0.0001 & 0.3 & No\\\\\n",
              "\\hline\n",
              "7 & fsig & 0.856943 & 0.014052 &  &  & 0.0 & 1 & No\\\\\n",
              "\\hline\n",
              "\\end{tabular}\n",
              "</textarea>\n",
              "</pre>"
            ]
          },
          "metadata": {
            "tags": []
          }
        },
        {
          "output_type": "display_data",
          "data": {
            "text/html": [
              "<hr>"
            ]
          },
          "metadata": {
            "tags": []
          }
        }
      ]
    },
    {
      "metadata": {
        "id": "u4ZHY0HxclyV",
        "colab_type": "code",
        "colab": {
          "base_uri": "https://localhost:8080/",
          "height": 265
        },
        "outputId": "65072e44-a572-4a91-d901-3dcacd6a50f8"
      },
      "cell_type": "code",
      "source": [
        "likelihood.draw(minuit=minuit);"
      ],
      "execution_count": 18,
      "outputs": [
        {
          "output_type": "display_data",
          "data": {
            "image/png": "[encoded data removed]",
            "text/plain": [
              "<matplotlib.figure.Figure at 0x7fcfc8455ef0>"
            ]
          },
          "metadata": {
            "tags": []
          }
        }
      ]
    },
    {
      "metadata": {
        "id": "87V4c-_8gza1",
        "colab_type": "code",
        "colab": {}
      },
      "cell_type": "code",
      "source": [
        ""
      ],
      "execution_count": 0,
      "outputs": []
    }
  ]
}