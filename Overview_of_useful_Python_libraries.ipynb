{
  "nbformat": 4,
  "nbformat_minor": 0,
  "metadata": {
    "colab": {
      "name": "Overview of useful Python libraries.ipynb",
      "version": "0.3.2",
      "provenance": [],
      "collapsed_sections": [
        "lcK5eAjBedmi"
      ],
      "toc_visible": true,
      "include_colab_link": true
    },
    "kernelspec": {
      "name": "python3",
      "display_name": "Python 3"
    }
  },
  "cells": [
    {
      "cell_type": "markdown",
      "metadata": {
        "id": "view-in-github",
        "colab_type": "text"
      },
      "source": [
        "<a href=\"https://colab.research.google.com/github/SiLiKhon/HEPStatsSeminar/blob/master/Overview_of_useful_Python_libraries.ipynb\" target=\"_parent\"><img src=\"https://colab.research.google.com/assets/colab-badge.svg\" alt=\"Open In Colab\"/></a>"
      ]
    },
    {
      "metadata": {
        "id": "cVC3dEW2M1gw",
        "colab_type": "text"
      },
      "cell_type": "markdown",
      "source": [
        "# Overview of useful Python libraries"
      ]
    },
    {
      "metadata": {
        "id": "cuMGoP0fRx0w",
        "colab_type": "text"
      },
      "cell_type": "markdown",
      "source": [
        "# Numpy - multidimensional data arrays"
      ]
    },
    {
      "metadata": {
        "id": "uzyHCTu8SLAd",
        "colab_type": "text"
      },
      "cell_type": "markdown",
      "source": [
        "The numpy package (module) is used in almost all numerical computation using Python. It is a package that provides high-performance vector, matrix and higher-dimensional data structures for Python. It is implemented in C and Fortran so when calculations are vectorized (formulated with vectors and matrices), performance is very good.\n",
        "\n",
        "To use numpy you need to import the module, using for example:"
      ]
    },
    {
      "metadata": {
        "id": "PRt-kOUVSWUz",
        "colab_type": "code",
        "colab": {}
      },
      "cell_type": "code",
      "source": [
        "import numpy as np # 'np' will be a simple alias for accessing numpy functions and classes"
      ],
      "execution_count": 0,
      "outputs": []
    },
    {
      "metadata": {
        "id": "VoEKPVqMSfCN",
        "colab_type": "text"
      },
      "cell_type": "markdown",
      "source": [
        "In the numpy package the main object used for vectors, matrices and higher-dimensional data sets is `ndarray` (the name stands for *n-dimensional array*)."
      ]
    },
    {
      "metadata": {
        "id": "5sHZ4vd8Ujoj",
        "colab_type": "text"
      },
      "cell_type": "markdown",
      "source": [
        "## Creating numpy arrays\n",
        "\n",
        "\n",
        "There are a number of ways to initialize new numpy arrays, for example from:\n",
        "* a Python list or tuples\n",
        "* using functions that are dedicated to generating numpy arrays, such as arange, linspace, etc.\n",
        "* reading data from files"
      ]
    },
    {
      "metadata": {
        "id": "oPKn1n6bU4dr",
        "colab_type": "text"
      },
      "cell_type": "markdown",
      "source": [
        "### From lists\n",
        "\n",
        "For example, to create new vector and matrix arrays from Python lists we can use the numpy.array function."
      ]
    },
    {
      "metadata": {
        "id": "xq451qSPU-tX",
        "colab_type": "code",
        "outputId": "bc57d933-c910-4a7d-caf1-1c84f5af14fa",
        "colab": {
          "base_uri": "https://localhost:8080/",
          "height": 34
        }
      },
      "cell_type": "code",
      "source": [
        "# a vector: the argument to the array function is a Python list\n",
        "v = np.array([1,2,3,4])\n",
        "\n",
        "v"
      ],
      "execution_count": 2,
      "outputs": [
        {
          "output_type": "execute_result",
          "data": {
            "text/plain": [
              "array([1, 2, 3, 4])"
            ]
          },
          "metadata": {
            "tags": []
          },
          "execution_count": 2
        }
      ]
    },
    {
      "metadata": {
        "id": "yCiwxhc7VEcM",
        "colab_type": "code",
        "outputId": "7ae7281d-baa4-436b-c33a-ea6cc084a72e",
        "colab": {
          "base_uri": "https://localhost:8080/",
          "height": 51
        }
      },
      "cell_type": "code",
      "source": [
        "# a matrix: the argument to the array function is a nested Python list\n",
        "M = np.array([[1, 2], [3, 4]])\n",
        "\n",
        "M"
      ],
      "execution_count": 3,
      "outputs": [
        {
          "output_type": "execute_result",
          "data": {
            "text/plain": [
              "array([[1, 2],\n",
              "       [3, 4]])"
            ]
          },
          "metadata": {
            "tags": []
          },
          "execution_count": 3
        }
      ]
    },
    {
      "metadata": {
        "id": "mOIVKcO2VJd0",
        "colab_type": "text"
      },
      "cell_type": "markdown",
      "source": [
        "The v and M objects are both of the type ndarray that the numpy module provides."
      ]
    },
    {
      "metadata": {
        "id": "Ni-CuXGnVLWi",
        "colab_type": "code",
        "outputId": "75210bd2-546d-49b0-fd18-c92c87961f72",
        "colab": {
          "base_uri": "https://localhost:8080/",
          "height": 34
        }
      },
      "cell_type": "code",
      "source": [
        "type(v), type(M)"
      ],
      "execution_count": 4,
      "outputs": [
        {
          "output_type": "execute_result",
          "data": {
            "text/plain": [
              "(numpy.ndarray, numpy.ndarray)"
            ]
          },
          "metadata": {
            "tags": []
          },
          "execution_count": 4
        }
      ]
    },
    {
      "metadata": {
        "id": "iWkQXw9iVSby",
        "colab_type": "text"
      },
      "cell_type": "markdown",
      "source": [
        "The difference between the v and M arrays is only their shapes. We can get information about the shape of an array by using the ndarray.shape property."
      ]
    },
    {
      "metadata": {
        "id": "3OJB-Z5mVTj_",
        "colab_type": "code",
        "outputId": "4ebc110d-1b4e-4be4-d046-d5a817d38399",
        "colab": {
          "base_uri": "https://localhost:8080/",
          "height": 34
        }
      },
      "cell_type": "code",
      "source": [
        "v.shape"
      ],
      "execution_count": 5,
      "outputs": [
        {
          "output_type": "execute_result",
          "data": {
            "text/plain": [
              "(4,)"
            ]
          },
          "metadata": {
            "tags": []
          },
          "execution_count": 5
        }
      ]
    },
    {
      "metadata": {
        "id": "TWsorcCUVXCv",
        "colab_type": "code",
        "outputId": "3fff6788-e160-46bf-8275-a33bf79bf13a",
        "colab": {
          "base_uri": "https://localhost:8080/",
          "height": 34
        }
      },
      "cell_type": "code",
      "source": [
        "M.shape"
      ],
      "execution_count": 6,
      "outputs": [
        {
          "output_type": "execute_result",
          "data": {
            "text/plain": [
              "(2, 2)"
            ]
          },
          "metadata": {
            "tags": []
          },
          "execution_count": 6
        }
      ]
    },
    {
      "metadata": {
        "id": "Xm6bGpi_Vbwj",
        "colab_type": "text"
      },
      "cell_type": "markdown",
      "source": [
        "The number of elements in the array is available through the ndarray.size property:"
      ]
    },
    {
      "metadata": {
        "id": "fSE-v_N6Vspu",
        "colab_type": "code",
        "outputId": "d29cee0e-0782-4f3e-f482-534e42c8b588",
        "colab": {
          "base_uri": "https://localhost:8080/",
          "height": 34
        }
      },
      "cell_type": "code",
      "source": [
        "M.size"
      ],
      "execution_count": 7,
      "outputs": [
        {
          "output_type": "execute_result",
          "data": {
            "text/plain": [
              "4"
            ]
          },
          "metadata": {
            "tags": []
          },
          "execution_count": 7
        }
      ]
    },
    {
      "metadata": {
        "id": "qLPOSgU8VvEu",
        "colab_type": "text"
      },
      "cell_type": "markdown",
      "source": [
        "So far the numpy.ndarray looks awefully much like a Python list (or nested list). Why not simply use Python lists for computations instead of creating a new array type?\n",
        "\n",
        "There are several reasons:\n",
        "\n",
        "* Python lists are very general. They can contain any kind of object. They are dynamically typed. They do not support mathematical functions such as matrix and dot multiplications, etc. Implementing such functions for Python lists would not be very efficient because of the dynamic typing.\n",
        "* Numpy arrays are statically typed and homogeneous. The type of the elements is determined when the array is created.\n",
        "* Numpy arrays are memory efficient.\n",
        "* Because of the static typing, fast implementation of mathematical functions such as multiplication and addition of numpy arrays can be implemented in a compiled language (C and Fortran is used).\n"
      ]
    },
    {
      "metadata": {
        "id": "zzrZu9n2WOxs",
        "colab_type": "text"
      },
      "cell_type": "markdown",
      "source": [
        "Using the dtype (data type) property of an ndarray, we can see what type the data of an array has:"
      ]
    },
    {
      "metadata": {
        "id": "Z0UXT3MRWY3_",
        "colab_type": "code",
        "outputId": "b2d607e0-4217-4f48-ec04-4b6d69703f0d",
        "colab": {
          "base_uri": "https://localhost:8080/",
          "height": 34
        }
      },
      "cell_type": "code",
      "source": [
        "M.dtype"
      ],
      "execution_count": 8,
      "outputs": [
        {
          "output_type": "execute_result",
          "data": {
            "text/plain": [
              "dtype('int64')"
            ]
          },
          "metadata": {
            "tags": []
          },
          "execution_count": 8
        }
      ]
    },
    {
      "metadata": {
        "id": "CuPNnwl2WbOu",
        "colab_type": "text"
      },
      "cell_type": "markdown",
      "source": [
        "We get an error if we try to assign a value of the wrong type to an element in a numpy array:"
      ]
    },
    {
      "metadata": {
        "id": "gWavacU2WgRA",
        "colab_type": "code",
        "outputId": "44e62639-1ee7-458b-91fe-4c4d381b3081",
        "colab": {
          "base_uri": "https://localhost:8080/",
          "height": 164
        }
      },
      "cell_type": "code",
      "source": [
        "M[0,0] = \"hello\""
      ],
      "execution_count": 9,
      "outputs": [
        {
          "output_type": "error",
          "ename": "ValueError",
          "evalue": "ignored",
          "traceback": [
            "\u001b[0;31m---------------------------------------------------------------------------\u001b[0m",
            "\u001b[0;31mValueError\u001b[0m                                Traceback (most recent call last)",
            "\u001b[0;32m<ipython-input-9-e1f336250f69>\u001b[0m in \u001b[0;36m<module>\u001b[0;34m()\u001b[0m\n\u001b[0;32m----> 1\u001b[0;31m \u001b[0mM\u001b[0m\u001b[0;34m[\u001b[0m\u001b[0;36m0\u001b[0m\u001b[0;34m,\u001b[0m\u001b[0;36m0\u001b[0m\u001b[0;34m]\u001b[0m \u001b[0;34m=\u001b[0m \u001b[0;34m\"hello\"\u001b[0m\u001b[0;34m\u001b[0m\u001b[0m\n\u001b[0m",
            "\u001b[0;31mValueError\u001b[0m: invalid literal for int() with base 10: 'hello'"
          ]
        }
      ]
    },
    {
      "metadata": {
        "id": "ACsuDpJ2Wp0f",
        "colab_type": "text"
      },
      "cell_type": "markdown",
      "source": [
        "If we want, we can explicitly define the type of the array data when we create it, using the dtype keyword argument:"
      ]
    },
    {
      "metadata": {
        "id": "d9GkwHflX2i3",
        "colab_type": "code",
        "outputId": "3d0d1786-5c2d-4458-c63e-4b9620cc6276",
        "colab": {
          "base_uri": "https://localhost:8080/",
          "height": 51
        }
      },
      "cell_type": "code",
      "source": [
        "M = np.array([[1, 2], [3, 4]], dtype=complex)\n",
        "\n",
        "M"
      ],
      "execution_count": 10,
      "outputs": [
        {
          "output_type": "execute_result",
          "data": {
            "text/plain": [
              "array([[1.+0.j, 2.+0.j],\n",
              "       [3.+0.j, 4.+0.j]])"
            ]
          },
          "metadata": {
            "tags": []
          },
          "execution_count": 10
        }
      ]
    },
    {
      "metadata": {
        "id": "b6h81GI6X6fk",
        "colab_type": "text"
      },
      "cell_type": "markdown",
      "source": [
        "Common data types that can be used with dtype are: int, float, complex, bool, object, etc.\n",
        "\n",
        "We can also explicitly define the bit size of the data types, for example: int64, int16, float128, complex128."
      ]
    },
    {
      "metadata": {
        "id": "dN1zq5_8X85f",
        "colab_type": "text"
      },
      "cell_type": "markdown",
      "source": [
        "### Using array-generating functions\n",
        "\n",
        "For larger arrays it is inpractical to initialize the data manually, using explicit python lists. Instead we can use one of the many functions in numpy that generate arrays of different forms. Some of the more common are:"
      ]
    },
    {
      "metadata": {
        "id": "wFuKSKAmYKnD",
        "colab_type": "text"
      },
      "cell_type": "markdown",
      "source": [
        "**arange**"
      ]
    },
    {
      "metadata": {
        "id": "HCBcveFrYIBR",
        "colab_type": "code",
        "outputId": "9e3eaca6-55fb-4402-f481-f45f25b0e876",
        "colab": {
          "base_uri": "https://localhost:8080/",
          "height": 34
        }
      },
      "cell_type": "code",
      "source": [
        "# create a range\n",
        "\n",
        "x = np.arange(0, 10, 1) # arguments: start, stop, step\n",
        "\n",
        "x"
      ],
      "execution_count": 11,
      "outputs": [
        {
          "output_type": "execute_result",
          "data": {
            "text/plain": [
              "array([0, 1, 2, 3, 4, 5, 6, 7, 8, 9])"
            ]
          },
          "metadata": {
            "tags": []
          },
          "execution_count": 11
        }
      ]
    },
    {
      "metadata": {
        "id": "dqKvF_8vYV2o",
        "colab_type": "code",
        "outputId": "49e0361c-b68b-44a6-b5d3-49480b35a60b",
        "colab": {
          "base_uri": "https://localhost:8080/",
          "height": 102
        }
      },
      "cell_type": "code",
      "source": [
        "x = np.arange(-1, 1, 0.1)\n",
        "\n",
        "x"
      ],
      "execution_count": 12,
      "outputs": [
        {
          "output_type": "execute_result",
          "data": {
            "text/plain": [
              "array([-1.00000000e+00, -9.00000000e-01, -8.00000000e-01, -7.00000000e-01,\n",
              "       -6.00000000e-01, -5.00000000e-01, -4.00000000e-01, -3.00000000e-01,\n",
              "       -2.00000000e-01, -1.00000000e-01, -2.22044605e-16,  1.00000000e-01,\n",
              "        2.00000000e-01,  3.00000000e-01,  4.00000000e-01,  5.00000000e-01,\n",
              "        6.00000000e-01,  7.00000000e-01,  8.00000000e-01,  9.00000000e-01])"
            ]
          },
          "metadata": {
            "tags": []
          },
          "execution_count": 12
        }
      ]
    },
    {
      "metadata": {
        "id": "L5xTmYEXYe0U",
        "colab_type": "text"
      },
      "cell_type": "markdown",
      "source": [
        "**linspace** and **logspace**"
      ]
    },
    {
      "metadata": {
        "id": "QD0N6fNAYi1K",
        "colab_type": "code",
        "outputId": "6ddd4c3f-ffe5-44c5-9a97-4fd779d080d3",
        "colab": {
          "base_uri": "https://localhost:8080/",
          "height": 102
        }
      },
      "cell_type": "code",
      "source": [
        "# using linspace, both end points ARE included\n",
        "np.linspace(0, 10, 25)"
      ],
      "execution_count": 13,
      "outputs": [
        {
          "output_type": "execute_result",
          "data": {
            "text/plain": [
              "array([ 0.        ,  0.41666667,  0.83333333,  1.25      ,  1.66666667,\n",
              "        2.08333333,  2.5       ,  2.91666667,  3.33333333,  3.75      ,\n",
              "        4.16666667,  4.58333333,  5.        ,  5.41666667,  5.83333333,\n",
              "        6.25      ,  6.66666667,  7.08333333,  7.5       ,  7.91666667,\n",
              "        8.33333333,  8.75      ,  9.16666667,  9.58333333, 10.        ])"
            ]
          },
          "metadata": {
            "tags": []
          },
          "execution_count": 13
        }
      ]
    },
    {
      "metadata": {
        "id": "PvVJrEFrYtLo",
        "colab_type": "code",
        "outputId": "efae4be5-1473-420b-e259-30ad556085c0",
        "colab": {
          "base_uri": "https://localhost:8080/",
          "height": 68
        }
      },
      "cell_type": "code",
      "source": [
        "np.logspace(0, 9, 10, base=np.e) # the output is [e^0, e^1, e^2, ... e^9]"
      ],
      "execution_count": 14,
      "outputs": [
        {
          "output_type": "execute_result",
          "data": {
            "text/plain": [
              "array([1.00000000e+00, 2.71828183e+00, 7.38905610e+00, 2.00855369e+01,\n",
              "       5.45981500e+01, 1.48413159e+02, 4.03428793e+02, 1.09663316e+03,\n",
              "       2.98095799e+03, 8.10308393e+03])"
            ]
          },
          "metadata": {
            "tags": []
          },
          "execution_count": 14
        }
      ]
    },
    {
      "metadata": {
        "id": "lgSHcvN3ZsyT",
        "colab_type": "text"
      },
      "cell_type": "markdown",
      "source": [
        "**random data**"
      ]
    },
    {
      "metadata": {
        "id": "4lXB0rjWZ5FF",
        "colab_type": "code",
        "outputId": "d226622e-a4a7-4751-8687-2d75344dbf3d",
        "colab": {
          "base_uri": "https://localhost:8080/",
          "height": 102
        }
      },
      "cell_type": "code",
      "source": [
        "# uniform random numbers in [0,1]\n",
        "np.random.rand(5,5)"
      ],
      "execution_count": 15,
      "outputs": [
        {
          "output_type": "execute_result",
          "data": {
            "text/plain": [
              "array([[0.20720934, 0.41449178, 0.29726535, 0.7657945 , 0.38253601],\n",
              "       [0.52782951, 0.45495206, 0.32894365, 0.72668113, 0.42770758],\n",
              "       [0.49535576, 0.0565168 , 0.93498627, 0.11370953, 0.53761742],\n",
              "       [0.36926628, 0.18596588, 0.9483981 , 0.24981245, 0.32879162],\n",
              "       [0.22838115, 0.92841333, 0.91651562, 0.34337267, 0.20247245]])"
            ]
          },
          "metadata": {
            "tags": []
          },
          "execution_count": 15
        }
      ]
    },
    {
      "metadata": {
        "id": "RwZAwWIHaLwc",
        "colab_type": "code",
        "outputId": "13690365-d2dd-44ef-a1cd-e5b56a417a93",
        "colab": {
          "base_uri": "https://localhost:8080/",
          "height": 68
        }
      },
      "cell_type": "code",
      "source": [
        "# standard normal distributed random numbers\n",
        "np.random.normal(size=(3, 3))"
      ],
      "execution_count": 16,
      "outputs": [
        {
          "output_type": "execute_result",
          "data": {
            "text/plain": [
              "array([[ 1.68805886e-02, -1.89966729e+00,  6.93873477e-01],\n",
              "       [-4.21622406e-02, -1.11967534e-03, -3.75393981e-01],\n",
              "       [ 1.58763225e+00, -2.62547656e-01, -3.89929111e-01]])"
            ]
          },
          "metadata": {
            "tags": []
          },
          "execution_count": 16
        }
      ]
    },
    {
      "metadata": {
        "id": "iNbZDYFxaimY",
        "colab_type": "text"
      },
      "cell_type": "markdown",
      "source": [
        "**zeros** and **ones**"
      ]
    },
    {
      "metadata": {
        "id": "ArDKHxz_an_y",
        "colab_type": "code",
        "outputId": "d51d555c-aedf-4a81-94d1-9de7bc73f04b",
        "colab": {
          "base_uri": "https://localhost:8080/",
          "height": 51
        }
      },
      "cell_type": "code",
      "source": [
        "np.zeros((2,2))"
      ],
      "execution_count": 17,
      "outputs": [
        {
          "output_type": "execute_result",
          "data": {
            "text/plain": [
              "array([[0., 0.],\n",
              "       [0., 0.]])"
            ]
          },
          "metadata": {
            "tags": []
          },
          "execution_count": 17
        }
      ]
    },
    {
      "metadata": {
        "id": "oNZKZdS7atFz",
        "colab_type": "code",
        "outputId": "0dcc700a-a1b1-49e0-b7bb-51ee4714bc7e",
        "colab": {
          "base_uri": "https://localhost:8080/",
          "height": 68
        }
      },
      "cell_type": "code",
      "source": [
        "np.ones((3,3))"
      ],
      "execution_count": 18,
      "outputs": [
        {
          "output_type": "execute_result",
          "data": {
            "text/plain": [
              "array([[1., 1., 1.],\n",
              "       [1., 1., 1.],\n",
              "       [1., 1., 1.]])"
            ]
          },
          "metadata": {
            "tags": []
          },
          "execution_count": 18
        }
      ]
    },
    {
      "metadata": {
        "id": "FrJiGNF1irL2",
        "colab_type": "text"
      },
      "cell_type": "markdown",
      "source": [
        "# matplotlib - 2D and 3D plotting in Python"
      ]
    },
    {
      "metadata": {
        "id": "Volu5AKRiy_n",
        "colab_type": "code",
        "colab": {}
      },
      "cell_type": "code",
      "source": [
        "# This line configures matplotlib to show figures embedded in the notebook, \n",
        "# instead of opening a new window for each figure. More about that later. \n",
        "# If you are using an old version of IPython, try using '%pylab inline' instead.\n",
        "%matplotlib inline"
      ],
      "execution_count": 0,
      "outputs": []
    },
    {
      "metadata": {
        "id": "FhKJxWUdi2Yj",
        "colab_type": "text"
      },
      "cell_type": "markdown",
      "source": [
        "\n",
        "Matplotlib is an excellent 2D and 3D graphics library for generating scientific figures. Some of the many advantages of this library include:\n",
        "\n",
        "* Easy to get started\n",
        "* Support for $\\LaTeX$ formatted labels and texts\n",
        "* Great control of every element in a figure, including figure size and DPI.\n",
        "* High-quality output in many formats, including PNG, PDF, SVG, EPS, and PGF.\n",
        "* GUI for interactively exploring figures and support for headless generation of figure files (useful for batch jobs).\n",
        "\n",
        "One of the key features of matplotlib that I would like to emphasize, and that I think makes matplotlib highly suitable for generating figures for scientific publications is that all aspects of the figure can be controlled programmatically. This is important for reproducibility and convenient when one needs to regenerate the figure with updated data or change its appearance.\n",
        "\n",
        "More information at the Matplotlib web page: [http://matplotlib.org/](http://matplotlib.org/)\n",
        "\n",
        "To get started using Matplotlib in a Python program import the matplotlib.pyplot module under the name plt:\n"
      ]
    },
    {
      "metadata": {
        "id": "XW018QEKjOYx",
        "colab_type": "code",
        "colab": {}
      },
      "cell_type": "code",
      "source": [
        "import matplotlib.pyplot as plt"
      ],
      "execution_count": 0,
      "outputs": []
    },
    {
      "metadata": {
        "id": "NqLa-ZgLjQgG",
        "colab_type": "text"
      },
      "cell_type": "markdown",
      "source": [
        "There two ways of plotting in matplotlib: MATLAB-like and object-oriented."
      ]
    },
    {
      "metadata": {
        "id": "NWTPSEYPkbha",
        "colab_type": "text"
      },
      "cell_type": "markdown",
      "source": [
        "**MATLAB-like:**"
      ]
    },
    {
      "metadata": {
        "id": "QdApePp8jkjM",
        "colab_type": "code",
        "colab": {}
      },
      "cell_type": "code",
      "source": [
        "x = np.linspace(0, 5, 10)\n",
        "y = x ** 2"
      ],
      "execution_count": 0,
      "outputs": []
    },
    {
      "metadata": {
        "id": "vju5x3VIjoKG",
        "colab_type": "code",
        "outputId": "f0378b6a-1e9b-4858-f9bd-f3a452bac2d5",
        "colab": {
          "base_uri": "https://localhost:8080/",
          "height": 311
        }
      },
      "cell_type": "code",
      "source": [
        "plt.figure()\n",
        "plt.plot(x, y, 'r')\n",
        "plt.xlabel('x')\n",
        "plt.ylabel('y')\n",
        "plt.title('title')"
      ],
      "execution_count": 22,
      "outputs": [
        {
          "output_type": "execute_result",
          "data": {
            "text/plain": [
              "Text(0.5,1,'title')"
            ]
          },
          "metadata": {
            "tags": []
          },
          "execution_count": 22
        },
        {
          "output_type": "display_data",
          "data": {
            "image/png": "[encoded data removed]",
            "text/plain": [
              "<matplotlib.figure.Figure at 0x7f155640ea58>"
            ]
          },
          "metadata": {
            "tags": []
          }
        }
      ]
    },
    {
      "metadata": {
        "id": "jKmZhzzvkje1",
        "colab_type": "text"
      },
      "cell_type": "markdown",
      "source": [
        "**Object-oriented:**"
      ]
    },
    {
      "metadata": {
        "id": "I1A8QwQ3kni3",
        "colab_type": "code",
        "outputId": "da3401c0-16f8-4215-de7c-59d3b20b7d14",
        "colab": {
          "base_uri": "https://localhost:8080/",
          "height": 307
        }
      },
      "cell_type": "code",
      "source": [
        "fig = plt.figure()\n",
        "\n",
        "axes = fig.add_axes([0.1, 0.1, 0.8, 0.8]) # left, bottom, width, height (range 0 to 1)\n",
        "\n",
        "axes.plot(x, y, 'r')\n",
        "\n",
        "axes.set_xlabel('x')\n",
        "axes.set_ylabel('y')\n",
        "axes.set_title('title');"
      ],
      "execution_count": 23,
      "outputs": [
        {
          "output_type": "display_data",
          "data": {
            "image/png": "[encoded data removed]",
            "text/plain": [
              "<matplotlib.figure.Figure at 0x7f15563d00b8>"
            ]
          },
          "metadata": {
            "tags": []
          }
        }
      ]
    },
    {
      "metadata": {
        "id": "e6MmCNN-k4Za",
        "colab_type": "text"
      },
      "cell_type": "markdown",
      "source": [
        "Although a little bit more code is involved, the advantage is that we now have full control of where the plot axes are placed, and we can easily add more than one axis to the figure:\n"
      ]
    },
    {
      "metadata": {
        "id": "kJAtBArnk6CE",
        "colab_type": "code",
        "outputId": "d6f5de7a-a23a-4388-97bc-121a734dabf7",
        "colab": {
          "base_uri": "https://localhost:8080/",
          "height": 307
        }
      },
      "cell_type": "code",
      "source": [
        "fig = plt.figure()\n",
        "\n",
        "axes1 = fig.add_axes([0.1, 0.1, 0.8, 0.8]) # main axes\n",
        "axes2 = fig.add_axes([0.2, 0.5, 0.4, 0.3]) # inset axes\n",
        "\n",
        "# main figure\n",
        "axes1.plot(x, y, 'r')\n",
        "axes1.set_xlabel('x')\n",
        "axes1.set_ylabel('y')\n",
        "axes1.set_title('title')\n",
        "\n",
        "# insert\n",
        "axes2.plot(y, x, 'g')\n",
        "axes2.set_xlabel('y')\n",
        "axes2.set_ylabel('x')\n",
        "axes2.set_title('insert title');"
      ],
      "execution_count": 24,
      "outputs": [
        {
          "output_type": "display_data",
          "data": {
            "image/png": "[encoded data removed]",
            "text/plain": [
              "<matplotlib.figure.Figure at 0x7f1553abcc88>"
            ]
          },
          "metadata": {
            "tags": []
          }
        }
      ]
    },
    {
      "metadata": {
        "id": "ZhU9jMKepA-s",
        "colab_type": "text"
      },
      "cell_type": "markdown",
      "source": [
        "# pandas \n",
        "pandas is a library providing high-performance, easy-to-use data structures and data analysis tools for the Python programming language."
      ]
    },
    {
      "metadata": {
        "id": "KJ8Xch9UpSnZ",
        "colab_type": "code",
        "colab": {}
      },
      "cell_type": "code",
      "source": [
        "import pandas as pd\n",
        "import numpy as np\n",
        "import matplotlib.pyplot as plt"
      ],
      "execution_count": 0,
      "outputs": []
    },
    {
      "metadata": {
        "id": "DpkO5os_tMHV",
        "colab_type": "text"
      },
      "cell_type": "markdown",
      "source": [
        "## Handling data with pd.DataFrame\n",
        "\n",
        "The main object here is `pandas.DataFrame` – a 2d table of (possibly heterogeneous) data. There is a number a ways to create a `DataFrame`, but possibly one of the most common ways is to construct it by reading a text file of tabulated data with a specified delimiter (i.e. CSV files):"
      ]
    },
    {
      "metadata": {
        "id": "yr1cVv4xvkbr",
        "colab_type": "code",
        "colab": {
          "base_uri": "https://localhost:8080/",
          "height": 34
        },
        "outputId": "3180b0d0-0efc-49e0-a252-fa7bff5cccbe"
      },
      "cell_type": "code",
      "source": [
        "df = pd.read_csv(\"https://raw.githubusercontent.com/SiLiKhon/HEPStatsSeminar/master/data/moscow_weather.csv\",\n",
        "                 delimiter=';')\n",
        "type(df)"
      ],
      "execution_count": 53,
      "outputs": [
        {
          "output_type": "execute_result",
          "data": {
            "text/plain": [
              "pandas.core.frame.DataFrame"
            ]
          },
          "metadata": {
            "tags": []
          },
          "execution_count": 53
        }
      ]
    },
    {
      "metadata": {
        "id": "U8SqrYS2wFgN",
        "colab_type": "code",
        "colab": {
          "base_uri": "https://localhost:8080/",
          "height": 238
        },
        "outputId": "5f834e2c-449b-4308-ab38-594e7b3088ba"
      },
      "cell_type": "code",
      "source": [
        "# Look at the first N (5 by default) rows of data:\n",
        "df.head()"
      ],
      "execution_count": 54,
      "outputs": [
        {
          "output_type": "execute_result",
          "data": {
            "text/html": [
              "<div>\n",
              "<style scoped>\n",
              "    .dataframe tbody tr th:only-of-type {\n",
              "        vertical-align: middle;\n",
              "    }\n",
              "\n",
              "    .dataframe tbody tr th {\n",
              "        vertical-align: top;\n",
              "    }\n",
              "\n",
              "    .dataframe thead th {\n",
              "        text-align: right;\n",
              "    }\n",
              "</style>\n",
              "<table border=\"1\" class=\"dataframe\">\n",
              "  <thead>\n",
              "    <tr style=\"text-align: right;\">\n",
              "      <th></th>\n",
              "      <th>Year</th>\n",
              "      <th>Month</th>\n",
              "      <th>Day</th>\n",
              "      <th>Hour</th>\n",
              "      <th>Minute</th>\n",
              "      <th>Temperature  [2 m above gnd]</th>\n",
              "      <th>Total Precipitation  [sfc]</th>\n",
              "      <th>Wind Speed  [10 m above gnd]</th>\n",
              "      <th>Wind Direction  [10 m above gnd]</th>\n",
              "    </tr>\n",
              "  </thead>\n",
              "  <tbody>\n",
              "    <tr>\n",
              "      <th>0</th>\n",
              "      <td>2018</td>\n",
              "      <td>11</td>\n",
              "      <td>4</td>\n",
              "      <td>0</td>\n",
              "      <td>0</td>\n",
              "      <td>7.03</td>\n",
              "      <td>0.6</td>\n",
              "      <td>14.76</td>\n",
              "      <td>257.32</td>\n",
              "    </tr>\n",
              "    <tr>\n",
              "      <th>1</th>\n",
              "      <td>2018</td>\n",
              "      <td>11</td>\n",
              "      <td>4</td>\n",
              "      <td>1</td>\n",
              "      <td>0</td>\n",
              "      <td>7.05</td>\n",
              "      <td>0.2</td>\n",
              "      <td>14.49</td>\n",
              "      <td>255.62</td>\n",
              "    </tr>\n",
              "    <tr>\n",
              "      <th>2</th>\n",
              "      <td>2018</td>\n",
              "      <td>11</td>\n",
              "      <td>4</td>\n",
              "      <td>2</td>\n",
              "      <td>0</td>\n",
              "      <td>7.04</td>\n",
              "      <td>0.0</td>\n",
              "      <td>14.35</td>\n",
              "      <td>252.47</td>\n",
              "    </tr>\n",
              "    <tr>\n",
              "      <th>3</th>\n",
              "      <td>2018</td>\n",
              "      <td>11</td>\n",
              "      <td>4</td>\n",
              "      <td>3</td>\n",
              "      <td>0</td>\n",
              "      <td>6.49</td>\n",
              "      <td>0.0</td>\n",
              "      <td>16.10</td>\n",
              "      <td>259.70</td>\n",
              "    </tr>\n",
              "    <tr>\n",
              "      <th>4</th>\n",
              "      <td>2018</td>\n",
              "      <td>11</td>\n",
              "      <td>4</td>\n",
              "      <td>4</td>\n",
              "      <td>0</td>\n",
              "      <td>6.25</td>\n",
              "      <td>0.0</td>\n",
              "      <td>17.29</td>\n",
              "      <td>267.61</td>\n",
              "    </tr>\n",
              "  </tbody>\n",
              "</table>\n",
              "</div>"
            ],
            "text/plain": [
              "   Year  Month  Day  Hour  Minute  Temperature  [2 m above gnd]  \\\n",
              "0  2018     11    4     0       0                          7.03   \n",
              "1  2018     11    4     1       0                          7.05   \n",
              "2  2018     11    4     2       0                          7.04   \n",
              "3  2018     11    4     3       0                          6.49   \n",
              "4  2018     11    4     4       0                          6.25   \n",
              "\n",
              "   Total Precipitation  [sfc]  Wind Speed  [10 m above gnd]  \\\n",
              "0                         0.6                         14.76   \n",
              "1                         0.2                         14.49   \n",
              "2                         0.0                         14.35   \n",
              "3                         0.0                         16.10   \n",
              "4                         0.0                         17.29   \n",
              "\n",
              "   Wind Direction  [10 m above gnd]  \n",
              "0                            257.32  \n",
              "1                            255.62  \n",
              "2                            252.47  \n",
              "3                            259.70  \n",
              "4                            267.61  "
            ]
          },
          "metadata": {
            "tags": []
          },
          "execution_count": 54
        }
      ]
    },
    {
      "metadata": {
        "id": "1f3uoGnSwU5x",
        "colab_type": "text"
      },
      "cell_type": "markdown",
      "source": [
        "Selecting rows:"
      ]
    },
    {
      "metadata": {
        "id": "A5RyIXGXwRe6",
        "colab_type": "code",
        "colab": {
          "base_uri": "https://localhost:8080/",
          "height": 331
        },
        "outputId": "c85abfa0-a66f-4c56-f673-3abd17636637"
      },
      "cell_type": "code",
      "source": [
        "# We'll select a few rows and store the result as an independent copy of the original data\n",
        "small_df = df.loc[3:10].copy()\n",
        "small_df"
      ],
      "execution_count": 107,
      "outputs": [
        {
          "output_type": "execute_result",
          "data": {
            "text/html": [
              "<div>\n",
              "<style scoped>\n",
              "    .dataframe tbody tr th:only-of-type {\n",
              "        vertical-align: middle;\n",
              "    }\n",
              "\n",
              "    .dataframe tbody tr th {\n",
              "        vertical-align: top;\n",
              "    }\n",
              "\n",
              "    .dataframe thead th {\n",
              "        text-align: right;\n",
              "    }\n",
              "</style>\n",
              "<table border=\"1\" class=\"dataframe\">\n",
              "  <thead>\n",
              "    <tr style=\"text-align: right;\">\n",
              "      <th></th>\n",
              "      <th>Year</th>\n",
              "      <th>Month</th>\n",
              "      <th>Day</th>\n",
              "      <th>Hour</th>\n",
              "      <th>Minute</th>\n",
              "      <th>Temperature  [2 m above gnd]</th>\n",
              "      <th>Total Precipitation  [sfc]</th>\n",
              "      <th>Wind Speed  [10 m above gnd]</th>\n",
              "      <th>Wind Direction  [10 m above gnd]</th>\n",
              "    </tr>\n",
              "  </thead>\n",
              "  <tbody>\n",
              "    <tr>\n",
              "      <th>3</th>\n",
              "      <td>2018</td>\n",
              "      <td>11</td>\n",
              "      <td>4</td>\n",
              "      <td>3</td>\n",
              "      <td>0</td>\n",
              "      <td>6.49</td>\n",
              "      <td>0.0</td>\n",
              "      <td>16.10</td>\n",
              "      <td>259.70</td>\n",
              "    </tr>\n",
              "    <tr>\n",
              "      <th>4</th>\n",
              "      <td>2018</td>\n",
              "      <td>11</td>\n",
              "      <td>4</td>\n",
              "      <td>4</td>\n",
              "      <td>0</td>\n",
              "      <td>6.25</td>\n",
              "      <td>0.0</td>\n",
              "      <td>17.29</td>\n",
              "      <td>267.61</td>\n",
              "    </tr>\n",
              "    <tr>\n",
              "      <th>5</th>\n",
              "      <td>2018</td>\n",
              "      <td>11</td>\n",
              "      <td>4</td>\n",
              "      <td>5</td>\n",
              "      <td>0</td>\n",
              "      <td>6.16</td>\n",
              "      <td>0.0</td>\n",
              "      <td>17.28</td>\n",
              "      <td>271.19</td>\n",
              "    </tr>\n",
              "    <tr>\n",
              "      <th>6</th>\n",
              "      <td>2018</td>\n",
              "      <td>11</td>\n",
              "      <td>4</td>\n",
              "      <td>6</td>\n",
              "      <td>0</td>\n",
              "      <td>6.00</td>\n",
              "      <td>0.0</td>\n",
              "      <td>17.28</td>\n",
              "      <td>271.19</td>\n",
              "    </tr>\n",
              "    <tr>\n",
              "      <th>7</th>\n",
              "      <td>2018</td>\n",
              "      <td>11</td>\n",
              "      <td>4</td>\n",
              "      <td>7</td>\n",
              "      <td>0</td>\n",
              "      <td>5.97</td>\n",
              "      <td>0.0</td>\n",
              "      <td>18.36</td>\n",
              "      <td>270.00</td>\n",
              "    </tr>\n",
              "    <tr>\n",
              "      <th>8</th>\n",
              "      <td>2018</td>\n",
              "      <td>11</td>\n",
              "      <td>4</td>\n",
              "      <td>8</td>\n",
              "      <td>0</td>\n",
              "      <td>5.94</td>\n",
              "      <td>0.0</td>\n",
              "      <td>19.16</td>\n",
              "      <td>275.39</td>\n",
              "    </tr>\n",
              "    <tr>\n",
              "      <th>9</th>\n",
              "      <td>2018</td>\n",
              "      <td>11</td>\n",
              "      <td>4</td>\n",
              "      <td>9</td>\n",
              "      <td>0</td>\n",
              "      <td>6.12</td>\n",
              "      <td>0.0</td>\n",
              "      <td>19.91</td>\n",
              "      <td>282.53</td>\n",
              "    </tr>\n",
              "    <tr>\n",
              "      <th>10</th>\n",
              "      <td>2018</td>\n",
              "      <td>11</td>\n",
              "      <td>4</td>\n",
              "      <td>10</td>\n",
              "      <td>0</td>\n",
              "      <td>6.40</td>\n",
              "      <td>0.0</td>\n",
              "      <td>20.52</td>\n",
              "      <td>285.26</td>\n",
              "    </tr>\n",
              "  </tbody>\n",
              "</table>\n",
              "</div>"
            ],
            "text/plain": [
              "    Year  Month  Day  Hour  Minute  Temperature  [2 m above gnd]  \\\n",
              "3   2018     11    4     3       0                          6.49   \n",
              "4   2018     11    4     4       0                          6.25   \n",
              "5   2018     11    4     5       0                          6.16   \n",
              "6   2018     11    4     6       0                          6.00   \n",
              "7   2018     11    4     7       0                          5.97   \n",
              "8   2018     11    4     8       0                          5.94   \n",
              "9   2018     11    4     9       0                          6.12   \n",
              "10  2018     11    4    10       0                          6.40   \n",
              "\n",
              "    Total Precipitation  [sfc]  Wind Speed  [10 m above gnd]  \\\n",
              "3                          0.0                         16.10   \n",
              "4                          0.0                         17.29   \n",
              "5                          0.0                         17.28   \n",
              "6                          0.0                         17.28   \n",
              "7                          0.0                         18.36   \n",
              "8                          0.0                         19.16   \n",
              "9                          0.0                         19.91   \n",
              "10                         0.0                         20.52   \n",
              "\n",
              "    Wind Direction  [10 m above gnd]  \n",
              "3                             259.70  \n",
              "4                             267.61  \n",
              "5                             271.19  \n",
              "6                             271.19  \n",
              "7                             270.00  \n",
              "8                             275.39  \n",
              "9                             282.53  \n",
              "10                            285.26  "
            ]
          },
          "metadata": {
            "tags": []
          },
          "execution_count": 107
        }
      ]
    },
    {
      "metadata": {
        "id": "MNexuqQ7wRSt",
        "colab_type": "code",
        "colab": {
          "base_uri": "https://localhost:8080/",
          "height": 34
        },
        "outputId": "1419c40a-7718-40ea-fe6d-2f05f60ee7db"
      },
      "cell_type": "code",
      "source": [
        "# note that small_df has index starting from 3:\n",
        "small_df.index"
      ],
      "execution_count": 108,
      "outputs": [
        {
          "output_type": "execute_result",
          "data": {
            "text/plain": [
              "RangeIndex(start=3, stop=11, step=1)"
            ]
          },
          "metadata": {
            "tags": []
          },
          "execution_count": 108
        }
      ]
    },
    {
      "metadata": {
        "id": "g6pu0DEBwRHd",
        "colab_type": "code",
        "colab": {
          "base_uri": "https://localhost:8080/",
          "height": 145
        },
        "outputId": "87cf7d00-2492-4c03-fd45-76379534560b"
      },
      "cell_type": "code",
      "source": [
        "# Indexing with '.loc' uses that index, also it includes the last element of the slice:\n",
        "small_df.loc[4:5]"
      ],
      "execution_count": 109,
      "outputs": [
        {
          "output_type": "execute_result",
          "data": {
            "text/html": [
              "<div>\n",
              "<style scoped>\n",
              "    .dataframe tbody tr th:only-of-type {\n",
              "        vertical-align: middle;\n",
              "    }\n",
              "\n",
              "    .dataframe tbody tr th {\n",
              "        vertical-align: top;\n",
              "    }\n",
              "\n",
              "    .dataframe thead th {\n",
              "        text-align: right;\n",
              "    }\n",
              "</style>\n",
              "<table border=\"1\" class=\"dataframe\">\n",
              "  <thead>\n",
              "    <tr style=\"text-align: right;\">\n",
              "      <th></th>\n",
              "      <th>Year</th>\n",
              "      <th>Month</th>\n",
              "      <th>Day</th>\n",
              "      <th>Hour</th>\n",
              "      <th>Minute</th>\n",
              "      <th>Temperature  [2 m above gnd]</th>\n",
              "      <th>Total Precipitation  [sfc]</th>\n",
              "      <th>Wind Speed  [10 m above gnd]</th>\n",
              "      <th>Wind Direction  [10 m above gnd]</th>\n",
              "    </tr>\n",
              "  </thead>\n",
              "  <tbody>\n",
              "    <tr>\n",
              "      <th>4</th>\n",
              "      <td>2018</td>\n",
              "      <td>11</td>\n",
              "      <td>4</td>\n",
              "      <td>4</td>\n",
              "      <td>0</td>\n",
              "      <td>6.25</td>\n",
              "      <td>0.0</td>\n",
              "      <td>17.29</td>\n",
              "      <td>267.61</td>\n",
              "    </tr>\n",
              "    <tr>\n",
              "      <th>5</th>\n",
              "      <td>2018</td>\n",
              "      <td>11</td>\n",
              "      <td>4</td>\n",
              "      <td>5</td>\n",
              "      <td>0</td>\n",
              "      <td>6.16</td>\n",
              "      <td>0.0</td>\n",
              "      <td>17.28</td>\n",
              "      <td>271.19</td>\n",
              "    </tr>\n",
              "  </tbody>\n",
              "</table>\n",
              "</div>"
            ],
            "text/plain": [
              "   Year  Month  Day  Hour  Minute  Temperature  [2 m above gnd]  \\\n",
              "4  2018     11    4     4       0                          6.25   \n",
              "5  2018     11    4     5       0                          6.16   \n",
              "\n",
              "   Total Precipitation  [sfc]  Wind Speed  [10 m above gnd]  \\\n",
              "4                         0.0                         17.29   \n",
              "5                         0.0                         17.28   \n",
              "\n",
              "   Wind Direction  [10 m above gnd]  \n",
              "4                            267.61  \n",
              "5                            271.19  "
            ]
          },
          "metadata": {
            "tags": []
          },
          "execution_count": 109
        }
      ]
    },
    {
      "metadata": {
        "id": "swU-tTy4wQ-0",
        "colab_type": "code",
        "colab": {
          "base_uri": "https://localhost:8080/",
          "height": 114
        },
        "outputId": "c980879e-18c9-4f82-eafa-41a1eaad7f13"
      },
      "cell_type": "code",
      "source": [
        "# while using just [4:5] selects the row, which is 4'th from the beginning\n",
        "# of current DataFrame (it's index is 7), and it excludes the last element\n",
        "# of the slice:\n",
        "small_df[4:5]"
      ],
      "execution_count": 110,
      "outputs": [
        {
          "output_type": "execute_result",
          "data": {
            "text/html": [
              "<div>\n",
              "<style scoped>\n",
              "    .dataframe tbody tr th:only-of-type {\n",
              "        vertical-align: middle;\n",
              "    }\n",
              "\n",
              "    .dataframe tbody tr th {\n",
              "        vertical-align: top;\n",
              "    }\n",
              "\n",
              "    .dataframe thead th {\n",
              "        text-align: right;\n",
              "    }\n",
              "</style>\n",
              "<table border=\"1\" class=\"dataframe\">\n",
              "  <thead>\n",
              "    <tr style=\"text-align: right;\">\n",
              "      <th></th>\n",
              "      <th>Year</th>\n",
              "      <th>Month</th>\n",
              "      <th>Day</th>\n",
              "      <th>Hour</th>\n",
              "      <th>Minute</th>\n",
              "      <th>Temperature  [2 m above gnd]</th>\n",
              "      <th>Total Precipitation  [sfc]</th>\n",
              "      <th>Wind Speed  [10 m above gnd]</th>\n",
              "      <th>Wind Direction  [10 m above gnd]</th>\n",
              "    </tr>\n",
              "  </thead>\n",
              "  <tbody>\n",
              "    <tr>\n",
              "      <th>7</th>\n",
              "      <td>2018</td>\n",
              "      <td>11</td>\n",
              "      <td>4</td>\n",
              "      <td>7</td>\n",
              "      <td>0</td>\n",
              "      <td>5.97</td>\n",
              "      <td>0.0</td>\n",
              "      <td>18.36</td>\n",
              "      <td>270.0</td>\n",
              "    </tr>\n",
              "  </tbody>\n",
              "</table>\n",
              "</div>"
            ],
            "text/plain": [
              "   Year  Month  Day  Hour  Minute  Temperature  [2 m above gnd]  \\\n",
              "7  2018     11    4     7       0                          5.97   \n",
              "\n",
              "   Total Precipitation  [sfc]  Wind Speed  [10 m above gnd]  \\\n",
              "7                         0.0                         18.36   \n",
              "\n",
              "   Wind Direction  [10 m above gnd]  \n",
              "7                             270.0  "
            ]
          },
          "metadata": {
            "tags": []
          },
          "execution_count": 110
        }
      ]
    },
    {
      "metadata": {
        "id": "IZn6nmQwwQzS",
        "colab_type": "code",
        "colab": {
          "base_uri": "https://localhost:8080/",
          "height": 85
        },
        "outputId": "d30e18ec-7c64-4824-9753-9dd857e7d93d"
      },
      "cell_type": "code",
      "source": [
        "# You can list the column names:\n",
        "small_df.columns"
      ],
      "execution_count": 111,
      "outputs": [
        {
          "output_type": "execute_result",
          "data": {
            "text/plain": [
              "Index(['Year', 'Month', 'Day', 'Hour', 'Minute',\n",
              "       'Temperature  [2 m above gnd]', 'Total Precipitation  [sfc]',\n",
              "       'Wind Speed  [10 m above gnd]', 'Wind Direction  [10 m above gnd]'],\n",
              "      dtype='object')"
            ]
          },
          "metadata": {
            "tags": []
          },
          "execution_count": 111
        }
      ]
    },
    {
      "metadata": {
        "id": "v3cqgU-73PaV",
        "colab_type": "code",
        "colab": {
          "base_uri": "https://localhost:8080/",
          "height": 170
        },
        "outputId": "578cd789-ce08-418c-9c69-1dc581329f41"
      },
      "cell_type": "code",
      "source": [
        "# And easily select them:\n",
        "small_df['Temperature  [2 m above gnd]']"
      ],
      "execution_count": 112,
      "outputs": [
        {
          "output_type": "execute_result",
          "data": {
            "text/plain": [
              "3     6.49\n",
              "4     6.25\n",
              "5     6.16\n",
              "6     6.00\n",
              "7     5.97\n",
              "8     5.94\n",
              "9     6.12\n",
              "10    6.40\n",
              "Name: Temperature  [2 m above gnd], dtype: float64"
            ]
          },
          "metadata": {
            "tags": []
          },
          "execution_count": 112
        }
      ]
    },
    {
      "metadata": {
        "id": "AnCZEQNF7dfL",
        "colab_type": "code",
        "colab": {
          "base_uri": "https://localhost:8080/",
          "height": 297
        },
        "outputId": "28005c0e-6d35-4147-cf28-18d9ee1b63a1"
      },
      "cell_type": "code",
      "source": [
        "# or a group of columns (note the nested [] brackets):\n",
        "small_df[['Hour', 'Temperature  [2 m above gnd]']]"
      ],
      "execution_count": 119,
      "outputs": [
        {
          "output_type": "execute_result",
          "data": {
            "text/html": [
              "<div>\n",
              "<style scoped>\n",
              "    .dataframe tbody tr th:only-of-type {\n",
              "        vertical-align: middle;\n",
              "    }\n",
              "\n",
              "    .dataframe tbody tr th {\n",
              "        vertical-align: top;\n",
              "    }\n",
              "\n",
              "    .dataframe thead th {\n",
              "        text-align: right;\n",
              "    }\n",
              "</style>\n",
              "<table border=\"1\" class=\"dataframe\">\n",
              "  <thead>\n",
              "    <tr style=\"text-align: right;\">\n",
              "      <th></th>\n",
              "      <th>Hour</th>\n",
              "      <th>Temperature  [2 m above gnd]</th>\n",
              "    </tr>\n",
              "  </thead>\n",
              "  <tbody>\n",
              "    <tr>\n",
              "      <th>3</th>\n",
              "      <td>3</td>\n",
              "      <td>6.49</td>\n",
              "    </tr>\n",
              "    <tr>\n",
              "      <th>4</th>\n",
              "      <td>4</td>\n",
              "      <td>6.25</td>\n",
              "    </tr>\n",
              "    <tr>\n",
              "      <th>5</th>\n",
              "      <td>5</td>\n",
              "      <td>6.16</td>\n",
              "    </tr>\n",
              "    <tr>\n",
              "      <th>6</th>\n",
              "      <td>6</td>\n",
              "      <td>6.00</td>\n",
              "    </tr>\n",
              "    <tr>\n",
              "      <th>7</th>\n",
              "      <td>7</td>\n",
              "      <td>5.97</td>\n",
              "    </tr>\n",
              "    <tr>\n",
              "      <th>8</th>\n",
              "      <td>8</td>\n",
              "      <td>5.94</td>\n",
              "    </tr>\n",
              "    <tr>\n",
              "      <th>9</th>\n",
              "      <td>9</td>\n",
              "      <td>6.12</td>\n",
              "    </tr>\n",
              "    <tr>\n",
              "      <th>10</th>\n",
              "      <td>10</td>\n",
              "      <td>6.40</td>\n",
              "    </tr>\n",
              "  </tbody>\n",
              "</table>\n",
              "</div>"
            ],
            "text/plain": [
              "    Hour  Temperature  [2 m above gnd]\n",
              "3      3                          6.49\n",
              "4      4                          6.25\n",
              "5      5                          6.16\n",
              "6      6                          6.00\n",
              "7      7                          5.97\n",
              "8      8                          5.94\n",
              "9      9                          6.12\n",
              "10    10                          6.40"
            ]
          },
          "metadata": {
            "tags": []
          },
          "execution_count": 119
        }
      ]
    },
    {
      "metadata": {
        "id": "jCbbh7mg3PJH",
        "colab_type": "code",
        "colab": {
          "base_uri": "https://localhost:8080/",
          "height": 170
        },
        "outputId": "add7a5a4-572a-42b5-f030-68a4d43a0765"
      },
      "cell_type": "code",
      "source": [
        "# You can even add new columns:\n",
        "small_df['T_squared'] = small_df['Temperature  [2 m above gnd]']**2\n",
        "small_df['T_squared']"
      ],
      "execution_count": 120,
      "outputs": [
        {
          "output_type": "execute_result",
          "data": {
            "text/plain": [
              "3     42.1201\n",
              "4     39.0625\n",
              "5     37.9456\n",
              "6     36.0000\n",
              "7     35.6409\n",
              "8     35.2836\n",
              "9     37.4544\n",
              "10    40.9600\n",
              "Name: T_squared, dtype: float64"
            ]
          },
          "metadata": {
            "tags": []
          },
          "execution_count": 120
        }
      ]
    },
    {
      "metadata": {
        "id": "0gnZ4IKW3PGt",
        "colab_type": "code",
        "colab": {
          "base_uri": "https://localhost:8080/",
          "height": 131
        },
        "outputId": "bd62fac6-c9df-4784-d6dc-400d9885a2d3"
      },
      "cell_type": "code",
      "source": [
        "# You can select rows with boolean indices:\n",
        "small_df[[False, True, False, False, False, False, False, False]]"
      ],
      "execution_count": 116,
      "outputs": [
        {
          "output_type": "execute_result",
          "data": {
            "text/html": [
              "<div>\n",
              "<style scoped>\n",
              "    .dataframe tbody tr th:only-of-type {\n",
              "        vertical-align: middle;\n",
              "    }\n",
              "\n",
              "    .dataframe tbody tr th {\n",
              "        vertical-align: top;\n",
              "    }\n",
              "\n",
              "    .dataframe thead th {\n",
              "        text-align: right;\n",
              "    }\n",
              "</style>\n",
              "<table border=\"1\" class=\"dataframe\">\n",
              "  <thead>\n",
              "    <tr style=\"text-align: right;\">\n",
              "      <th></th>\n",
              "      <th>Year</th>\n",
              "      <th>Month</th>\n",
              "      <th>Day</th>\n",
              "      <th>Hour</th>\n",
              "      <th>Minute</th>\n",
              "      <th>Temperature  [2 m above gnd]</th>\n",
              "      <th>Total Precipitation  [sfc]</th>\n",
              "      <th>Wind Speed  [10 m above gnd]</th>\n",
              "      <th>Wind Direction  [10 m above gnd]</th>\n",
              "      <th>T_squared</th>\n",
              "    </tr>\n",
              "  </thead>\n",
              "  <tbody>\n",
              "    <tr>\n",
              "      <th>4</th>\n",
              "      <td>2018</td>\n",
              "      <td>11</td>\n",
              "      <td>4</td>\n",
              "      <td>4</td>\n",
              "      <td>0</td>\n",
              "      <td>6.25</td>\n",
              "      <td>0.0</td>\n",
              "      <td>17.29</td>\n",
              "      <td>267.61</td>\n",
              "      <td>39.0625</td>\n",
              "    </tr>\n",
              "  </tbody>\n",
              "</table>\n",
              "</div>"
            ],
            "text/plain": [
              "   Year  Month  Day  Hour  Minute  Temperature  [2 m above gnd]  \\\n",
              "4  2018     11    4     4       0                          6.25   \n",
              "\n",
              "   Total Precipitation  [sfc]  Wind Speed  [10 m above gnd]  \\\n",
              "4                         0.0                         17.29   \n",
              "\n",
              "   Wind Direction  [10 m above gnd]  T_squared  \n",
              "4                            267.61    39.0625  "
            ]
          },
          "metadata": {
            "tags": []
          },
          "execution_count": 116
        }
      ]
    },
    {
      "metadata": {
        "id": "PJOavitd3PBd",
        "colab_type": "code",
        "colab": {
          "base_uri": "https://localhost:8080/",
          "height": 170
        },
        "outputId": "c21f3c3b-661c-44a5-cd9b-fab73f8ade10"
      },
      "cell_type": "code",
      "source": [
        "# Obviously, spelling out this list of True and False values is not very practical.\n",
        "# However one can get such list from some selection, e.g.:\n",
        "small_df['T_squared'] > 40."
      ],
      "execution_count": 117,
      "outputs": [
        {
          "output_type": "execute_result",
          "data": {
            "text/plain": [
              "3      True\n",
              "4     False\n",
              "5     False\n",
              "6     False\n",
              "7     False\n",
              "8     False\n",
              "9     False\n",
              "10     True\n",
              "Name: T_squared, dtype: bool"
            ]
          },
          "metadata": {
            "tags": []
          },
          "execution_count": 117
        }
      ]
    },
    {
      "metadata": {
        "id": "Ktjk2QDC3O5Q",
        "colab_type": "code",
        "colab": {
          "base_uri": "https://localhost:8080/",
          "height": 162
        },
        "outputId": "f2b09ca2-ddd2-4f86-9ebc-38c225cfcc5b"
      },
      "cell_type": "code",
      "source": [
        "# and hence the selection can be done like this:\n",
        "small_df[small_df['T_squared'] > 40.]"
      ],
      "execution_count": 118,
      "outputs": [
        {
          "output_type": "execute_result",
          "data": {
            "text/html": [
              "<div>\n",
              "<style scoped>\n",
              "    .dataframe tbody tr th:only-of-type {\n",
              "        vertical-align: middle;\n",
              "    }\n",
              "\n",
              "    .dataframe tbody tr th {\n",
              "        vertical-align: top;\n",
              "    }\n",
              "\n",
              "    .dataframe thead th {\n",
              "        text-align: right;\n",
              "    }\n",
              "</style>\n",
              "<table border=\"1\" class=\"dataframe\">\n",
              "  <thead>\n",
              "    <tr style=\"text-align: right;\">\n",
              "      <th></th>\n",
              "      <th>Year</th>\n",
              "      <th>Month</th>\n",
              "      <th>Day</th>\n",
              "      <th>Hour</th>\n",
              "      <th>Minute</th>\n",
              "      <th>Temperature  [2 m above gnd]</th>\n",
              "      <th>Total Precipitation  [sfc]</th>\n",
              "      <th>Wind Speed  [10 m above gnd]</th>\n",
              "      <th>Wind Direction  [10 m above gnd]</th>\n",
              "      <th>T_squared</th>\n",
              "    </tr>\n",
              "  </thead>\n",
              "  <tbody>\n",
              "    <tr>\n",
              "      <th>3</th>\n",
              "      <td>2018</td>\n",
              "      <td>11</td>\n",
              "      <td>4</td>\n",
              "      <td>3</td>\n",
              "      <td>0</td>\n",
              "      <td>6.49</td>\n",
              "      <td>0.0</td>\n",
              "      <td>16.10</td>\n",
              "      <td>259.70</td>\n",
              "      <td>42.1201</td>\n",
              "    </tr>\n",
              "    <tr>\n",
              "      <th>10</th>\n",
              "      <td>2018</td>\n",
              "      <td>11</td>\n",
              "      <td>4</td>\n",
              "      <td>10</td>\n",
              "      <td>0</td>\n",
              "      <td>6.40</td>\n",
              "      <td>0.0</td>\n",
              "      <td>20.52</td>\n",
              "      <td>285.26</td>\n",
              "      <td>40.9600</td>\n",
              "    </tr>\n",
              "  </tbody>\n",
              "</table>\n",
              "</div>"
            ],
            "text/plain": [
              "    Year  Month  Day  Hour  Minute  Temperature  [2 m above gnd]  \\\n",
              "3   2018     11    4     3       0                          6.49   \n",
              "10  2018     11    4    10       0                          6.40   \n",
              "\n",
              "    Total Precipitation  [sfc]  Wind Speed  [10 m above gnd]  \\\n",
              "3                          0.0                         16.10   \n",
              "10                         0.0                         20.52   \n",
              "\n",
              "    Wind Direction  [10 m above gnd]  T_squared  \n",
              "3                             259.70    42.1201  \n",
              "10                            285.26    40.9600  "
            ]
          },
          "metadata": {
            "tags": []
          },
          "execution_count": 118
        }
      ]
    },
    {
      "metadata": {
        "id": "B6PjnUzm29yA",
        "colab_type": "code",
        "colab": {}
      },
      "cell_type": "code",
      "source": [
        ""
      ],
      "execution_count": 0,
      "outputs": []
    },
    {
      "metadata": {
        "id": "yV5JkZlJlMTo",
        "colab_type": "text"
      },
      "cell_type": "markdown",
      "source": [
        "# Additional materials"
      ]
    },
    {
      "metadata": {
        "id": "u2_0yRIJa1kz",
        "colab_type": "text"
      },
      "cell_type": "markdown",
      "source": [
        "# SciPy - scientific algorithms for Python\n",
        "\n",
        "The SciPy framework builds on top of the low-level NumPy framework for multidimensional arrays, and provides a large number of higher-level scientific algorithms. Some of the topics that SciPy covers are:\n",
        "\n",
        "* Special functions (scipy.special)\n",
        "* Integration (scipy.integrate)\n",
        "* Optimization (scipy.optimize)\n",
        "* Interpolation (scipy.interpolate)\n",
        "* Fourier Transforms (scipy.fftpack)\n",
        "* Signal Processing (scipy.signal)\n",
        "* Linear Algebra (scipy.linalg)\n",
        "* Sparse Eigenvalue Problems (scipy.sparse)\n",
        "* Statistics (scipy.stats)\n",
        "* Multi-dimensional image processing (scipy.ndimage)\n",
        "* File IO (scipy.io)\n",
        "\n",
        "Each of these submodules provides a number of functions and classes that can be used to solve problems in their respective topics.\n",
        "\n",
        "In this lecture we will look at how to use some of these subpackages.\n",
        "\n",
        "To access the SciPy package in a Python program, we start by importing the scipy module."
      ]
    },
    {
      "metadata": {
        "id": "mVmK67jocl5V",
        "colab_type": "code",
        "colab": {}
      },
      "cell_type": "code",
      "source": [
        "import scipy"
      ],
      "execution_count": 0,
      "outputs": []
    },
    {
      "metadata": {
        "id": "9LlhdAK1couM",
        "colab_type": "text"
      },
      "cell_type": "markdown",
      "source": [
        "If we only need to use part of the SciPy framework we can selectively include only those modules we are interested in. For example, to include the linear algebra package under the name la, we can do:"
      ]
    },
    {
      "metadata": {
        "id": "lNmW9cuPdjUc",
        "colab_type": "code",
        "colab": {}
      },
      "cell_type": "code",
      "source": [
        "import scipy.linalg as la"
      ],
      "execution_count": 0,
      "outputs": []
    },
    {
      "metadata": {
        "id": "SHSOdPGNd2fp",
        "colab_type": "text"
      },
      "cell_type": "markdown",
      "source": [
        "Note: there is  no performance difference between the two approaches of importing modules. The choice between one or the other then, should be based on coding style instead."
      ]
    },
    {
      "metadata": {
        "id": "lcK5eAjBedmi",
        "colab_type": "text"
      },
      "cell_type": "markdown",
      "source": [
        "## Linear algebra\n",
        "\n",
        "The linear algebra module contains a lot of matrix related functions, including linear equation solving, eigenvalue solvers, matrix functions (for example matrix-exponentiation), a number of different decompositions (SVD, LU, cholesky), etc.\n",
        "\n",
        "Detailed documetation is available at: [http://docs.scipy.org/doc/scipy/reference/linalg.html](http://docs.scipy.org/doc/scipy/reference/linalg.html)\n",
        "\n",
        "Here we will look at how to use some of these functions:"
      ]
    },
    {
      "metadata": {
        "id": "alnlfeLbew-Z",
        "colab_type": "text"
      },
      "cell_type": "markdown",
      "source": [
        "## Linear equation systems\n",
        "\n",
        "Linear equation systems on the matrix form\n",
        "\n",
        "$A x = b$\n",
        "\n",
        "where $A$ is a matrix and $x,b$ are vectors can be solved like:\n"
      ]
    },
    {
      "metadata": {
        "id": "xsqi2-XFe7yv",
        "colab_type": "code",
        "outputId": "b822feca-f04b-498d-b0a3-62e47282e431",
        "colab": {
          "base_uri": "https://localhost:8080/",
          "height": 34
        }
      },
      "cell_type": "code",
      "source": [
        "A = np.array([[3, 2, 0], [1, -1, 0], [0, 5, 1]])\n",
        "b = np.array([2, 4, -1])\n",
        "\n",
        "from scipy import linalg\n",
        "x = linalg.solve(A, b)\n",
        "\n",
        "x"
      ],
      "execution_count": 37,
      "outputs": [
        {
          "output_type": "execute_result",
          "data": {
            "text/plain": [
              "array([ 2., -2.,  9.])"
            ]
          },
          "metadata": {
            "tags": []
          },
          "execution_count": 37
        }
      ]
    },
    {
      "metadata": {
        "id": "imm91UjagmgX",
        "colab_type": "code",
        "colab": {}
      },
      "cell_type": "code",
      "source": [
        "# check\n",
        "dot(A, x) - b"
      ],
      "execution_count": 0,
      "outputs": []
    },
    {
      "metadata": {
        "id": "-6wBO0sXguiR",
        "colab_type": "text"
      },
      "cell_type": "markdown",
      "source": [
        "We can also do the same with\n",
        "\n",
        "$A X = B$\n",
        "\n",
        "where $A, B, X$ are matrices:\n"
      ]
    },
    {
      "metadata": {
        "id": "W-Xz8DE6gwIG",
        "colab_type": "code",
        "outputId": "cea8c506-f5d6-4c90-99f9-7869d1cd032a",
        "colab": {
          "base_uri": "https://localhost:8080/",
          "height": 68
        }
      },
      "cell_type": "code",
      "source": [
        "A = scipy.rand(3,3)\n",
        "B = scipy.rand(3,3)\n",
        "\n",
        "X = linalg.solve(A, B)\n",
        "\n",
        "X"
      ],
      "execution_count": 39,
      "outputs": [
        {
          "output_type": "execute_result",
          "data": {
            "text/plain": [
              "array([[ 1.16873326e+00,  7.17951462e-01,  9.61427451e-01],\n",
              "       [ 5.30024666e-03,  1.23844125e+00,  1.06726557e-01],\n",
              "       [-1.39727856e+00, -6.53317970e+00, -2.65651400e+00]])"
            ]
          },
          "metadata": {
            "tags": []
          },
          "execution_count": 39
        }
      ]
    },
    {
      "metadata": {
        "id": "0PdRvqphgzWE",
        "colab_type": "text"
      },
      "cell_type": "markdown",
      "source": [
        "## Statistics\n",
        "\n",
        "The scipy.stats module contains a large number of statistical distributions, statistical functions and tests. For a complete documentation of its features, see [http://docs.scipy.org/doc/scipy/reference/stats.html](http://docs.scipy.org/doc/scipy/reference/stats.html)."
      ]
    },
    {
      "metadata": {
        "id": "lloiRTM0hr6k",
        "colab_type": "code",
        "outputId": "18f3e95f-1495-4740-9bce-50556e6cf307",
        "colab": {
          "base_uri": "https://localhost:8080/",
          "height": 265
        }
      },
      "cell_type": "code",
      "source": [
        "from scipy import stats\n",
        "\n",
        "# create a (discreet) random variable with poissionian distribution\n",
        "X = stats.poisson(3.5) # photon distribution for a coherent state with n=3.5 photons\n",
        "\n",
        "n = np.arange(0,15)\n",
        "\n",
        "fig, axes = plt.subplots(3,1, sharex=True)\n",
        "\n",
        "# plot the probability mass function (PMF)\n",
        "axes[0].step(n, X.pmf(n))\n",
        "\n",
        "# plot the commulative distribution function (CDF)\n",
        "axes[1].step(n, X.cdf(n))\n",
        "\n",
        "# plot histogram of 1000 random realizations of the stochastic variable X\n",
        "axes[2].hist(X.rvs(size=1000));"
      ],
      "execution_count": 40,
      "outputs": [
        {
          "output_type": "display_data",
          "data": {
            "image/png": "[encoded data removed]",
            "text/plain": [
              "<matplotlib.figure.Figure at 0x7f1553983438>"
            ]
          },
          "metadata": {
            "tags": []
          }
        }
      ]
    },
    {
      "metadata": {
        "colab_type": "text",
        "id": "3XBtC6s-lyTG"
      },
      "cell_type": "markdown",
      "source": [
        "## Statistical tests\n",
        "Test if two sets of (independent) random data comes from the same distribution:"
      ]
    },
    {
      "metadata": {
        "colab_type": "code",
        "outputId": "3d03719c-a3e1-4a14-b05d-28410910d57a",
        "id": "fwodhtP9lyTO",
        "colab": {
          "base_uri": "https://localhost:8080/",
          "height": 51
        }
      },
      "cell_type": "code",
      "source": [
        "t_statistic, p_value = stats.ttest_ind(X.rvs(size=1000), X.rvs(size=1000))\n",
        "\n",
        "print(\"t-statistic =\", t_statistic)\n",
        "print(\"p-value =\", p_value)"
      ],
      "execution_count": 41,
      "outputs": [
        {
          "output_type": "stream",
          "text": [
            "t-statistic = -1.8242625219734867\n",
            "p-value = 0.06826168283706106\n"
          ],
          "name": "stdout"
        }
      ]
    },
    {
      "metadata": {
        "colab_type": "text",
        "id": "-eFWzGGDlyTl"
      },
      "cell_type": "markdown",
      "source": [
        "Since the p value is very large we cannot reject the hypothesis that the two sets of random data have different means.\n",
        "\n",
        "To test if the mean of a single sample of data has mean 0.1 (the true mean is 3.5):\n"
      ]
    },
    {
      "metadata": {
        "colab_type": "code",
        "outputId": "2d374bc9-b890-43bc-fec5-4e0ac92d183c",
        "id": "ABWGxEdolyTq",
        "colab": {
          "base_uri": "https://localhost:8080/",
          "height": 34
        }
      },
      "cell_type": "code",
      "source": [
        "stats.ttest_1samp(X.rvs(size=1000), 0.1)"
      ],
      "execution_count": 42,
      "outputs": [
        {
          "output_type": "execute_result",
          "data": {
            "text/plain": [
              "Ttest_1sampResult(statistic=56.51227857703516, pvalue=2.0490612731e-313)"
            ]
          },
          "metadata": {
            "tags": []
          },
          "execution_count": 42
        }
      ]
    },
    {
      "metadata": {
        "id": "hf6ULZnJ8M5k",
        "colab_type": "text"
      },
      "cell_type": "markdown",
      "source": [
        "# More on Pandas"
      ]
    },
    {
      "metadata": {
        "id": "zahEHAnSpYik",
        "colab_type": "text"
      },
      "cell_type": "markdown",
      "source": [
        "## Object Creation\n",
        "\n",
        "Creating a Series by passing a list of values, letting pandas create a default integer index:"
      ]
    },
    {
      "metadata": {
        "id": "0p5CQoMipZzN",
        "colab_type": "code",
        "outputId": "e827f683-4349-49bf-deb7-d0bdec83c5be",
        "colab": {
          "base_uri": "https://localhost:8080/",
          "height": 136
        }
      },
      "cell_type": "code",
      "source": [
        "s = pd.Series([1,3,5,np.nan,6,8])\n",
        "s"
      ],
      "execution_count": 27,
      "outputs": [
        {
          "output_type": "execute_result",
          "data": {
            "text/plain": [
              "0    1.0\n",
              "1    3.0\n",
              "2    5.0\n",
              "3    NaN\n",
              "4    6.0\n",
              "5    8.0\n",
              "dtype: float64"
            ]
          },
          "metadata": {
            "tags": []
          },
          "execution_count": 27
        }
      ]
    },
    {
      "metadata": {
        "id": "II51wDJ3pnNB",
        "colab_type": "text"
      },
      "cell_type": "markdown",
      "source": [
        "Creating a DataFrame by passing a NumPy array, with a datetime index and labeled columns:"
      ]
    },
    {
      "metadata": {
        "id": "v2bqizH3pn71",
        "colab_type": "code",
        "outputId": "a2bf6b78-205e-4a11-db5c-e56a0b0f2436",
        "colab": {
          "base_uri": "https://localhost:8080/",
          "height": 68
        }
      },
      "cell_type": "code",
      "source": [
        "dates = pd.date_range('20130101', periods=6)\n",
        "dates"
      ],
      "execution_count": 28,
      "outputs": [
        {
          "output_type": "execute_result",
          "data": {
            "text/plain": [
              "DatetimeIndex(['2013-01-01', '2013-01-02', '2013-01-03', '2013-01-04',\n",
              "               '2013-01-05', '2013-01-06'],\n",
              "              dtype='datetime64[ns]', freq='D')"
            ]
          },
          "metadata": {
            "tags": []
          },
          "execution_count": 28
        }
      ]
    },
    {
      "metadata": {
        "id": "DnBPgYIpp1bC",
        "colab_type": "code",
        "outputId": "11dbb819-cb83-40e1-ed8c-9d080ad94c4a",
        "colab": {
          "base_uri": "https://localhost:8080/",
          "height": 235
        }
      },
      "cell_type": "code",
      "source": [
        "df = pd.DataFrame(np.random.randn(6,4), index=dates, columns=list('ABCD'))\n",
        "\n",
        "df"
      ],
      "execution_count": 29,
      "outputs": [
        {
          "output_type": "execute_result",
          "data": {
            "text/html": [
              "<div>\n",
              "<style scoped>\n",
              "    .dataframe tbody tr th:only-of-type {\n",
              "        vertical-align: middle;\n",
              "    }\n",
              "\n",
              "    .dataframe tbody tr th {\n",
              "        vertical-align: top;\n",
              "    }\n",
              "\n",
              "    .dataframe thead th {\n",
              "        text-align: right;\n",
              "    }\n",
              "</style>\n",
              "<table border=\"1\" class=\"dataframe\">\n",
              "  <thead>\n",
              "    <tr style=\"text-align: right;\">\n",
              "      <th></th>\n",
              "      <th>A</th>\n",
              "      <th>B</th>\n",
              "      <th>C</th>\n",
              "      <th>D</th>\n",
              "    </tr>\n",
              "  </thead>\n",
              "  <tbody>\n",
              "    <tr>\n",
              "      <th>2013-01-01</th>\n",
              "      <td>-1.359722</td>\n",
              "      <td>-0.515774</td>\n",
              "      <td>1.396831</td>\n",
              "      <td>-0.064067</td>\n",
              "    </tr>\n",
              "    <tr>\n",
              "      <th>2013-01-02</th>\n",
              "      <td>1.215245</td>\n",
              "      <td>0.202695</td>\n",
              "      <td>-1.089379</td>\n",
              "      <td>0.307725</td>\n",
              "    </tr>\n",
              "    <tr>\n",
              "      <th>2013-01-03</th>\n",
              "      <td>0.489987</td>\n",
              "      <td>-0.385811</td>\n",
              "      <td>-0.764385</td>\n",
              "      <td>-2.183181</td>\n",
              "    </tr>\n",
              "    <tr>\n",
              "      <th>2013-01-04</th>\n",
              "      <td>0.680014</td>\n",
              "      <td>0.298680</td>\n",
              "      <td>-1.469834</td>\n",
              "      <td>-1.835706</td>\n",
              "    </tr>\n",
              "    <tr>\n",
              "      <th>2013-01-05</th>\n",
              "      <td>0.856720</td>\n",
              "      <td>0.281778</td>\n",
              "      <td>0.175882</td>\n",
              "      <td>1.163814</td>\n",
              "    </tr>\n",
              "    <tr>\n",
              "      <th>2013-01-06</th>\n",
              "      <td>-0.136092</td>\n",
              "      <td>-0.416611</td>\n",
              "      <td>2.446754</td>\n",
              "      <td>1.668228</td>\n",
              "    </tr>\n",
              "  </tbody>\n",
              "</table>\n",
              "</div>"
            ],
            "text/plain": [
              "                   A         B         C         D\n",
              "2013-01-01 -1.359722 -0.515774  1.396831 -0.064067\n",
              "2013-01-02  1.215245  0.202695 -1.089379  0.307725\n",
              "2013-01-03  0.489987 -0.385811 -0.764385 -2.183181\n",
              "2013-01-04  0.680014  0.298680 -1.469834 -1.835706\n",
              "2013-01-05  0.856720  0.281778  0.175882  1.163814\n",
              "2013-01-06 -0.136092 -0.416611  2.446754  1.668228"
            ]
          },
          "metadata": {
            "tags": []
          },
          "execution_count": 29
        }
      ]
    },
    {
      "metadata": {
        "id": "nWm1bmBTp8hK",
        "colab_type": "text"
      },
      "cell_type": "markdown",
      "source": [
        "Creating a DataFrame by passing a dict of objects that can be converted to series-like."
      ]
    },
    {
      "metadata": {
        "id": "j7Fupl80p9V8",
        "colab_type": "code",
        "outputId": "8f02d1ad-8f02-4e66-ad45-3eba09b853d1",
        "colab": {
          "base_uri": "https://localhost:8080/",
          "height": 173
        }
      },
      "cell_type": "code",
      "source": [
        "df2 = pd.DataFrame({ 'A' : 1.,\n",
        "\t'B' : pd.Timestamp('20130102'),\n",
        "\t'C' : pd.Series(1,index=list(range(4)),dtype='float32'),\n",
        "\t'D' : np.array([3] * 4,dtype='int32'),\n",
        "\t'E' : pd.Categorical([\"test\",\"train\",\"test\",\"train\"]),\n",
        "\t'F' : 'foo' })\n",
        "\n",
        "df2"
      ],
      "execution_count": 121,
      "outputs": [
        {
          "output_type": "execute_result",
          "data": {
            "text/html": [
              "<div>\n",
              "<style scoped>\n",
              "    .dataframe tbody tr th:only-of-type {\n",
              "        vertical-align: middle;\n",
              "    }\n",
              "\n",
              "    .dataframe tbody tr th {\n",
              "        vertical-align: top;\n",
              "    }\n",
              "\n",
              "    .dataframe thead th {\n",
              "        text-align: right;\n",
              "    }\n",
              "</style>\n",
              "<table border=\"1\" class=\"dataframe\">\n",
              "  <thead>\n",
              "    <tr style=\"text-align: right;\">\n",
              "      <th></th>\n",
              "      <th>A</th>\n",
              "      <th>B</th>\n",
              "      <th>C</th>\n",
              "      <th>D</th>\n",
              "      <th>E</th>\n",
              "      <th>F</th>\n",
              "    </tr>\n",
              "  </thead>\n",
              "  <tbody>\n",
              "    <tr>\n",
              "      <th>0</th>\n",
              "      <td>1.0</td>\n",
              "      <td>2013-01-02</td>\n",
              "      <td>1.0</td>\n",
              "      <td>3</td>\n",
              "      <td>test</td>\n",
              "      <td>foo</td>\n",
              "    </tr>\n",
              "    <tr>\n",
              "      <th>1</th>\n",
              "      <td>1.0</td>\n",
              "      <td>2013-01-02</td>\n",
              "      <td>1.0</td>\n",
              "      <td>3</td>\n",
              "      <td>train</td>\n",
              "      <td>foo</td>\n",
              "    </tr>\n",
              "    <tr>\n",
              "      <th>2</th>\n",
              "      <td>1.0</td>\n",
              "      <td>2013-01-02</td>\n",
              "      <td>1.0</td>\n",
              "      <td>3</td>\n",
              "      <td>test</td>\n",
              "      <td>foo</td>\n",
              "    </tr>\n",
              "    <tr>\n",
              "      <th>3</th>\n",
              "      <td>1.0</td>\n",
              "      <td>2013-01-02</td>\n",
              "      <td>1.0</td>\n",
              "      <td>3</td>\n",
              "      <td>train</td>\n",
              "      <td>foo</td>\n",
              "    </tr>\n",
              "  </tbody>\n",
              "</table>\n",
              "</div>"
            ],
            "text/plain": [
              "     A          B    C  D      E    F\n",
              "0  1.0 2013-01-02  1.0  3   test  foo\n",
              "1  1.0 2013-01-02  1.0  3  train  foo\n",
              "2  1.0 2013-01-02  1.0  3   test  foo\n",
              "3  1.0 2013-01-02  1.0  3  train  foo"
            ]
          },
          "metadata": {
            "tags": []
          },
          "execution_count": 121
        }
      ]
    },
    {
      "metadata": {
        "id": "glFF1KxrqOP1",
        "colab_type": "text"
      },
      "cell_type": "markdown",
      "source": [
        "The columns of the resulting DataFrame have different dtypes."
      ]
    },
    {
      "metadata": {
        "id": "WFtHZpZpqR6C",
        "colab_type": "code",
        "outputId": "2a206538-8420-4a4b-b862-ec572368f584",
        "colab": {
          "base_uri": "https://localhost:8080/",
          "height": 136
        }
      },
      "cell_type": "code",
      "source": [
        "df2.dtypes"
      ],
      "execution_count": 122,
      "outputs": [
        {
          "output_type": "execute_result",
          "data": {
            "text/plain": [
              "A           float64\n",
              "B    datetime64[ns]\n",
              "C           float32\n",
              "D             int32\n",
              "E          category\n",
              "F            object\n",
              "dtype: object"
            ]
          },
          "metadata": {
            "tags": []
          },
          "execution_count": 122
        }
      ]
    },
    {
      "metadata": {
        "id": "hYMt-5zeqXUQ",
        "colab_type": "text"
      },
      "cell_type": "markdown",
      "source": [
        "If you’re using IPython, tab completion for column names (as well as public attributes) is automatically enabled. Here’s a subset of the attributes that will be completed:"
      ]
    },
    {
      "metadata": {
        "id": "93O4j3E1qfUI",
        "colab_type": "code",
        "colab": {}
      },
      "cell_type": "code",
      "source": [
        "df2.<TAB>"
      ],
      "execution_count": 0,
      "outputs": []
    },
    {
      "metadata": {
        "id": "Gf1oWf5Wqqth",
        "colab_type": "text"
      },
      "cell_type": "markdown",
      "source": [
        "As you can see, the columns A, B, C, and D are automatically tab completed. E is there as well; the rest of the attributes have been truncated for brevity."
      ]
    },
    {
      "metadata": {
        "id": "fzn6Gm8gqw85",
        "colab_type": "text"
      },
      "cell_type": "markdown",
      "source": [
        "## Viewing Data\n",
        "\n",
        "Here is how to view the top and bottom rows of the frame:"
      ]
    },
    {
      "metadata": {
        "id": "9eHlyw-zq1Ob",
        "colab_type": "code",
        "outputId": "cf70670a-cd17-4ac5-d7e4-ce43d3b4d33b",
        "colab": {
          "base_uri": "https://localhost:8080/",
          "height": 238
        }
      },
      "cell_type": "code",
      "source": [
        "df.head()"
      ],
      "execution_count": 123,
      "outputs": [
        {
          "output_type": "execute_result",
          "data": {
            "text/html": [
              "<div>\n",
              "<style scoped>\n",
              "    .dataframe tbody tr th:only-of-type {\n",
              "        vertical-align: middle;\n",
              "    }\n",
              "\n",
              "    .dataframe tbody tr th {\n",
              "        vertical-align: top;\n",
              "    }\n",
              "\n",
              "    .dataframe thead th {\n",
              "        text-align: right;\n",
              "    }\n",
              "</style>\n",
              "<table border=\"1\" class=\"dataframe\">\n",
              "  <thead>\n",
              "    <tr style=\"text-align: right;\">\n",
              "      <th></th>\n",
              "      <th>Year</th>\n",
              "      <th>Month</th>\n",
              "      <th>Day</th>\n",
              "      <th>Hour</th>\n",
              "      <th>Minute</th>\n",
              "      <th>Temperature  [2 m above gnd]</th>\n",
              "      <th>Total Precipitation  [sfc]</th>\n",
              "      <th>Wind Speed  [10 m above gnd]</th>\n",
              "      <th>Wind Direction  [10 m above gnd]</th>\n",
              "    </tr>\n",
              "  </thead>\n",
              "  <tbody>\n",
              "    <tr>\n",
              "      <th>0</th>\n",
              "      <td>2018</td>\n",
              "      <td>11</td>\n",
              "      <td>4</td>\n",
              "      <td>0</td>\n",
              "      <td>0</td>\n",
              "      <td>7.03</td>\n",
              "      <td>0.6</td>\n",
              "      <td>14.76</td>\n",
              "      <td>257.32</td>\n",
              "    </tr>\n",
              "    <tr>\n",
              "      <th>1</th>\n",
              "      <td>2018</td>\n",
              "      <td>11</td>\n",
              "      <td>4</td>\n",
              "      <td>1</td>\n",
              "      <td>0</td>\n",
              "      <td>7.05</td>\n",
              "      <td>0.2</td>\n",
              "      <td>14.49</td>\n",
              "      <td>255.62</td>\n",
              "    </tr>\n",
              "    <tr>\n",
              "      <th>2</th>\n",
              "      <td>2018</td>\n",
              "      <td>11</td>\n",
              "      <td>4</td>\n",
              "      <td>2</td>\n",
              "      <td>0</td>\n",
              "      <td>7.04</td>\n",
              "      <td>0.0</td>\n",
              "      <td>14.35</td>\n",
              "      <td>252.47</td>\n",
              "    </tr>\n",
              "    <tr>\n",
              "      <th>3</th>\n",
              "      <td>2018</td>\n",
              "      <td>11</td>\n",
              "      <td>4</td>\n",
              "      <td>3</td>\n",
              "      <td>0</td>\n",
              "      <td>6.49</td>\n",
              "      <td>0.0</td>\n",
              "      <td>16.10</td>\n",
              "      <td>259.70</td>\n",
              "    </tr>\n",
              "    <tr>\n",
              "      <th>4</th>\n",
              "      <td>2018</td>\n",
              "      <td>11</td>\n",
              "      <td>4</td>\n",
              "      <td>4</td>\n",
              "      <td>0</td>\n",
              "      <td>6.25</td>\n",
              "      <td>0.0</td>\n",
              "      <td>17.29</td>\n",
              "      <td>267.61</td>\n",
              "    </tr>\n",
              "  </tbody>\n",
              "</table>\n",
              "</div>"
            ],
            "text/plain": [
              "   Year  Month  Day  Hour  Minute  Temperature  [2 m above gnd]  \\\n",
              "0  2018     11    4     0       0                          7.03   \n",
              "1  2018     11    4     1       0                          7.05   \n",
              "2  2018     11    4     2       0                          7.04   \n",
              "3  2018     11    4     3       0                          6.49   \n",
              "4  2018     11    4     4       0                          6.25   \n",
              "\n",
              "   Total Precipitation  [sfc]  Wind Speed  [10 m above gnd]  \\\n",
              "0                         0.6                         14.76   \n",
              "1                         0.2                         14.49   \n",
              "2                         0.0                         14.35   \n",
              "3                         0.0                         16.10   \n",
              "4                         0.0                         17.29   \n",
              "\n",
              "   Wind Direction  [10 m above gnd]  \n",
              "0                            257.32  \n",
              "1                            255.62  \n",
              "2                            252.47  \n",
              "3                            259.70  \n",
              "4                            267.61  "
            ]
          },
          "metadata": {
            "tags": []
          },
          "execution_count": 123
        }
      ]
    },
    {
      "metadata": {
        "id": "Ijqg2_z0q899",
        "colab_type": "code",
        "outputId": "cb9b6e70-f8fa-4200-c500-ae59e7b02d8b",
        "colab": {
          "base_uri": "https://localhost:8080/",
          "height": 176
        }
      },
      "cell_type": "code",
      "source": [
        "df.tail(3)"
      ],
      "execution_count": 124,
      "outputs": [
        {
          "output_type": "execute_result",
          "data": {
            "text/html": [
              "<div>\n",
              "<style scoped>\n",
              "    .dataframe tbody tr th:only-of-type {\n",
              "        vertical-align: middle;\n",
              "    }\n",
              "\n",
              "    .dataframe tbody tr th {\n",
              "        vertical-align: top;\n",
              "    }\n",
              "\n",
              "    .dataframe thead th {\n",
              "        text-align: right;\n",
              "    }\n",
              "</style>\n",
              "<table border=\"1\" class=\"dataframe\">\n",
              "  <thead>\n",
              "    <tr style=\"text-align: right;\">\n",
              "      <th></th>\n",
              "      <th>Year</th>\n",
              "      <th>Month</th>\n",
              "      <th>Day</th>\n",
              "      <th>Hour</th>\n",
              "      <th>Minute</th>\n",
              "      <th>Temperature  [2 m above gnd]</th>\n",
              "      <th>Total Precipitation  [sfc]</th>\n",
              "      <th>Wind Speed  [10 m above gnd]</th>\n",
              "      <th>Wind Direction  [10 m above gnd]</th>\n",
              "    </tr>\n",
              "  </thead>\n",
              "  <tbody>\n",
              "    <tr>\n",
              "      <th>189</th>\n",
              "      <td>2018</td>\n",
              "      <td>11</td>\n",
              "      <td>11</td>\n",
              "      <td>21</td>\n",
              "      <td>0</td>\n",
              "      <td>-3.60</td>\n",
              "      <td>0.0</td>\n",
              "      <td>21.61</td>\n",
              "      <td>119.98</td>\n",
              "    </tr>\n",
              "    <tr>\n",
              "      <th>190</th>\n",
              "      <td>2018</td>\n",
              "      <td>11</td>\n",
              "      <td>11</td>\n",
              "      <td>22</td>\n",
              "      <td>0</td>\n",
              "      <td>-3.85</td>\n",
              "      <td>0.0</td>\n",
              "      <td>21.87</td>\n",
              "      <td>122.91</td>\n",
              "    </tr>\n",
              "    <tr>\n",
              "      <th>191</th>\n",
              "      <td>2018</td>\n",
              "      <td>11</td>\n",
              "      <td>11</td>\n",
              "      <td>23</td>\n",
              "      <td>0</td>\n",
              "      <td>-4.04</td>\n",
              "      <td>0.0</td>\n",
              "      <td>21.68</td>\n",
              "      <td>125.54</td>\n",
              "    </tr>\n",
              "  </tbody>\n",
              "</table>\n",
              "</div>"
            ],
            "text/plain": [
              "     Year  Month  Day  Hour  Minute  Temperature  [2 m above gnd]  \\\n",
              "189  2018     11   11    21       0                         -3.60   \n",
              "190  2018     11   11    22       0                         -3.85   \n",
              "191  2018     11   11    23       0                         -4.04   \n",
              "\n",
              "     Total Precipitation  [sfc]  Wind Speed  [10 m above gnd]  \\\n",
              "189                         0.0                         21.61   \n",
              "190                         0.0                         21.87   \n",
              "191                         0.0                         21.68   \n",
              "\n",
              "     Wind Direction  [10 m above gnd]  \n",
              "189                            119.98  \n",
              "190                            122.91  \n",
              "191                            125.54  "
            ]
          },
          "metadata": {
            "tags": []
          },
          "execution_count": 124
        }
      ]
    },
    {
      "metadata": {
        "id": "Vi6hwMllrD1g",
        "colab_type": "text"
      },
      "cell_type": "markdown",
      "source": [
        "Display the index, columns, and the underlying NumPy data:"
      ]
    },
    {
      "metadata": {
        "id": "WoLsYXrUq_6B",
        "colab_type": "code",
        "outputId": "3acce243-c1a6-4074-c5cc-2fac0de32c65",
        "colab": {
          "base_uri": "https://localhost:8080/",
          "height": 34
        }
      },
      "cell_type": "code",
      "source": [
        "df.index"
      ],
      "execution_count": 125,
      "outputs": [
        {
          "output_type": "execute_result",
          "data": {
            "text/plain": [
              "RangeIndex(start=0, stop=192, step=1)"
            ]
          },
          "metadata": {
            "tags": []
          },
          "execution_count": 125
        }
      ]
    },
    {
      "metadata": {
        "id": "bSBPYpF-rN02",
        "colab_type": "code",
        "outputId": "e2a1ad13-e3df-4097-ba33-bca52851940c",
        "colab": {
          "base_uri": "https://localhost:8080/",
          "height": 85
        }
      },
      "cell_type": "code",
      "source": [
        "df.columns"
      ],
      "execution_count": 126,
      "outputs": [
        {
          "output_type": "execute_result",
          "data": {
            "text/plain": [
              "Index(['Year', 'Month', 'Day', 'Hour', 'Minute',\n",
              "       'Temperature  [2 m above gnd]', 'Total Precipitation  [sfc]',\n",
              "       'Wind Speed  [10 m above gnd]', 'Wind Direction  [10 m above gnd]'],\n",
              "      dtype='object')"
            ]
          },
          "metadata": {
            "tags": []
          },
          "execution_count": 126
        }
      ]
    },
    {
      "metadata": {
        "id": "g0Rd45yCrIJT",
        "colab_type": "code",
        "outputId": "2e4d8e62-d7e5-4e42-e1ac-4bd1450715d9",
        "colab": {
          "base_uri": "https://localhost:8080/",
          "height": 238
        }
      },
      "cell_type": "code",
      "source": [
        "df.values"
      ],
      "execution_count": 127,
      "outputs": [
        {
          "output_type": "execute_result",
          "data": {
            "text/plain": [
              "array([[2.0180e+03, 1.1000e+01, 4.0000e+00, ..., 6.0000e-01, 1.4760e+01,\n",
              "        2.5732e+02],\n",
              "       [2.0180e+03, 1.1000e+01, 4.0000e+00, ..., 2.0000e-01, 1.4490e+01,\n",
              "        2.5562e+02],\n",
              "       [2.0180e+03, 1.1000e+01, 4.0000e+00, ..., 0.0000e+00, 1.4350e+01,\n",
              "        2.5247e+02],\n",
              "       ...,\n",
              "       [2.0180e+03, 1.1000e+01, 1.1000e+01, ..., 0.0000e+00, 2.1610e+01,\n",
              "        1.1998e+02],\n",
              "       [2.0180e+03, 1.1000e+01, 1.1000e+01, ..., 0.0000e+00, 2.1870e+01,\n",
              "        1.2291e+02],\n",
              "       [2.0180e+03, 1.1000e+01, 1.1000e+01, ..., 0.0000e+00, 2.1680e+01,\n",
              "        1.2554e+02]])"
            ]
          },
          "metadata": {
            "tags": []
          },
          "execution_count": 127
        }
      ]
    },
    {
      "metadata": {
        "id": "ah89js-vrVRe",
        "colab_type": "text"
      },
      "cell_type": "markdown",
      "source": [
        "describe() shows a quick statistic summary of your data:"
      ]
    },
    {
      "metadata": {
        "id": "hZG0ZsljrWOB",
        "colab_type": "code",
        "outputId": "8008f662-d060-481c-ac57-1ee941d0719b",
        "colab": {
          "base_uri": "https://localhost:8080/",
          "height": 365
        }
      },
      "cell_type": "code",
      "source": [
        "df.describe()"
      ],
      "execution_count": 128,
      "outputs": [
        {
          "output_type": "execute_result",
          "data": {
            "text/html": [
              "<div>\n",
              "<style scoped>\n",
              "    .dataframe tbody tr th:only-of-type {\n",
              "        vertical-align: middle;\n",
              "    }\n",
              "\n",
              "    .dataframe tbody tr th {\n",
              "        vertical-align: top;\n",
              "    }\n",
              "\n",
              "    .dataframe thead th {\n",
              "        text-align: right;\n",
              "    }\n",
              "</style>\n",
              "<table border=\"1\" class=\"dataframe\">\n",
              "  <thead>\n",
              "    <tr style=\"text-align: right;\">\n",
              "      <th></th>\n",
              "      <th>Year</th>\n",
              "      <th>Month</th>\n",
              "      <th>Day</th>\n",
              "      <th>Hour</th>\n",
              "      <th>Minute</th>\n",
              "      <th>Temperature  [2 m above gnd]</th>\n",
              "      <th>Total Precipitation  [sfc]</th>\n",
              "      <th>Wind Speed  [10 m above gnd]</th>\n",
              "      <th>Wind Direction  [10 m above gnd]</th>\n",
              "    </tr>\n",
              "  </thead>\n",
              "  <tbody>\n",
              "    <tr>\n",
              "      <th>count</th>\n",
              "      <td>192.0</td>\n",
              "      <td>192.0</td>\n",
              "      <td>192.000000</td>\n",
              "      <td>192.000000</td>\n",
              "      <td>192.0</td>\n",
              "      <td>192.000000</td>\n",
              "      <td>192.000000</td>\n",
              "      <td>192.000000</td>\n",
              "      <td>192.000000</td>\n",
              "    </tr>\n",
              "    <tr>\n",
              "      <th>mean</th>\n",
              "      <td>2018.0</td>\n",
              "      <td>11.0</td>\n",
              "      <td>7.500000</td>\n",
              "      <td>11.500000</td>\n",
              "      <td>0.0</td>\n",
              "      <td>2.961406</td>\n",
              "      <td>0.004167</td>\n",
              "      <td>11.575833</td>\n",
              "      <td>189.998958</td>\n",
              "    </tr>\n",
              "    <tr>\n",
              "      <th>std</th>\n",
              "      <td>0.0</td>\n",
              "      <td>0.0</td>\n",
              "      <td>2.297278</td>\n",
              "      <td>6.940284</td>\n",
              "      <td>0.0</td>\n",
              "      <td>2.814121</td>\n",
              "      <td>0.045572</td>\n",
              "      <td>7.412555</td>\n",
              "      <td>84.645082</td>\n",
              "    </tr>\n",
              "    <tr>\n",
              "      <th>min</th>\n",
              "      <td>2018.0</td>\n",
              "      <td>11.0</td>\n",
              "      <td>4.000000</td>\n",
              "      <td>0.000000</td>\n",
              "      <td>0.0</td>\n",
              "      <td>-4.040000</td>\n",
              "      <td>0.000000</td>\n",
              "      <td>1.800000</td>\n",
              "      <td>35.540000</td>\n",
              "    </tr>\n",
              "    <tr>\n",
              "      <th>25%</th>\n",
              "      <td>2018.0</td>\n",
              "      <td>11.0</td>\n",
              "      <td>5.750000</td>\n",
              "      <td>5.750000</td>\n",
              "      <td>0.0</td>\n",
              "      <td>1.740000</td>\n",
              "      <td>0.000000</td>\n",
              "      <td>6.350000</td>\n",
              "      <td>99.112500</td>\n",
              "    </tr>\n",
              "    <tr>\n",
              "      <th>50%</th>\n",
              "      <td>2018.0</td>\n",
              "      <td>11.0</td>\n",
              "      <td>7.500000</td>\n",
              "      <td>11.500000</td>\n",
              "      <td>0.0</td>\n",
              "      <td>2.975000</td>\n",
              "      <td>0.000000</td>\n",
              "      <td>8.660000</td>\n",
              "      <td>218.985000</td>\n",
              "    </tr>\n",
              "    <tr>\n",
              "      <th>75%</th>\n",
              "      <td>2018.0</td>\n",
              "      <td>11.0</td>\n",
              "      <td>9.250000</td>\n",
              "      <td>17.250000</td>\n",
              "      <td>0.0</td>\n",
              "      <td>4.712500</td>\n",
              "      <td>0.000000</td>\n",
              "      <td>16.345000</td>\n",
              "      <td>270.297500</td>\n",
              "    </tr>\n",
              "    <tr>\n",
              "      <th>max</th>\n",
              "      <td>2018.0</td>\n",
              "      <td>11.0</td>\n",
              "      <td>11.000000</td>\n",
              "      <td>23.000000</td>\n",
              "      <td>0.0</td>\n",
              "      <td>9.330000</td>\n",
              "      <td>0.600000</td>\n",
              "      <td>30.120000</td>\n",
              "      <td>360.000000</td>\n",
              "    </tr>\n",
              "  </tbody>\n",
              "</table>\n",
              "</div>"
            ],
            "text/plain": [
              "         Year  Month         Day        Hour  Minute  \\\n",
              "count   192.0  192.0  192.000000  192.000000   192.0   \n",
              "mean   2018.0   11.0    7.500000   11.500000     0.0   \n",
              "std       0.0    0.0    2.297278    6.940284     0.0   \n",
              "min    2018.0   11.0    4.000000    0.000000     0.0   \n",
              "25%    2018.0   11.0    5.750000    5.750000     0.0   \n",
              "50%    2018.0   11.0    7.500000   11.500000     0.0   \n",
              "75%    2018.0   11.0    9.250000   17.250000     0.0   \n",
              "max    2018.0   11.0   11.000000   23.000000     0.0   \n",
              "\n",
              "       Temperature  [2 m above gnd]  Total Precipitation  [sfc]  \\\n",
              "count                    192.000000                  192.000000   \n",
              "mean                       2.961406                    0.004167   \n",
              "std                        2.814121                    0.045572   \n",
              "min                       -4.040000                    0.000000   \n",
              "25%                        1.740000                    0.000000   \n",
              "50%                        2.975000                    0.000000   \n",
              "75%                        4.712500                    0.000000   \n",
              "max                        9.330000                    0.600000   \n",
              "\n",
              "       Wind Speed  [10 m above gnd]  Wind Direction  [10 m above gnd]  \n",
              "count                    192.000000                        192.000000  \n",
              "mean                      11.575833                        189.998958  \n",
              "std                        7.412555                         84.645082  \n",
              "min                        1.800000                         35.540000  \n",
              "25%                        6.350000                         99.112500  \n",
              "50%                        8.660000                        218.985000  \n",
              "75%                       16.345000                        270.297500  \n",
              "max                       30.120000                        360.000000  "
            ]
          },
          "metadata": {
            "tags": []
          },
          "execution_count": 128
        }
      ]
    },
    {
      "metadata": {
        "id": "KIPdOl1Sm9zT",
        "colab_type": "text"
      },
      "cell_type": "markdown",
      "source": [
        "# seaborn: statistical data visualization\n",
        "\n",
        "Seaborn is a Python data visualization library based on matplotlib. It provides a high-level interface for drawing attractive and informative statistical graphics."
      ]
    },
    {
      "metadata": {
        "id": "3p__Ek49mog_",
        "colab_type": "code",
        "outputId": "97bf024b-f7ba-47f8-f505-d32d45666864",
        "colab": {
          "base_uri": "https://localhost:8080/",
          "height": 454
        }
      },
      "cell_type": "code",
      "source": [
        "import numpy as np\n",
        "import seaborn as sns\n",
        "sns.set(style=\"ticks\")\n",
        "\n",
        "rs = np.random.RandomState(11)\n",
        "x = rs.gamma(2, size=1000)\n",
        "y = -.5 * x + rs.normal(size=1000)\n",
        "\n",
        "sns.jointplot(x, y, kind=\"hex\", color=\"#4CB391\")"
      ],
      "execution_count": 47,
      "outputs": [
        {
          "output_type": "execute_result",
          "data": {
            "text/plain": [
              "<seaborn.axisgrid.JointGrid at 0x7f15510c3240>"
            ]
          },
          "metadata": {
            "tags": []
          },
          "execution_count": 47
        },
        {
          "output_type": "display_data",
          "data": {
            "image/png": "[encoded data removed]",
            "text/plain": [
              "<matplotlib.figure.Figure at 0x7f15510c3c88>"
            ]
          },
          "metadata": {
            "tags": []
          }
        }
      ]
    },
    {
      "metadata": {
        "id": "HhNYsrIKnTN8",
        "colab_type": "code",
        "outputId": "c477387c-969f-4d87-c04e-741531879038",
        "colab": {
          "base_uri": "https://localhost:8080/",
          "height": 405
        }
      },
      "cell_type": "code",
      "source": [
        "import matplotlib.pyplot as plt\n",
        "import seaborn as sns\n",
        "sns.set()\n",
        "\n",
        "# Load the example flights dataset and conver to long-form\n",
        "flights_long = sns.load_dataset(\"flights\")\n",
        "flights = flights_long.pivot(\"month\", \"year\", \"passengers\")\n",
        "\n",
        "# Draw a heatmap with the numeric values in each cell\n",
        "f, ax = plt.subplots(figsize=(9, 6))\n",
        "sns.heatmap(flights, annot=True, fmt=\"d\", linewidths=.5, ax=ax)"
      ],
      "execution_count": 48,
      "outputs": [
        {
          "output_type": "execute_result",
          "data": {
            "text/plain": [
              "<matplotlib.axes._subplots.AxesSubplot at 0x7f1550f22470>"
            ]
          },
          "metadata": {
            "tags": []
          },
          "execution_count": 48
        },
        {
          "output_type": "display_data",
          "data": {
            "image/png": "[encoded data removed]",
            "text/plain": [
              "<matplotlib.figure.Figure at 0x7f1550f02470>"
            ]
          },
          "metadata": {
            "tags": []
          }
        }
      ]
    }
  ]
}