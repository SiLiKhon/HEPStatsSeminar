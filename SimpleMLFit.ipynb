{
  "nbformat": 4,
  "nbformat_minor": 0,
  "metadata": {
    "colab": {
      "name": "SimpleMLFit.ipynb",
      "version": "0.3.2",
      "provenance": [],
      "collapsed_sections": [],
      "include_colab_link": true
    },
    "kernelspec": {
      "name": "python3",
      "display_name": "Python 3"
    }
  },
  "cells": [
    {
      "cell_type": "markdown",
      "metadata": {
        "id": "view-in-github",
        "colab_type": "text"
      },
      "source": [
        "<a href=\"https://colab.research.google.com/github/SiLiKhon/HEPStatsSeminar/blob/master/SimpleMLFit.ipynb\" target=\"_parent\"><img src=\"https://colab.research.google.com/assets/colab-badge.svg\" alt=\"Open In Colab\"/></a>"
      ]
    },
    {
      "metadata": {
        "id": "lTG8qhewiMp5",
        "colab_type": "code",
        "colab": {}
      },
      "cell_type": "code",
      "source": [
        "import numpy as np\n",
        "import matplotlib.pyplot as plt\n",
        "%matplotlib inline\n",
        "import scipy.stats as stats\n",
        "from scipy.optimize import minimize"
      ],
      "execution_count": 0,
      "outputs": []
    },
    {
      "metadata": {
        "id": "ahiuQPaKhW5m",
        "colab_type": "code",
        "colab": {
          "base_uri": "https://localhost:8080/",
          "height": 411
        },
        "outputId": "cf35ec78-c9fc-414b-e93c-af50331403a2"
      },
      "cell_type": "code",
      "source": [
        "!pip install probfit"
      ],
      "execution_count": 2,
      "outputs": [
        {
          "output_type": "stream",
          "text": [
            "Collecting probfit\n",
            "\u001b[?25l  Downloading https://files.pythonhosted.org/packages/9c/0e/3adcb85031548bc0d605346e41cbd4a2c4dfc45861ea077d8fa6edc1924e/probfit-1.1.0.tar.gz (1.2MB)\n",
            "\u001b[K    100% |████████████████████████████████| 1.2MB 7.6MB/s \n",
            "\u001b[?25hRequirement already satisfied: setuptools in /usr/local/lib/python3.6/dist-packages (from probfit) (40.5.0)\n",
            "Requirement already satisfied: numpy in /usr/local/lib/python3.6/dist-packages (from probfit) (1.14.6)\n",
            "Collecting iminuit (from probfit)\n",
            "\u001b[?25l  Downloading https://files.pythonhosted.org/packages/c6/e9/1001b530827dd5b460b5404201e598b4cd5da6ff7bc90631c88d903723cb/iminuit-1.3.3.tar.gz (498kB)\n",
            "\u001b[K    100% |████████████████████████████████| 501kB 11.6MB/s \n",
            "\u001b[?25hRequirement already satisfied: matplotlib in /usr/local/lib/python3.6/dist-packages (from probfit) (2.1.2)\n",
            "Requirement already satisfied: cycler>=0.10 in /usr/local/lib/python3.6/dist-packages (from matplotlib->probfit) (0.10.0)\n",
            "Requirement already satisfied: six>=1.10 in /usr/local/lib/python3.6/dist-packages (from matplotlib->probfit) (1.11.0)\n",
            "Requirement already satisfied: pytz in /usr/local/lib/python3.6/dist-packages (from matplotlib->probfit) (2018.7)\n",
            "Requirement already satisfied: python-dateutil>=2.1 in /usr/local/lib/python3.6/dist-packages (from matplotlib->probfit) (2.5.3)\n",
            "Requirement already satisfied: pyparsing!=2.0.4,!=2.1.2,!=2.1.6,>=2.0.1 in /usr/local/lib/python3.6/dist-packages (from matplotlib->probfit) (2.3.0)\n",
            "Building wheels for collected packages: probfit, iminuit\n",
            "  Running setup.py bdist_wheel for probfit ... \u001b[?25l-\b \b\\\b \b|\b \b/\b \b-\b \b\\\b \b|\b \b/\b \b-\b \b\\\b \b|\b \b/\b \b-\b \bdone\n",
            "\u001b[?25h  Stored in directory: /root/.cache/pip/wheels/0e/29/5c/c8328c35a857c819cceb4fa4828a419915a34b2e80f9a0fbc4\n",
            "  Running setup.py bdist_wheel for iminuit ... \u001b[?25l-\b \b\\\b \b|\b \b/\b \b-\b \b\\\b \b|\b \b/\b \b-\b \b\\\b \b|\b \b/\b \b-\b \b\\\b \b|\b \b/\b \b-\b \b\\\b \b|\b \b/\b \b-\b \b\\\b \b|\b \b/\b \b-\b \b\\\b \b|\b \b/\b \b-\b \b\\\b \b|\b \b/\b \b-\b \b\\\b \b|\b \b/\b \b-\b \b\\\b \b|\b \b/\b \b-\b \b\\\b \b|\b \b/\b \b-\b \b\\\b \b|\b \b/\b \b-\b \bdone\n",
            "\u001b[?25h  Stored in directory: /root/.cache/pip/wheels/f0/af/3b/6667c485636f00d8d6ed7cdc120146ab47beb4db62c6c715b9\n",
            "Successfully built probfit iminuit\n",
            "Installing collected packages: iminuit, probfit\n",
            "Successfully installed iminuit-1.3.3 probfit-1.1.0\n"
          ],
          "name": "stdout"
        }
      ]
    },
    {
      "metadata": {
        "id": "d54Tdvnnhb7l",
        "colab_type": "code",
        "colab": {}
      },
      "cell_type": "code",
      "source": [
        "import probfit\n",
        "import iminuit"
      ],
      "execution_count": 0,
      "outputs": []
    },
    {
      "metadata": {
        "id": "akhdkRETibVC",
        "colab_type": "code",
        "colab": {
          "base_uri": "https://localhost:8080/",
          "height": 265
        },
        "outputId": "8292617c-7110-450b-bca2-466261f405e1"
      },
      "cell_type": "code",
      "source": [
        "signal = np.random.normal(loc=125.18, scale=15., size=2000)\n",
        "background = np.random.exponential(scale=80., size=18000)\n",
        "\n",
        "data = np.concatenate([signal, background])\n",
        "np.random.shuffle(data)\n",
        "\n",
        "plt.hist(data, bins=100, alpha=0.8);"
      ],
      "execution_count": 4,
      "outputs": [
        {
          "output_type": "display_data",
          "data": {
            "image/png": "[encoded data removed]",
            "text/plain": [
              "<matplotlib.figure.Figure at 0x7f36eeba3358>"
            ]
          },
          "metadata": {
            "tags": []
          }
        }
      ]
    },
    {
      "metadata": {
        "id": "HgojAu5U0gk3",
        "colab_type": "code",
        "colab": {}
      },
      "cell_type": "code",
      "source": [
        "def SignalPDF(x, mass, sigma):\n",
        "  return stats.norm.pdf(x, loc=mass, scale=sigma)\n",
        "\n",
        "def BgPDF(x, exp_slope):\n",
        "  return stats.expon.pdf(x, scale=1./exp_slope)\n",
        "\n",
        "ModelPDF = probfit.AddPdfNorm(SignalPDF, BgPDF, facname=['signal_fraction'])"
      ],
      "execution_count": 0,
      "outputs": []
    },
    {
      "metadata": {
        "id": "1eTgijzJknDC",
        "colab_type": "code",
        "colab": {}
      },
      "cell_type": "code",
      "source": [
        "mass_bound = (10., 200.)\n",
        "normed_pdf = probfit.Normalized(ModelPDF, mass_bound)"
      ],
      "execution_count": 0,
      "outputs": []
    },
    {
      "metadata": {
        "id": "moSpx3y6rAhT",
        "colab_type": "code",
        "colab": {
          "base_uri": "https://localhost:8080/",
          "height": 34
        },
        "outputId": "467e49b9-119a-4071-97d6-d24bf57237f8"
      },
      "cell_type": "code",
      "source": [
        "print(iminuit.describe(normed_pdf))"
      ],
      "execution_count": 14,
      "outputs": [
        {
          "output_type": "stream",
          "text": [
            "['x', 'mass', 'sigma', 'exp_slope', 'signal_fraction']\n"
          ],
          "name": "stdout"
        }
      ]
    },
    {
      "metadata": {
        "id": "QcUB1Xemx3-S",
        "colab_type": "code",
        "colab": {}
      },
      "cell_type": "code",
      "source": [
        "data = data[(data > mass_bound[0]) & (data < mass_bound[1])]"
      ],
      "execution_count": 0,
      "outputs": []
    },
    {
      "metadata": {
        "id": "kINi5K4VrDps",
        "colab_type": "code",
        "colab": {}
      },
      "cell_type": "code",
      "source": [
        "unbinned_likelihood = probfit.UnbinnedLH(normed_pdf, data)\n",
        "initial_par_values = dict(\n",
        "  mass           =120.  ,\n",
        "  sigma          = 25.  ,\n",
        "  exp_slope      =  0.01,\n",
        "  signal_fraction=  0.4 ,\n",
        ")\n",
        "\n",
        "limits = dict(\n",
        "  limit_mass           =(50. , 200.),\n",
        "  limit_sigma          =( 3. , 150.),\n",
        "  limit_exp_slope      =(1e-4,   1.),\n",
        "  limit_signal_fraction=( 0. ,   1.),\n",
        ")\n",
        "\n",
        "errors = dict(\n",
        "  error_mass           =10.  ,\n",
        "  error_sigma          =10.  ,\n",
        "  error_exp_slope      =0.005,\n",
        "  error_signal_fraction=0.2  ,\n",
        ")\n",
        "\n",
        "minuit = iminuit.Minuit(\n",
        "            unbinned_likelihood, **initial_par_values, **limits, **errors)"
      ],
      "execution_count": 0,
      "outputs": []
    },
    {
      "metadata": {
        "id": "iwS7VDDNrEZy",
        "colab_type": "code",
        "colab": {
          "base_uri": "https://localhost:8080/",
          "height": 265
        },
        "outputId": "dbdbea0c-a8f2-46e9-8ac9-ef625f9bb65c"
      },
      "cell_type": "code",
      "source": [
        "unbinned_likelihood.draw(minuit=minuit);"
      ],
      "execution_count": 20,
      "outputs": [
        {
          "output_type": "display_data",
          "data": {
            "image/png": "[encoded data removed]",
            "text/plain": [
              "<matplotlib.figure.Figure at 0x7f36eac41f98>"
            ]
          },
          "metadata": {
            "tags": []
          }
        }
      ]
    },
    {
      "metadata": {
        "id": "uB5Fyr9Cqro2",
        "colab_type": "code",
        "colab": {
          "base_uri": "https://localhost:8080/",
          "height": 303
        },
        "outputId": "5f90f236-5a39-408c-b116-7846f237434f"
      },
      "cell_type": "code",
      "source": [
        "%timeit -n1 -r1 minuit.migrad()"
      ],
      "execution_count": 21,
      "outputs": [
        {
          "output_type": "display_data",
          "data": {
            "text/html": [
              "<hr>"
            ]
          },
          "metadata": {
            "tags": []
          }
        },
        {
          "output_type": "display_data",
          "data": {
            "text/html": [
              "<table>\n",
              "    <tr>\n",
              "        <td title=\"Minimum value of function\">FCN = 83481.08305811594</td>\n",
              "        <td title=\"Total number of call to FCN so far\">TOTAL NCALL = 183</td>\n",
              "        <td title=\"Number of call in last migrad\">NCALLS = 183</td>\n",
              "    </tr>\n",
              "    <tr>\n",
              "        <td title=\"Estimated distance to minimum\">EDM = 7.671327826786293e-08</td>\n",
              "        <td title=\"Maximum EDM definition of convergence\">GOAL EDM = 5e-06</td>\n",
              "        <td title=\"Error def. Amount of increase in FCN to be defined as 1 standard deviation\">\n",
              "        UP = 0.5</td>\n",
              "    </tr>\n",
              "</table>\n",
              "<table>\n",
              "    <tr>\n",
              "        <td align=\"center\" title=\"Validity of the migrad call\">Valid</td>\n",
              "        <td align=\"center\" title=\"Validity of parameters\">Valid Param</td>\n",
              "        <td align=\"center\" title=\"Is Covariance matrix accurate?\">Accurate Covar</td>\n",
              "        <td align=\"center\" title=\"Positive definiteness of covariance matrix\">PosDef</td>\n",
              "        <td align=\"center\" title=\"Was covariance matrix made posdef by adding diagonal element\">Made PosDef</td>\n",
              "    </tr>\n",
              "    <tr>\n",
              "        <td align=\"center\" style=\"background-color:#92CCA6\">True</td>\n",
              "        <td align=\"center\" style=\"background-color:#92CCA6\">True</td>\n",
              "        <td align=\"center\" style=\"background-color:#92CCA6\">True</td>\n",
              "        <td align=\"center\" style=\"background-color:#92CCA6\">True</td>\n",
              "        <td align=\"center\" style=\"background-color:#92CCA6\">False</td>\n",
              "    </tr>\n",
              "    <tr>\n",
              "        <td align=\"center\" title=\"Was last hesse call fail?\">Hesse Fail</td>\n",
              "        <td align=\"center\" title=\"Validity of covariance\">HasCov</td>\n",
              "        <td align=\"center\" title=\"Is EDM above goal EDM?\">Above EDM</td>\n",
              "        <td align=\"center\"></td>\n",
              "        <td align=\"center\" title=\"Did last migrad call reach max call limit?\">Reach calllim</td>\n",
              "    </tr>\n",
              "    <tr>\n",
              "        <td align=\"center\" style=\"background-color:#92CCA6\">False</td>\n",
              "        <td align=\"center\" style=\"background-color:#92CCA6\">True</td>\n",
              "        <td align=\"center\" style=\"background-color:#92CCA6\">False</td>\n",
              "        <td align=\"center\"></td>\n",
              "        <td align=\"center\" style=\"background-color:#92CCA6\">False</td>\n",
              "    </tr>\n",
              "</table>"
            ]
          },
          "metadata": {
            "tags": []
          }
        },
        {
          "output_type": "display_data",
          "data": {
            "text/html": [
              "<table>\n",
              "    <tr>\n",
              "        <td><a href=\"#\" onclick=\"$('#pZuoxuEqAt').toggle()\">+</a></td>\n",
              "        <td title=\"Variable name\">Name</td>\n",
              "        <td title=\"Value of parameter\">Value</td>\n",
              "        <td title=\"Hesse error\">Hesse Error</td>\n",
              "        <td title=\"Minos lower error\">Minos Error-</td>\n",
              "        <td title=\"Minos upper error\">Minos Error+</td>\n",
              "        <td title=\"Lower limit of the parameter\">Limit-</td>\n",
              "        <td title=\"Upper limit of the parameter\">Limit+</td>\n",
              "        <td title=\"Is the parameter fixed in the fit\">Fixed?</td>\n",
              "    </tr>\n",
              "    <tr>\n",
              "        <td>0</td>\n",
              "        <td>mass</td>\n",
              "        <td>125.12</td>\n",
              "        <td>0.674671</td>\n",
              "        <td></td>\n",
              "        <td></td>\n",
              "        <td>50</td>\n",
              "        <td>200</td>\n",
              "        <td>No</td>\n",
              "    </tr>\n",
              "    <tr>\n",
              "        <td>1</td>\n",
              "        <td>sigma</td>\n",
              "        <td>15.4371</td>\n",
              "        <td>0.751386</td>\n",
              "        <td></td>\n",
              "        <td></td>\n",
              "        <td>3</td>\n",
              "        <td>150</td>\n",
              "        <td>No</td>\n",
              "    </tr>\n",
              "    <tr>\n",
              "        <td>2</td>\n",
              "        <td>exp_slope</td>\n",
              "        <td>0.0128911</td>\n",
              "        <td>0.000241409</td>\n",
              "        <td></td>\n",
              "        <td></td>\n",
              "        <td>0.0001</td>\n",
              "        <td>1</td>\n",
              "        <td>No</td>\n",
              "    </tr>\n",
              "    <tr>\n",
              "        <td>3</td>\n",
              "        <td>signal_fraction</td>\n",
              "        <td>0.104497</td>\n",
              "        <td>0.00568799</td>\n",
              "        <td></td>\n",
              "        <td></td>\n",
              "        <td>0</td>\n",
              "        <td>1</td>\n",
              "        <td>No</td>\n",
              "    </tr>\n",
              "</table>\n",
              "<pre id=\"pZuoxuEqAt\" style=\"display:none;\">\n",
              "<textarea rows=\"14\" cols=\"50\" onclick=\"this.select()\" readonly>\n",
              "\\begin{tabular}{|c|r|r|r|r|r|r|r|c|}\n",
              "\\hline\n",
              " & Name & Value & Hesse Error & Minos Error- & Minos Error+ & Limit- & Limit+ & Fixed?\\\\\n",
              "\\hline\n",
              "0 & mass & 125.12 & 0.674671 &  &  & 50.0 & 200 & No\\\\\n",
              "\\hline\n",
              "1 & $\\sigma$ & 15.4371 & 0.751386 &  &  & 3.0 & 150 & No\\\\\n",
              "\\hline\n",
              "2 & $exp_{slope}$ & 0.0128911 & 0.000241409 &  &  & 0.0001 & 1 & No\\\\\n",
              "\\hline\n",
              "3 & $signal_{fraction}$ & 0.104497 & 0.00568799 &  &  & 0.0 & 1 & No\\\\\n",
              "\\hline\n",
              "\\end{tabular}\n",
              "</textarea>\n",
              "</pre>"
            ]
          },
          "metadata": {
            "tags": []
          }
        },
        {
          "output_type": "display_data",
          "data": {
            "text/html": [
              "<hr>"
            ]
          },
          "metadata": {
            "tags": []
          }
        },
        {
          "output_type": "stream",
          "text": [
            "1 loop, best of 1: 9min 40s per loop\n"
          ],
          "name": "stdout"
        }
      ]
    },
    {
      "metadata": {
        "id": "WAQnSUhmjlal",
        "colab_type": "code",
        "colab": {
          "base_uri": "https://localhost:8080/",
          "height": 265
        },
        "outputId": "cf0ee12e-c3a8-44bf-cbc7-30103e9c6eae"
      },
      "cell_type": "code",
      "source": [
        "unbinned_likelihood.draw(minuit=minuit);"
      ],
      "execution_count": 22,
      "outputs": [
        {
          "output_type": "display_data",
          "data": {
            "image/png": "[encoded data removed]",
            "text/plain": [
              "<matplotlib.figure.Figure at 0x7f36eab99e48>"
            ]
          },
          "metadata": {
            "tags": []
          }
        }
      ]
    },
    {
      "metadata": {
        "id": "lIfO270Nj9Xj",
        "colab_type": "code",
        "colab": {
          "base_uri": "https://localhost:8080/",
          "height": 122
        },
        "outputId": "6976444d-2f43-4633-b3cc-ea761b34783d"
      },
      "cell_type": "code",
      "source": [
        "!pip install Cython\n",
        "%load_ext Cython"
      ],
      "execution_count": 33,
      "outputs": [
        {
          "output_type": "stream",
          "text": [
            "Collecting Cython\n",
            "\u001b[?25l  Downloading https://files.pythonhosted.org/packages/64/3f/cac281f3f019b825bbc03fa8cb7eb03d9c355f4aa9eef978279a4966cb21/Cython-0.29-cp36-cp36m-manylinux1_x86_64.whl (2.1MB)\n",
            "\u001b[K    100% |████████████████████████████████| 2.1MB 9.3MB/s \n",
            "\u001b[?25hInstalling collected packages: Cython\n",
            "Successfully installed Cython-0.29\n"
          ],
          "name": "stdout"
        }
      ]
    },
    {
      "metadata": {
        "id": "pHUPSauoj9PH",
        "colab_type": "code",
        "colab": {}
      },
      "cell_type": "code",
      "source": [
        "%%cython\n",
        "\n",
        "cimport cython\n",
        "from libc.math cimport exp, M_PI, sqrt\n",
        "\n",
        "@cython.binding(True)\n",
        "def gauss_pdf_cython(double x, double mass, double sigma):\n",
        "  return 1 / sqrt(2 * M_PI) / sigma * exp(-(x - mass)**2 / 2. / sigma**2)\n",
        "\n",
        "@cython.binding(True)\n",
        "def exp_pdf_cython(double x, double exp_slope):\n",
        "  return exp(-exp_slope * x) * exp_slope"
      ],
      "execution_count": 0,
      "outputs": []
    },
    {
      "metadata": {
        "id": "utvt1Aomntvv",
        "colab_type": "code",
        "colab": {
          "base_uri": "https://localhost:8080/",
          "height": 34
        },
        "outputId": "4b09039e-3117-4d45-c6cf-27aca5a58046"
      },
      "cell_type": "code",
      "source": [
        "ModelPDF_cython = probfit.AddPdfNorm(gauss_pdf_cython, exp_pdf_cython, facname=['signal_fraction'])\n",
        "normed_pdf_cython = probfit.Normalized(ModelPDF_cython, mass_bound)\n",
        "print(iminuit.describe(normed_pdf_cython))"
      ],
      "execution_count": 66,
      "outputs": [
        {
          "output_type": "stream",
          "text": [
            "['x', 'mass', 'sigma', 'exp_slope', 'signal_fraction']\n"
          ],
          "name": "stdout"
        }
      ]
    },
    {
      "metadata": {
        "id": "knj0fVSRnthG",
        "colab_type": "code",
        "colab": {
          "base_uri": "https://localhost:8080/",
          "height": 265
        },
        "outputId": "434515f8-3966-46e9-d8e9-efc879bacd7d"
      },
      "cell_type": "code",
      "source": [
        "unbinned_likelihood_cython = probfit.UnbinnedLH(normed_pdf_cython, data)\n",
        "\n",
        "minuit_cython = iminuit.Minuit(\n",
        "                    unbinned_likelihood_cython,\n",
        "                    **initial_par_values, **limits, **errors)\n",
        "\n",
        "unbinned_likelihood_cython.draw(minuit=minuit_cython);"
      ],
      "execution_count": 67,
      "outputs": [
        {
          "output_type": "display_data",
          "data": {
            "image/png": "[encoded data removed]",
            "text/plain": [
              "<matplotlib.figure.Figure at 0x7f36e89afc50>"
            ]
          },
          "metadata": {
            "tags": []
          }
        }
      ]
    },
    {
      "metadata": {
        "id": "RlO8mqHhntWg",
        "colab_type": "code",
        "colab": {
          "base_uri": "https://localhost:8080/",
          "height": 303
        },
        "outputId": "3385ae6d-d2cf-4712-aa09-0e0c50a8ebe4"
      },
      "cell_type": "code",
      "source": [
        "%timeit -n1 -r1 minuit_cython.migrad()"
      ],
      "execution_count": 68,
      "outputs": [
        {
          "output_type": "display_data",
          "data": {
            "text/html": [
              "<hr>"
            ]
          },
          "metadata": {
            "tags": []
          }
        },
        {
          "output_type": "display_data",
          "data": {
            "text/html": [
              "<table>\n",
              "    <tr>\n",
              "        <td title=\"Minimum value of function\">FCN = 83481.08305811606</td>\n",
              "        <td title=\"Total number of call to FCN so far\">TOTAL NCALL = 183</td>\n",
              "        <td title=\"Number of call in last migrad\">NCALLS = 183</td>\n",
              "    </tr>\n",
              "    <tr>\n",
              "        <td title=\"Estimated distance to minimum\">EDM = 7.673077773161731e-08</td>\n",
              "        <td title=\"Maximum EDM definition of convergence\">GOAL EDM = 5e-06</td>\n",
              "        <td title=\"Error def. Amount of increase in FCN to be defined as 1 standard deviation\">\n",
              "        UP = 0.5</td>\n",
              "    </tr>\n",
              "</table>\n",
              "<table>\n",
              "    <tr>\n",
              "        <td align=\"center\" title=\"Validity of the migrad call\">Valid</td>\n",
              "        <td align=\"center\" title=\"Validity of parameters\">Valid Param</td>\n",
              "        <td align=\"center\" title=\"Is Covariance matrix accurate?\">Accurate Covar</td>\n",
              "        <td align=\"center\" title=\"Positive definiteness of covariance matrix\">PosDef</td>\n",
              "        <td align=\"center\" title=\"Was covariance matrix made posdef by adding diagonal element\">Made PosDef</td>\n",
              "    </tr>\n",
              "    <tr>\n",
              "        <td align=\"center\" style=\"background-color:#92CCA6\">True</td>\n",
              "        <td align=\"center\" style=\"background-color:#92CCA6\">True</td>\n",
              "        <td align=\"center\" style=\"background-color:#92CCA6\">True</td>\n",
              "        <td align=\"center\" style=\"background-color:#92CCA6\">True</td>\n",
              "        <td align=\"center\" style=\"background-color:#92CCA6\">False</td>\n",
              "    </tr>\n",
              "    <tr>\n",
              "        <td align=\"center\" title=\"Was last hesse call fail?\">Hesse Fail</td>\n",
              "        <td align=\"center\" title=\"Validity of covariance\">HasCov</td>\n",
              "        <td align=\"center\" title=\"Is EDM above goal EDM?\">Above EDM</td>\n",
              "        <td align=\"center\"></td>\n",
              "        <td align=\"center\" title=\"Did last migrad call reach max call limit?\">Reach calllim</td>\n",
              "    </tr>\n",
              "    <tr>\n",
              "        <td align=\"center\" style=\"background-color:#92CCA6\">False</td>\n",
              "        <td align=\"center\" style=\"background-color:#92CCA6\">True</td>\n",
              "        <td align=\"center\" style=\"background-color:#92CCA6\">False</td>\n",
              "        <td align=\"center\"></td>\n",
              "        <td align=\"center\" style=\"background-color:#92CCA6\">False</td>\n",
              "    </tr>\n",
              "</table>"
            ]
          },
          "metadata": {
            "tags": []
          }
        },
        {
          "output_type": "display_data",
          "data": {
            "text/html": [
              "<table>\n",
              "    <tr>\n",
              "        <td><a href=\"#\" onclick=\"$('#ccfjTojoss').toggle()\">+</a></td>\n",
              "        <td title=\"Variable name\">Name</td>\n",
              "        <td title=\"Value of parameter\">Value</td>\n",
              "        <td title=\"Hesse error\">Hesse Error</td>\n",
              "        <td title=\"Minos lower error\">Minos Error-</td>\n",
              "        <td title=\"Minos upper error\">Minos Error+</td>\n",
              "        <td title=\"Lower limit of the parameter\">Limit-</td>\n",
              "        <td title=\"Upper limit of the parameter\">Limit+</td>\n",
              "        <td title=\"Is the parameter fixed in the fit\">Fixed?</td>\n",
              "    </tr>\n",
              "    <tr>\n",
              "        <td>0</td>\n",
              "        <td>mass</td>\n",
              "        <td>125.12</td>\n",
              "        <td>0.674671</td>\n",
              "        <td></td>\n",
              "        <td></td>\n",
              "        <td>50</td>\n",
              "        <td>200</td>\n",
              "        <td>No</td>\n",
              "    </tr>\n",
              "    <tr>\n",
              "        <td>1</td>\n",
              "        <td>sigma</td>\n",
              "        <td>15.4371</td>\n",
              "        <td>0.751386</td>\n",
              "        <td></td>\n",
              "        <td></td>\n",
              "        <td>3</td>\n",
              "        <td>150</td>\n",
              "        <td>No</td>\n",
              "    </tr>\n",
              "    <tr>\n",
              "        <td>2</td>\n",
              "        <td>exp_slope</td>\n",
              "        <td>0.0128911</td>\n",
              "        <td>0.000241409</td>\n",
              "        <td></td>\n",
              "        <td></td>\n",
              "        <td>0.0001</td>\n",
              "        <td>1</td>\n",
              "        <td>No</td>\n",
              "    </tr>\n",
              "    <tr>\n",
              "        <td>3</td>\n",
              "        <td>signal_fraction</td>\n",
              "        <td>0.104497</td>\n",
              "        <td>0.00568799</td>\n",
              "        <td></td>\n",
              "        <td></td>\n",
              "        <td>0</td>\n",
              "        <td>1</td>\n",
              "        <td>No</td>\n",
              "    </tr>\n",
              "</table>\n",
              "<pre id=\"ccfjTojoss\" style=\"display:none;\">\n",
              "<textarea rows=\"14\" cols=\"50\" onclick=\"this.select()\" readonly>\n",
              "\\begin{tabular}{|c|r|r|r|r|r|r|r|c|}\n",
              "\\hline\n",
              " & Name & Value & Hesse Error & Minos Error- & Minos Error+ & Limit- & Limit+ & Fixed?\\\\\n",
              "\\hline\n",
              "0 & mass & 125.12 & 0.674671 &  &  & 50.0 & 200 & No\\\\\n",
              "\\hline\n",
              "1 & $\\sigma$ & 15.4371 & 0.751386 &  &  & 3.0 & 150 & No\\\\\n",
              "\\hline\n",
              "2 & $exp_{slope}$ & 0.0128911 & 0.000241409 &  &  & 0.0001 & 1 & No\\\\\n",
              "\\hline\n",
              "3 & $signal_{fraction}$ & 0.104497 & 0.00568799 &  &  & 0.0 & 1 & No\\\\\n",
              "\\hline\n",
              "\\end{tabular}\n",
              "</textarea>\n",
              "</pre>"
            ]
          },
          "metadata": {
            "tags": []
          }
        },
        {
          "output_type": "display_data",
          "data": {
            "text/html": [
              "<hr>"
            ]
          },
          "metadata": {
            "tags": []
          }
        },
        {
          "output_type": "stream",
          "text": [
            "1 loop, best of 1: 3.45 s per loop\n"
          ],
          "name": "stdout"
        }
      ]
    },
    {
      "metadata": {
        "id": "_UgOmSGEj9Ej",
        "colab_type": "code",
        "colab": {
          "base_uri": "https://localhost:8080/",
          "height": 265
        },
        "outputId": "b7297738-0361-4420-b1bf-0d519acd13b8"
      },
      "cell_type": "code",
      "source": [
        "unbinned_likelihood_cython.draw(minuit=minuit_cython);"
      ],
      "execution_count": 69,
      "outputs": [
        {
          "output_type": "display_data",
          "data": {
            "image/png": "[encoded data removed]",
            "text/plain": [
              "<matplotlib.figure.Figure at 0x7f36e8a35da0>"
            ]
          },
          "metadata": {
            "tags": []
          }
        }
      ]
    },
    {
      "metadata": {
        "id": "eBiz9m7IqsbE",
        "colab_type": "code",
        "colab": {}
      },
      "cell_type": "code",
      "source": [
        ""
      ],
      "execution_count": 0,
      "outputs": []
    }
  ]
}