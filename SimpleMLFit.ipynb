{
  "nbformat": 4,
  "nbformat_minor": 0,
  "metadata": {
    "colab": {
      "name": "SimpleMLFit.ipynb",
      "version": "0.3.2",
      "provenance": [],
      "collapsed_sections": [],
      "toc_visible": true,
      "include_colab_link": true
    },
    "kernelspec": {
      "name": "python3",
      "display_name": "Python 3"
    }
  },
  "cells": [
    {
      "cell_type": "markdown",
      "metadata": {
        "id": "view-in-github",
        "colab_type": "text"
      },
      "source": [
        "<a href=\"https://colab.research.google.com/github/SiLiKhon/HEPStatsSeminar/blob/master/SimpleMLFit.ipynb\" target=\"_parent\"><img src=\"https://colab.research.google.com/assets/colab-badge.svg\" alt=\"Open In Colab\"/></a>"
      ]
    },
    {
      "metadata": {
        "id": "6XIaSpYS6WFC",
        "colab_type": "text"
      },
      "cell_type": "markdown",
      "source": [
        "# Let's do a Maximum Likelihood fit!\n",
        "\n",
        "\n",
        "---\n",
        "\n",
        "\n",
        "We'll need an extra package called `probfit` which is not available by default. It takes some time to install, so please run the installation command now:"
      ]
    },
    {
      "metadata": {
        "id": "ahiuQPaKhW5m",
        "colab_type": "code",
        "colab": {}
      },
      "cell_type": "code",
      "source": [
        "!pip install probfit"
      ],
      "execution_count": 0,
      "outputs": []
    },
    {
      "metadata": {
        "id": "ssW-O_gm7oQd",
        "colab_type": "text"
      },
      "cell_type": "markdown",
      "source": [
        "## What we'll need\n",
        "\n",
        "\n",
        "---\n",
        "\n",
        "\n",
        "\n",
        "*   ### Get and select the data\n",
        "*   ### Define the Likelihood function\n",
        "*   ### Maximize it (minimize negative Likelihood)\n",
        "*   ### Plot the result\n",
        "\n"
      ]
    },
    {
      "metadata": {
        "id": "lTG8qhewiMp5",
        "colab_type": "code",
        "colab": {}
      },
      "cell_type": "code",
      "source": [
        "# We'll store and handle our data with numpy.\n",
        "#\n",
        "# Also, we'll start by working with 'toy' data, i.e. we are\n",
        "# going to randomly generate our data - we'll use numpy for\n",
        "# that as well.\n",
        "import numpy as np\n",
        "\n",
        "# The plotting will be done in matplotlib:\n",
        "import matplotlib.pyplot as plt\n",
        "\n",
        "# And we need this %matplotlib magic call so that the result\n",
        "# is plotted automatically after cell exectution,\n",
        "# without having to write 'plt.show()' explicitly each time:\n",
        "%matplotlib inline"
      ],
      "execution_count": 0,
      "outputs": []
    },
    {
      "metadata": {
        "id": "Ut8EMzUeXXxL",
        "colab_type": "text"
      },
      "cell_type": "markdown",
      "source": [
        "## Toy data\n",
        "\n",
        "\n",
        "---\n",
        "\n",
        "\n",
        "In reality we don't usually detect just the decays we are looking for. Usually, there are also other processes that have the same signature as the process of interest, and there is no deterministic way to tell them apart.\n",
        "\n",
        "\n",
        "Let's emulate this in our toy data!"
      ]
    },
    {
      "metadata": {
        "id": "KzYUeO6hVvxp",
        "colab_type": "code",
        "colab": {
          "base_uri": "https://localhost:8080/",
          "height": 68
        },
        "outputId": "8604d01f-f67c-4bc6-bf90-16ad0974e010"
      },
      "cell_type": "code",
      "source": [
        "# Say, there's some particle with a mass of 125.18 GeV,\n",
        "# which we can only measure with an uncertainty of 15 GeV:\n",
        "signal = np.random.normal(loc=125.18, scale=15., size=10000)\n",
        "\n",
        "# Then, imagine there are some continuous backgound processes\n",
        "# with the same signature, which contribute to our particle\n",
        "# mass measurement and are distributed as decaying exponent:\n",
        "background = np.random.exponential(scale=80., size=90000)\n",
        "\n",
        "# In real life there's no deterministic way to tell them apart,\n",
        "# as they are 'shuffled' together:\n",
        "data = np.concatenate([signal, background])\n",
        "np.random.shuffle(data)\n",
        "\n",
        "print(\"data.shape = {}\".format(data.shape))\n",
        "print(\"data = {}\".format(data))"
      ],
      "execution_count": 3,
      "outputs": [
        {
          "output_type": "stream",
          "text": [
            "data.shape = (100000,)\n",
            "data = [150.14612692 116.57319346  33.07959182 ...  22.30842139  21.6793336\n",
            " 120.2299801 ]\n"
          ],
          "name": "stdout"
        }
      ]
    },
    {
      "metadata": {
        "id": "ZrFC5aWRbmHK",
        "colab_type": "text"
      },
      "cell_type": "markdown",
      "source": [
        "Now, `data` is a 1-dimentional array each element of which represents distinct mass measurements. Let's see what it looks like:"
      ]
    },
    {
      "metadata": {
        "id": "akhdkRETibVC",
        "colab_type": "code",
        "outputId": "9d324dc5-3fa2-4505-8917-31bcac6c7146",
        "colab": {
          "base_uri": "https://localhost:8080/",
          "height": 265
        }
      },
      "cell_type": "code",
      "source": [
        "# Plotting a histogram of data with 100 bins.\n",
        "# ('alpha=0.8' is just a little drawing tweak making\n",
        "# our histogram 80% opaque / 20% transparent)\n",
        "plt.hist(data, bins=100, alpha=0.8);"
      ],
      "execution_count": 4,
      "outputs": [
        {
          "output_type": "display_data",
          "data": {
            "image/png": "[encoded data removed]",
            "text/plain": [
              "<matplotlib.figure.Figure at 0x7f8dbb164588>"
            ]
          },
          "metadata": {
            "tags": []
          }
        }
      ]
    },
    {
      "metadata": {
        "id": "fqNpq8_ReSOz",
        "colab_type": "text"
      },
      "cell_type": "markdown",
      "source": [
        "OK, that's nice, but we probably don't need such a wide range. Let's only select the data from 10 to 200 GeV:"
      ]
    },
    {
      "metadata": {
        "id": "-4gXWe-eeR-v",
        "colab_type": "code",
        "colab": {
          "base_uri": "https://localhost:8080/",
          "height": 269
        },
        "outputId": "e84aa3d4-8424-42b0-a851-cc04df14f670"
      },
      "cell_type": "code",
      "source": [
        "# We'll define a tuple with our selection range, as\n",
        "# this will come in handy later\n",
        "mass_bound = (10., 200.)\n",
        "\n",
        "data = data[(data > mass_bound[0]) & (data < mass_bound[1])]\n",
        "plt.hist(data, bins=100, alpha=0.8);"
      ],
      "execution_count": 5,
      "outputs": [
        {
          "output_type": "display_data",
          "data": {
            "image/png": "[encoded data removed]",
            "text/plain": [
              "<matplotlib.figure.Figure at 0x7f8dba7bdba8>"
            ]
          },
          "metadata": {
            "tags": []
          }
        }
      ]
    },
    {
      "metadata": {
        "id": "SlIsKiDXri6a",
        "colab_type": "text"
      },
      "cell_type": "markdown",
      "source": [
        "## Defining the model PDF and Likelihood functions\n",
        "\n",
        "\n",
        "---\n",
        "\n",
        "\n",
        "OK, remember we installed something at the beginning of the section? It was `probfit` — a package that makes PDF and Likelihood definition really easy (see [this page](https://probfit.readthedocs.io/en/latest/index.html) for more details; they also have a good [tutorial here](http://nbviewer.ipython.org/urls/raw.github.com/scikit-hep/probfit/master/tutorial/tutorial.ipynb)). Let's import the package:"
      ]
    },
    {
      "metadata": {
        "id": "s29CZe5zguZk",
        "colab_type": "code",
        "colab": {}
      },
      "cell_type": "code",
      "source": [
        "import probfit"
      ],
      "execution_count": 0,
      "outputs": []
    },
    {
      "metadata": {
        "id": "H6Ga5lxttCYz",
        "colab_type": "text"
      },
      "cell_type": "markdown",
      "source": [
        "PDFs can just be python functions with the following signature:\n",
        "\n",
        "`function_name(x, param1, param2, ...)`\n",
        "\n",
        "However, one has to make sure they integrate up to 1:\n",
        "$$\\int_{\\text{domain}}\\text{PDF}(x)dx = 1$$\n",
        "\n",
        "Since we've selected our data to be in the interval $(10, 200)~$GeV, we have to normalize our PDFs such that\n",
        "$$\\int_{10~\\text{GeV}}^{200~\\text{GeV}}\\text{PDF}(x)dx = 1$$\n",
        "\n",
        "As our data is a mixture of a peaking signal and a continuous background, we'll define the PDF in the following form:\n",
        "$$\\text{PDF}(x|m,\\sigma,k, f_{\\text{sig}}) = \n",
        "f_{\\text{sig}}\\cdot N(x|m, \\sigma) +\n",
        "(1 - f_{\\text{sig}})\\cdot k e^{-kx},$$\n",
        "where:\n",
        "\n",
        "\n",
        "*   $x$ is the value of mass from an individual measurement\n",
        "*   $m$ is the actual mass of the decaying particle\n",
        "*   $sigma$ is detector resolution\n",
        "*   $N(x|m, \\sigma)$ is normal (Gaussian) distribution\n",
        "*   $k$ is the empirical background slope\n",
        "*   $f_{\\text{sig}}$ is the fraction of signal in the mixture\n",
        "\n"
      ]
    },
    {
      "metadata": {
        "id": "HgojAu5U0gk3",
        "colab_type": "code",
        "colab": {}
      },
      "cell_type": "code",
      "source": [
        "# For the Gaussian we'll use the function already defined in\n",
        "# probfit and just wrap it around our custom python function\n",
        "# to rename the parameters\n",
        "def SignalPDF(x, mass, sigma):\n",
        "  return probfit.gaussian(x, mass, sigma)\n",
        "\n",
        "# As for the exponential function, we'll define it ourselves\n",
        "def BgPDF(x, exp_slope):\n",
        "  return exp_slope * np.exp(-exp_slope * x)\n",
        "\n",
        "# So far our functions are normalized differently:\n",
        "#     SignalPDF is normalized for x in [-infinity, +infinity]\n",
        "#     BgPDF is normalized for x in [0 GeV, +infinity]\n",
        "# We need them both to be normalized for x in [10, 200] GeV.\n",
        "\n",
        "# Luckily, probfit has a convinient 'Normalize' class for that:\n",
        "SignalPDF_normed = probfit.Normalized(SignalPDF, mass_bound)\n",
        "BgPDF_normed     = probfit.Normalized(BgPDF    , mass_bound)\n",
        "\n",
        "# There's also a ready to use class to combine several PDFs in a sum:\n",
        "ModelPDF = probfit.AddPdfNorm(SignalPDF_normed,\n",
        "                              BgPDF_normed,\n",
        "                              facname=['signal_fraction'])\n",
        "# OK, our PDF is ready!"
      ],
      "execution_count": 0,
      "outputs": []
    },
    {
      "metadata": {
        "id": "qJquCQIM0kzE",
        "colab_type": "text"
      },
      "cell_type": "markdown",
      "source": [
        "Now we have to define the Likelihood function for a set of measurements $\\{x_i\\}$:\n",
        "$$\\mathscr{L}(m,\\sigma,k, f_{\\text{sig}}) = \\prod_i{\\text{PDF}(x_i|m,\\sigma,k, f_{\\text{sig}})}$$\n",
        "\n",
        "There's a ready to use class for that as well:"
      ]
    },
    {
      "metadata": {
        "id": "VCK5H4s00lQM",
        "colab_type": "code",
        "colab": {}
      },
      "cell_type": "code",
      "source": [
        "unbinned_likelihood = probfit.UnbinnedLH(ModelPDF, data)"
      ],
      "execution_count": 0,
      "outputs": []
    },
    {
      "metadata": {
        "id": "lO-2syhX2NK9",
        "colab_type": "text"
      },
      "cell_type": "markdown",
      "source": [
        "## Maximizing the Likelihood!\n",
        "\n",
        "Actually, will **minimize** the  $-log(\\mathscr{L})$, which has the same effect. In HEP it's a common practice to use [the MINUIT program](https://en.wikipedia.org/wiki/MINUIT) for minimization. It was originally written in 1970s in CERN and its Migrad algorithm has proven to be super robust and stable.\n",
        "\n",
        "Although MINUIT is a C++ program (originally – FORTRAN), there is a python wrapper called `iminuit`. Let's import it:"
      ]
    },
    {
      "metadata": {
        "id": "d54Tdvnnhb7l",
        "colab_type": "code",
        "colab": {}
      },
      "cell_type": "code",
      "source": [
        "import iminuit"
      ],
      "execution_count": 0,
      "outputs": []
    },
    {
      "metadata": {
        "id": "NYnVFWnh8eaF",
        "colab_type": "text"
      },
      "cell_type": "markdown",
      "source": [
        "In order to run the minimization, one has to:\n",
        "\n",
        "\n",
        "*   create an instance of `iminuit.Minuit` class\n",
        "*   give it an instance to the function to be minimized\n",
        "*   set up initial parameter values\n",
        "*   set up parameter limits (optional, recommended)\n",
        "*   set up initial steps for parameter variations (optional)\n",
        "\n",
        "Firstly, let's see which parameters does our PDF have:"
      ]
    },
    {
      "metadata": {
        "id": "moSpx3y6rAhT",
        "colab_type": "code",
        "outputId": "d8555709-a96a-43d2-8124-115915d3be1e",
        "colab": {
          "base_uri": "https://localhost:8080/",
          "height": 34
        }
      },
      "cell_type": "code",
      "source": [
        "print(iminuit.describe(ModelPDF))"
      ],
      "execution_count": 10,
      "outputs": [
        {
          "output_type": "stream",
          "text": [
            "['x', 'mass', 'sigma', 'exp_slope', 'signal_fraction']\n"
          ],
          "name": "stdout"
        }
      ]
    },
    {
      "metadata": {
        "id": "D7fM8SO69qJM",
        "colab_type": "text"
      },
      "cell_type": "markdown",
      "source": [
        "So, for the set of measurements $\\{x_i\\}$ our Likelihood will be a function of the following parameters:\n",
        "```\n",
        "mass\n",
        "sigma\n",
        "exp_slope\n",
        "signal_fraction```"
      ]
    },
    {
      "metadata": {
        "id": "kINi5K4VrDps",
        "colab_type": "code",
        "colab": {}
      },
      "cell_type": "code",
      "source": [
        "# We'll define dictionaries of our parameter values.\n",
        "\n",
        "# This will be our initial guess:\n",
        "initial_par_values = dict(\n",
        "  mass           =120.  ,\n",
        "  sigma          = 25.  ,\n",
        "  exp_slope      =  0.01,\n",
        "  signal_fraction=  0.4 ,\n",
        ")\n",
        "\n",
        "# We'll define the limits:\n",
        "limits = dict(\n",
        "  limit_mass           =(50. , 200.),\n",
        "  limit_sigma          =( 3. , 150.),\n",
        "  limit_exp_slope      =(1e-4,   1.),\n",
        "  limit_signal_fraction=( 0. ,   1.),\n",
        ")\n",
        "\n",
        "# And initial variation steps:\n",
        "errors = dict(\n",
        "  error_mass           =10.  ,\n",
        "  error_sigma          =10.  ,\n",
        "  error_exp_slope      =0.005,\n",
        "  error_signal_fraction=0.2  ,\n",
        ")\n",
        "\n",
        "# Finally, let's create the minimizer:\n",
        "minuit = iminuit.Minuit(\n",
        "            unbinned_likelihood, **initial_par_values, **limits, **errors)\n",
        "\n",
        "\n",
        "# N.B. If you're not familiar with the `func(**arg)` notation,\n",
        "# the following two code snippets do the same thing:\n",
        "#\n",
        "#     arg = dict(x=1, y=2)\n",
        "#     func(**arg)\n",
        "#\n",
        "# and\n",
        "#\n",
        "#     func(x=1, y=1)\n",
        "#\n",
        "# except that in the first case you also get a dictionary `arg` with the\n",
        "# following content:\n",
        "#\n",
        "#     {'x' : 1, 'y' : 2}"
      ],
      "execution_count": 0,
      "outputs": []
    },
    {
      "metadata": {
        "id": "WHXhwvHS_5kZ",
        "colab_type": "text"
      },
      "cell_type": "markdown",
      "source": [
        "OK, let's see how good our guess was:"
      ]
    },
    {
      "metadata": {
        "id": "iwS7VDDNrEZy",
        "colab_type": "code",
        "outputId": "37d1cfeb-1697-48de-cd60-5132a3624571",
        "colab": {
          "base_uri": "https://localhost:8080/",
          "height": 265
        }
      },
      "cell_type": "code",
      "source": [
        "unbinned_likelihood.draw(minuit=minuit);"
      ],
      "execution_count": 12,
      "outputs": [
        {
          "output_type": "display_data",
          "data": {
            "image/png": "[encoded data removed]",
            "text/plain": [
              "<matplotlib.figure.Figure at 0x7f8db714f2b0>"
            ]
          },
          "metadata": {
            "tags": []
          }
        }
      ]
    },
    {
      "metadata": {
        "id": "lyvvM7LmABqi",
        "colab_type": "text"
      },
      "cell_type": "markdown",
      "source": [
        "Not perfect. Now, let's run the minimization algorithm:"
      ]
    },
    {
      "metadata": {
        "id": "uB5Fyr9Cqro2",
        "colab_type": "code",
        "outputId": "33b0823c-cb3c-4e06-ad26-0a1803f824f6",
        "colab": {
          "base_uri": "https://localhost:8080/",
          "height": 303
        }
      },
      "cell_type": "code",
      "source": [
        "%timeit -n1 -r1 minuit.migrad();\n",
        "\n",
        "# N.B. `%timeit` is a useful IPython magic that allows\n",
        "# to estimate how much time a python command takes.\n",
        "# By default it loops the command several times; in order\n",
        "# to avoid that we've provided the `-n1 -r1` arguments."
      ],
      "execution_count": 13,
      "outputs": [
        {
          "output_type": "display_data",
          "data": {
            "text/html": [
              "<hr>"
            ]
          },
          "metadata": {
            "tags": []
          }
        },
        {
          "output_type": "display_data",
          "data": {
            "text/html": [
              "<table>\n",
              "    <tr>\n",
              "        <td title=\"Minimum value of function\">FCN = 417313.67509374203</td>\n",
              "        <td title=\"Total number of call to FCN so far\">TOTAL NCALL = 160</td>\n",
              "        <td title=\"Number of call in last migrad\">NCALLS = 160</td>\n",
              "    </tr>\n",
              "    <tr>\n",
              "        <td title=\"Estimated distance to minimum\">EDM = 1.2841551751497155e-05</td>\n",
              "        <td title=\"Maximum EDM definition of convergence\">GOAL EDM = 5e-06</td>\n",
              "        <td title=\"Error def. Amount of increase in FCN to be defined as 1 standard deviation\">\n",
              "        UP = 0.5</td>\n",
              "    </tr>\n",
              "</table>\n",
              "<table>\n",
              "    <tr>\n",
              "        <td align=\"center\" title=\"Validity of the migrad call\">Valid</td>\n",
              "        <td align=\"center\" title=\"Validity of parameters\">Valid Param</td>\n",
              "        <td align=\"center\" title=\"Is Covariance matrix accurate?\">Accurate Covar</td>\n",
              "        <td align=\"center\" title=\"Positive definiteness of covariance matrix\">PosDef</td>\n",
              "        <td align=\"center\" title=\"Was covariance matrix made posdef by adding diagonal element\">Made PosDef</td>\n",
              "    </tr>\n",
              "    <tr>\n",
              "        <td align=\"center\" style=\"background-color:#92CCA6\">True</td>\n",
              "        <td align=\"center\" style=\"background-color:#92CCA6\">True</td>\n",
              "        <td align=\"center\" style=\"background-color:#92CCA6\">True</td>\n",
              "        <td align=\"center\" style=\"background-color:#92CCA6\">True</td>\n",
              "        <td align=\"center\" style=\"background-color:#92CCA6\">False</td>\n",
              "    </tr>\n",
              "    <tr>\n",
              "        <td align=\"center\" title=\"Was last hesse call fail?\">Hesse Fail</td>\n",
              "        <td align=\"center\" title=\"Validity of covariance\">HasCov</td>\n",
              "        <td align=\"center\" title=\"Is EDM above goal EDM?\">Above EDM</td>\n",
              "        <td align=\"center\"></td>\n",
              "        <td align=\"center\" title=\"Did last migrad call reach max call limit?\">Reach calllim</td>\n",
              "    </tr>\n",
              "    <tr>\n",
              "        <td align=\"center\" style=\"background-color:#92CCA6\">False</td>\n",
              "        <td align=\"center\" style=\"background-color:#92CCA6\">True</td>\n",
              "        <td align=\"center\" style=\"background-color:#92CCA6\">False</td>\n",
              "        <td align=\"center\"></td>\n",
              "        <td align=\"center\" style=\"background-color:#92CCA6\">False</td>\n",
              "    </tr>\n",
              "</table>"
            ]
          },
          "metadata": {
            "tags": []
          }
        },
        {
          "output_type": "display_data",
          "data": {
            "text/html": [
              "<table>\n",
              "    <tr>\n",
              "        <td><a href=\"#\" onclick=\"$('#aAIWpTiXvO').toggle()\">+</a></td>\n",
              "        <td title=\"Variable name\">Name</td>\n",
              "        <td title=\"Value of parameter\">Value</td>\n",
              "        <td title=\"Hesse error\">Hesse Error</td>\n",
              "        <td title=\"Minos lower error\">Minos Error-</td>\n",
              "        <td title=\"Minos upper error\">Minos Error+</td>\n",
              "        <td title=\"Lower limit of the parameter\">Limit-</td>\n",
              "        <td title=\"Upper limit of the parameter\">Limit+</td>\n",
              "        <td title=\"Is the parameter fixed in the fit\">Fixed?</td>\n",
              "    </tr>\n",
              "    <tr>\n",
              "        <td>0</td>\n",
              "        <td>mass</td>\n",
              "        <td>124.947</td>\n",
              "        <td>0.301235</td>\n",
              "        <td></td>\n",
              "        <td></td>\n",
              "        <td>50</td>\n",
              "        <td>200</td>\n",
              "        <td>No</td>\n",
              "    </tr>\n",
              "    <tr>\n",
              "        <td>1</td>\n",
              "        <td>sigma</td>\n",
              "        <td>15.2764</td>\n",
              "        <td>0.334033</td>\n",
              "        <td></td>\n",
              "        <td></td>\n",
              "        <td>3</td>\n",
              "        <td>150</td>\n",
              "        <td>No</td>\n",
              "    </tr>\n",
              "    <tr>\n",
              "        <td>2</td>\n",
              "        <td>exp_slope</td>\n",
              "        <td>0.0126132</td>\n",
              "        <td>0.00010614</td>\n",
              "        <td></td>\n",
              "        <td></td>\n",
              "        <td>0.0001</td>\n",
              "        <td>1</td>\n",
              "        <td>No</td>\n",
              "    </tr>\n",
              "    <tr>\n",
              "        <td>3</td>\n",
              "        <td>signal_fraction</td>\n",
              "        <td>0.125816</td>\n",
              "        <td>0.00293335</td>\n",
              "        <td></td>\n",
              "        <td></td>\n",
              "        <td>0</td>\n",
              "        <td>1</td>\n",
              "        <td>No</td>\n",
              "    </tr>\n",
              "</table>\n",
              "<pre id=\"aAIWpTiXvO\" style=\"display:none;\">\n",
              "<textarea rows=\"14\" cols=\"50\" onclick=\"this.select()\" readonly>\n",
              "\\begin{tabular}{|c|r|r|r|r|r|r|r|c|}\n",
              "\\hline\n",
              " & Name & Value & Hesse Error & Minos Error- & Minos Error+ & Limit- & Limit+ & Fixed?\\\\\n",
              "\\hline\n",
              "0 & mass & 124.947 & 0.301235 &  &  & 50.0 & 200 & No\\\\\n",
              "\\hline\n",
              "1 & $\\sigma$ & 15.2764 & 0.334033 &  &  & 3.0 & 150 & No\\\\\n",
              "\\hline\n",
              "2 & $exp_{slope}$ & 0.0126132 & 0.00010614 &  &  & 0.0001 & 1 & No\\\\\n",
              "\\hline\n",
              "3 & $signal_{fraction}$ & 0.125816 & 0.00293335 &  &  & 0.0 & 1 & No\\\\\n",
              "\\hline\n",
              "\\end{tabular}\n",
              "</textarea>\n",
              "</pre>"
            ]
          },
          "metadata": {
            "tags": []
          }
        },
        {
          "output_type": "display_data",
          "data": {
            "text/html": [
              "<hr>"
            ]
          },
          "metadata": {
            "tags": []
          }
        },
        {
          "output_type": "stream",
          "text": [
            "1 loop, best of 1: 35.6 s per loop\n"
          ],
          "name": "stdout"
        }
      ]
    },
    {
      "metadata": {
        "id": "IPEnmrYsA-pk",
        "colab_type": "text"
      },
      "cell_type": "markdown",
      "source": [
        "Nice! It also print's out the results. You want to make sure that the fit was successful (Valid == True), that none of your parameters has hit it's range limits, and also that the error matrix is positively defined (PosDef = True).\n",
        "\n",
        "Now, let's plot the result:"
      ]
    },
    {
      "metadata": {
        "id": "WAQnSUhmjlal",
        "colab_type": "code",
        "outputId": "945f8918-e241-4389-8d7c-f21aa4ef37f8",
        "colab": {
          "base_uri": "https://localhost:8080/",
          "height": 265
        }
      },
      "cell_type": "code",
      "source": [
        "# We've already used this function to plot our PDF against the data before.\n",
        "# Now we've added a few parameters:\n",
        "#   `parts=True` enables different components drawing, i.e. we'll see the\n",
        "#                exponent and Gaussian independently\n",
        "#   `parmloc` specifies where the fitted parameters printout will be located.\n",
        "unbinned_likelihood.draw(minuit=minuit, parts=True, parmloc=(0.45, 0.95));"
      ],
      "execution_count": 14,
      "outputs": [
        {
          "output_type": "display_data",
          "data": {
            "image/png": "[encoded data removed]",
            "text/plain": [
              "<matplotlib.figure.Figure at 0x7f8db714f278>"
            ]
          },
          "metadata": {
            "tags": []
          }
        }
      ]
    },
    {
      "metadata": {
        "id": "dPL-T8sVCyyP",
        "colab_type": "text"
      },
      "cell_type": "markdown",
      "source": [
        "# Bonus part: speeding things up with Cython\n",
        "\n",
        "[Cython](https://cython.org/) is an extension that allows you to convert python-like code to C, compile it and import the resulting objects back into your python session."
      ]
    },
    {
      "metadata": {
        "id": "lIfO270Nj9Xj",
        "colab_type": "code",
        "colab": {}
      },
      "cell_type": "code",
      "source": [
        "!pip install Cython\n",
        "%load_ext Cython"
      ],
      "execution_count": 0,
      "outputs": []
    },
    {
      "metadata": {
        "id": "fDaFzccnFC8p",
        "colab_type": "code",
        "colab": {}
      },
      "cell_type": "code",
      "source": [
        "%%cython\n",
        "\n",
        "cimport cython\n",
        "from libc.math cimport exp, M_PI, sqrt\n",
        "\n",
        "@cython.binding(True)\n",
        "def gauss_pdf_cython(double x, double mass, double sigma):\n",
        "  return 1 / sqrt(2 * M_PI) / sigma * exp(-(x - mass)**2 / 2. / sigma**2)\n",
        "\n",
        "@cython.binding(True)\n",
        "def exp_pdf_cython(double x, double exp_slope):\n",
        "  return exp(-exp_slope * x) * exp_slope"
      ],
      "execution_count": 0,
      "outputs": []
    },
    {
      "metadata": {
        "id": "utvt1Aomntvv",
        "colab_type": "code",
        "outputId": "70b95be3-8b8c-41c9-eac7-2686d37b6fbb",
        "colab": {
          "base_uri": "https://localhost:8080/",
          "height": 34
        }
      },
      "cell_type": "code",
      "source": [
        "gauss_pdf_cython_normed = probfit.Normalized(gauss_pdf_cython, mass_bound)\n",
        "exp_pdf_cython_normed   = probfit.Normalized(exp_pdf_cython  , mass_bound)\n",
        "\n",
        "\n",
        "ModelPDF_cython = probfit.AddPdfNorm(gauss_pdf_cython_normed,\n",
        "                                     exp_pdf_cython_normed,\n",
        "                                     facname=['signal_fraction'])\n",
        "print(iminuit.describe(ModelPDF_cython))"
      ],
      "execution_count": 17,
      "outputs": [
        {
          "output_type": "stream",
          "text": [
            "['x', 'mass', 'sigma', 'exp_slope', 'signal_fraction']\n"
          ],
          "name": "stdout"
        }
      ]
    },
    {
      "metadata": {
        "id": "knj0fVSRnthG",
        "colab_type": "code",
        "outputId": "4d6002de-763e-470c-b462-fcbe6a8c5f89",
        "colab": {
          "base_uri": "https://localhost:8080/",
          "height": 265
        }
      },
      "cell_type": "code",
      "source": [
        "unbinned_likelihood_cython = probfit.UnbinnedLH(ModelPDF_cython, data)\n",
        "\n",
        "minuit_cython = iminuit.Minuit(\n",
        "                    unbinned_likelihood_cython,\n",
        "                    **initial_par_values, **limits, **errors)\n",
        "\n",
        "unbinned_likelihood_cython.draw(minuit=minuit_cython);"
      ],
      "execution_count": 18,
      "outputs": [
        {
          "output_type": "display_data",
          "data": {
            "image/png": "[encoded data removed]",
            "text/plain": [
              "<matplotlib.figure.Figure at 0x7f8db5f86ac8>"
            ]
          },
          "metadata": {
            "tags": []
          }
        }
      ]
    },
    {
      "metadata": {
        "id": "RlO8mqHhntWg",
        "colab_type": "code",
        "outputId": "dee8b2d9-439c-4e6a-f08f-d429e08cf264",
        "colab": {
          "base_uri": "https://localhost:8080/",
          "height": 303
        }
      },
      "cell_type": "code",
      "source": [
        "%timeit -n1 -r1 minuit_cython.migrad();"
      ],
      "execution_count": 19,
      "outputs": [
        {
          "output_type": "display_data",
          "data": {
            "text/html": [
              "<hr>"
            ]
          },
          "metadata": {
            "tags": []
          }
        },
        {
          "output_type": "display_data",
          "data": {
            "text/html": [
              "<table>\n",
              "    <tr>\n",
              "        <td title=\"Minimum value of function\">FCN = 417313.6750937433</td>\n",
              "        <td title=\"Total number of call to FCN so far\">TOTAL NCALL = 160</td>\n",
              "        <td title=\"Number of call in last migrad\">NCALLS = 160</td>\n",
              "    </tr>\n",
              "    <tr>\n",
              "        <td title=\"Estimated distance to minimum\">EDM = 1.2841585879563898e-05</td>\n",
              "        <td title=\"Maximum EDM definition of convergence\">GOAL EDM = 5e-06</td>\n",
              "        <td title=\"Error def. Amount of increase in FCN to be defined as 1 standard deviation\">\n",
              "        UP = 0.5</td>\n",
              "    </tr>\n",
              "</table>\n",
              "<table>\n",
              "    <tr>\n",
              "        <td align=\"center\" title=\"Validity of the migrad call\">Valid</td>\n",
              "        <td align=\"center\" title=\"Validity of parameters\">Valid Param</td>\n",
              "        <td align=\"center\" title=\"Is Covariance matrix accurate?\">Accurate Covar</td>\n",
              "        <td align=\"center\" title=\"Positive definiteness of covariance matrix\">PosDef</td>\n",
              "        <td align=\"center\" title=\"Was covariance matrix made posdef by adding diagonal element\">Made PosDef</td>\n",
              "    </tr>\n",
              "    <tr>\n",
              "        <td align=\"center\" style=\"background-color:#92CCA6\">True</td>\n",
              "        <td align=\"center\" style=\"background-color:#92CCA6\">True</td>\n",
              "        <td align=\"center\" style=\"background-color:#92CCA6\">True</td>\n",
              "        <td align=\"center\" style=\"background-color:#92CCA6\">True</td>\n",
              "        <td align=\"center\" style=\"background-color:#92CCA6\">False</td>\n",
              "    </tr>\n",
              "    <tr>\n",
              "        <td align=\"center\" title=\"Was last hesse call fail?\">Hesse Fail</td>\n",
              "        <td align=\"center\" title=\"Validity of covariance\">HasCov</td>\n",
              "        <td align=\"center\" title=\"Is EDM above goal EDM?\">Above EDM</td>\n",
              "        <td align=\"center\"></td>\n",
              "        <td align=\"center\" title=\"Did last migrad call reach max call limit?\">Reach calllim</td>\n",
              "    </tr>\n",
              "    <tr>\n",
              "        <td align=\"center\" style=\"background-color:#92CCA6\">False</td>\n",
              "        <td align=\"center\" style=\"background-color:#92CCA6\">True</td>\n",
              "        <td align=\"center\" style=\"background-color:#92CCA6\">False</td>\n",
              "        <td align=\"center\"></td>\n",
              "        <td align=\"center\" style=\"background-color:#92CCA6\">False</td>\n",
              "    </tr>\n",
              "</table>"
            ]
          },
          "metadata": {
            "tags": []
          }
        },
        {
          "output_type": "display_data",
          "data": {
            "text/html": [
              "<table>\n",
              "    <tr>\n",
              "        <td><a href=\"#\" onclick=\"$('#YFXyAOPGXa').toggle()\">+</a></td>\n",
              "        <td title=\"Variable name\">Name</td>\n",
              "        <td title=\"Value of parameter\">Value</td>\n",
              "        <td title=\"Hesse error\">Hesse Error</td>\n",
              "        <td title=\"Minos lower error\">Minos Error-</td>\n",
              "        <td title=\"Minos upper error\">Minos Error+</td>\n",
              "        <td title=\"Lower limit of the parameter\">Limit-</td>\n",
              "        <td title=\"Upper limit of the parameter\">Limit+</td>\n",
              "        <td title=\"Is the parameter fixed in the fit\">Fixed?</td>\n",
              "    </tr>\n",
              "    <tr>\n",
              "        <td>0</td>\n",
              "        <td>mass</td>\n",
              "        <td>124.947</td>\n",
              "        <td>0.301235</td>\n",
              "        <td></td>\n",
              "        <td></td>\n",
              "        <td>50</td>\n",
              "        <td>200</td>\n",
              "        <td>No</td>\n",
              "    </tr>\n",
              "    <tr>\n",
              "        <td>1</td>\n",
              "        <td>sigma</td>\n",
              "        <td>15.2764</td>\n",
              "        <td>0.334033</td>\n",
              "        <td></td>\n",
              "        <td></td>\n",
              "        <td>3</td>\n",
              "        <td>150</td>\n",
              "        <td>No</td>\n",
              "    </tr>\n",
              "    <tr>\n",
              "        <td>2</td>\n",
              "        <td>exp_slope</td>\n",
              "        <td>0.0126132</td>\n",
              "        <td>0.00010614</td>\n",
              "        <td></td>\n",
              "        <td></td>\n",
              "        <td>0.0001</td>\n",
              "        <td>1</td>\n",
              "        <td>No</td>\n",
              "    </tr>\n",
              "    <tr>\n",
              "        <td>3</td>\n",
              "        <td>signal_fraction</td>\n",
              "        <td>0.125816</td>\n",
              "        <td>0.00293335</td>\n",
              "        <td></td>\n",
              "        <td></td>\n",
              "        <td>0</td>\n",
              "        <td>1</td>\n",
              "        <td>No</td>\n",
              "    </tr>\n",
              "</table>\n",
              "<pre id=\"YFXyAOPGXa\" style=\"display:none;\">\n",
              "<textarea rows=\"14\" cols=\"50\" onclick=\"this.select()\" readonly>\n",
              "\\begin{tabular}{|c|r|r|r|r|r|r|r|c|}\n",
              "\\hline\n",
              " & Name & Value & Hesse Error & Minos Error- & Minos Error+ & Limit- & Limit+ & Fixed?\\\\\n",
              "\\hline\n",
              "0 & mass & 124.947 & 0.301235 &  &  & 50.0 & 200 & No\\\\\n",
              "\\hline\n",
              "1 & $\\sigma$ & 15.2764 & 0.334033 &  &  & 3.0 & 150 & No\\\\\n",
              "\\hline\n",
              "2 & $exp_{slope}$ & 0.0126132 & 0.00010614 &  &  & 0.0001 & 1 & No\\\\\n",
              "\\hline\n",
              "3 & $signal_{fraction}$ & 0.125816 & 0.00293335 &  &  & 0.0 & 1 & No\\\\\n",
              "\\hline\n",
              "\\end{tabular}\n",
              "</textarea>\n",
              "</pre>"
            ]
          },
          "metadata": {
            "tags": []
          }
        },
        {
          "output_type": "display_data",
          "data": {
            "text/html": [
              "<hr>"
            ]
          },
          "metadata": {
            "tags": []
          }
        },
        {
          "output_type": "stream",
          "text": [
            "1 loop, best of 1: 15.7 s per loop\n"
          ],
          "name": "stdout"
        }
      ]
    },
    {
      "metadata": {
        "id": "_UgOmSGEj9Ej",
        "colab_type": "code",
        "outputId": "74ba4ace-51ed-4dc5-b88d-56d7ff2a59c5",
        "colab": {
          "base_uri": "https://localhost:8080/",
          "height": 265
        }
      },
      "cell_type": "code",
      "source": [
        "unbinned_likelihood_cython.draw(minuit=minuit_cython, parts=True, parmloc=(0.45, 0.95));"
      ],
      "execution_count": 20,
      "outputs": [
        {
          "output_type": "display_data",
          "data": {
            "image/png": "[encoded data removed]",
            "text/plain": [
              "<matplotlib.figure.Figure at 0x7f8db5f86d30>"
            ]
          },
          "metadata": {
            "tags": []
          }
        }
      ]
    }
  ]
}