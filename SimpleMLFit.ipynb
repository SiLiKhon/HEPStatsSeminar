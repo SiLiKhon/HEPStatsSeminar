{
  "nbformat": 4,
  "nbformat_minor": 0,
  "metadata": {
    "colab": {
      "name": "SimpleMLFit.ipynb",
      "version": "0.3.2",
      "provenance": [],
      "collapsed_sections": [],
      "toc_visible": true,
      "include_colab_link": true
    },
    "kernelspec": {
      "name": "python3",
      "display_name": "Python 3"
    }
  },
  "cells": [
    {
      "cell_type": "markdown",
      "metadata": {
        "id": "view-in-github",
        "colab_type": "text"
      },
      "source": [
        "<a href=\"https://colab.research.google.com/github/SiLiKhon/HEPStatsSeminar/blob/master/SimpleMLFit.ipynb\" target=\"_parent\"><img src=\"https://colab.research.google.com/assets/colab-badge.svg\" alt=\"Open In Colab\"/></a>"
      ]
    },
    {
      "metadata": {
        "id": "6XIaSpYS6WFC",
        "colab_type": "text"
      },
      "cell_type": "markdown",
      "source": [
        "# Let's do a Maximum Likelihood fit!\n",
        "\n",
        "\n",
        "---\n",
        "\n",
        "\n",
        "We'll need an extra package called `probfit` which is not available by default. It takes some time to install, so please run the installation command now:"
      ]
    },
    {
      "metadata": {
        "id": "ahiuQPaKhW5m",
        "colab_type": "code",
        "colab": {
          "base_uri": "https://localhost:8080/",
          "height": 207
        },
        "outputId": "9c465dd4-4262-4c3a-fc5f-a2cdda5d4899"
      },
      "cell_type": "code",
      "source": [
        "!pip install probfit"
      ],
      "execution_count": 1,
      "outputs": [
        {
          "output_type": "stream",
          "text": [
            "Requirement already satisfied: probfit in /usr/local/lib/python3.6/dist-packages (1.1.0)\n",
            "Requirement already satisfied: matplotlib in /usr/local/lib/python3.6/dist-packages (from probfit) (2.1.2)\n",
            "Requirement already satisfied: iminuit in /usr/local/lib/python3.6/dist-packages (from probfit) (1.3.3)\n",
            "Requirement already satisfied: setuptools in /usr/local/lib/python3.6/dist-packages (from probfit) (40.5.0)\n",
            "Requirement already satisfied: numpy in /usr/local/lib/python3.6/dist-packages (from probfit) (1.14.6)\n",
            "Requirement already satisfied: cycler>=0.10 in /usr/local/lib/python3.6/dist-packages (from matplotlib->probfit) (0.10.0)\n",
            "Requirement already satisfied: six>=1.10 in /usr/local/lib/python3.6/dist-packages (from matplotlib->probfit) (1.11.0)\n",
            "Requirement already satisfied: python-dateutil>=2.1 in /usr/local/lib/python3.6/dist-packages (from matplotlib->probfit) (2.5.3)\n",
            "Requirement already satisfied: pytz in /usr/local/lib/python3.6/dist-packages (from matplotlib->probfit) (2018.7)\n",
            "Requirement already satisfied: pyparsing!=2.0.4,!=2.1.2,!=2.1.6,>=2.0.1 in /usr/local/lib/python3.6/dist-packages (from matplotlib->probfit) (2.3.0)\n"
          ],
          "name": "stdout"
        }
      ]
    },
    {
      "metadata": {
        "id": "ssW-O_gm7oQd",
        "colab_type": "text"
      },
      "cell_type": "markdown",
      "source": [
        "## What we'll need\n",
        "\n",
        "\n",
        "---\n",
        "\n",
        "\n",
        "\n",
        "*   ### Get and select the data\n",
        "*   ### Define the likelihood function\n",
        "*   ### Maximize it (minimize negative likelihood)\n",
        "*   ### Plot the result\n",
        "\n"
      ]
    },
    {
      "metadata": {
        "id": "lTG8qhewiMp5",
        "colab_type": "code",
        "colab": {}
      },
      "cell_type": "code",
      "source": [
        "# We'll store and handle our data with numpy.\n",
        "#\n",
        "# Also, we'll start by working with 'toy' data, i.e. we are\n",
        "# going to randomly generate our data - we'll use numpy for\n",
        "# that as well.\n",
        "import numpy as np\n",
        "\n",
        "# The plotting will be done in matplotlib:\n",
        "import matplotlib.pyplot as plt\n",
        "\n",
        "# And we need this %matplotlib magic call so that the result\n",
        "# is plotted automatically after cell exectution,\n",
        "# without having to write 'plt.show()' explicitly each time:\n",
        "%matplotlib inline"
      ],
      "execution_count": 0,
      "outputs": []
    },
    {
      "metadata": {
        "id": "Ut8EMzUeXXxL",
        "colab_type": "text"
      },
      "cell_type": "markdown",
      "source": [
        "## Toy data\n",
        "\n",
        "\n",
        "---\n",
        "\n",
        "\n",
        "In reality we don't usually detect just the decays we are looking for. Usually, there are also other processes that have the same signature as the process of interest, and there is no deterministic way to tell them apart.\n",
        "\n",
        "\n",
        "Let's emulate this in our toy data!"
      ]
    },
    {
      "metadata": {
        "id": "KzYUeO6hVvxp",
        "colab_type": "code",
        "colab": {
          "base_uri": "https://localhost:8080/",
          "height": 68
        },
        "outputId": "cd02b9e5-2c09-4692-d298-7d044a90952e"
      },
      "cell_type": "code",
      "source": [
        "# Say, there's some particle with a mass of 125.18 GeV,\n",
        "# which we can only measure with an uncertainty of 15 GeV:\n",
        "signal = np.random.normal(loc=125.18, scale=15., size=10000)\n",
        "\n",
        "# Then, imagine there are some continuous backgound processes\n",
        "# with the same signature, which contribute to our particle\n",
        "# mass measurement and are distributed as decaying exponent:\n",
        "background = np.random.exponential(scale=80., size=90000)\n",
        "\n",
        "# In real life there's no deterministic way to tell them apart,\n",
        "# as they are 'shuffled' together:\n",
        "data = np.concatenate([signal, background])\n",
        "np.random.shuffle(data)\n",
        "\n",
        "print(\"data.shape = {}\".format(data.shape))\n",
        "print(\"data = {}\".format(data))"
      ],
      "execution_count": 3,
      "outputs": [
        {
          "output_type": "stream",
          "text": [
            "data.shape = (100000,)\n",
            "data = [193.76507314  93.15063058  68.18815235 ... 214.58647969 235.50053469\n",
            " 319.17791603]\n"
          ],
          "name": "stdout"
        }
      ]
    },
    {
      "metadata": {
        "id": "ZrFC5aWRbmHK",
        "colab_type": "text"
      },
      "cell_type": "markdown",
      "source": [
        "Now, `data` is a 1-dimentional array each element of which represents distinct mass measurements. Let's see what it looks like:"
      ]
    },
    {
      "metadata": {
        "id": "akhdkRETibVC",
        "colab_type": "code",
        "outputId": "f7b8c606-dc57-4f7a-efb1-bd5edeea4a68",
        "colab": {
          "base_uri": "https://localhost:8080/",
          "height": 265
        }
      },
      "cell_type": "code",
      "source": [
        "# Plotting a histogram of data with 100 bins.\n",
        "# ('alpha=0.8' is just a little drawing tweak making\n",
        "# our histogram 80% opaque / 20% transparent)\n",
        "plt.hist(data, bins=100, alpha=0.8);"
      ],
      "execution_count": 4,
      "outputs": [
        {
          "output_type": "display_data",
          "data": {
            "image/png": "[encoded data removed]",
            "text/plain": [
              "<matplotlib.figure.Figure at 0x7f524242b828>"
            ]
          },
          "metadata": {
            "tags": []
          }
        }
      ]
    },
    {
      "metadata": {
        "id": "fqNpq8_ReSOz",
        "colab_type": "text"
      },
      "cell_type": "markdown",
      "source": [
        "OK, that's nice, but we probably don't need such a wide range. Let's only select the data from 10 to 200 GeV:"
      ]
    },
    {
      "metadata": {
        "id": "-4gXWe-eeR-v",
        "colab_type": "code",
        "colab": {
          "base_uri": "https://localhost:8080/",
          "height": 265
        },
        "outputId": "f21c06f0-799c-4797-f2bb-c50a99484a4d"
      },
      "cell_type": "code",
      "source": [
        "# We'll define a tuple with our selection range, as\n",
        "# this will come in handy later\n",
        "mass_bound = (10., 200.)\n",
        "\n",
        "data = data[(data > mass_bound[0]) & (data < mass_bound[1])]\n",
        "plt.hist(data, bins=100, alpha=0.8);"
      ],
      "execution_count": 5,
      "outputs": [
        {
          "output_type": "display_data",
          "data": {
            "image/png": "[encoded data removed]",
            "text/plain": [
              "<matplotlib.figure.Figure at 0x7f524198cdd8>"
            ]
          },
          "metadata": {
            "tags": []
          }
        }
      ]
    },
    {
      "metadata": {
        "id": "SlIsKiDXri6a",
        "colab_type": "text"
      },
      "cell_type": "markdown",
      "source": [
        "## Defining the model PDF and Likelihood functions\n",
        "\n",
        "\n",
        "---\n",
        "\n",
        "\n",
        "OK, remember we installed something at the beginning of the section? It was `probfit` — a package that makes PDF and Likelihood definition realy easy (see [this page](https://probfit.readthedocs.io/en/latest/index.html) for more details; they also have a good [tutorial here](http://nbviewer.ipython.org/urls/raw.github.com/scikit-hep/probfit/master/tutorial/tutorial.ipynb)). Let's import the package:"
      ]
    },
    {
      "metadata": {
        "id": "s29CZe5zguZk",
        "colab_type": "code",
        "colab": {}
      },
      "cell_type": "code",
      "source": [
        "import probfit"
      ],
      "execution_count": 0,
      "outputs": []
    },
    {
      "metadata": {
        "id": "H6Ga5lxttCYz",
        "colab_type": "text"
      },
      "cell_type": "markdown",
      "source": [
        "PDFs can just be python functions with the following signature:\n",
        "\n",
        "`function_name(x, param1, param2, ...)`\n",
        "\n",
        "However, one has to make sure they integrate up to 1:\n",
        "$$\\int_{\\text{domain}}\\text{PDF}(x)dx = 1$$\n",
        "\n",
        "Since we've selected our data to be in the interval $(10, 200)~$GeV, we have to normalize our PDFs such that\n",
        "$$\\int_{10~\\text{GeV}}^{200~\\text{GeV}}\\text{PDF}(x)dx = 1$$\n",
        "\n",
        "As our data is a mixture of a peaking signal and a continuous background, we'll define the PDF in the following form:\n",
        "$$\\text{PDF}(x|m,\\sigma,k, f_{\\text{sig}}) = \n",
        "f_{\\text{sig}}\\cdot N(x|m, \\sigma) +\n",
        "(1 - f_{\\text{sig}})\\cdot k e^{-kx},$$\n",
        "where:\n",
        "\n",
        "\n",
        "*   $x$ is the value of mass from an individual measurement\n",
        "*   $m$ is the actual mass of the decaying particle\n",
        "*   $sigma$ is detector resolution\n",
        "*   $N(x|m, \\sigma)$ is normal (Gaussian) distribution\n",
        "*   $k$ is the empirical background slope\n",
        "*   $f_{\\text{sig}}$ is the fraction of signal in the mixture\n",
        "\n"
      ]
    },
    {
      "metadata": {
        "id": "HgojAu5U0gk3",
        "colab_type": "code",
        "colab": {}
      },
      "cell_type": "code",
      "source": [
        "# For the Gaussian we'll use the function already defined in\n",
        "# probfit and just wrap it around our custom python function\n",
        "# to rename the parameters\n",
        "def SignalPDF(x, mass, sigma):\n",
        "  return probfit.gaussian(x, mass, sigma)\n",
        "\n",
        "# As for the exponential function, we'll define it ourselves\n",
        "def BgPDF(x, exp_slope):\n",
        "  return exp_slope * np.exp(-exp_slope * x)\n",
        "\n",
        "# So far our functions are normalized differently:\n",
        "#     SignalPDF is normalized for x in [-infinity, +infinity]\n",
        "#     BgPDF is normalized for x in [0 GeV, +infinity]\n",
        "# We need them both to be normalized for x in [10, 200] GeV.\n",
        "\n",
        "# Luckily, probfit has a convinient 'Normalize' class for that:\n",
        "SignalPDF_normed = probfit.Normalized(SignalPDF, mass_bound)\n",
        "BgPDF_normed     = probfit.Normalized(BgPDF    , mass_bound)\n",
        "\n",
        "# There's also a ready to use class to combine several PDFs in a sum:\n",
        "ModelPDF = probfit.AddPdfNorm(SignalPDF_normed,\n",
        "                              BgPDF_normed,\n",
        "                              facname=['signal_fraction'])\n",
        "# OK, our PDF is ready!"
      ],
      "execution_count": 0,
      "outputs": []
    },
    {
      "metadata": {
        "id": "qJquCQIM0kzE",
        "colab_type": "text"
      },
      "cell_type": "markdown",
      "source": [
        "Now we have to define the likelihood function for a set of measurements $\\{x_i\\}$:\n",
        "$$\\mathscr{L}(m,\\sigma,k, f_{\\text{sig}}) = \\prod_i{\\text{PDF}(x_i|m,\\sigma,k, f_{\\text{sig}})}$$\n",
        "\n",
        "There's a ready to use class for that as well:"
      ]
    },
    {
      "metadata": {
        "id": "VCK5H4s00lQM",
        "colab_type": "code",
        "colab": {}
      },
      "cell_type": "code",
      "source": [
        "unbinned_likelihood = probfit.UnbinnedLH(ModelPDF, data)"
      ],
      "execution_count": 0,
      "outputs": []
    },
    {
      "metadata": {
        "id": "d54Tdvnnhb7l",
        "colab_type": "code",
        "colab": {}
      },
      "cell_type": "code",
      "source": [
        "import iminuit"
      ],
      "execution_count": 0,
      "outputs": []
    },
    {
      "metadata": {
        "id": "moSpx3y6rAhT",
        "colab_type": "code",
        "outputId": "f8ec59b2-1343-4b66-9f69-ac7640b511ca",
        "colab": {
          "base_uri": "https://localhost:8080/",
          "height": 34
        }
      },
      "cell_type": "code",
      "source": [
        "print(iminuit.describe(ModelPDF))"
      ],
      "execution_count": 37,
      "outputs": [
        {
          "output_type": "stream",
          "text": [
            "['x', 'mass', 'sigma', 'exp_slope', 'signal_fraction']\n"
          ],
          "name": "stdout"
        }
      ]
    },
    {
      "metadata": {
        "id": "kINi5K4VrDps",
        "colab_type": "code",
        "colab": {}
      },
      "cell_type": "code",
      "source": [
        "initial_par_values = dict(\n",
        "  mass           =120.  ,\n",
        "  sigma          = 25.  ,\n",
        "  exp_slope      =  0.01,\n",
        "  signal_fraction=  0.4 ,\n",
        ")\n",
        "\n",
        "limits = dict(\n",
        "  limit_mass           =(50. , 200.),\n",
        "  limit_sigma          =( 3. , 150.),\n",
        "  limit_exp_slope      =(1e-4,   1.),\n",
        "  limit_signal_fraction=( 0. ,   1.),\n",
        ")\n",
        "\n",
        "errors = dict(\n",
        "  error_mass           =10.  ,\n",
        "  error_sigma          =10.  ,\n",
        "  error_exp_slope      =0.005,\n",
        "  error_signal_fraction=0.2  ,\n",
        ")\n",
        "\n",
        "minuit = iminuit.Minuit(\n",
        "            unbinned_likelihood, **initial_par_values, **limits, **errors)"
      ],
      "execution_count": 0,
      "outputs": []
    },
    {
      "metadata": {
        "id": "iwS7VDDNrEZy",
        "colab_type": "code",
        "outputId": "e331bc30-b379-47fd-aa60-389da9ef2fc3",
        "colab": {
          "base_uri": "https://localhost:8080/",
          "height": 265
        }
      },
      "cell_type": "code",
      "source": [
        "unbinned_likelihood.draw(minuit=minuit);"
      ],
      "execution_count": 41,
      "outputs": [
        {
          "output_type": "display_data",
          "data": {
            "image/png": "[encoded data removed]",
            "text/plain": [
              "<matplotlib.figure.Figure at 0x7fb058977c50>"
            ]
          },
          "metadata": {
            "tags": []
          }
        }
      ]
    },
    {
      "metadata": {
        "id": "uB5Fyr9Cqro2",
        "colab_type": "code",
        "outputId": "bcccbcd6-f7b3-4568-feee-863861cf9261",
        "colab": {
          "base_uri": "https://localhost:8080/",
          "height": 303
        }
      },
      "cell_type": "code",
      "source": [
        "%timeit -n1 -r1 minuit.migrad()"
      ],
      "execution_count": 42,
      "outputs": [
        {
          "output_type": "display_data",
          "data": {
            "text/html": [
              "<hr>"
            ]
          },
          "metadata": {
            "tags": []
          }
        },
        {
          "output_type": "display_data",
          "data": {
            "text/html": [
              "<table>\n",
              "    <tr>\n",
              "        <td title=\"Minimum value of function\">FCN = 417366.52378449484</td>\n",
              "        <td title=\"Total number of call to FCN so far\">TOTAL NCALL = 154</td>\n",
              "        <td title=\"Number of call in last migrad\">NCALLS = 154</td>\n",
              "    </tr>\n",
              "    <tr>\n",
              "        <td title=\"Estimated distance to minimum\">EDM = 2.7915249805413848e-06</td>\n",
              "        <td title=\"Maximum EDM definition of convergence\">GOAL EDM = 5e-06</td>\n",
              "        <td title=\"Error def. Amount of increase in FCN to be defined as 1 standard deviation\">\n",
              "        UP = 0.5</td>\n",
              "    </tr>\n",
              "</table>\n",
              "<table>\n",
              "    <tr>\n",
              "        <td align=\"center\" title=\"Validity of the migrad call\">Valid</td>\n",
              "        <td align=\"center\" title=\"Validity of parameters\">Valid Param</td>\n",
              "        <td align=\"center\" title=\"Is Covariance matrix accurate?\">Accurate Covar</td>\n",
              "        <td align=\"center\" title=\"Positive definiteness of covariance matrix\">PosDef</td>\n",
              "        <td align=\"center\" title=\"Was covariance matrix made posdef by adding diagonal element\">Made PosDef</td>\n",
              "    </tr>\n",
              "    <tr>\n",
              "        <td align=\"center\" style=\"background-color:#92CCA6\">True</td>\n",
              "        <td align=\"center\" style=\"background-color:#92CCA6\">True</td>\n",
              "        <td align=\"center\" style=\"background-color:#92CCA6\">True</td>\n",
              "        <td align=\"center\" style=\"background-color:#92CCA6\">True</td>\n",
              "        <td align=\"center\" style=\"background-color:#92CCA6\">False</td>\n",
              "    </tr>\n",
              "    <tr>\n",
              "        <td align=\"center\" title=\"Was last hesse call fail?\">Hesse Fail</td>\n",
              "        <td align=\"center\" title=\"Validity of covariance\">HasCov</td>\n",
              "        <td align=\"center\" title=\"Is EDM above goal EDM?\">Above EDM</td>\n",
              "        <td align=\"center\"></td>\n",
              "        <td align=\"center\" title=\"Did last migrad call reach max call limit?\">Reach calllim</td>\n",
              "    </tr>\n",
              "    <tr>\n",
              "        <td align=\"center\" style=\"background-color:#92CCA6\">False</td>\n",
              "        <td align=\"center\" style=\"background-color:#92CCA6\">True</td>\n",
              "        <td align=\"center\" style=\"background-color:#92CCA6\">False</td>\n",
              "        <td align=\"center\"></td>\n",
              "        <td align=\"center\" style=\"background-color:#92CCA6\">False</td>\n",
              "    </tr>\n",
              "</table>"
            ]
          },
          "metadata": {
            "tags": []
          }
        },
        {
          "output_type": "display_data",
          "data": {
            "text/html": [
              "<table>\n",
              "    <tr>\n",
              "        <td><a href=\"#\" onclick=\"$('#YERONeaGlt').toggle()\">+</a></td>\n",
              "        <td title=\"Variable name\">Name</td>\n",
              "        <td title=\"Value of parameter\">Value</td>\n",
              "        <td title=\"Hesse error\">Hesse Error</td>\n",
              "        <td title=\"Minos lower error\">Minos Error-</td>\n",
              "        <td title=\"Minos upper error\">Minos Error+</td>\n",
              "        <td title=\"Lower limit of the parameter\">Limit-</td>\n",
              "        <td title=\"Upper limit of the parameter\">Limit+</td>\n",
              "        <td title=\"Is the parameter fixed in the fit\">Fixed?</td>\n",
              "    </tr>\n",
              "    <tr>\n",
              "        <td>0</td>\n",
              "        <td>mass</td>\n",
              "        <td>124.91</td>\n",
              "        <td>0.314872</td>\n",
              "        <td></td>\n",
              "        <td></td>\n",
              "        <td>50</td>\n",
              "        <td>200</td>\n",
              "        <td>No</td>\n",
              "    </tr>\n",
              "    <tr>\n",
              "        <td>1</td>\n",
              "        <td>sigma</td>\n",
              "        <td>15.7751</td>\n",
              "        <td>0.357811</td>\n",
              "        <td></td>\n",
              "        <td></td>\n",
              "        <td>3</td>\n",
              "        <td>150</td>\n",
              "        <td>No</td>\n",
              "    </tr>\n",
              "    <tr>\n",
              "        <td>2</td>\n",
              "        <td>exp_slope</td>\n",
              "        <td>0.0125102</td>\n",
              "        <td>0.00010805</td>\n",
              "        <td></td>\n",
              "        <td></td>\n",
              "        <td>0.0001</td>\n",
              "        <td>1</td>\n",
              "        <td>No</td>\n",
              "    </tr>\n",
              "    <tr>\n",
              "        <td>3</td>\n",
              "        <td>signal_fraction</td>\n",
              "        <td>0.126126</td>\n",
              "        <td>0.00305664</td>\n",
              "        <td></td>\n",
              "        <td></td>\n",
              "        <td>0</td>\n",
              "        <td>1</td>\n",
              "        <td>No</td>\n",
              "    </tr>\n",
              "</table>\n",
              "<pre id=\"YERONeaGlt\" style=\"display:none;\">\n",
              "<textarea rows=\"14\" cols=\"50\" onclick=\"this.select()\" readonly>\n",
              "\\begin{tabular}{|c|r|r|r|r|r|r|r|c|}\n",
              "\\hline\n",
              " & Name & Value & Hesse Error & Minos Error- & Minos Error+ & Limit- & Limit+ & Fixed?\\\\\n",
              "\\hline\n",
              "0 & mass & 124.91 & 0.314872 &  &  & 50.0 & 200 & No\\\\\n",
              "\\hline\n",
              "1 & $\\sigma$ & 15.7751 & 0.357811 &  &  & 3.0 & 150 & No\\\\\n",
              "\\hline\n",
              "2 & $exp_{slope}$ & 0.0125102 & 0.00010805 &  &  & 0.0001 & 1 & No\\\\\n",
              "\\hline\n",
              "3 & $signal_{fraction}$ & 0.126126 & 0.00305664 &  &  & 0.0 & 1 & No\\\\\n",
              "\\hline\n",
              "\\end{tabular}\n",
              "</textarea>\n",
              "</pre>"
            ]
          },
          "metadata": {
            "tags": []
          }
        },
        {
          "output_type": "display_data",
          "data": {
            "text/html": [
              "<hr>"
            ]
          },
          "metadata": {
            "tags": []
          }
        },
        {
          "output_type": "stream",
          "text": [
            "1 loop, best of 1: 34.1 s per loop\n"
          ],
          "name": "stdout"
        }
      ]
    },
    {
      "metadata": {
        "id": "WAQnSUhmjlal",
        "colab_type": "code",
        "outputId": "08a8fdc8-3117-4bc3-fe5a-d0a94b7a5baa",
        "colab": {
          "base_uri": "https://localhost:8080/",
          "height": 265
        }
      },
      "cell_type": "code",
      "source": [
        "unbinned_likelihood.draw(minuit=minuit, parts=True, parmloc=(0.45, 0.95));"
      ],
      "execution_count": 47,
      "outputs": [
        {
          "output_type": "display_data",
          "data": {
            "image/png": "[encoded data removed]",
            "text/plain": [
              "<matplotlib.figure.Figure at 0x7fb05890a9e8>"
            ]
          },
          "metadata": {
            "tags": []
          }
        }
      ]
    },
    {
      "metadata": {
        "id": "lIfO270Nj9Xj",
        "colab_type": "code",
        "outputId": "c7505a26-62c0-45fe-aaf6-7c69fb47b020",
        "colab": {
          "base_uri": "https://localhost:8080/",
          "height": 34
        }
      },
      "cell_type": "code",
      "source": [
        "!pip install Cython\n",
        "%load_ext Cython"
      ],
      "execution_count": 48,
      "outputs": [
        {
          "output_type": "stream",
          "text": [
            "Requirement already satisfied: Cython in /usr/local/lib/python3.6/dist-packages (0.29)\n"
          ],
          "name": "stdout"
        }
      ]
    },
    {
      "metadata": {
        "id": "pHUPSauoj9PH",
        "colab_type": "code",
        "colab": {}
      },
      "cell_type": "code",
      "source": [
        "%%cython\n",
        "\n",
        "cimport cython\n",
        "from libc.math cimport exp, M_PI, sqrt\n",
        "\n",
        "@cython.binding(True)\n",
        "def gauss_pdf_cython(double x, double mass, double sigma):\n",
        "  return 1 / sqrt(2 * M_PI) / sigma * exp(-(x - mass)**2 / 2. / sigma**2)\n",
        "\n",
        "@cython.binding(True)\n",
        "def exp_pdf_cython(double x, double exp_slope):\n",
        "  return exp(-exp_slope * x) * exp_slope"
      ],
      "execution_count": 0,
      "outputs": []
    },
    {
      "metadata": {
        "id": "utvt1Aomntvv",
        "colab_type": "code",
        "outputId": "f207c29f-01ad-4eec-8e99-0a5bb447758f",
        "colab": {
          "base_uri": "https://localhost:8080/",
          "height": 34
        }
      },
      "cell_type": "code",
      "source": [
        "gauss_pdf_cython_normed = probfit.Normalized(gauss_pdf_cython, mass_bound)\n",
        "exp_pdf_cython_normed   = probfit.Normalized(exp_pdf_cython  , mass_bound)\n",
        "\n",
        "\n",
        "ModelPDF_cython = probfit.AddPdfNorm(gauss_pdf_cython_normed,\n",
        "                                     exp_pdf_cython_normed,\n",
        "                                     facname=['signal_fraction'])\n",
        "print(iminuit.describe(ModelPDF_cython))"
      ],
      "execution_count": 50,
      "outputs": [
        {
          "output_type": "stream",
          "text": [
            "['x', 'mass', 'sigma', 'exp_slope', 'signal_fraction']\n"
          ],
          "name": "stdout"
        }
      ]
    },
    {
      "metadata": {
        "id": "knj0fVSRnthG",
        "colab_type": "code",
        "outputId": "d397ab3a-3dc0-4b94-b873-1be5205ffc86",
        "colab": {
          "base_uri": "https://localhost:8080/",
          "height": 265
        }
      },
      "cell_type": "code",
      "source": [
        "unbinned_likelihood_cython = probfit.UnbinnedLH(ModelPDF_cython, data)\n",
        "\n",
        "minuit_cython = iminuit.Minuit(\n",
        "                    unbinned_likelihood_cython,\n",
        "                    **initial_par_values, **limits, **errors)\n",
        "\n",
        "unbinned_likelihood_cython.draw(minuit=minuit_cython);"
      ],
      "execution_count": 51,
      "outputs": [
        {
          "output_type": "display_data",
          "data": {
            "image/png": "[encoded data removed]",
            "text/plain": [
              "<matplotlib.figure.Figure at 0x7fb0579ffb70>"
            ]
          },
          "metadata": {
            "tags": []
          }
        }
      ]
    },
    {
      "metadata": {
        "id": "RlO8mqHhntWg",
        "colab_type": "code",
        "outputId": "9636f260-3cf0-4f60-961e-1f2759f6eeb7",
        "colab": {
          "base_uri": "https://localhost:8080/",
          "height": 303
        }
      },
      "cell_type": "code",
      "source": [
        "%timeit -n1 -r1 minuit_cython.migrad()"
      ],
      "execution_count": 52,
      "outputs": [
        {
          "output_type": "display_data",
          "data": {
            "text/html": [
              "<hr>"
            ]
          },
          "metadata": {
            "tags": []
          }
        },
        {
          "output_type": "display_data",
          "data": {
            "text/html": [
              "<table>\n",
              "    <tr>\n",
              "        <td title=\"Minimum value of function\">FCN = 417366.5237844946</td>\n",
              "        <td title=\"Total number of call to FCN so far\">TOTAL NCALL = 154</td>\n",
              "        <td title=\"Number of call in last migrad\">NCALLS = 154</td>\n",
              "    </tr>\n",
              "    <tr>\n",
              "        <td title=\"Estimated distance to minimum\">EDM = 2.7922205886891984e-06</td>\n",
              "        <td title=\"Maximum EDM definition of convergence\">GOAL EDM = 5e-06</td>\n",
              "        <td title=\"Error def. Amount of increase in FCN to be defined as 1 standard deviation\">\n",
              "        UP = 0.5</td>\n",
              "    </tr>\n",
              "</table>\n",
              "<table>\n",
              "    <tr>\n",
              "        <td align=\"center\" title=\"Validity of the migrad call\">Valid</td>\n",
              "        <td align=\"center\" title=\"Validity of parameters\">Valid Param</td>\n",
              "        <td align=\"center\" title=\"Is Covariance matrix accurate?\">Accurate Covar</td>\n",
              "        <td align=\"center\" title=\"Positive definiteness of covariance matrix\">PosDef</td>\n",
              "        <td align=\"center\" title=\"Was covariance matrix made posdef by adding diagonal element\">Made PosDef</td>\n",
              "    </tr>\n",
              "    <tr>\n",
              "        <td align=\"center\" style=\"background-color:#92CCA6\">True</td>\n",
              "        <td align=\"center\" style=\"background-color:#92CCA6\">True</td>\n",
              "        <td align=\"center\" style=\"background-color:#92CCA6\">True</td>\n",
              "        <td align=\"center\" style=\"background-color:#92CCA6\">True</td>\n",
              "        <td align=\"center\" style=\"background-color:#92CCA6\">False</td>\n",
              "    </tr>\n",
              "    <tr>\n",
              "        <td align=\"center\" title=\"Was last hesse call fail?\">Hesse Fail</td>\n",
              "        <td align=\"center\" title=\"Validity of covariance\">HasCov</td>\n",
              "        <td align=\"center\" title=\"Is EDM above goal EDM?\">Above EDM</td>\n",
              "        <td align=\"center\"></td>\n",
              "        <td align=\"center\" title=\"Did last migrad call reach max call limit?\">Reach calllim</td>\n",
              "    </tr>\n",
              "    <tr>\n",
              "        <td align=\"center\" style=\"background-color:#92CCA6\">False</td>\n",
              "        <td align=\"center\" style=\"background-color:#92CCA6\">True</td>\n",
              "        <td align=\"center\" style=\"background-color:#92CCA6\">False</td>\n",
              "        <td align=\"center\"></td>\n",
              "        <td align=\"center\" style=\"background-color:#92CCA6\">False</td>\n",
              "    </tr>\n",
              "</table>"
            ]
          },
          "metadata": {
            "tags": []
          }
        },
        {
          "output_type": "display_data",
          "data": {
            "text/html": [
              "<table>\n",
              "    <tr>\n",
              "        <td><a href=\"#\" onclick=\"$('#KcHlaADRAz').toggle()\">+</a></td>\n",
              "        <td title=\"Variable name\">Name</td>\n",
              "        <td title=\"Value of parameter\">Value</td>\n",
              "        <td title=\"Hesse error\">Hesse Error</td>\n",
              "        <td title=\"Minos lower error\">Minos Error-</td>\n",
              "        <td title=\"Minos upper error\">Minos Error+</td>\n",
              "        <td title=\"Lower limit of the parameter\">Limit-</td>\n",
              "        <td title=\"Upper limit of the parameter\">Limit+</td>\n",
              "        <td title=\"Is the parameter fixed in the fit\">Fixed?</td>\n",
              "    </tr>\n",
              "    <tr>\n",
              "        <td>0</td>\n",
              "        <td>mass</td>\n",
              "        <td>124.91</td>\n",
              "        <td>0.314872</td>\n",
              "        <td></td>\n",
              "        <td></td>\n",
              "        <td>50</td>\n",
              "        <td>200</td>\n",
              "        <td>No</td>\n",
              "    </tr>\n",
              "    <tr>\n",
              "        <td>1</td>\n",
              "        <td>sigma</td>\n",
              "        <td>15.7751</td>\n",
              "        <td>0.357811</td>\n",
              "        <td></td>\n",
              "        <td></td>\n",
              "        <td>3</td>\n",
              "        <td>150</td>\n",
              "        <td>No</td>\n",
              "    </tr>\n",
              "    <tr>\n",
              "        <td>2</td>\n",
              "        <td>exp_slope</td>\n",
              "        <td>0.0125102</td>\n",
              "        <td>0.00010805</td>\n",
              "        <td></td>\n",
              "        <td></td>\n",
              "        <td>0.0001</td>\n",
              "        <td>1</td>\n",
              "        <td>No</td>\n",
              "    </tr>\n",
              "    <tr>\n",
              "        <td>3</td>\n",
              "        <td>signal_fraction</td>\n",
              "        <td>0.126126</td>\n",
              "        <td>0.00305664</td>\n",
              "        <td></td>\n",
              "        <td></td>\n",
              "        <td>0</td>\n",
              "        <td>1</td>\n",
              "        <td>No</td>\n",
              "    </tr>\n",
              "</table>\n",
              "<pre id=\"KcHlaADRAz\" style=\"display:none;\">\n",
              "<textarea rows=\"14\" cols=\"50\" onclick=\"this.select()\" readonly>\n",
              "\\begin{tabular}{|c|r|r|r|r|r|r|r|c|}\n",
              "\\hline\n",
              " & Name & Value & Hesse Error & Minos Error- & Minos Error+ & Limit- & Limit+ & Fixed?\\\\\n",
              "\\hline\n",
              "0 & mass & 124.91 & 0.314872 &  &  & 50.0 & 200 & No\\\\\n",
              "\\hline\n",
              "1 & $\\sigma$ & 15.7751 & 0.357811 &  &  & 3.0 & 150 & No\\\\\n",
              "\\hline\n",
              "2 & $exp_{slope}$ & 0.0125102 & 0.00010805 &  &  & 0.0001 & 1 & No\\\\\n",
              "\\hline\n",
              "3 & $signal_{fraction}$ & 0.126126 & 0.00305664 &  &  & 0.0 & 1 & No\\\\\n",
              "\\hline\n",
              "\\end{tabular}\n",
              "</textarea>\n",
              "</pre>"
            ]
          },
          "metadata": {
            "tags": []
          }
        },
        {
          "output_type": "display_data",
          "data": {
            "text/html": [
              "<hr>"
            ]
          },
          "metadata": {
            "tags": []
          }
        },
        {
          "output_type": "stream",
          "text": [
            "1 loop, best of 1: 14.7 s per loop\n"
          ],
          "name": "stdout"
        }
      ]
    },
    {
      "metadata": {
        "id": "_UgOmSGEj9Ej",
        "colab_type": "code",
        "outputId": "8c1650ba-751f-4529-c7ce-7d239290b958",
        "colab": {
          "base_uri": "https://localhost:8080/",
          "height": 265
        }
      },
      "cell_type": "code",
      "source": [
        "unbinned_likelihood_cython.draw(minuit=minuit_cython, parts=True, parmloc=(0.45, 0.95));"
      ],
      "execution_count": 53,
      "outputs": [
        {
          "output_type": "display_data",
          "data": {
            "image/png": "[encoded data removed]",
            "text/plain": [
              "<matplotlib.figure.Figure at 0x7fb0579ff320>"
            ]
          },
          "metadata": {
            "tags": []
          }
        }
      ]
    },
    {
      "metadata": {
        "id": "eBiz9m7IqsbE",
        "colab_type": "code",
        "colab": {}
      },
      "cell_type": "code",
      "source": [
        ""
      ],
      "execution_count": 0,
      "outputs": []
    }
  ]
}