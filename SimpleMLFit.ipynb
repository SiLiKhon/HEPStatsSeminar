{
  "nbformat": 4,
  "nbformat_minor": 0,
  "metadata": {
    "colab": {
      "name": "SimpleMLFit.ipynb",
      "version": "0.3.2",
      "provenance": [],
      "collapsed_sections": [],
      "include_colab_link": true
    },
    "kernelspec": {
      "name": "python3",
      "display_name": "Python 3"
    }
  },
  "cells": [
    {
      "cell_type": "markdown",
      "metadata": {
        "id": "view-in-github",
        "colab_type": "text"
      },
      "source": [
        "<a href=\"https://colab.research.google.com/github/SiLiKhon/HEPStatsSeminar/blob/master/SimpleMLFit.ipynb\" target=\"_parent\"><img src=\"https://colab.research.google.com/assets/colab-badge.svg\" alt=\"Open In Colab\"/></a>"
      ]
    },
    {
      "metadata": {
        "id": "lTG8qhewiMp5",
        "colab_type": "code",
        "colab": {}
      },
      "cell_type": "code",
      "source": [
        "import numpy as np\n",
        "import matplotlib.pyplot as plt\n",
        "%matplotlib inline\n",
        "import scipy.stats as stats\n",
        "from scipy.optimize import minimize"
      ],
      "execution_count": 0,
      "outputs": []
    },
    {
      "metadata": {
        "id": "akhdkRETibVC",
        "colab_type": "code",
        "colab": {
          "base_uri": "https://localhost:8080/",
          "height": 34
        },
        "outputId": "6198fa6a-8866-4198-9268-fc5ee4737c3d"
      },
      "cell_type": "code",
      "source": [
        "signal = np.random.normal(loc=125.18, scale=15., size=2000)\n",
        "background = np.random.exponential(scale=80., size=18000)\n",
        "\n",
        "data = np.concatenate([signal, background])\n",
        "#data = data[data < 200.]\n",
        "print(data.shape)"
      ],
      "execution_count": 2,
      "outputs": [
        {
          "output_type": "stream",
          "text": [
            "(20000,)\n"
          ],
          "name": "stdout"
        }
      ]
    },
    {
      "metadata": {
        "id": "PBxTO__TkNRN",
        "colab_type": "code",
        "colab": {
          "base_uri": "https://localhost:8080/",
          "height": 265
        },
        "outputId": "cb27cfaa-6cc1-4e1e-d395-8e5115a191ec"
      },
      "cell_type": "code",
      "source": [
        "plt.hist(data, bins=100, alpha=0.8);"
      ],
      "execution_count": 3,
      "outputs": [
        {
          "output_type": "display_data",
          "data": {
            "image/png": "[encoded data removed]",
            "text/plain": [
              "<matplotlib.figure.Figure at 0x7fee8ec947b8>"
            ]
          },
          "metadata": {
            "tags": []
          }
        }
      ]
    },
    {
      "metadata": {
        "id": "HgojAu5U0gk3",
        "colab_type": "code",
        "colab": {}
      },
      "cell_type": "code",
      "source": [
        "def ModelPDF(x, params):\n",
        "  mass, sigma, signal_fraction, exp_slope = params\n",
        "  pdf = signal_fraction        * stats.norm .pdf(x, loc=mass, scale=sigma) + \\\n",
        "        (1. - signal_fraction) * stats.expon.pdf(x, scale=1./exp_slope)\n",
        "  return pdf"
      ],
      "execution_count": 0,
      "outputs": []
    },
    {
      "metadata": {
        "id": "_w5XeTtblXtk",
        "colab_type": "code",
        "colab": {}
      },
      "cell_type": "code",
      "source": [
        "def NegativeLogLikelihood(params):\n",
        "  return -np.sum(np.log(ModelPDF(data, params)))"
      ],
      "execution_count": 0,
      "outputs": []
    },
    {
      "metadata": {
        "id": "x3EDxy35vla8",
        "colab_type": "code",
        "colab": {
          "base_uri": "https://localhost:8080/",
          "height": 85
        },
        "outputId": "5022fd79-87d8-4ae5-b98c-d1697b2de54a"
      },
      "cell_type": "code",
      "source": [
        "guess = np.array([100., 50, 0.4, 0.01])\n",
        "\n",
        "result = minimize(NegativeLogLikelihood, guess, method='Nelder-Mead',\n",
        "                  options={'disp' : True})"
      ],
      "execution_count": 14,
      "outputs": [
        {
          "output_type": "stream",
          "text": [
            "Optimization terminated successfully.\n",
            "         Current function value: 108352.578821\n",
            "         Iterations: 138\n",
            "         Function evaluations: 247\n"
          ],
          "name": "stdout"
        }
      ]
    },
    {
      "metadata": {
        "id": "DWImM0Gwx50A",
        "colab_type": "code",
        "colab": {
          "base_uri": "https://localhost:8080/",
          "height": 238
        },
        "outputId": "f0f707dd-dd13-4e4c-b12b-c973489b5808"
      },
      "cell_type": "code",
      "source": [
        "print(result)"
      ],
      "execution_count": 15,
      "outputs": [
        {
          "output_type": "stream",
          "text": [
            " final_simplex: (array([[1.25598423e+02, 1.46478751e+01, 1.02167946e-01, 1.24198852e-02],\n",
            "       [1.25598334e+02, 1.46479497e+01, 1.02167968e-01, 1.24198938e-02],\n",
            "       [1.25598376e+02, 1.46479185e+01, 1.02168421e-01, 1.24199012e-02],\n",
            "       [1.25598473e+02, 1.46479258e+01, 1.02168188e-01, 1.24198884e-02],\n",
            "       [1.25598455e+02, 1.46478591e+01, 1.02167615e-01, 1.24199036e-02]]), array([108352.57882148, 108352.57882149, 108352.57882149, 108352.57882149,\n",
            "       108352.5788215 ]))\n",
            "           fun: 108352.57882148487\n",
            "       message: 'Optimization terminated successfully.'\n",
            "          nfev: 247\n",
            "           nit: 138\n",
            "        status: 0\n",
            "       success: True\n",
            "             x: array([1.25598423e+02, 1.46478751e+01, 1.02167946e-01, 1.24198852e-02])\n"
          ],
          "name": "stdout"
        }
      ]
    },
    {
      "metadata": {
        "id": "q9bVyQqKx9Tg",
        "colab_type": "code",
        "colab": {}
      },
      "cell_type": "code",
      "source": [
        "x = np.linspace(0., 500., 200)\n",
        "y = ModelPDF(x, result.x)"
      ],
      "execution_count": 0,
      "outputs": []
    },
    {
      "metadata": {
        "id": "bsWXJQ_o1E7j",
        "colab_type": "code",
        "colab": {
          "base_uri": "https://localhost:8080/",
          "height": 265
        },
        "outputId": "f3046d73-8b80-4aba-a358-269fb3eab1c4"
      },
      "cell_type": "code",
      "source": [
        "plt.hist(data[data <= 500.], bins=100, alpha=0.8, normed=True);\n",
        "plt.plot(x, y, color='red');"
      ],
      "execution_count": 20,
      "outputs": [
        {
          "output_type": "display_data",
          "data": {
            "image/png": "[encoded data removed]",
            "text/plain": [
              "<matplotlib.figure.Figure at 0x7fee8bd9e278>"
            ]
          },
          "metadata": {
            "tags": []
          }
        }
      ]
    },
    {
      "metadata": {
        "id": "UoH898KQ1RR8",
        "colab_type": "code",
        "colab": {}
      },
      "cell_type": "code",
      "source": [
        ""
      ],
      "execution_count": 0,
      "outputs": []
    }
  ]
}