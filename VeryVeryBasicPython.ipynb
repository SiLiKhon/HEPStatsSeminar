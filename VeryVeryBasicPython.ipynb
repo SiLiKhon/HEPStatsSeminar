{
  "nbformat": 4,
  "nbformat_minor": 0,
  "metadata": {
    "colab": {
      "name": "VeryVeryBasicPython.ipynb",
      "version": "0.3.2",
      "provenance": [],
      "collapsed_sections": [],
      "include_colab_link": true
    },
    "kernelspec": {
      "name": "python3",
      "display_name": "Python 3"
    }
  },
  "cells": [
    {
      "cell_type": "markdown",
      "metadata": {
        "id": "view-in-github",
        "colab_type": "text"
      },
      "source": [
        "<a href=\"https://colab.research.google.com/github/SiLiKhon/HEPStatsSeminar/blob/master/VeryVeryBasicPython.ipynb\" target=\"_parent\"><img src=\"https://colab.research.google.com/assets/colab-badge.svg\" alt=\"Open In Colab\"/></a>"
      ]
    },
    {
      "metadata": {
        "id": "wWQZAcl6rHIQ",
        "colab_type": "code",
        "colab": {
          "base_uri": "https://localhost:8080/",
          "height": 34
        },
        "outputId": "a0f5a1b3-88d3-4277-b93d-8758b0154477"
      },
      "cell_type": "code",
      "source": [
        "1 + 2"
      ],
      "execution_count": 1,
      "outputs": [
        {
          "output_type": "execute_result",
          "data": {
            "text/plain": [
              "3"
            ]
          },
          "metadata": {
            "tags": []
          },
          "execution_count": 1
        }
      ]
    },
    {
      "metadata": {
        "id": "5D88dWRarJZm",
        "colab_type": "code",
        "colab": {
          "base_uri": "https://localhost:8080/",
          "height": 34
        },
        "outputId": "5e7600f3-9688-40c3-d83a-786227031095"
      },
      "cell_type": "code",
      "source": [
        "3**2"
      ],
      "execution_count": 2,
      "outputs": [
        {
          "output_type": "execute_result",
          "data": {
            "text/plain": [
              "9"
            ]
          },
          "metadata": {
            "tags": []
          },
          "execution_count": 2
        }
      ]
    },
    {
      "metadata": {
        "id": "aDSHj4UDrL20",
        "colab_type": "code",
        "colab": {
          "base_uri": "https://localhost:8080/",
          "height": 34
        },
        "outputId": "4ed8c380-10d6-42b1-9572-f1a15329698d"
      },
      "cell_type": "code",
      "source": [
        "2**(0.5)"
      ],
      "execution_count": 3,
      "outputs": [
        {
          "output_type": "execute_result",
          "data": {
            "text/plain": [
              "1.4142135623730951"
            ]
          },
          "metadata": {
            "tags": []
          },
          "execution_count": 3
        }
      ]
    },
    {
      "metadata": {
        "id": "mpI-p0QrrNj-",
        "colab_type": "code",
        "colab": {
          "base_uri": "https://localhost:8080/",
          "height": 34
        },
        "outputId": "292335d9-fe65-47fb-f8af-753cf7244063"
      },
      "cell_type": "code",
      "source": [
        "\"Hello\" + \" world\""
      ],
      "execution_count": 4,
      "outputs": [
        {
          "output_type": "execute_result",
          "data": {
            "text/plain": [
              "'Hello world'"
            ]
          },
          "metadata": {
            "tags": []
          },
          "execution_count": 4
        }
      ]
    },
    {
      "metadata": {
        "id": "arfxvdbNrP59",
        "colab_type": "code",
        "colab": {
          "base_uri": "https://localhost:8080/",
          "height": 34
        },
        "outputId": "56c585f4-5159-4d51-d586-acb166f57090"
      },
      "cell_type": "code",
      "source": [
        "type(\"Hello\")"
      ],
      "execution_count": 5,
      "outputs": [
        {
          "output_type": "execute_result",
          "data": {
            "text/plain": [
              "str"
            ]
          },
          "metadata": {
            "tags": []
          },
          "execution_count": 5
        }
      ]
    },
    {
      "metadata": {
        "id": "CuOg7djlrS3d",
        "colab_type": "code",
        "colab": {
          "base_uri": "https://localhost:8080/",
          "height": 119
        },
        "outputId": "be59abcb-956b-4b60-d901-e4f784dc4ffe"
      },
      "cell_type": "code",
      "source": [
        "print(\"Print\")\n",
        "print(\"several\")\n",
        "print(\"lines\")\n",
        "print(\"in\")\n",
        "print(\"one\")\n",
        "print(\"cell!\")"
      ],
      "execution_count": 6,
      "outputs": [
        {
          "output_type": "stream",
          "text": [
            "Print\n",
            "several\n",
            "lines\n",
            "in\n",
            "one\n",
            "cell!\n"
          ],
          "name": "stdout"
        }
      ]
    },
    {
      "metadata": {
        "id": "ukYq4miFrn-Q",
        "colab_type": "code",
        "colab": {
          "base_uri": "https://localhost:8080/",
          "height": 34
        },
        "outputId": "854f71d0-f975-436a-f8a4-568103d1bbef"
      },
      "cell_type": "code",
      "source": [
        "line = \"Let's do a small introduction to arrays and for loops\"\n",
        "splitted = line.split(' ')\n",
        "print(splitted)"
      ],
      "execution_count": 8,
      "outputs": [
        {
          "output_type": "stream",
          "text": [
            "[\"Let's\", 'do', 'a', 'small', 'introduction', 'to', 'arrays', 'and', 'for', 'loops']\n"
          ],
          "name": "stdout"
        }
      ]
    },
    {
      "metadata": {
        "id": "UOBLXn-Lr0x7",
        "colab_type": "code",
        "colab": {
          "base_uri": "https://localhost:8080/",
          "height": 34
        },
        "outputId": "b0b27ede-0b4d-4483-e901-df2803a19e19"
      },
      "cell_type": "code",
      "source": [
        "type(splitted)"
      ],
      "execution_count": 9,
      "outputs": [
        {
          "output_type": "execute_result",
          "data": {
            "text/plain": [
              "list"
            ]
          },
          "metadata": {
            "tags": []
          },
          "execution_count": 9
        }
      ]
    },
    {
      "metadata": {
        "id": "YdngHEk5r5Pi",
        "colab_type": "code",
        "colab": {
          "base_uri": "https://localhost:8080/",
          "height": 187
        },
        "outputId": "914647d3-9a15-4fcc-ef8b-ee7094f62aa7"
      },
      "cell_type": "code",
      "source": [
        "for word in splitted:\n",
        "  print(word)"
      ],
      "execution_count": 10,
      "outputs": [
        {
          "output_type": "stream",
          "text": [
            "Let's\n",
            "do\n",
            "a\n",
            "small\n",
            "introduction\n",
            "to\n",
            "arrays\n",
            "and\n",
            "for\n",
            "loops\n"
          ],
          "name": "stdout"
        }
      ]
    },
    {
      "metadata": {
        "id": "K2AnH63Sr8Qc",
        "colab_type": "code",
        "colab": {}
      },
      "cell_type": "code",
      "source": [
        ""
      ],
      "execution_count": 0,
      "outputs": []
    }
  ]
}