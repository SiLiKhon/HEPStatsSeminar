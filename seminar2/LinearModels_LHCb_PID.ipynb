{
  "nbformat": 4,
  "nbformat_minor": 0,
  "metadata": {
    "colab": {
      "name": "Copy of LinearModels_LHCb_PID.ipynb",
      "version": "0.3.2",
      "provenance": [],
      "collapsed_sections": [],
      "include_colab_link": true
    },
    "kernelspec": {
      "name": "python3",
      "display_name": "Python 3"
    }
  },
  "cells": [
    {
      "cell_type": "markdown",
      "metadata": {
        "id": "view-in-github",
        "colab_type": "text"
      },
      "source": [
        "<a href=\"https://colab.research.google.com/github/SiLiKhon/HEPStatsSeminar/blob/Artem-Seminar2-tests/seminar2/LinearModels_LHCb_PID.ipynb\" target=\"_parent\"><img src=\"https://colab.research.google.com/assets/colab-badge.svg\" alt=\"Open In Colab\"/></a>"
      ]
    },
    {
      "metadata": {
        "id": "Z5n_QsxyAmFk",
        "colab_type": "text"
      },
      "cell_type": "markdown",
      "source": [
        "# Sample management"
      ]
    },
    {
      "metadata": {
        "id": "GZctvep5M3wW",
        "colab_type": "code",
        "colab": {}
      },
      "cell_type": "code",
      "source": [
        "!wget https://github.com/hse-aml/hadron-collider-machine-learning/releases/download/Week_2/training.csv.gz"
      ],
      "execution_count": 0,
      "outputs": []
    },
    {
      "metadata": {
        "id": "xJfgB766M5sN",
        "colab_type": "code",
        "colab": {}
      },
      "cell_type": "code",
      "source": [
        "!gunzip training.csv.gz"
      ],
      "execution_count": 0,
      "outputs": []
    },
    {
      "metadata": {
        "id": "qrsvlB7PNAQc",
        "colab_type": "code",
        "colab": {}
      },
      "cell_type": "code",
      "source": [
        "import numpy as np\n",
        "import pandas as pd\n",
        "import matplotlib.pyplot as plt\n",
        "%matplotlib inline"
      ],
      "execution_count": 0,
      "outputs": []
    },
    {
      "metadata": {
        "id": "w9O2zEz9NHnl",
        "colab_type": "code",
        "colab": {}
      },
      "cell_type": "code",
      "source": [
        "data = pd.read_csv('training.csv')"
      ],
      "execution_count": 0,
      "outputs": []
    },
    {
      "metadata": {
        "id": "0VkIgvoTNKw1",
        "colab_type": "code",
        "outputId": "b045bc5f-5cca-4410-8568-4653e2c8e3a8",
        "colab": {
          "base_uri": "https://localhost:8080/",
          "height": 34
        }
      },
      "cell_type": "code",
      "source": [
        "len(data)"
      ],
      "execution_count": 3,
      "outputs": [
        {
          "output_type": "execute_result",
          "data": {
            "text/plain": [
              "1200000"
            ]
          },
          "metadata": {
            "tags": []
          },
          "execution_count": 3
        }
      ]
    },
    {
      "metadata": {
        "id": "YTijCF4YCO0K",
        "colab_type": "text"
      },
      "cell_type": "markdown",
      "source": [
        "## Feature description\n",
        "Here, Spd stands for Scintillating Pad Detector, Prs - Preshower, Ecal - electromagnetic calorimeter, Hcal - hadronic calorimeter, Brem denotes traces of the particles that were deflected by detector\n",
        "\n",
        "Features:\n",
        "\n",
        "* ID - id value for tracks (presents only in the test file for the submitting purposes)\n",
        "* Label - string valued observable denoting particle types. Can take values \"Electron\", \"Muon\", \"Kaon\", \"Proton\", \"Pion\" and \"Ghost\". This column is absent in the test file.\n",
        "* FlagSpd - flag (0 or 1), if reconstructed track passes through Spd\n",
        "* FlagPrs - flag (0 or 1), if reconstructed track passes through Prs\n",
        "* FlagBrem - flag (0 or 1), if reconstructed track passes through Brem\n",
        "* FlagEcal - flag (0 or 1), if reconstructed track passes through Ecal\n",
        "* FlagHcal - flag (0 or 1), if reconstructed track passes through Hcal\n",
        "* FlagRICH1 - flag (0 or 1), if reconstructed track passes through the first RICH detector\n",
        "* FlagRICH2 - flag (0 or 1), if reconstructed track passes through the second RICH detector\n",
        "* FlagMuon - flag (0 or 1), if reconstructed track passes through muon stations (Muon)\n",
        "* SpdE - energy deposit associated to the track in the Spd\n",
        "* PrsE - energy deposit associated to the track in the Prs\n",
        "* EcalE - energy deposit associated to the track in the Hcal\n",
        "* HcalE - energy deposit associated to the track in the Hcal\n",
        "* PrsDLLbeElectron - delta log-likelihood for a particle candidate to be electron using information from Prs\n",
        "* BremDLLbeElectron - delta log-likelihood for a particle candidate to be electron using information from Brem\n",
        "* TrackP - particle momentum\n",
        "* TrackPt - particle transverse momentum\n",
        "* TrackNDoFSubdetector1 - number of degrees of freedom for track fit using hits in the tracking sub-detector1\n",
        "* TrackQualitySubdetector1 - chi2 quality of the track fit using hits in the tracking sub-detector1\n",
        "* TrackNDoFSubdetector2 - number of degrees of freedom for track fit using hits in the tracking sub-detector2\n",
        "* TrackQualitySubdetector2 - chi2 quality of the track fit using hits in the tracking sub-detector2\n",
        "* TrackNDoF - number of degrees of freedom for track fit using hits in all tracking sub-detectors\n",
        "* TrackQualityPerNDoF - chi2 quality of the track fit per degree of freedom\n",
        "* TrackDistanceToZ - distance between track and z-axis (beam axis)\n",
        "* Calo2dFitQuality - quality of the 2d fit of the clusters in the calorimeter\n",
        "* Calo3dFitQuality - quality of the 3d fit in the calorimeter with assumption that particle was electron\n",
        "* EcalDLLbeElectron - delta log-likelihood for a particle candidate to be electron using information from Ecal\n",
        "* EcalDLLbeMuon - delta log-likelihood for a particle candidate to be muon using information from Ecal\n",
        "* EcalShowerLongitudinalParameter - longitudinal parameter of Ecal shower\n",
        "* HcalDLLbeElectron - delta log-likelihood for a particle candidate to be electron using information from Hcal\n",
        "* HcalDLLbeMuon - delta log-likelihood for a particle candidate to be using information from Hcal\n",
        "* RICHpFlagElectron - flag (0 or 1) if momentum is greater than threshold for electrons to produce Cherenkov light\n",
        "* RICHpFlagProton - flag (0 or 1) if momentum is greater than threshold for protons to produce Cherenkov light\n",
        "* RICHpFlagPion - flag (0 or 1) if momentum is greater than threshold for pions to produce Cherenkov light\n",
        "* RICHpFlagKaon - flag (0 or 1) if momentum is greater than threshold for kaons to produce Cherenkov light\n",
        "* RICHpFlagMuon - flag (0 or 1) if momentum is greater than threshold for muons to produce Cherenkov light\n",
        "* RICH_DLLbeBCK - delta log-likelihood for a particle candidate to be background using information from RICH\n",
        "* RICH_DLLbeKaon - delta log-likelihood for a particle candidate to be kaon using information from RICH\n",
        "* RICH_DLLbeElectron - delta log-likelihood for a particle candidate to be electron using information from RICH\n",
        "* RICH_DLLbeMuon - delta log-likelihood for a particle candidate to be muon using information from RICH\n",
        "* RICH_DLLbeProton - delta log-likelihood for a particle candidate to be proton using information from RICH\n",
        "* MuonFlag - muon flag (is this track muon) which is determined from muon stations\n",
        "* MuonLooseFlag muon flag (is this track muon) which is determined from muon stations using looser criteria\n",
        "* MuonLLbeBCK - log-likelihood for a particle candidate to be not muon using information from muon stations\n",
        "* MuonLLbeMuon - log-likelihood for a particle candidate to be muon using information from muon stations\n",
        "* DLLelectron - delta log-likelihood for a particle candidate to be electron using information from all subdetectors\n",
        "* DLLmuon - delta log-likelihood for a particle candidate to be muon using information from all subdetectors\n",
        "* DLLkaon - delta log-likelihood for a particle candidate to be kaon using information from all subdetectors\n",
        "* DLLproton - delta log-likelihood for a particle candidate to be proton using information from all subdetectors\n",
        "* GhostProbability - probability for a particle candidate to be ghost track. This variable is an output of classification model used in the tracking algorithm.\n",
        "\n",
        "Delta log-likelihood in the features descriptions means the difference between log-likelihood for the mass hypothesis that a given track is left by some particle (for example, electron) and log-likelihood for the mass hypothesis that a given track is left by a pion (so, DLLpion = 0 and thus we don't have these columns). This is done since most tracks (~80%) are left by pions and in practice we actually need to discriminate other particles from pions. In other words, the null hypothesis is that particle is a pion.\n"
      ]
    },
    {
      "metadata": {
        "id": "GpKicizuAfIa",
        "colab_type": "text"
      },
      "cell_type": "markdown",
      "source": [
        "# Feature selection and preprocessing"
      ]
    },
    {
      "metadata": {
        "id": "DerPH3IaNSKO",
        "colab_type": "code",
        "outputId": "8d2eb280-e02b-41e9-9525-4df1a24f4ee3",
        "colab": {
          "base_uri": "https://localhost:8080/",
          "height": 255
        }
      },
      "cell_type": "code",
      "source": [
        "data.columns"
      ],
      "execution_count": 4,
      "outputs": [
        {
          "output_type": "execute_result",
          "data": {
            "text/plain": [
              "Index(['TrackP', 'TrackNDoFSubdetector2', 'BremDLLbeElectron', 'MuonLooseFlag',\n",
              "       'FlagSpd', 'SpdE', 'EcalDLLbeElectron', 'DLLmuon', 'RICHpFlagElectron',\n",
              "       'EcalDLLbeMuon', 'TrackQualitySubdetector2', 'FlagPrs', 'DLLelectron',\n",
              "       'DLLkaon', 'EcalE', 'TrackQualityPerNDoF', 'DLLproton',\n",
              "       'PrsDLLbeElectron', 'FlagRICH1', 'MuonLLbeBCK', 'FlagHcal',\n",
              "       'EcalShowerLongitudinalParameter', 'Calo2dFitQuality', 'TrackPt',\n",
              "       'TrackDistanceToZ', 'RICHpFlagPion', 'HcalDLLbeElectron',\n",
              "       'Calo3dFitQuality', 'FlagEcal', 'MuonLLbeMuon', 'TrackNDoFSubdetector1',\n",
              "       'RICHpFlagProton', 'RICHpFlagKaon', 'GhostProbability',\n",
              "       'TrackQualitySubdetector1', 'Label', 'RICH_DLLbeBCK', 'FlagRICH2',\n",
              "       'FlagBrem', 'HcalDLLbeMuon', 'TrackNDoF', 'RICHpFlagMuon',\n",
              "       'RICH_DLLbeKaon', 'RICH_DLLbeElectron', 'HcalE', 'MuonFlag', 'FlagMuon',\n",
              "       'PrsE', 'RICH_DLLbeMuon', 'RICH_DLLbeProton'],\n",
              "      dtype='object')"
            ]
          },
          "metadata": {
            "tags": []
          },
          "execution_count": 4
        }
      ]
    },
    {
      "metadata": {
        "id": "FgDawCNFOIhM",
        "colab_type": "text"
      },
      "cell_type": "markdown",
      "source": [
        "Let's consider PID between two particle types for simplicity:"
      ]
    },
    {
      "metadata": {
        "id": "v3ITGCCvNTR2",
        "colab_type": "code",
        "colab": {
          "base_uri": "https://localhost:8080/",
          "height": 34
        },
        "outputId": "cb4fe6e5-0f7e-4c03-cf6d-f320ed2764ec"
      },
      "cell_type": "code",
      "source": [
        "data = data[(data.Label == 'Kaon') | (data.Label == 'Pion')].copy()\n",
        "\n",
        "features = [col for col in data.columns if col != 'Label']\n",
        "data['Label'] = (data.Label == 'Kaon').astype(float)\n",
        "\n",
        "print(len(data))"
      ],
      "execution_count": 5,
      "outputs": [
        {
          "output_type": "stream",
          "text": [
            "400000\n"
          ],
          "name": "stdout"
        }
      ]
    },
    {
      "metadata": {
        "id": "UQOE5qWdN61T",
        "colab_type": "code",
        "colab": {}
      },
      "cell_type": "code",
      "source": [
        "from sklearn import linear_model, metrics, model_selection, preprocessing\n",
        "train, test = model_selection.train_test_split(data, test_size=0.25)"
      ],
      "execution_count": 0,
      "outputs": []
    },
    {
      "metadata": {
        "id": "aNoNHvnBhpPo",
        "colab_type": "text"
      },
      "cell_type": "markdown",
      "source": [
        "Selecting the best features is quite an important and non-trivial part of building machine learning models. Scikit-learn has a number of ways to automate this process - to be used with caution - see [this page](https://scikit-learn.org/stable/modules/feature_selection.html) for more details.\n",
        "\n",
        "At this point we are not going to use these tools, but rather do a really simple thing: will score each feature with `roc_auc_score` to find those giving maximum separation between classes."
      ]
    },
    {
      "metadata": {
        "id": "aplWLcUHb8zl",
        "colab_type": "code",
        "colab": {}
      },
      "cell_type": "code",
      "source": [
        "# Build an array of scores of form [(feature1, score1), (feature2, score2), ...]\n",
        "scores = [(f, metrics.roc_auc_score(data.Label, data[f])) for f in features]\n",
        "\n",
        "# Sort this array by the scores in descending order.\n",
        "# As AUC is symmetric with respect to 0.5, we'll sort\n",
        "# by max(score, 1-score):\n",
        "scores = (sorted(scores, key=lambda x: -max(x[1], 1-x[1])))"
      ],
      "execution_count": 0,
      "outputs": []
    },
    {
      "metadata": {
        "id": "Y_aceKBydcTH",
        "colab_type": "code",
        "colab": {
          "base_uri": "https://localhost:8080/",
          "height": 187
        },
        "outputId": "a2c9e691-ee15-466b-9ca3-9f9d02422549"
      },
      "cell_type": "code",
      "source": [
        "# Print top 10:\n",
        "for f, score in scores[:10]:\n",
        "  print(\"{} : {}\".format(f, score))"
      ],
      "execution_count": 51,
      "outputs": [
        {
          "output_type": "stream",
          "text": [
            "DLLkaon : 0.940750676175\n",
            "RICH_DLLbeKaon : 0.9352258900875\n",
            "DLLproton : 0.89480377495\n",
            "RICH_DLLbeBCK : 0.8940402752375001\n",
            "RICH_DLLbeProton : 0.8918642772875\n",
            "RICH_DLLbeElectron : 0.7534392077625\n",
            "RICH_DLLbeMuon : 0.6700616067125\n",
            "TrackPt : 0.6488308649000001\n",
            "DLLmuon : 0.6249113967875\n",
            "TrackP : 0.6175779303375001\n"
          ],
          "name": "stdout"
        }
      ]
    },
    {
      "metadata": {
        "id": "X-UjNFigjxkh",
        "colab_type": "text"
      },
      "cell_type": "markdown",
      "source": [
        "So, just a single `DLLkaon` feature gives us an AUC of 94%!\n",
        "Let's see if we can beat this score.\n",
        "\n",
        "The simplest thing we can do is to take, say, 10 best features and feed them into a logistic regression model:"
      ]
    },
    {
      "metadata": {
        "id": "HdiSrUi1kTIP",
        "colab_type": "code",
        "colab": {
          "base_uri": "https://localhost:8080/",
          "height": 51
        },
        "outputId": "ae81ceb5-adb8-4244-b163-a204aba6948a"
      },
      "cell_type": "code",
      "source": [
        "top10_features = list(list(zip(*scores))[0][:10])\n",
        "\n",
        "def get_features(dataset):\n",
        "  return dataset[top10_features]\n",
        "\n",
        "model = linear_model.LogisticRegression()\n",
        "\n",
        "model.fit(get_features(train), train.Label)\n",
        "\n",
        "preds_train = model.predict_proba(get_features(train))[:,1]\n",
        "preds_test  = model.predict_proba(get_features(test ))[:,1]\n",
        "\n",
        "print(metrics.roc_auc_score(train.Label, preds_train))\n",
        "print(metrics.roc_auc_score(test .Label, preds_test ))"
      ],
      "execution_count": 59,
      "outputs": [
        {
          "output_type": "stream",
          "text": [
            "0.9305446882767139\n",
            "0.9300369517834517\n"
          ],
          "name": "stdout"
        }
      ]
    },
    {
      "metadata": {
        "id": "q-8zvlxOmZ1e",
        "colab_type": "text"
      },
      "cell_type": "markdown",
      "source": [
        "Hmm, that just decreased the score.\n",
        "\n",
        "Let's look at the range of these features:"
      ]
    },
    {
      "metadata": {
        "id": "2mJIEk8yl5bV",
        "colab_type": "code",
        "colab": {
          "base_uri": "https://localhost:8080/",
          "height": 187
        },
        "outputId": "c9f0c27f-36f0-4e6b-cf82-691081463acc"
      },
      "cell_type": "code",
      "source": [
        "for f in top10_features:\n",
        "  print(\"{:20s} : ({:10.2f}, {:10.2f})\".format(f, data[f].min(), data[f].max()))"
      ],
      "execution_count": 61,
      "outputs": [
        {
          "output_type": "stream",
          "text": [
            "DLLkaon              : (   -999.00,     168.17)\n",
            "RICH_DLLbeKaon       : (   -999.00,     158.80)\n",
            "DLLproton            : (   -999.00,     123.64)\n",
            "RICH_DLLbeBCK        : (   -999.00,      67.68)\n",
            "RICH_DLLbeProton     : (   -999.00,     127.74)\n",
            "RICH_DLLbeElectron   : (   -999.00,     117.59)\n",
            "RICH_DLLbeMuon       : (   -999.00,      89.58)\n",
            "TrackPt              : (      4.51,  427157.03)\n",
            "DLLmuon              : (   -999.00,      14.41)\n",
            "TrackP               : (   1140.57, 2289635.75)\n"
          ],
          "name": "stdout"
        }
      ]
    },
    {
      "metadata": {
        "id": "N8nApG_PnIME",
        "colab_type": "text"
      },
      "cell_type": "markdown",
      "source": [
        "We can notice two things:\n",
        "1.   ranges are very different\n",
        "2.   some variables have 'unnatural' minimum of -999\n",
        "\n",
        "Let's discuss problem 1 first. Our model treats its inputs as vectors of $R^M$ space ($M$ is the number of features), and calculates things like dot-product ${\\bf W}\\cdot{\\bf x}$. This assumes that all the components of these vectors are objects of the same nature and have the same units. Obviously this is not the case. We can however emulate this by scaling the components of these vectors to have same variance and mean:\n",
        "\n"
      ]
    },
    {
      "metadata": {
        "id": "OYeozqZTpHo0",
        "colab_type": "code",
        "colab": {
          "base_uri": "https://localhost:8080/",
          "height": 51
        },
        "outputId": "bb1c75f4-0a92-4aac-c8b6-30ea71825f02"
      },
      "cell_type": "code",
      "source": [
        "def get_features(dataset):\n",
        "  return dataset[top10_features]\n",
        "\n",
        "scaler = preprocessing.RobustScaler()\n",
        "scaler.fit(get_features(train))\n",
        "\n",
        "model = linear_model.LogisticRegression()\n",
        "\n",
        "model.fit(scaler.transform(get_features(train)), train.Label)\n",
        "\n",
        "preds_train = model.predict_proba(scaler.transform(get_features(train)))[:,1]\n",
        "preds_test  = model.predict_proba(scaler.transform(get_features(test )))[:,1]\n",
        "\n",
        "print(metrics.roc_auc_score(train.Label, preds_train))\n",
        "print(metrics.roc_auc_score(test .Label, preds_test ))"
      ],
      "execution_count": 62,
      "outputs": [
        {
          "output_type": "stream",
          "text": [
            "0.9324556268390238\n",
            "0.9318817727521804\n"
          ],
          "name": "stdout"
        }
      ]
    },
    {
      "metadata": {
        "id": "M0iasmOhpZ1k",
        "colab_type": "text"
      },
      "cell_type": "markdown",
      "source": [
        "This increased the score slightly.\n",
        "\n",
        "Now, problem 2. Let's have a look at one of these features with -999 minimum:"
      ]
    },
    {
      "metadata": {
        "id": "C_1JdA39pi64",
        "colab_type": "code",
        "colab": {
          "base_uri": "https://localhost:8080/",
          "height": 268
        },
        "outputId": "e806e8ce-c33d-4d52-c5f8-569c77c12833"
      },
      "cell_type": "code",
      "source": [
        "plt.hist(data.RICH_DLLbeKaon, bins=300);"
      ],
      "execution_count": 64,
      "outputs": [
        {
          "output_type": "display_data",
          "data": {
            "image/png": "[encoded data removed]",
            "text/plain": [
              "<matplotlib.figure.Figure at 0x7faf393c1eb8>"
            ]
          },
          "metadata": {
            "tags": []
          }
        }
      ]
    },
    {
      "metadata": {
        "id": "gz44uuA1psx8",
        "colab_type": "text"
      },
      "cell_type": "markdown",
      "source": [
        "Note the standalone peak near -1000 (actually, -999). Looks like some discreet value was used to denote the cases when `RICH_DLLbeKaon` could not be calculated.\n",
        "\n",
        "The simplest thing we can do with it is to just replace -999 by the mean of the feature, but since in such a way we'll lose this information, let's encode it into a new feature:"
      ]
    },
    {
      "metadata": {
        "id": "tujvqW4aeFHb",
        "colab_type": "code",
        "colab": {}
      },
      "cell_type": "code",
      "source": [
        "def convert_outlier(column, value=-999):\n",
        "  \"\"\"\n",
        "  Function takes a single pandas column and returns a dataframe\n",
        "  with two columns: same column with all occurrences of `value`\n",
        "  replaced by mean and a binary `column == value` column\n",
        "  \"\"\"\n",
        "  is_out = (column == value)\n",
        "  is_out.name += '_out'\n",
        "  \n",
        "  mean = column[~is_out].mean()\n",
        "  column = column.copy()\n",
        "  column[is_out] = mean\n",
        "  \n",
        "  return pd.concat([column, is_out.astype(float)], axis=1)"
      ],
      "execution_count": 0,
      "outputs": []
    },
    {
      "metadata": {
        "id": "Rw8Q7OfBrFsY",
        "colab_type": "code",
        "colab": {
          "base_uri": "https://localhost:8080/",
          "height": 34
        },
        "outputId": "8fc7abb8-b358-4ef8-e3de-297e235ea000"
      },
      "cell_type": "code",
      "source": [
        "outlier_columns = [f for f in top10_features if (data[f] == -999).sum() > 0]\n",
        "print(outlier_columns)"
      ],
      "execution_count": 67,
      "outputs": [
        {
          "output_type": "stream",
          "text": [
            "['DLLkaon', 'RICH_DLLbeKaon', 'DLLproton', 'RICH_DLLbeBCK', 'RICH_DLLbeProton', 'RICH_DLLbeElectron', 'RICH_DLLbeMuon', 'DLLmuon']\n"
          ],
          "name": "stdout"
        }
      ]
    },
    {
      "metadata": {
        "id": "wNE_pczEr2VW",
        "colab_type": "code",
        "colab": {
          "base_uri": "https://localhost:8080/",
          "height": 224
        },
        "outputId": "b2c80db4-e279-4de2-fdea-a4d45635b20c"
      },
      "cell_type": "code",
      "source": [
        "def get_features(dataset):\n",
        "  return pd.concat([convert_outlier(dataset[f]) if f in outlier_columns else\n",
        "                    dataset[f] for f in top10_features], axis=1)\n",
        "\n",
        "get_features(train).head()"
      ],
      "execution_count": 68,
      "outputs": [
        {
          "output_type": "execute_result",
          "data": {
            "text/html": [
              "<div>\n",
              "<style scoped>\n",
              "    .dataframe tbody tr th:only-of-type {\n",
              "        vertical-align: middle;\n",
              "    }\n",
              "\n",
              "    .dataframe tbody tr th {\n",
              "        vertical-align: top;\n",
              "    }\n",
              "\n",
              "    .dataframe thead th {\n",
              "        text-align: right;\n",
              "    }\n",
              "</style>\n",
              "<table border=\"1\" class=\"dataframe\">\n",
              "  <thead>\n",
              "    <tr style=\"text-align: right;\">\n",
              "      <th></th>\n",
              "      <th>DLLkaon</th>\n",
              "      <th>DLLkaon_out</th>\n",
              "      <th>RICH_DLLbeKaon</th>\n",
              "      <th>RICH_DLLbeKaon_out</th>\n",
              "      <th>DLLproton</th>\n",
              "      <th>DLLproton_out</th>\n",
              "      <th>RICH_DLLbeBCK</th>\n",
              "      <th>RICH_DLLbeBCK_out</th>\n",
              "      <th>RICH_DLLbeProton</th>\n",
              "      <th>RICH_DLLbeProton_out</th>\n",
              "      <th>RICH_DLLbeElectron</th>\n",
              "      <th>RICH_DLLbeElectron_out</th>\n",
              "      <th>RICH_DLLbeMuon</th>\n",
              "      <th>RICH_DLLbeMuon_out</th>\n",
              "      <th>TrackPt</th>\n",
              "      <th>DLLmuon</th>\n",
              "      <th>DLLmuon_out</th>\n",
              "      <th>TrackP</th>\n",
              "    </tr>\n",
              "  </thead>\n",
              "  <tbody>\n",
              "    <tr>\n",
              "      <th>315982</th>\n",
              "      <td>0.000004</td>\n",
              "      <td>0.0</td>\n",
              "      <td>0.435491</td>\n",
              "      <td>0.0</td>\n",
              "      <td>0.000004</td>\n",
              "      <td>0.0</td>\n",
              "      <td>-0.000009</td>\n",
              "      <td>0.0</td>\n",
              "      <td>-0.000009</td>\n",
              "      <td>0.0</td>\n",
              "      <td>-8.255909</td>\n",
              "      <td>0.0</td>\n",
              "      <td>-0.481909</td>\n",
              "      <td>0.0</td>\n",
              "      <td>123.829801</td>\n",
              "      <td>-0.226171</td>\n",
              "      <td>0.0</td>\n",
              "      <td>2373.399900</td>\n",
              "    </tr>\n",
              "    <tr>\n",
              "      <th>399581</th>\n",
              "      <td>4.295512</td>\n",
              "      <td>0.0</td>\n",
              "      <td>2.975100</td>\n",
              "      <td>0.0</td>\n",
              "      <td>2.832513</td>\n",
              "      <td>0.0</td>\n",
              "      <td>3.317000</td>\n",
              "      <td>0.0</td>\n",
              "      <td>2.118400</td>\n",
              "      <td>0.0</td>\n",
              "      <td>-1.468700</td>\n",
              "      <td>0.0</td>\n",
              "      <td>1.631900</td>\n",
              "      <td>0.0</td>\n",
              "      <td>174.420365</td>\n",
              "      <td>-0.282913</td>\n",
              "      <td>0.0</td>\n",
              "      <td>11474.059587</td>\n",
              "    </tr>\n",
              "    <tr>\n",
              "      <th>341239</th>\n",
              "      <td>-5.969101</td>\n",
              "      <td>0.0</td>\n",
              "      <td>-6.774915</td>\n",
              "      <td>0.0</td>\n",
              "      <td>-7.408401</td>\n",
              "      <td>0.0</td>\n",
              "      <td>-5.384615</td>\n",
              "      <td>0.0</td>\n",
              "      <td>-5.056515</td>\n",
              "      <td>0.0</td>\n",
              "      <td>-18.645315</td>\n",
              "      <td>0.0</td>\n",
              "      <td>-18.700214</td>\n",
              "      <td>0.0</td>\n",
              "      <td>523.539009</td>\n",
              "      <td>-10.441173</td>\n",
              "      <td>0.0</td>\n",
              "      <td>4981.470223</td>\n",
              "    </tr>\n",
              "    <tr>\n",
              "      <th>1096464</th>\n",
              "      <td>1.740584</td>\n",
              "      <td>0.0</td>\n",
              "      <td>2.679505</td>\n",
              "      <td>0.0</td>\n",
              "      <td>2.374084</td>\n",
              "      <td>0.0</td>\n",
              "      <td>3.249905</td>\n",
              "      <td>0.0</td>\n",
              "      <td>2.441905</td>\n",
              "      <td>0.0</td>\n",
              "      <td>0.100005</td>\n",
              "      <td>0.0</td>\n",
              "      <td>-2.859395</td>\n",
              "      <td>0.0</td>\n",
              "      <td>160.196005</td>\n",
              "      <td>-7.535274</td>\n",
              "      <td>0.0</td>\n",
              "      <td>12322.389655</td>\n",
              "    </tr>\n",
              "    <tr>\n",
              "      <th>944681</th>\n",
              "      <td>-36.512314</td>\n",
              "      <td>0.0</td>\n",
              "      <td>-34.370313</td>\n",
              "      <td>0.0</td>\n",
              "      <td>-37.242615</td>\n",
              "      <td>0.0</td>\n",
              "      <td>-31.222112</td>\n",
              "      <td>0.0</td>\n",
              "      <td>-38.529413</td>\n",
              "      <td>0.0</td>\n",
              "      <td>-33.086412</td>\n",
              "      <td>0.0</td>\n",
              "      <td>-11.654313</td>\n",
              "      <td>0.0</td>\n",
              "      <td>847.299065</td>\n",
              "      <td>-7.286496</td>\n",
              "      <td>0.0</td>\n",
              "      <td>6771.140130</td>\n",
              "    </tr>\n",
              "  </tbody>\n",
              "</table>\n",
              "</div>"
            ],
            "text/plain": [
              "           DLLkaon  DLLkaon_out  RICH_DLLbeKaon  RICH_DLLbeKaon_out  \\\n",
              "315982    0.000004          0.0        0.435491                 0.0   \n",
              "399581    4.295512          0.0        2.975100                 0.0   \n",
              "341239   -5.969101          0.0       -6.774915                 0.0   \n",
              "1096464   1.740584          0.0        2.679505                 0.0   \n",
              "944681  -36.512314          0.0      -34.370313                 0.0   \n",
              "\n",
              "         DLLproton  DLLproton_out  RICH_DLLbeBCK  RICH_DLLbeBCK_out  \\\n",
              "315982    0.000004            0.0      -0.000009                0.0   \n",
              "399581    2.832513            0.0       3.317000                0.0   \n",
              "341239   -7.408401            0.0      -5.384615                0.0   \n",
              "1096464   2.374084            0.0       3.249905                0.0   \n",
              "944681  -37.242615            0.0     -31.222112                0.0   \n",
              "\n",
              "         RICH_DLLbeProton  RICH_DLLbeProton_out  RICH_DLLbeElectron  \\\n",
              "315982          -0.000009                   0.0           -8.255909   \n",
              "399581           2.118400                   0.0           -1.468700   \n",
              "341239          -5.056515                   0.0          -18.645315   \n",
              "1096464          2.441905                   0.0            0.100005   \n",
              "944681         -38.529413                   0.0          -33.086412   \n",
              "\n",
              "         RICH_DLLbeElectron_out  RICH_DLLbeMuon  RICH_DLLbeMuon_out  \\\n",
              "315982                      0.0       -0.481909                 0.0   \n",
              "399581                      0.0        1.631900                 0.0   \n",
              "341239                      0.0      -18.700214                 0.0   \n",
              "1096464                     0.0       -2.859395                 0.0   \n",
              "944681                      0.0      -11.654313                 0.0   \n",
              "\n",
              "            TrackPt    DLLmuon  DLLmuon_out        TrackP  \n",
              "315982   123.829801  -0.226171          0.0   2373.399900  \n",
              "399581   174.420365  -0.282913          0.0  11474.059587  \n",
              "341239   523.539009 -10.441173          0.0   4981.470223  \n",
              "1096464  160.196005  -7.535274          0.0  12322.389655  \n",
              "944681   847.299065  -7.286496          0.0   6771.140130  "
            ]
          },
          "metadata": {
            "tags": []
          },
          "execution_count": 68
        }
      ]
    },
    {
      "metadata": {
        "id": "-SpGlxT1aBrY",
        "colab_type": "code",
        "colab": {
          "base_uri": "https://localhost:8080/",
          "height": 51
        },
        "outputId": "46ba6234-2a09-46f1-d528-9d6f8ba000d5"
      },
      "cell_type": "code",
      "source": [
        "scaler = preprocessing.RobustScaler()\n",
        "scaler.fit(get_features(train))\n",
        "\n",
        "model = linear_model.LogisticRegression()\n",
        "\n",
        "model.fit(scaler.transform(get_features(train)), train.Label)\n",
        "\n",
        "preds_train = model.predict_proba(scaler.transform(get_features(train)))[:,1]\n",
        "preds_test  = model.predict_proba(scaler.transform(get_features(test )))[:,1]\n",
        "\n",
        "print(metrics.roc_auc_score(train.Label, preds_train))\n",
        "print(metrics.roc_auc_score(test .Label, preds_test ))\n"
      ],
      "execution_count": 69,
      "outputs": [
        {
          "output_type": "stream",
          "text": [
            "0.9486294706968528\n",
            "0.9480903137209529\n"
          ],
          "name": "stdout"
        }
      ]
    },
    {
      "metadata": {
        "id": "aA3vEIBKsFNF",
        "colab_type": "text"
      },
      "cell_type": "markdown",
      "source": [
        "Huh! We've finally beaten the `DLLkaon` score.\n",
        "\n",
        "Now let's use the k-fold cross validation technique to ensure this is indeed the case."
      ]
    },
    {
      "metadata": {
        "id": "KbtFyA5fsoEX",
        "colab_type": "code",
        "colab": {}
      },
      "cell_type": "code",
      "source": [
        ""
      ],
      "execution_count": 0,
      "outputs": []
    },
    {
      "metadata": {
        "id": "sZIL89BHsn_6",
        "colab_type": "code",
        "colab": {}
      },
      "cell_type": "code",
      "source": [
        ""
      ],
      "execution_count": 0,
      "outputs": []
    },
    {
      "metadata": {
        "id": "3bgwdLS9sn9m",
        "colab_type": "code",
        "colab": {}
      },
      "cell_type": "code",
      "source": [
        ""
      ],
      "execution_count": 0,
      "outputs": []
    },
    {
      "metadata": {
        "id": "70EV1rJLsn6T",
        "colab_type": "code",
        "colab": {}
      },
      "cell_type": "code",
      "source": [
        ""
      ],
      "execution_count": 0,
      "outputs": []
    },
    {
      "metadata": {
        "id": "7RMQPMiDsh7e",
        "colab_type": "code",
        "colab": {}
      },
      "cell_type": "code",
      "source": [
        ""
      ],
      "execution_count": 0,
      "outputs": []
    },
    {
      "metadata": {
        "id": "0cwMjgkU4XKy",
        "colab_type": "text"
      },
      "cell_type": "markdown",
      "source": [
        "## 1. Univariate feature selection\n",
        "Feature Extraction with Univariate Statistical Tests (Chi-squared for classification)."
      ]
    },
    {
      "metadata": {
        "id": "ryh5kR9p4j8k",
        "colab_type": "code",
        "colab": {}
      },
      "cell_type": "code",
      "source": [
        "from sklearn.feature_selection import SelectKBest\n",
        "from sklearn.feature_selection import chi2\n",
        "from sklearn import preprocessing"
      ],
      "execution_count": 0,
      "outputs": []
    },
    {
      "metadata": {
        "id": "sHY3BOmB4qhU",
        "colab_type": "code",
        "colab": {}
      },
      "cell_type": "code",
      "source": [
        "ust_test = SelectKBest(k=5)"
      ],
      "execution_count": 0,
      "outputs": []
    },
    {
      "metadata": {
        "id": "EMmWM5Cj78ZF",
        "colab_type": "text"
      },
      "cell_type": "markdown",
      "source": [
        "Prepare features. Transform ther to non-negative form."
      ]
    },
    {
      "metadata": {
        "id": "oHeo2DDhsnD9",
        "colab_type": "code",
        "colab": {}
      },
      "cell_type": "code",
      "source": [
        ""
      ],
      "execution_count": 0,
      "outputs": []
    },
    {
      "metadata": {
        "id": "4A6iQteLsm_7",
        "colab_type": "code",
        "colab": {}
      },
      "cell_type": "code",
      "source": [
        ""
      ],
      "execution_count": 0,
      "outputs": []
    },
    {
      "metadata": {
        "id": "XFRpUNmRsm9R",
        "colab_type": "code",
        "colab": {}
      },
      "cell_type": "code",
      "source": [
        ""
      ],
      "execution_count": 0,
      "outputs": []
    },
    {
      "metadata": {
        "id": "zuiolFJusm5g",
        "colab_type": "code",
        "colab": {}
      },
      "cell_type": "code",
      "source": [
        ""
      ],
      "execution_count": 0,
      "outputs": []
    },
    {
      "metadata": {
        "id": "ilgqYQUHsmyb",
        "colab_type": "code",
        "colab": {}
      },
      "cell_type": "code",
      "source": [
        ""
      ],
      "execution_count": 0,
      "outputs": []
    },
    {
      "metadata": {
        "id": "api5CWBsUbdT",
        "colab_type": "code",
        "colab": {}
      },
      "cell_type": "code",
      "source": [
        "data_pos = data[features] - data[features].min(axis=0)"
      ],
      "execution_count": 0,
      "outputs": []
    },
    {
      "metadata": {
        "id": "-wcT2wzv5QwT",
        "colab_type": "code",
        "outputId": "9cb60304-8f98-4bbe-9a2e-799efc09cfcb",
        "colab": {
          "base_uri": "https://localhost:8080/",
          "height": 34
        }
      },
      "cell_type": "code",
      "source": [
        "ust_test.fit(data[features], data.Label)"
      ],
      "execution_count": 50,
      "outputs": [
        {
          "output_type": "execute_result",
          "data": {
            "text/plain": [
              "SelectKBest(k=5, score_func=<function f_classif at 0x7f3bc71dab70>)"
            ]
          },
          "metadata": {
            "tags": []
          },
          "execution_count": 50
        }
      ]
    },
    {
      "metadata": {
        "id": "e5wuQJmeVAkU",
        "colab_type": "code",
        "colab": {
          "base_uri": "https://localhost:8080/",
          "height": 34
        },
        "outputId": "4bc68201-5354-400f-e6c6-7bc97189e940"
      },
      "cell_type": "code",
      "source": [
        "best_features = np.array(features)[ust_test.get_support(indices=True)].tolist()\n",
        "print(best_features)"
      ],
      "execution_count": 51,
      "outputs": [
        {
          "output_type": "stream",
          "text": [
            "['TrackP', 'DLLkaon', 'DLLproton', 'RICHpFlagKaon', 'RICH_DLLbeKaon']\n"
          ],
          "name": "stdout"
        }
      ]
    },
    {
      "metadata": {
        "id": "dnhIz_ZR480v",
        "colab_type": "text"
      },
      "cell_type": "markdown",
      "source": [
        "### Summarize scores"
      ]
    },
    {
      "metadata": {
        "id": "BwlKfAJu5VYh",
        "colab_type": "code",
        "colab": {}
      },
      "cell_type": "code",
      "source": [
        "np.set_printoptions(precision=3)\n",
        "print(fit.scores_)\n",
        "ust_features = fit.transform(data.loc[:, data.columns != 'Label'])"
      ],
      "execution_count": 0,
      "outputs": []
    },
    {
      "metadata": {
        "id": "D1LNzlKaBPCO",
        "colab_type": "text"
      },
      "cell_type": "markdown",
      "source": [
        "## 2. Recursive feature elimination\n",
        "Feature ranking with recursive feature elimination."
      ]
    },
    {
      "metadata": {
        "id": "JCsvkWW0b5oh",
        "colab_type": "text"
      },
      "cell_type": "markdown",
      "source": [
        "Let's take just 1% of our sample. Because we will compute a lot during the next step."
      ]
    },
    {
      "metadata": {
        "id": "FhcXFjnoYX-k",
        "colab_type": "code",
        "outputId": "286aa010-9727-4ccd-9830-bff283697a3b",
        "colab": {
          "base_uri": "https://localhost:8080/",
          "height": 34
        }
      },
      "cell_type": "code",
      "source": [
        "from sklearn.model_selection import train_test_split\n",
        "fs_train, fs_test = train_test_split(data, test_size=0.01) # fs means feature selection\n",
        "len(fs_test)"
      ],
      "execution_count": 11,
      "outputs": [
        {
          "output_type": "execute_result",
          "data": {
            "text/plain": [
              "4000"
            ]
          },
          "metadata": {
            "tags": []
          },
          "execution_count": 11
        }
      ]
    },
    {
      "metadata": {
        "id": "3JMbYmlmLm0A",
        "colab_type": "code",
        "colab": {}
      },
      "cell_type": "code",
      "source": [
        "from sklearn.feature_selection import RFE\n",
        "from sklearn.linear_model import LogisticRegression\n",
        "\n",
        "fs_model = LogisticRegression()\n",
        "rfe = RFE(fs_model, 5)"
      ],
      "execution_count": 0,
      "outputs": []
    },
    {
      "metadata": {
        "id": "7QDnG1WiFrQR",
        "colab_type": "code",
        "outputId": "dffbd56f-93f3-4c7f-8da9-d13f792703b5",
        "colab": {
          "base_uri": "https://localhost:8080/",
          "height": 51
        }
      },
      "cell_type": "code",
      "source": [
        "%%time\n",
        "selector = rfe.fit(fs_test.loc[:, fs_test.columns != 'Label'], fs_test.Label)"
      ],
      "execution_count": 13,
      "outputs": [
        {
          "output_type": "stream",
          "text": [
            "CPU times: user 13.3 s, sys: 8.79 ms, total: 13.3 s\n",
            "Wall time: 13.3 s\n"
          ],
          "name": "stdout"
        }
      ]
    },
    {
      "metadata": {
        "id": "G0BFs7qlTjlE",
        "colab_type": "text"
      },
      "cell_type": "markdown",
      "source": [
        "Let's summarise scores:"
      ]
    },
    {
      "metadata": {
        "id": "CMMPqJ3tPuTG",
        "colab_type": "code",
        "outputId": "11fd519d-e0ed-4a01-c690-e47f5ca6932a",
        "colab": {
          "base_uri": "https://localhost:8080/",
          "height": 51
        }
      },
      "cell_type": "code",
      "source": [
        "best_features = fs_test.columns[selector.get_support(indices=True)].tolist()\n",
        "print(\"Number of Features: \", selector.n_features_)\n",
        "print(\"Selected Features: \", best_features)\n",
        "# print(\"Feature Ranking: \", selector.ranking_)"
      ],
      "execution_count": 14,
      "outputs": [
        {
          "output_type": "stream",
          "text": [
            "Number of Features:  5\n",
            "Selected Features:  ['RICHpFlagElectron', 'FlagRICH1', 'TrackDistanceToZ', 'RICHpFlagPion', 'RICHpFlagKaon']\n"
          ],
          "name": "stdout"
        }
      ]
    },
    {
      "metadata": {
        "id": "b3sHa4lSLiik",
        "colab_type": "text"
      },
      "cell_type": "markdown",
      "source": [
        "# Classifier: Logistic regression"
      ]
    },
    {
      "metadata": {
        "id": "-lws62YuOFCD",
        "colab_type": "code",
        "colab": {}
      },
      "cell_type": "code",
      "source": [
        "from sklearn import linear_model, metrics, model_selection, preprocessing"
      ],
      "execution_count": 0,
      "outputs": []
    },
    {
      "metadata": {
        "id": "DElpwo0GOIbs",
        "colab_type": "code",
        "colab": {}
      },
      "cell_type": "code",
      "source": [
        "train, test = model_selection.train_test_split(data, test_size=0.25)"
      ],
      "execution_count": 0,
      "outputs": []
    },
    {
      "metadata": {
        "id": "aUBwKbyCf8g9",
        "colab_type": "code",
        "colab": {
          "base_uri": "https://localhost:8080/",
          "height": 204
        },
        "outputId": "897db737-af65-4fe1-aeeb-49d120358ecf"
      },
      "cell_type": "code",
      "source": [
        "def get_features(dataset):\n",
        "  return dataset[[f for f in best_features if f != 'RICHpFlagKaon' and f != 'DLLproton' and f != 'DLLkaon']]\n",
        "\n",
        "get_features(train).head()"
      ],
      "execution_count": 65,
      "outputs": [
        {
          "output_type": "execute_result",
          "data": {
            "text/html": [
              "<div>\n",
              "<style scoped>\n",
              "    .dataframe tbody tr th:only-of-type {\n",
              "        vertical-align: middle;\n",
              "    }\n",
              "\n",
              "    .dataframe tbody tr th {\n",
              "        vertical-align: top;\n",
              "    }\n",
              "\n",
              "    .dataframe thead th {\n",
              "        text-align: right;\n",
              "    }\n",
              "</style>\n",
              "<table border=\"1\" class=\"dataframe\">\n",
              "  <thead>\n",
              "    <tr style=\"text-align: right;\">\n",
              "      <th></th>\n",
              "      <th>TrackP</th>\n",
              "      <th>RICH_DLLbeKaon</th>\n",
              "    </tr>\n",
              "  </thead>\n",
              "  <tbody>\n",
              "    <tr>\n",
              "      <th>76666</th>\n",
              "      <td>11228.459957</td>\n",
              "      <td>-65.655899</td>\n",
              "    </tr>\n",
              "    <tr>\n",
              "      <th>789108</th>\n",
              "      <td>10034.530284</td>\n",
              "      <td>11.896203</td>\n",
              "    </tr>\n",
              "    <tr>\n",
              "      <th>562190</th>\n",
              "      <td>4557.419924</td>\n",
              "      <td>-17.789306</td>\n",
              "    </tr>\n",
              "    <tr>\n",
              "      <th>820157</th>\n",
              "      <td>41851.089847</td>\n",
              "      <td>4.662197</td>\n",
              "    </tr>\n",
              "    <tr>\n",
              "      <th>414798</th>\n",
              "      <td>100630.906249</td>\n",
              "      <td>0.791515</td>\n",
              "    </tr>\n",
              "  </tbody>\n",
              "</table>\n",
              "</div>"
            ],
            "text/plain": [
              "               TrackP  RICH_DLLbeKaon\n",
              "76666    11228.459957      -65.655899\n",
              "789108   10034.530284       11.896203\n",
              "562190    4557.419924      -17.789306\n",
              "820157   41851.089847        4.662197\n",
              "414798  100630.906249        0.791515"
            ]
          },
          "metadata": {
            "tags": []
          },
          "execution_count": 65
        }
      ]
    },
    {
      "metadata": {
        "id": "jdd8eYosXkV2",
        "colab_type": "code",
        "colab": {
          "base_uri": "https://localhost:8080/",
          "height": 513
        },
        "outputId": "d41a5389-e296-466e-8fa8-950e7db227a0"
      },
      "cell_type": "code",
      "source": [
        "plt.hist(scaler.transform(get_features(train)), bins=1000);\n",
        "plt.xlim(-10, 10);\n",
        "plt.show();\n",
        "\n",
        "plt.hist(scaler.transform(get_features(test )), bins=1000);\n",
        "plt.xlim(-10, 10);\n",
        "plt.show();"
      ],
      "execution_count": 71,
      "outputs": [
        {
          "output_type": "display_data",
          "data": {
            "image/png": "[encoded data removed]",
            "text/plain": [
              "<matplotlib.figure.Figure at 0x7f3bc184bbe0>"
            ]
          },
          "metadata": {
            "tags": []
          }
        },
        {
          "output_type": "display_data",
          "data": {
            "image/png": "[encoded data removed]",
            "text/plain": [
              "<matplotlib.figure.Figure at 0x7f3bc17cfa90>"
            ]
          },
          "metadata": {
            "tags": []
          }
        }
      ]
    },
    {
      "metadata": {
        "id": "B6YJav9NOc0V",
        "colab_type": "code",
        "colab": {
          "base_uri": "https://localhost:8080/",
          "height": 51
        },
        "outputId": "28669e5c-06ef-40b6-95f1-1fcf8b199971"
      },
      "cell_type": "code",
      "source": [
        "#def get_features(dataset):\n",
        "#  return dataset[features]\n",
        "\n",
        "\n",
        "scaler = preprocessing.RobustScaler()\n",
        "scaler.fit(get_features(train))\n",
        "\n",
        "model = linear_model.LogisticRegression()\n",
        "\n",
        "model.fit(scaler.transform(get_features(train)), train.Label)\n",
        "\n",
        "preds_train = model.predict_proba(scaler.transform(get_features(train)))[:,1]\n",
        "preds_test  = model.predict_proba(scaler.transform(get_features(test )))[:,1]\n",
        "\n",
        "print(metrics.roc_auc_score(train.Label, preds_train))\n",
        "print(metrics.roc_auc_score(test .Label, preds_test ))\n"
      ],
      "execution_count": 66,
      "outputs": [
        {
          "output_type": "stream",
          "text": [
            "0.7776568647364821\n",
            "0.7790582630783802\n"
          ],
          "name": "stdout"
        }
      ]
    },
    {
      "metadata": {
        "id": "v606uZvLO8IK",
        "colab_type": "code",
        "outputId": "01940598-898a-4998-a4fc-1a095b2458d5",
        "colab": {
          "base_uri": "https://localhost:8080/",
          "height": 34
        }
      },
      "cell_type": "code",
      "source": [
        "metrics.roc_auc_score(test.Label, test.RICH_DLLbeKaon)"
      ],
      "execution_count": 21,
      "outputs": [
        {
          "output_type": "execute_result",
          "data": {
            "text/plain": [
              "0.9356737441638848"
            ]
          },
          "metadata": {
            "tags": []
          },
          "execution_count": 21
        }
      ]
    },
    {
      "metadata": {
        "id": "Zszsr_zxVYgU",
        "colab_type": "text"
      },
      "cell_type": "markdown",
      "source": [
        "# k-fold cross-validation"
      ]
    }
  ]
}