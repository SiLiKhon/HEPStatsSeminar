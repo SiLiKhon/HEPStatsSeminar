{
  "nbformat": 4,
  "nbformat_minor": 0,
  "metadata": {
    "colab": {
      "name": "Linear_models.ipynb",
      "version": "0.3.2",
      "provenance": [],
      "collapsed_sections": [
        "Q-ZQ8SpUIRcW",
        "955GlFeEBpAO"
      ],
      "toc_visible": true,
      "include_colab_link": true
    },
    "kernelspec": {
      "name": "python3",
      "display_name": "Python 3"
    }
  },
  "cells": [
    {
      "cell_type": "markdown",
      "metadata": {
        "id": "view-in-github",
        "colab_type": "text"
      },
      "source": [
        "<a href=\"https://colab.research.google.com/github/SiLiKhon/HEPStatsSeminar/blob/Artem-Seminar2-tests/seminar2/Linear_models.ipynb\" target=\"_parent\"><img src=\"https://colab.research.google.com/assets/colab-badge.svg\" alt=\"Open In Colab\"/></a>"
      ]
    },
    {
      "metadata": {
        "id": "E6Z26DaAgSF_",
        "colab_type": "code",
        "outputId": "b417eb7a-47d4-4ed4-a5ca-6bbf15d04a51",
        "colab": {
          "base_uri": "https://localhost:8080/",
          "height": 356
        }
      },
      "cell_type": "code",
      "source": [
        "import pandas as pd\n",
        "import numpy as np\n",
        "import matplotlib.pyplot as plt\n",
        "!pip install uproot\n",
        "import uproot\n",
        "%matplotlib inline"
      ],
      "execution_count": 2,
      "outputs": [
        {
          "output_type": "stream",
          "text": [
            "Collecting uproot\n",
            "\u001b[?25l  Downloading https://files.pythonhosted.org/packages/a2/7b/877967f96a588c2690d99fee61cb5f57fc486e6ded0ed0fc715d858bafa7/uproot-3.2.12-py2.py3-none-any.whl (135kB)\n",
            "\u001b[K    100% |████████████████████████████████| 143kB 6.5MB/s \n",
            "\u001b[?25hCollecting lz4 (from uproot)\n",
            "\u001b[?25l  Downloading https://files.pythonhosted.org/packages/f1/4f/878f1827042c5b6828bc23d160f31e242ec820810b8bd04b30b631029952/lz4-2.1.2.tar.gz (128kB)\n",
            "\u001b[K    100% |████████████████████████████████| 133kB 6.5MB/s \n",
            "\u001b[?25hCollecting uproot-methods>=0.2.0 (from uproot)\n",
            "  Downloading https://files.pythonhosted.org/packages/76/b2/33656b12805bfb7ba4559657622d343f475460680e4d4e25b7c2cf4ac33a/uproot_methods-0.2.7-py2.py3-none-any.whl\n",
            "Collecting awkward (from uproot)\n",
            "\u001b[?25l  Downloading https://files.pythonhosted.org/packages/9e/69/5784384842738c002bd37119c3cf80cdf1e8ad947f42ad0c14fa5fef388a/awkward-0.4.3-py2.py3-none-any.whl (78kB)\n",
            "\u001b[K    100% |████████████████████████████████| 81kB 8.2MB/s \n",
            "\u001b[?25hRequirement already satisfied: cachetools in /usr/local/lib/python3.6/dist-packages (from uproot) (3.0.0)\n",
            "Requirement already satisfied: numpy>=1.13.1 in /usr/local/lib/python3.6/dist-packages (from uproot) (1.14.6)\n",
            "Building wheels for collected packages: lz4\n",
            "  Running setup.py bdist_wheel for lz4 ... \u001b[?25l-\b \b\\\b \b|\b \b/\b \b-\b \b\\\b \b|\b \b/\b \b-\b \b\\\b \b|\b \b/\b \b-\b \bdone\n",
            "\u001b[?25h  Stored in directory: /root/.cache/pip/wheels/9a/bf/d1/b771620d908af63302309490d1892224364bb541f8e84af67d\n",
            "Successfully built lz4\n",
            "Installing collected packages: lz4, awkward, uproot-methods, uproot\n",
            "Successfully installed awkward-0.4.3 lz4-2.1.2 uproot-3.2.12 uproot-methods-0.2.7\n"
          ],
          "name": "stdout"
        }
      ]
    },
    {
      "metadata": {
        "id": "nyS0yX0xhAwX",
        "colab_type": "code",
        "colab": {}
      },
      "cell_type": "code",
      "source": [
        "pp_h_4l_file = uproot.open(\"https://raw.githubusercontent.com/SiLiKhon/HEPStatsSeminar/master/data/pp_h_4l_tree.root\")[\"events\"]\n",
        "pp_zgzg_4l_file = uproot.open(\"https://raw.githubusercontent.com/SiLiKhon/HEPStatsSeminar/master/data/pp_zgzg_4l_tree.root\")[\"events\"]"
      ],
      "execution_count": 0,
      "outputs": []
    },
    {
      "metadata": {
        "id": "kYyxFMZL7sBT",
        "colab_type": "code",
        "outputId": "ce78820d-e5d6-46c8-9eb5-dff18eb0bb4c",
        "colab": {
          "base_uri": "https://localhost:8080/",
          "height": 1464
        }
      },
      "cell_type": "code",
      "source": [
        "pp_h_4l_file.keys()"
      ],
      "execution_count": 11,
      "outputs": [
        {
          "output_type": "execute_result",
          "data": {
            "text/plain": [
              "[b'weight',\n",
              " b'lep1vsPt_pdgid',\n",
              " b'lep1vsPt_e',\n",
              " b'lep1vsPt_pt',\n",
              " b'lep1vsPt_px',\n",
              " b'lep1vsPt_py',\n",
              " b'lep1vsPt_pz',\n",
              " b'lep1vsPt_theta',\n",
              " b'lep1vsPt_eta',\n",
              " b'lep1vsPt_phi',\n",
              " b'lep1vsPt_m',\n",
              " b'lep2vsPt_pdgid',\n",
              " b'lep2vsPt_e',\n",
              " b'lep2vsPt_pt',\n",
              " b'lep2vsPt_px',\n",
              " b'lep2vsPt_py',\n",
              " b'lep2vsPt_pz',\n",
              " b'lep2vsPt_theta',\n",
              " b'lep2vsPt_eta',\n",
              " b'lep2vsPt_phi',\n",
              " b'lep2vsPt_m',\n",
              " b'lep3vsPt_pdgid',\n",
              " b'lep3vsPt_e',\n",
              " b'lep3vsPt_pt',\n",
              " b'lep3vsPt_px',\n",
              " b'lep3vsPt_py',\n",
              " b'lep3vsPt_pz',\n",
              " b'lep3vsPt_theta',\n",
              " b'lep3vsPt_eta',\n",
              " b'lep3vsPt_phi',\n",
              " b'lep3vsPt_m',\n",
              " b'lep4vsPt_pdgid',\n",
              " b'lep4vsPt_e',\n",
              " b'lep4vsPt_pt',\n",
              " b'lep4vsPt_px',\n",
              " b'lep4vsPt_py',\n",
              " b'lep4vsPt_pz',\n",
              " b'lep4vsPt_theta',\n",
              " b'lep4vsPt_eta',\n",
              " b'lep4vsPt_phi',\n",
              " b'lep4vsPt_m',\n",
              " b'lep1vsEta_pdgid',\n",
              " b'lep1vsEta_e',\n",
              " b'lep1vsEta_pt',\n",
              " b'lep1vsEta_px',\n",
              " b'lep1vsEta_py',\n",
              " b'lep1vsEta_pz',\n",
              " b'lep1vsEta_theta',\n",
              " b'lep1vsEta_eta',\n",
              " b'lep1vsEta_phi',\n",
              " b'lep1vsEta_m',\n",
              " b'lep2vsEta_pdgid',\n",
              " b'lep2vsEta_e',\n",
              " b'lep2vsEta_pt',\n",
              " b'lep2vsEta_px',\n",
              " b'lep2vsEta_py',\n",
              " b'lep2vsEta_pz',\n",
              " b'lep2vsEta_theta',\n",
              " b'lep2vsEta_eta',\n",
              " b'lep2vsEta_phi',\n",
              " b'lep2vsEta_m',\n",
              " b'lep3vsEta_pdgid',\n",
              " b'lep3vsEta_e',\n",
              " b'lep3vsEta_pt',\n",
              " b'lep3vsEta_px',\n",
              " b'lep3vsEta_py',\n",
              " b'lep3vsEta_pz',\n",
              " b'lep3vsEta_theta',\n",
              " b'lep3vsEta_eta',\n",
              " b'lep3vsEta_phi',\n",
              " b'lep3vsEta_m',\n",
              " b'lep4vsEta_pdgid',\n",
              " b'lep4vsEta_e',\n",
              " b'lep4vsEta_pt',\n",
              " b'lep4vsEta_px',\n",
              " b'lep4vsEta_py',\n",
              " b'lep4vsEta_pz',\n",
              " b'lep4vsEta_theta',\n",
              " b'lep4vsEta_eta',\n",
              " b'lep4vsEta_phi',\n",
              " b'lep4vsEta_m']"
            ]
          },
          "metadata": {
            "tags": []
          },
          "execution_count": 11
        }
      ]
    },
    {
      "metadata": {
        "id": "dIO_J9FRI0Zi",
        "colab_type": "text"
      },
      "cell_type": "markdown",
      "source": [
        "Let's select kinematic variables and insert them into pandas dataframe.:"
      ]
    },
    {
      "metadata": {
        "id": "mj4s_yZ5hcES",
        "colab_type": "code",
        "outputId": "6881ed8c-2f47-4b65-e1f3-78b9765c9124",
        "colab": {
          "base_uri": "https://localhost:8080/",
          "height": 256
        }
      },
      "cell_type": "code",
      "source": [
        "vars = ['lep1vsPt_e', 'lep1vsPt_pt', 'lep1vsPt_px', 'lep1vsPt_py', 'lep1vsPt_pz', 'lep1vsPt_theta', 'lep1vsPt_eta', 'lep1vsPt_phi', \\\n",
        "        'lep2vsPt_e', 'lep2vsPt_pt', 'lep2vsPt_px', 'lep2vsPt_py', 'lep2vsPt_pz', 'lep2vsPt_theta', 'lep2vsPt_eta', 'lep2vsPt_phi', \\\n",
        "        'lep3vsPt_e', 'lep3vsPt_pt', 'lep3vsPt_px', 'lep3vsPt_py', 'lep3vsPt_pz', 'lep3vsPt_theta', 'lep3vsPt_eta', 'lep3vsPt_phi', \\\n",
        "        'lep4vsPt_e', 'lep4vsPt_pt', 'lep4vsPt_px', 'lep4vsPt_py', 'lep4vsPt_pz', 'lep4vsPt_theta', 'lep4vsPt_eta', 'lep4vsPt_phi']\n",
        "pp_h_4l = pp_h_4l_file.pandas.df(vars)\n",
        "pp_zgzg_4l = pp_zgzg_4l_file.pandas.df(vars)\n",
        "pp_h_4l.head()"
      ],
      "execution_count": 12,
      "outputs": [
        {
          "output_type": "execute_result",
          "data": {
            "text/html": [
              "<div>\n",
              "<style scoped>\n",
              "    .dataframe tbody tr th:only-of-type {\n",
              "        vertical-align: middle;\n",
              "    }\n",
              "\n",
              "    .dataframe tbody tr th {\n",
              "        vertical-align: top;\n",
              "    }\n",
              "\n",
              "    .dataframe thead th {\n",
              "        text-align: right;\n",
              "    }\n",
              "</style>\n",
              "<table border=\"1\" class=\"dataframe\">\n",
              "  <thead>\n",
              "    <tr style=\"text-align: right;\">\n",
              "      <th></th>\n",
              "      <th>lep1vsPt_e</th>\n",
              "      <th>lep1vsPt_pt</th>\n",
              "      <th>lep1vsPt_px</th>\n",
              "      <th>lep1vsPt_py</th>\n",
              "      <th>lep1vsPt_pz</th>\n",
              "      <th>lep1vsPt_theta</th>\n",
              "      <th>lep1vsPt_eta</th>\n",
              "      <th>lep1vsPt_phi</th>\n",
              "      <th>lep2vsPt_e</th>\n",
              "      <th>lep2vsPt_pt</th>\n",
              "      <th>...</th>\n",
              "      <th>lep3vsPt_eta</th>\n",
              "      <th>lep3vsPt_phi</th>\n",
              "      <th>lep4vsPt_e</th>\n",
              "      <th>lep4vsPt_pt</th>\n",
              "      <th>lep4vsPt_px</th>\n",
              "      <th>lep4vsPt_py</th>\n",
              "      <th>lep4vsPt_pz</th>\n",
              "      <th>lep4vsPt_theta</th>\n",
              "      <th>lep4vsPt_eta</th>\n",
              "      <th>lep4vsPt_phi</th>\n",
              "    </tr>\n",
              "  </thead>\n",
              "  <tbody>\n",
              "    <tr>\n",
              "      <th>0</th>\n",
              "      <td>40.817599</td>\n",
              "      <td>40.816309</td>\n",
              "      <td>-7.430504</td>\n",
              "      <td>-40.134258</td>\n",
              "      <td>0.324458</td>\n",
              "      <td>0.007949</td>\n",
              "      <td>0.007949</td>\n",
              "      <td>-1.753865</td>\n",
              "      <td>88.221803</td>\n",
              "      <td>23.472932</td>\n",
              "      <td>...</td>\n",
              "      <td>0.904967</td>\n",
              "      <td>1.695575</td>\n",
              "      <td>11.299976</td>\n",
              "      <td>8.581384</td>\n",
              "      <td>-8.410522</td>\n",
              "      <td>1.703895</td>\n",
              "      <td>-7.351065</td>\n",
              "      <td>-0.708330</td>\n",
              "      <td>-0.776280</td>\n",
              "      <td>2.941707</td>\n",
              "    </tr>\n",
              "    <tr>\n",
              "      <th>1</th>\n",
              "      <td>1110.684463</td>\n",
              "      <td>50.237450</td>\n",
              "      <td>47.376976</td>\n",
              "      <td>-16.709984</td>\n",
              "      <td>1109.547729</td>\n",
              "      <td>1.525550</td>\n",
              "      <td>3.788606</td>\n",
              "      <td>-0.339080</td>\n",
              "      <td>916.350779</td>\n",
              "      <td>44.543362</td>\n",
              "      <td>...</td>\n",
              "      <td>2.951899</td>\n",
              "      <td>2.957064</td>\n",
              "      <td>151.782980</td>\n",
              "      <td>9.268806</td>\n",
              "      <td>4.757098</td>\n",
              "      <td>7.954923</td>\n",
              "      <td>151.499710</td>\n",
              "      <td>1.509692</td>\n",
              "      <td>3.488011</td>\n",
              "      <td>1.031844</td>\n",
              "    </tr>\n",
              "    <tr>\n",
              "      <th>2</th>\n",
              "      <td>183.672265</td>\n",
              "      <td>73.585952</td>\n",
              "      <td>-32.633724</td>\n",
              "      <td>-65.954018</td>\n",
              "      <td>-168.287247</td>\n",
              "      <td>-1.158584</td>\n",
              "      <td>-1.565062</td>\n",
              "      <td>-2.030271</td>\n",
              "      <td>89.974504</td>\n",
              "      <td>45.557505</td>\n",
              "      <td>...</td>\n",
              "      <td>-1.850662</td>\n",
              "      <td>2.450955</td>\n",
              "      <td>15.433533</td>\n",
              "      <td>4.738079</td>\n",
              "      <td>3.668590</td>\n",
              "      <td>2.998472</td>\n",
              "      <td>-14.687865</td>\n",
              "      <td>-1.258751</td>\n",
              "      <td>-1.849592</td>\n",
              "      <td>0.685223</td>\n",
              "    </tr>\n",
              "    <tr>\n",
              "      <th>3</th>\n",
              "      <td>42.281700</td>\n",
              "      <td>39.489943</td>\n",
              "      <td>-39.316151</td>\n",
              "      <td>-3.700795</td>\n",
              "      <td>-15.108787</td>\n",
              "      <td>-0.365416</td>\n",
              "      <td>-0.373830</td>\n",
              "      <td>-3.047740</td>\n",
              "      <td>46.944943</td>\n",
              "      <td>35.231351</td>\n",
              "      <td>...</td>\n",
              "      <td>0.428923</td>\n",
              "      <td>0.706051</td>\n",
              "      <td>16.472994</td>\n",
              "      <td>15.589799</td>\n",
              "      <td>-7.054197</td>\n",
              "      <td>13.902523</td>\n",
              "      <td>5.321438</td>\n",
              "      <td>0.328940</td>\n",
              "      <td>0.335038</td>\n",
              "      <td>2.040350</td>\n",
              "    </tr>\n",
              "    <tr>\n",
              "      <th>4</th>\n",
              "      <td>704.754401</td>\n",
              "      <td>654.673065</td>\n",
              "      <td>190.100601</td>\n",
              "      <td>-626.465149</td>\n",
              "      <td>260.925171</td>\n",
              "      <td>0.379263</td>\n",
              "      <td>0.388696</td>\n",
              "      <td>-1.276178</td>\n",
              "      <td>325.376137</td>\n",
              "      <td>298.892961</td>\n",
              "      <td>...</td>\n",
              "      <td>0.299380</td>\n",
              "      <td>-1.490367</td>\n",
              "      <td>33.783233</td>\n",
              "      <td>33.571311</td>\n",
              "      <td>7.927998</td>\n",
              "      <td>-32.621769</td>\n",
              "      <td>3.776598</td>\n",
              "      <td>0.112024</td>\n",
              "      <td>0.112259</td>\n",
              "      <td>-1.332390</td>\n",
              "    </tr>\n",
              "  </tbody>\n",
              "</table>\n",
              "<p>5 rows × 32 columns</p>\n",
              "</div>"
            ],
            "text/plain": [
              "    lep1vsPt_e  lep1vsPt_pt  lep1vsPt_px  lep1vsPt_py  lep1vsPt_pz  \\\n",
              "0    40.817599    40.816309    -7.430504   -40.134258     0.324458   \n",
              "1  1110.684463    50.237450    47.376976   -16.709984  1109.547729   \n",
              "2   183.672265    73.585952   -32.633724   -65.954018  -168.287247   \n",
              "3    42.281700    39.489943   -39.316151    -3.700795   -15.108787   \n",
              "4   704.754401   654.673065   190.100601  -626.465149   260.925171   \n",
              "\n",
              "   lep1vsPt_theta  lep1vsPt_eta  lep1vsPt_phi  lep2vsPt_e  lep2vsPt_pt  \\\n",
              "0        0.007949      0.007949     -1.753865   88.221803    23.472932   \n",
              "1        1.525550      3.788606     -0.339080  916.350779    44.543362   \n",
              "2       -1.158584     -1.565062     -2.030271   89.974504    45.557505   \n",
              "3       -0.365416     -0.373830     -3.047740   46.944943    35.231351   \n",
              "4        0.379263      0.388696     -1.276178  325.376137   298.892961   \n",
              "\n",
              "       ...       lep3vsPt_eta  lep3vsPt_phi  lep4vsPt_e  lep4vsPt_pt  \\\n",
              "0      ...           0.904967      1.695575   11.299976     8.581384   \n",
              "1      ...           2.951899      2.957064  151.782980     9.268806   \n",
              "2      ...          -1.850662      2.450955   15.433533     4.738079   \n",
              "3      ...           0.428923      0.706051   16.472994    15.589799   \n",
              "4      ...           0.299380     -1.490367   33.783233    33.571311   \n",
              "\n",
              "   lep4vsPt_px  lep4vsPt_py  lep4vsPt_pz  lep4vsPt_theta  lep4vsPt_eta  \\\n",
              "0    -8.410522     1.703895    -7.351065       -0.708330     -0.776280   \n",
              "1     4.757098     7.954923   151.499710        1.509692      3.488011   \n",
              "2     3.668590     2.998472   -14.687865       -1.258751     -1.849592   \n",
              "3    -7.054197    13.902523     5.321438        0.328940      0.335038   \n",
              "4     7.927998   -32.621769     3.776598        0.112024      0.112259   \n",
              "\n",
              "   lep4vsPt_phi  \n",
              "0      2.941707  \n",
              "1      1.031844  \n",
              "2      0.685223  \n",
              "3      2.040350  \n",
              "4     -1.332390  \n",
              "\n",
              "[5 rows x 32 columns]"
            ]
          },
          "metadata": {
            "tags": []
          },
          "execution_count": 12
        }
      ]
    },
    {
      "metadata": {
        "id": "3rj2R842hzq3",
        "colab_type": "code",
        "outputId": "d93d3439-c7d2-4c79-af1b-bf0315101a41",
        "colab": {
          "base_uri": "https://localhost:8080/",
          "height": 256
        }
      },
      "cell_type": "code",
      "source": [
        "pp_zgzg_4l.head()"
      ],
      "execution_count": 260,
      "outputs": [
        {
          "output_type": "execute_result",
          "data": {
            "text/html": [
              "<div>\n",
              "<style scoped>\n",
              "    .dataframe tbody tr th:only-of-type {\n",
              "        vertical-align: middle;\n",
              "    }\n",
              "\n",
              "    .dataframe tbody tr th {\n",
              "        vertical-align: top;\n",
              "    }\n",
              "\n",
              "    .dataframe thead th {\n",
              "        text-align: right;\n",
              "    }\n",
              "</style>\n",
              "<table border=\"1\" class=\"dataframe\">\n",
              "  <thead>\n",
              "    <tr style=\"text-align: right;\">\n",
              "      <th></th>\n",
              "      <th>lep1vsPt_e</th>\n",
              "      <th>lep1vsPt_pt</th>\n",
              "      <th>lep1vsPt_px</th>\n",
              "      <th>lep1vsPt_py</th>\n",
              "      <th>lep1vsPt_pz</th>\n",
              "      <th>lep1vsPt_theta</th>\n",
              "      <th>lep1vsPt_eta</th>\n",
              "      <th>lep1vsPt_phi</th>\n",
              "      <th>lep2vsPt_e</th>\n",
              "      <th>lep2vsPt_pt</th>\n",
              "      <th>...</th>\n",
              "      <th>lep3vsPt_eta</th>\n",
              "      <th>lep3vsPt_phi</th>\n",
              "      <th>lep4vsPt_e</th>\n",
              "      <th>lep4vsPt_pt</th>\n",
              "      <th>lep4vsPt_px</th>\n",
              "      <th>lep4vsPt_py</th>\n",
              "      <th>lep4vsPt_pz</th>\n",
              "      <th>lep4vsPt_theta</th>\n",
              "      <th>lep4vsPt_eta</th>\n",
              "      <th>lep4vsPt_phi</th>\n",
              "    </tr>\n",
              "  </thead>\n",
              "  <tbody>\n",
              "    <tr>\n",
              "      <th>0</th>\n",
              "      <td>863.579486</td>\n",
              "      <td>258.227362</td>\n",
              "      <td>-226.072861</td>\n",
              "      <td>124.789551</td>\n",
              "      <td>-824.068054</td>\n",
              "      <td>-1.267131</td>\n",
              "      <td>-1.877250</td>\n",
              "      <td>2.637224</td>\n",
              "      <td>199.719256</td>\n",
              "      <td>161.965285</td>\n",
              "      <td>...</td>\n",
              "      <td>-1.490213</td>\n",
              "      <td>1.694412</td>\n",
              "      <td>68.249141</td>\n",
              "      <td>27.574095</td>\n",
              "      <td>10.746665</td>\n",
              "      <td>-25.393698</td>\n",
              "      <td>-62.430878</td>\n",
              "      <td>-1.154888</td>\n",
              "      <td>-1.555875</td>\n",
              "      <td>-1.170450</td>\n",
              "    </tr>\n",
              "    <tr>\n",
              "      <th>1</th>\n",
              "      <td>123.472105</td>\n",
              "      <td>102.284294</td>\n",
              "      <td>-65.158188</td>\n",
              "      <td>78.844704</td>\n",
              "      <td>69.161209</td>\n",
              "      <td>0.594551</td>\n",
              "      <td>0.633032</td>\n",
              "      <td>2.261436</td>\n",
              "      <td>133.608946</td>\n",
              "      <td>102.264955</td>\n",
              "      <td>...</td>\n",
              "      <td>2.029467</td>\n",
              "      <td>-0.805844</td>\n",
              "      <td>36.052778</td>\n",
              "      <td>35.243782</td>\n",
              "      <td>28.288128</td>\n",
              "      <td>21.021561</td>\n",
              "      <td>7.593910</td>\n",
              "      <td>0.212224</td>\n",
              "      <td>0.213835</td>\n",
              "      <td>0.639085</td>\n",
              "    </tr>\n",
              "    <tr>\n",
              "      <th>2</th>\n",
              "      <td>54.356738</td>\n",
              "      <td>38.580032</td>\n",
              "      <td>36.083580</td>\n",
              "      <td>-13.652624</td>\n",
              "      <td>-38.291317</td>\n",
              "      <td>-0.781642</td>\n",
              "      <td>-0.876072</td>\n",
              "      <td>-0.361714</td>\n",
              "      <td>21.080666</td>\n",
              "      <td>19.485964</td>\n",
              "      <td>...</td>\n",
              "      <td>-0.615403</td>\n",
              "      <td>2.850698</td>\n",
              "      <td>10.407414</td>\n",
              "      <td>9.766749</td>\n",
              "      <td>-9.609757</td>\n",
              "      <td>-1.744118</td>\n",
              "      <td>3.595119</td>\n",
              "      <td>0.352706</td>\n",
              "      <td>0.360255</td>\n",
              "      <td>-2.962053</td>\n",
              "    </tr>\n",
              "    <tr>\n",
              "      <th>3</th>\n",
              "      <td>95.056586</td>\n",
              "      <td>56.364481</td>\n",
              "      <td>-45.895767</td>\n",
              "      <td>32.719006</td>\n",
              "      <td>-76.542725</td>\n",
              "      <td>-0.936070</td>\n",
              "      <td>-1.113323</td>\n",
              "      <td>2.522263</td>\n",
              "      <td>37.722140</td>\n",
              "      <td>21.136718</td>\n",
              "      <td>...</td>\n",
              "      <td>-0.295534</td>\n",
              "      <td>0.254514</td>\n",
              "      <td>40.403750</td>\n",
              "      <td>8.582984</td>\n",
              "      <td>-7.684198</td>\n",
              "      <td>3.823705</td>\n",
              "      <td>-39.481583</td>\n",
              "      <td>-1.356735</td>\n",
              "      <td>-2.230811</td>\n",
              "      <td>2.679862</td>\n",
              "    </tr>\n",
              "    <tr>\n",
              "      <th>4</th>\n",
              "      <td>4706.054291</td>\n",
              "      <td>43.995675</td>\n",
              "      <td>31.930471</td>\n",
              "      <td>-30.266556</td>\n",
              "      <td>-4705.848633</td>\n",
              "      <td>-1.561447</td>\n",
              "      <td>-5.365639</td>\n",
              "      <td>-0.758652</td>\n",
              "      <td>1348.105759</td>\n",
              "      <td>36.268386</td>\n",
              "      <td>...</td>\n",
              "      <td>-3.615566</td>\n",
              "      <td>-0.939167</td>\n",
              "      <td>76.421098</td>\n",
              "      <td>26.491958</td>\n",
              "      <td>-15.806398</td>\n",
              "      <td>21.259859</td>\n",
              "      <td>-71.682358</td>\n",
              "      <td>-1.216791</td>\n",
              "      <td>-1.721070</td>\n",
              "      <td>2.210115</td>\n",
              "    </tr>\n",
              "  </tbody>\n",
              "</table>\n",
              "<p>5 rows × 32 columns</p>\n",
              "</div>"
            ],
            "text/plain": [
              "    lep1vsPt_e  lep1vsPt_pt  lep1vsPt_px  lep1vsPt_py  lep1vsPt_pz  \\\n",
              "0   863.579486   258.227362  -226.072861   124.789551  -824.068054   \n",
              "1   123.472105   102.284294   -65.158188    78.844704    69.161209   \n",
              "2    54.356738    38.580032    36.083580   -13.652624   -38.291317   \n",
              "3    95.056586    56.364481   -45.895767    32.719006   -76.542725   \n",
              "4  4706.054291    43.995675    31.930471   -30.266556 -4705.848633   \n",
              "\n",
              "   lep1vsPt_theta  lep1vsPt_eta  lep1vsPt_phi   lep2vsPt_e  lep2vsPt_pt  \\\n",
              "0       -1.267131     -1.877250      2.637224   199.719256   161.965285   \n",
              "1        0.594551      0.633032      2.261436   133.608946   102.264955   \n",
              "2       -0.781642     -0.876072     -0.361714    21.080666    19.485964   \n",
              "3       -0.936070     -1.113323      2.522263    37.722140    21.136718   \n",
              "4       -1.561447     -5.365639     -0.758652  1348.105759    36.268386   \n",
              "\n",
              "       ...       lep3vsPt_eta  lep3vsPt_phi  lep4vsPt_e  lep4vsPt_pt  \\\n",
              "0      ...          -1.490213      1.694412   68.249141    27.574095   \n",
              "1      ...           2.029467     -0.805844   36.052778    35.243782   \n",
              "2      ...          -0.615403      2.850698   10.407414     9.766749   \n",
              "3      ...          -0.295534      0.254514   40.403750     8.582984   \n",
              "4      ...          -3.615566     -0.939167   76.421098    26.491958   \n",
              "\n",
              "   lep4vsPt_px  lep4vsPt_py  lep4vsPt_pz  lep4vsPt_theta  lep4vsPt_eta  \\\n",
              "0    10.746665   -25.393698   -62.430878       -1.154888     -1.555875   \n",
              "1    28.288128    21.021561     7.593910        0.212224      0.213835   \n",
              "2    -9.609757    -1.744118     3.595119        0.352706      0.360255   \n",
              "3    -7.684198     3.823705   -39.481583       -1.356735     -2.230811   \n",
              "4   -15.806398    21.259859   -71.682358       -1.216791     -1.721070   \n",
              "\n",
              "   lep4vsPt_phi  \n",
              "0     -1.170450  \n",
              "1      0.639085  \n",
              "2     -2.962053  \n",
              "3      2.679862  \n",
              "4      2.210115  \n",
              "\n",
              "[5 rows x 32 columns]"
            ]
          },
          "metadata": {
            "tags": []
          },
          "execution_count": 260
        }
      ]
    },
    {
      "metadata": {
        "id": "e0WHg1puJOTz",
        "colab_type": "text"
      },
      "cell_type": "markdown",
      "source": [
        "The following example plots the signal and background distributions of every variable for the 1st lepton.\n",
        "\n",
        "One can see that the same variables from two samples are close each other."
      ]
    },
    {
      "metadata": {
        "id": "vJmHLY5CqFRX",
        "colab_type": "code",
        "outputId": "b24937bd-02a6-49b1-c3eb-c884e75fbc60",
        "colab": {
          "base_uri": "https://localhost:8080/",
          "height": 2145
        }
      },
      "cell_type": "code",
      "source": [
        "for var in vars[:8]:\n",
        "    print(var)\n",
        "    plt.figure()\n",
        "    plt.hist(pp_h_4l[var], bins=100, histtype=\"step\", color=\"red\", label=\"signal\", stacked=True)\n",
        "    plt.hist(pp_zgzg_4l[var], bins=100, histtype=\"step\", color=\"blue\", label=\"background\", stacked=True)\n",
        "    plt.legend(loc='upper right')\n",
        "    plt.show()\n"
      ],
      "execution_count": 13,
      "outputs": [
        {
          "output_type": "stream",
          "text": [
            "lep1vsPt_e\n"
          ],
          "name": "stdout"
        },
        {
          "output_type": "display_data",
          "data": {
            "image/png": "[encoded data removed]",
            "text/plain": [
              "<matplotlib.figure.Figure at 0x7f894c092fd0>"
            ]
          },
          "metadata": {
            "tags": []
          }
        },
        {
          "output_type": "stream",
          "text": [
            "lep1vsPt_pt\n"
          ],
          "name": "stdout"
        },
        {
          "output_type": "display_data",
          "data": {
            "image/png": "[encoded data removed]",
            "text/plain": [
              "<matplotlib.figure.Figure at 0x7f894c006b00>"
            ]
          },
          "metadata": {
            "tags": []
          }
        },
        {
          "output_type": "stream",
          "text": [
            "lep1vsPt_px\n"
          ],
          "name": "stdout"
        },
        {
          "output_type": "display_data",
          "data": {
            "image/png": "[encoded data removed]",
            "text/plain": [
              "<matplotlib.figure.Figure at 0x7f894bfc3940>"
            ]
          },
          "metadata": {
            "tags": []
          }
        },
        {
          "output_type": "stream",
          "text": [
            "lep1vsPt_py\n"
          ],
          "name": "stdout"
        },
        {
          "output_type": "display_data",
          "data": {
            "image/png": "[encoded data removed]",
            "text/plain": [
              "<matplotlib.figure.Figure at 0x7f894bfbb4e0>"
            ]
          },
          "metadata": {
            "tags": []
          }
        },
        {
          "output_type": "stream",
          "text": [
            "lep1vsPt_pz\n"
          ],
          "name": "stdout"
        },
        {
          "output_type": "display_data",
          "data": {
            "image/png": "[encoded data removed]",
            "text/plain": [
              "<matplotlib.figure.Figure at 0x7f894bed10b8>"
            ]
          },
          "metadata": {
            "tags": []
          }
        },
        {
          "output_type": "stream",
          "text": [
            "lep1vsPt_theta\n"
          ],
          "name": "stdout"
        },
        {
          "output_type": "display_data",
          "data": {
            "image/png": "[encoded data removed]",
            "text/plain": [
              "<matplotlib.figure.Figure at 0x7f894be2bda0>"
            ]
          },
          "metadata": {
            "tags": []
          }
        },
        {
          "output_type": "stream",
          "text": [
            "lep1vsPt_eta\n"
          ],
          "name": "stdout"
        },
        {
          "output_type": "display_data",
          "data": {
            "image/png": "[encoded data removed]",
            "text/plain": [
              "<matplotlib.figure.Figure at 0x7f894be6f7b8>"
            ]
          },
          "metadata": {
            "tags": []
          }
        },
        {
          "output_type": "stream",
          "text": [
            "lep1vsPt_phi\n"
          ],
          "name": "stdout"
        },
        {
          "output_type": "display_data",
          "data": {
            "image/png": "[encoded data removed]",
            "text/plain": [
              "<matplotlib.figure.Figure at 0x7f894be9eb70>"
            ]
          },
          "metadata": {
            "tags": []
          }
        }
      ]
    },
    {
      "metadata": {
        "id": "r53_egVV1cjd",
        "colab_type": "text"
      },
      "cell_type": "markdown",
      "source": [
        "# Fisher Discriminant\n",
        "(aka Linear Discriminant Analysis, or LDA)"
      ]
    },
    {
      "metadata": {
        "id": "KbXReWJoPT2Y",
        "colab_type": "text"
      },
      "cell_type": "markdown",
      "source": [
        "## Preparing samples"
      ]
    },
    {
      "metadata": {
        "colab_type": "text",
        "id": "HER0ltrFfLKS"
      },
      "cell_type": "markdown",
      "source": [
        "Let's put `signal` label to our samples in order to dinstigush them after combining:"
      ]
    },
    {
      "metadata": {
        "colab_type": "code",
        "id": "G53CblbCfLKj",
        "colab": {
          "base_uri": "https://localhost:8080/",
          "height": 256
        },
        "outputId": "e4be44d5-9dbc-41cb-d6a7-1f6ad981a417"
      },
      "cell_type": "code",
      "source": [
        "pp_h_4l.insert(loc=0, column='signal', value=1.0)\n",
        "pp_zgzg_4l.insert(loc=0, column='signal', value=0.0)\n",
        "\n",
        "# pp_h_4l['signal'] = 1.0\n",
        "# pp_zgzg_4l['signal'] = 0.0\n",
        "pp_h_4l.head()"
      ],
      "execution_count": 15,
      "outputs": [
        {
          "output_type": "execute_result",
          "data": {
            "text/html": [
              "<div>\n",
              "<style scoped>\n",
              "    .dataframe tbody tr th:only-of-type {\n",
              "        vertical-align: middle;\n",
              "    }\n",
              "\n",
              "    .dataframe tbody tr th {\n",
              "        vertical-align: top;\n",
              "    }\n",
              "\n",
              "    .dataframe thead th {\n",
              "        text-align: right;\n",
              "    }\n",
              "</style>\n",
              "<table border=\"1\" class=\"dataframe\">\n",
              "  <thead>\n",
              "    <tr style=\"text-align: right;\">\n",
              "      <th></th>\n",
              "      <th>signal</th>\n",
              "      <th>lep1vsPt_e</th>\n",
              "      <th>lep1vsPt_pt</th>\n",
              "      <th>lep1vsPt_px</th>\n",
              "      <th>lep1vsPt_py</th>\n",
              "      <th>lep1vsPt_pz</th>\n",
              "      <th>lep1vsPt_theta</th>\n",
              "      <th>lep1vsPt_eta</th>\n",
              "      <th>lep1vsPt_phi</th>\n",
              "      <th>lep2vsPt_e</th>\n",
              "      <th>...</th>\n",
              "      <th>lep3vsPt_eta</th>\n",
              "      <th>lep3vsPt_phi</th>\n",
              "      <th>lep4vsPt_e</th>\n",
              "      <th>lep4vsPt_pt</th>\n",
              "      <th>lep4vsPt_px</th>\n",
              "      <th>lep4vsPt_py</th>\n",
              "      <th>lep4vsPt_pz</th>\n",
              "      <th>lep4vsPt_theta</th>\n",
              "      <th>lep4vsPt_eta</th>\n",
              "      <th>lep4vsPt_phi</th>\n",
              "    </tr>\n",
              "  </thead>\n",
              "  <tbody>\n",
              "    <tr>\n",
              "      <th>0</th>\n",
              "      <td>1.0</td>\n",
              "      <td>40.817599</td>\n",
              "      <td>40.816309</td>\n",
              "      <td>-7.430504</td>\n",
              "      <td>-40.134258</td>\n",
              "      <td>0.324458</td>\n",
              "      <td>0.007949</td>\n",
              "      <td>0.007949</td>\n",
              "      <td>-1.753865</td>\n",
              "      <td>88.221803</td>\n",
              "      <td>...</td>\n",
              "      <td>0.904967</td>\n",
              "      <td>1.695575</td>\n",
              "      <td>11.299976</td>\n",
              "      <td>8.581384</td>\n",
              "      <td>-8.410522</td>\n",
              "      <td>1.703895</td>\n",
              "      <td>-7.351065</td>\n",
              "      <td>-0.708330</td>\n",
              "      <td>-0.776280</td>\n",
              "      <td>2.941707</td>\n",
              "    </tr>\n",
              "    <tr>\n",
              "      <th>1</th>\n",
              "      <td>1.0</td>\n",
              "      <td>1110.684463</td>\n",
              "      <td>50.237450</td>\n",
              "      <td>47.376976</td>\n",
              "      <td>-16.709984</td>\n",
              "      <td>1109.547729</td>\n",
              "      <td>1.525550</td>\n",
              "      <td>3.788606</td>\n",
              "      <td>-0.339080</td>\n",
              "      <td>916.350779</td>\n",
              "      <td>...</td>\n",
              "      <td>2.951899</td>\n",
              "      <td>2.957064</td>\n",
              "      <td>151.782980</td>\n",
              "      <td>9.268806</td>\n",
              "      <td>4.757098</td>\n",
              "      <td>7.954923</td>\n",
              "      <td>151.499710</td>\n",
              "      <td>1.509692</td>\n",
              "      <td>3.488011</td>\n",
              "      <td>1.031844</td>\n",
              "    </tr>\n",
              "    <tr>\n",
              "      <th>2</th>\n",
              "      <td>1.0</td>\n",
              "      <td>183.672265</td>\n",
              "      <td>73.585952</td>\n",
              "      <td>-32.633724</td>\n",
              "      <td>-65.954018</td>\n",
              "      <td>-168.287247</td>\n",
              "      <td>-1.158584</td>\n",
              "      <td>-1.565062</td>\n",
              "      <td>-2.030271</td>\n",
              "      <td>89.974504</td>\n",
              "      <td>...</td>\n",
              "      <td>-1.850662</td>\n",
              "      <td>2.450955</td>\n",
              "      <td>15.433533</td>\n",
              "      <td>4.738079</td>\n",
              "      <td>3.668590</td>\n",
              "      <td>2.998472</td>\n",
              "      <td>-14.687865</td>\n",
              "      <td>-1.258751</td>\n",
              "      <td>-1.849592</td>\n",
              "      <td>0.685223</td>\n",
              "    </tr>\n",
              "    <tr>\n",
              "      <th>3</th>\n",
              "      <td>1.0</td>\n",
              "      <td>42.281700</td>\n",
              "      <td>39.489943</td>\n",
              "      <td>-39.316151</td>\n",
              "      <td>-3.700795</td>\n",
              "      <td>-15.108787</td>\n",
              "      <td>-0.365416</td>\n",
              "      <td>-0.373830</td>\n",
              "      <td>-3.047740</td>\n",
              "      <td>46.944943</td>\n",
              "      <td>...</td>\n",
              "      <td>0.428923</td>\n",
              "      <td>0.706051</td>\n",
              "      <td>16.472994</td>\n",
              "      <td>15.589799</td>\n",
              "      <td>-7.054197</td>\n",
              "      <td>13.902523</td>\n",
              "      <td>5.321438</td>\n",
              "      <td>0.328940</td>\n",
              "      <td>0.335038</td>\n",
              "      <td>2.040350</td>\n",
              "    </tr>\n",
              "    <tr>\n",
              "      <th>4</th>\n",
              "      <td>1.0</td>\n",
              "      <td>704.754401</td>\n",
              "      <td>654.673065</td>\n",
              "      <td>190.100601</td>\n",
              "      <td>-626.465149</td>\n",
              "      <td>260.925171</td>\n",
              "      <td>0.379263</td>\n",
              "      <td>0.388696</td>\n",
              "      <td>-1.276178</td>\n",
              "      <td>325.376137</td>\n",
              "      <td>...</td>\n",
              "      <td>0.299380</td>\n",
              "      <td>-1.490367</td>\n",
              "      <td>33.783233</td>\n",
              "      <td>33.571311</td>\n",
              "      <td>7.927998</td>\n",
              "      <td>-32.621769</td>\n",
              "      <td>3.776598</td>\n",
              "      <td>0.112024</td>\n",
              "      <td>0.112259</td>\n",
              "      <td>-1.332390</td>\n",
              "    </tr>\n",
              "  </tbody>\n",
              "</table>\n",
              "<p>5 rows × 33 columns</p>\n",
              "</div>"
            ],
            "text/plain": [
              "   signal   lep1vsPt_e  lep1vsPt_pt  lep1vsPt_px  lep1vsPt_py  lep1vsPt_pz  \\\n",
              "0     1.0    40.817599    40.816309    -7.430504   -40.134258     0.324458   \n",
              "1     1.0  1110.684463    50.237450    47.376976   -16.709984  1109.547729   \n",
              "2     1.0   183.672265    73.585952   -32.633724   -65.954018  -168.287247   \n",
              "3     1.0    42.281700    39.489943   -39.316151    -3.700795   -15.108787   \n",
              "4     1.0   704.754401   654.673065   190.100601  -626.465149   260.925171   \n",
              "\n",
              "   lep1vsPt_theta  lep1vsPt_eta  lep1vsPt_phi  lep2vsPt_e      ...       \\\n",
              "0        0.007949      0.007949     -1.753865   88.221803      ...        \n",
              "1        1.525550      3.788606     -0.339080  916.350779      ...        \n",
              "2       -1.158584     -1.565062     -2.030271   89.974504      ...        \n",
              "3       -0.365416     -0.373830     -3.047740   46.944943      ...        \n",
              "4        0.379263      0.388696     -1.276178  325.376137      ...        \n",
              "\n",
              "   lep3vsPt_eta  lep3vsPt_phi  lep4vsPt_e  lep4vsPt_pt  lep4vsPt_px  \\\n",
              "0      0.904967      1.695575   11.299976     8.581384    -8.410522   \n",
              "1      2.951899      2.957064  151.782980     9.268806     4.757098   \n",
              "2     -1.850662      2.450955   15.433533     4.738079     3.668590   \n",
              "3      0.428923      0.706051   16.472994    15.589799    -7.054197   \n",
              "4      0.299380     -1.490367   33.783233    33.571311     7.927998   \n",
              "\n",
              "   lep4vsPt_py  lep4vsPt_pz  lep4vsPt_theta  lep4vsPt_eta  lep4vsPt_phi  \n",
              "0     1.703895    -7.351065       -0.708330     -0.776280      2.941707  \n",
              "1     7.954923   151.499710        1.509692      3.488011      1.031844  \n",
              "2     2.998472   -14.687865       -1.258751     -1.849592      0.685223  \n",
              "3    13.902523     5.321438        0.328940      0.335038      2.040350  \n",
              "4   -32.621769     3.776598        0.112024      0.112259     -1.332390  \n",
              "\n",
              "[5 rows x 33 columns]"
            ]
          },
          "metadata": {
            "tags": []
          },
          "execution_count": 15
        }
      ]
    },
    {
      "metadata": {
        "colab_type": "text",
        "id": "UO8bsfhBfLK4"
      },
      "cell_type": "markdown",
      "source": [
        "Combine the samples:"
      ]
    },
    {
      "metadata": {
        "colab_type": "code",
        "id": "PR7wuvP5fLLB",
        "colab": {
          "base_uri": "https://localhost:8080/",
          "height": 256
        },
        "outputId": "30d59873-422b-4aa3-e32d-4bde62ee62f0"
      },
      "cell_type": "code",
      "source": [
        "frames = [pp_h_4l, pp_zgzg_4l]\n",
        "ds = pd.concat(frames, ignore_index=True)\n",
        "ds.head()"
      ],
      "execution_count": 16,
      "outputs": [
        {
          "output_type": "execute_result",
          "data": {
            "text/html": [
              "<div>\n",
              "<style scoped>\n",
              "    .dataframe tbody tr th:only-of-type {\n",
              "        vertical-align: middle;\n",
              "    }\n",
              "\n",
              "    .dataframe tbody tr th {\n",
              "        vertical-align: top;\n",
              "    }\n",
              "\n",
              "    .dataframe thead th {\n",
              "        text-align: right;\n",
              "    }\n",
              "</style>\n",
              "<table border=\"1\" class=\"dataframe\">\n",
              "  <thead>\n",
              "    <tr style=\"text-align: right;\">\n",
              "      <th></th>\n",
              "      <th>signal</th>\n",
              "      <th>lep1vsPt_e</th>\n",
              "      <th>lep1vsPt_pt</th>\n",
              "      <th>lep1vsPt_px</th>\n",
              "      <th>lep1vsPt_py</th>\n",
              "      <th>lep1vsPt_pz</th>\n",
              "      <th>lep1vsPt_theta</th>\n",
              "      <th>lep1vsPt_eta</th>\n",
              "      <th>lep1vsPt_phi</th>\n",
              "      <th>lep2vsPt_e</th>\n",
              "      <th>...</th>\n",
              "      <th>lep3vsPt_eta</th>\n",
              "      <th>lep3vsPt_phi</th>\n",
              "      <th>lep4vsPt_e</th>\n",
              "      <th>lep4vsPt_pt</th>\n",
              "      <th>lep4vsPt_px</th>\n",
              "      <th>lep4vsPt_py</th>\n",
              "      <th>lep4vsPt_pz</th>\n",
              "      <th>lep4vsPt_theta</th>\n",
              "      <th>lep4vsPt_eta</th>\n",
              "      <th>lep4vsPt_phi</th>\n",
              "    </tr>\n",
              "  </thead>\n",
              "  <tbody>\n",
              "    <tr>\n",
              "      <th>0</th>\n",
              "      <td>1.0</td>\n",
              "      <td>40.817599</td>\n",
              "      <td>40.816309</td>\n",
              "      <td>-7.430504</td>\n",
              "      <td>-40.134258</td>\n",
              "      <td>0.324458</td>\n",
              "      <td>0.007949</td>\n",
              "      <td>0.007949</td>\n",
              "      <td>-1.753865</td>\n",
              "      <td>88.221803</td>\n",
              "      <td>...</td>\n",
              "      <td>0.904967</td>\n",
              "      <td>1.695575</td>\n",
              "      <td>11.299976</td>\n",
              "      <td>8.581384</td>\n",
              "      <td>-8.410522</td>\n",
              "      <td>1.703895</td>\n",
              "      <td>-7.351065</td>\n",
              "      <td>-0.708330</td>\n",
              "      <td>-0.776280</td>\n",
              "      <td>2.941707</td>\n",
              "    </tr>\n",
              "    <tr>\n",
              "      <th>1</th>\n",
              "      <td>1.0</td>\n",
              "      <td>1110.684463</td>\n",
              "      <td>50.237450</td>\n",
              "      <td>47.376976</td>\n",
              "      <td>-16.709984</td>\n",
              "      <td>1109.547729</td>\n",
              "      <td>1.525550</td>\n",
              "      <td>3.788606</td>\n",
              "      <td>-0.339080</td>\n",
              "      <td>916.350779</td>\n",
              "      <td>...</td>\n",
              "      <td>2.951899</td>\n",
              "      <td>2.957064</td>\n",
              "      <td>151.782980</td>\n",
              "      <td>9.268806</td>\n",
              "      <td>4.757098</td>\n",
              "      <td>7.954923</td>\n",
              "      <td>151.499710</td>\n",
              "      <td>1.509692</td>\n",
              "      <td>3.488011</td>\n",
              "      <td>1.031844</td>\n",
              "    </tr>\n",
              "    <tr>\n",
              "      <th>2</th>\n",
              "      <td>1.0</td>\n",
              "      <td>183.672265</td>\n",
              "      <td>73.585952</td>\n",
              "      <td>-32.633724</td>\n",
              "      <td>-65.954018</td>\n",
              "      <td>-168.287247</td>\n",
              "      <td>-1.158584</td>\n",
              "      <td>-1.565062</td>\n",
              "      <td>-2.030271</td>\n",
              "      <td>89.974504</td>\n",
              "      <td>...</td>\n",
              "      <td>-1.850662</td>\n",
              "      <td>2.450955</td>\n",
              "      <td>15.433533</td>\n",
              "      <td>4.738079</td>\n",
              "      <td>3.668590</td>\n",
              "      <td>2.998472</td>\n",
              "      <td>-14.687865</td>\n",
              "      <td>-1.258751</td>\n",
              "      <td>-1.849592</td>\n",
              "      <td>0.685223</td>\n",
              "    </tr>\n",
              "    <tr>\n",
              "      <th>3</th>\n",
              "      <td>1.0</td>\n",
              "      <td>42.281700</td>\n",
              "      <td>39.489943</td>\n",
              "      <td>-39.316151</td>\n",
              "      <td>-3.700795</td>\n",
              "      <td>-15.108787</td>\n",
              "      <td>-0.365416</td>\n",
              "      <td>-0.373830</td>\n",
              "      <td>-3.047740</td>\n",
              "      <td>46.944943</td>\n",
              "      <td>...</td>\n",
              "      <td>0.428923</td>\n",
              "      <td>0.706051</td>\n",
              "      <td>16.472994</td>\n",
              "      <td>15.589799</td>\n",
              "      <td>-7.054197</td>\n",
              "      <td>13.902523</td>\n",
              "      <td>5.321438</td>\n",
              "      <td>0.328940</td>\n",
              "      <td>0.335038</td>\n",
              "      <td>2.040350</td>\n",
              "    </tr>\n",
              "    <tr>\n",
              "      <th>4</th>\n",
              "      <td>1.0</td>\n",
              "      <td>704.754401</td>\n",
              "      <td>654.673065</td>\n",
              "      <td>190.100601</td>\n",
              "      <td>-626.465149</td>\n",
              "      <td>260.925171</td>\n",
              "      <td>0.379263</td>\n",
              "      <td>0.388696</td>\n",
              "      <td>-1.276178</td>\n",
              "      <td>325.376137</td>\n",
              "      <td>...</td>\n",
              "      <td>0.299380</td>\n",
              "      <td>-1.490367</td>\n",
              "      <td>33.783233</td>\n",
              "      <td>33.571311</td>\n",
              "      <td>7.927998</td>\n",
              "      <td>-32.621769</td>\n",
              "      <td>3.776598</td>\n",
              "      <td>0.112024</td>\n",
              "      <td>0.112259</td>\n",
              "      <td>-1.332390</td>\n",
              "    </tr>\n",
              "  </tbody>\n",
              "</table>\n",
              "<p>5 rows × 33 columns</p>\n",
              "</div>"
            ],
            "text/plain": [
              "   signal   lep1vsPt_e  lep1vsPt_pt  lep1vsPt_px  lep1vsPt_py  lep1vsPt_pz  \\\n",
              "0     1.0    40.817599    40.816309    -7.430504   -40.134258     0.324458   \n",
              "1     1.0  1110.684463    50.237450    47.376976   -16.709984  1109.547729   \n",
              "2     1.0   183.672265    73.585952   -32.633724   -65.954018  -168.287247   \n",
              "3     1.0    42.281700    39.489943   -39.316151    -3.700795   -15.108787   \n",
              "4     1.0   704.754401   654.673065   190.100601  -626.465149   260.925171   \n",
              "\n",
              "   lep1vsPt_theta  lep1vsPt_eta  lep1vsPt_phi  lep2vsPt_e      ...       \\\n",
              "0        0.007949      0.007949     -1.753865   88.221803      ...        \n",
              "1        1.525550      3.788606     -0.339080  916.350779      ...        \n",
              "2       -1.158584     -1.565062     -2.030271   89.974504      ...        \n",
              "3       -0.365416     -0.373830     -3.047740   46.944943      ...        \n",
              "4        0.379263      0.388696     -1.276178  325.376137      ...        \n",
              "\n",
              "   lep3vsPt_eta  lep3vsPt_phi  lep4vsPt_e  lep4vsPt_pt  lep4vsPt_px  \\\n",
              "0      0.904967      1.695575   11.299976     8.581384    -8.410522   \n",
              "1      2.951899      2.957064  151.782980     9.268806     4.757098   \n",
              "2     -1.850662      2.450955   15.433533     4.738079     3.668590   \n",
              "3      0.428923      0.706051   16.472994    15.589799    -7.054197   \n",
              "4      0.299380     -1.490367   33.783233    33.571311     7.927998   \n",
              "\n",
              "   lep4vsPt_py  lep4vsPt_pz  lep4vsPt_theta  lep4vsPt_eta  lep4vsPt_phi  \n",
              "0     1.703895    -7.351065       -0.708330     -0.776280      2.941707  \n",
              "1     7.954923   151.499710        1.509692      3.488011      1.031844  \n",
              "2     2.998472   -14.687865       -1.258751     -1.849592      0.685223  \n",
              "3    13.902523     5.321438        0.328940      0.335038      2.040350  \n",
              "4   -32.621769     3.776598        0.112024      0.112259     -1.332390  \n",
              "\n",
              "[5 rows x 33 columns]"
            ]
          },
          "metadata": {
            "tags": []
          },
          "execution_count": 16
        }
      ]
    },
    {
      "metadata": {
        "colab_type": "text",
        "id": "FmGXenS_fLLK"
      },
      "cell_type": "markdown",
      "source": [
        "Randomly permute rows in the combined sample:"
      ]
    },
    {
      "metadata": {
        "colab_type": "code",
        "id": "DCRH47pnfLLO",
        "colab": {
          "base_uri": "https://localhost:8080/",
          "height": 256
        },
        "outputId": "16141e0f-2812-4590-d819-be09e5867f9d"
      },
      "cell_type": "code",
      "source": [
        "np.random.seed(14)\n",
        "ds = ds.iloc[np.random.permutation(len(ds))].reset_index(drop=True).copy()\n",
        "ds.head()"
      ],
      "execution_count": 17,
      "outputs": [
        {
          "output_type": "execute_result",
          "data": {
            "text/html": [
              "<div>\n",
              "<style scoped>\n",
              "    .dataframe tbody tr th:only-of-type {\n",
              "        vertical-align: middle;\n",
              "    }\n",
              "\n",
              "    .dataframe tbody tr th {\n",
              "        vertical-align: top;\n",
              "    }\n",
              "\n",
              "    .dataframe thead th {\n",
              "        text-align: right;\n",
              "    }\n",
              "</style>\n",
              "<table border=\"1\" class=\"dataframe\">\n",
              "  <thead>\n",
              "    <tr style=\"text-align: right;\">\n",
              "      <th></th>\n",
              "      <th>signal</th>\n",
              "      <th>lep1vsPt_e</th>\n",
              "      <th>lep1vsPt_pt</th>\n",
              "      <th>lep1vsPt_px</th>\n",
              "      <th>lep1vsPt_py</th>\n",
              "      <th>lep1vsPt_pz</th>\n",
              "      <th>lep1vsPt_theta</th>\n",
              "      <th>lep1vsPt_eta</th>\n",
              "      <th>lep1vsPt_phi</th>\n",
              "      <th>lep2vsPt_e</th>\n",
              "      <th>...</th>\n",
              "      <th>lep3vsPt_eta</th>\n",
              "      <th>lep3vsPt_phi</th>\n",
              "      <th>lep4vsPt_e</th>\n",
              "      <th>lep4vsPt_pt</th>\n",
              "      <th>lep4vsPt_px</th>\n",
              "      <th>lep4vsPt_py</th>\n",
              "      <th>lep4vsPt_pz</th>\n",
              "      <th>lep4vsPt_theta</th>\n",
              "      <th>lep4vsPt_eta</th>\n",
              "      <th>lep4vsPt_phi</th>\n",
              "    </tr>\n",
              "  </thead>\n",
              "  <tbody>\n",
              "    <tr>\n",
              "      <th>0</th>\n",
              "      <td>1.0</td>\n",
              "      <td>833.432619</td>\n",
              "      <td>471.187987</td>\n",
              "      <td>-205.087784</td>\n",
              "      <td>424.213531</td>\n",
              "      <td>-687.453125</td>\n",
              "      <td>-0.969929</td>\n",
              "      <td>-1.171791</td>\n",
              "      <td>2.021120</td>\n",
              "      <td>784.197783</td>\n",
              "      <td>...</td>\n",
              "      <td>-1.061637</td>\n",
              "      <td>2.019502</td>\n",
              "      <td>75.732588</td>\n",
              "      <td>42.164620</td>\n",
              "      <td>1.617603</td>\n",
              "      <td>42.133579</td>\n",
              "      <td>-62.909218</td>\n",
              "      <td>-0.980320</td>\n",
              "      <td>-1.190312</td>\n",
              "      <td>1.532423</td>\n",
              "    </tr>\n",
              "    <tr>\n",
              "      <th>1</th>\n",
              "      <td>1.0</td>\n",
              "      <td>1025.844604</td>\n",
              "      <td>461.163817</td>\n",
              "      <td>461.162842</td>\n",
              "      <td>-0.948175</td>\n",
              "      <td>916.343323</td>\n",
              "      <td>1.104540</td>\n",
              "      <td>1.437817</td>\n",
              "      <td>-0.002056</td>\n",
              "      <td>376.039397</td>\n",
              "      <td>...</td>\n",
              "      <td>1.285837</td>\n",
              "      <td>0.120007</td>\n",
              "      <td>18.836407</td>\n",
              "      <td>3.537480</td>\n",
              "      <td>2.847296</td>\n",
              "      <td>2.099206</td>\n",
              "      <td>18.500954</td>\n",
              "      <td>1.381871</td>\n",
              "      <td>2.356572</td>\n",
              "      <td>0.635299</td>\n",
              "    </tr>\n",
              "    <tr>\n",
              "      <th>2</th>\n",
              "      <td>0.0</td>\n",
              "      <td>169.753386</td>\n",
              "      <td>73.144065</td>\n",
              "      <td>52.182674</td>\n",
              "      <td>51.254490</td>\n",
              "      <td>153.186676</td>\n",
              "      <td>1.125324</td>\n",
              "      <td>1.485036</td>\n",
              "      <td>0.776425</td>\n",
              "      <td>198.402303</td>\n",
              "      <td>...</td>\n",
              "      <td>1.232339</td>\n",
              "      <td>-3.057859</td>\n",
              "      <td>18.806057</td>\n",
              "      <td>17.351076</td>\n",
              "      <td>-7.223897</td>\n",
              "      <td>-15.775778</td>\n",
              "      <td>-7.253134</td>\n",
              "      <td>-0.395946</td>\n",
              "      <td>-0.406716</td>\n",
              "      <td>-2.000209</td>\n",
              "    </tr>\n",
              "    <tr>\n",
              "      <th>3</th>\n",
              "      <td>1.0</td>\n",
              "      <td>300.398885</td>\n",
              "      <td>178.375267</td>\n",
              "      <td>-9.593818</td>\n",
              "      <td>178.117081</td>\n",
              "      <td>-241.705902</td>\n",
              "      <td>-0.935029</td>\n",
              "      <td>-1.111570</td>\n",
              "      <td>1.624607</td>\n",
              "      <td>57.559493</td>\n",
              "      <td>...</td>\n",
              "      <td>-1.423757</td>\n",
              "      <td>-2.441698</td>\n",
              "      <td>10.308361</td>\n",
              "      <td>9.946511</td>\n",
              "      <td>-1.608201</td>\n",
              "      <td>-9.815639</td>\n",
              "      <td>-2.705195</td>\n",
              "      <td>-0.265551</td>\n",
              "      <td>-0.268728</td>\n",
              "      <td>-1.733194</td>\n",
              "    </tr>\n",
              "    <tr>\n",
              "      <th>4</th>\n",
              "      <td>0.0</td>\n",
              "      <td>428.461306</td>\n",
              "      <td>59.574351</td>\n",
              "      <td>9.803563</td>\n",
              "      <td>58.762177</td>\n",
              "      <td>-424.299408</td>\n",
              "      <td>-1.431302</td>\n",
              "      <td>-2.661254</td>\n",
              "      <td>1.405484</td>\n",
              "      <td>221.848918</td>\n",
              "      <td>...</td>\n",
              "      <td>-1.680006</td>\n",
              "      <td>-0.190430</td>\n",
              "      <td>309.263349</td>\n",
              "      <td>37.593548</td>\n",
              "      <td>6.456899</td>\n",
              "      <td>-37.034893</td>\n",
              "      <td>-306.969940</td>\n",
              "      <td>-1.448937</td>\n",
              "      <td>-2.796793</td>\n",
              "      <td>-1.398185</td>\n",
              "    </tr>\n",
              "  </tbody>\n",
              "</table>\n",
              "<p>5 rows × 33 columns</p>\n",
              "</div>"
            ],
            "text/plain": [
              "   signal   lep1vsPt_e  lep1vsPt_pt  lep1vsPt_px  lep1vsPt_py  lep1vsPt_pz  \\\n",
              "0     1.0   833.432619   471.187987  -205.087784   424.213531  -687.453125   \n",
              "1     1.0  1025.844604   461.163817   461.162842    -0.948175   916.343323   \n",
              "2     0.0   169.753386    73.144065    52.182674    51.254490   153.186676   \n",
              "3     1.0   300.398885   178.375267    -9.593818   178.117081  -241.705902   \n",
              "4     0.0   428.461306    59.574351     9.803563    58.762177  -424.299408   \n",
              "\n",
              "   lep1vsPt_theta  lep1vsPt_eta  lep1vsPt_phi  lep2vsPt_e      ...       \\\n",
              "0       -0.969929     -1.171791      2.021120  784.197783      ...        \n",
              "1        1.104540      1.437817     -0.002056  376.039397      ...        \n",
              "2        1.125324      1.485036      0.776425  198.402303      ...        \n",
              "3       -0.935029     -1.111570      1.624607   57.559493      ...        \n",
              "4       -1.431302     -2.661254      1.405484  221.848918      ...        \n",
              "\n",
              "   lep3vsPt_eta  lep3vsPt_phi  lep4vsPt_e  lep4vsPt_pt  lep4vsPt_px  \\\n",
              "0     -1.061637      2.019502   75.732588    42.164620     1.617603   \n",
              "1      1.285837      0.120007   18.836407     3.537480     2.847296   \n",
              "2      1.232339     -3.057859   18.806057    17.351076    -7.223897   \n",
              "3     -1.423757     -2.441698   10.308361     9.946511    -1.608201   \n",
              "4     -1.680006     -0.190430  309.263349    37.593548     6.456899   \n",
              "\n",
              "   lep4vsPt_py  lep4vsPt_pz  lep4vsPt_theta  lep4vsPt_eta  lep4vsPt_phi  \n",
              "0    42.133579   -62.909218       -0.980320     -1.190312      1.532423  \n",
              "1     2.099206    18.500954        1.381871      2.356572      0.635299  \n",
              "2   -15.775778    -7.253134       -0.395946     -0.406716     -2.000209  \n",
              "3    -9.815639    -2.705195       -0.265551     -0.268728     -1.733194  \n",
              "4   -37.034893  -306.969940       -1.448937     -2.796793     -1.398185  \n",
              "\n",
              "[5 rows x 33 columns]"
            ]
          },
          "metadata": {
            "tags": []
          },
          "execution_count": 17
        }
      ]
    },
    {
      "metadata": {
        "id": "8QA2sb95tZuw",
        "colab_type": "code",
        "colab": {}
      },
      "cell_type": "code",
      "source": [
        "N_Train=9999\n",
        "\n",
        "Train_Sample=ds[:N_Train]\n",
        "Test_Sample=ds[N_Train:]\n",
        "\n",
        "X_Train=Train_Sample[vars[1:]]\n",
        "y_Train=Train_Sample[\"signal\"]\n",
        "\n",
        "X_Test=Test_Sample[vars[1:]]\n",
        "y_Test=Test_Sample[\"signal\"]\n",
        "\n",
        "Test_sig=Test_Sample[Test_Sample.signal==1]\n",
        "Test_bkg=Test_Sample[Test_Sample.signal==0]"
      ],
      "execution_count": 0,
      "outputs": []
    },
    {
      "metadata": {
        "id": "biVE6q4Wofgw",
        "colab_type": "text"
      },
      "cell_type": "markdown",
      "source": [
        "## Using classifier"
      ]
    },
    {
      "metadata": {
        "id": "s2GmPtP0ilqc",
        "colab_type": "text"
      },
      "cell_type": "markdown",
      "source": [
        "[Scikit-learn](http://scikit-learn.org/) is a rich python library for data science, including machine learning. The [LDA Documentation](https://scikit-learn.org/stable/modules/lda_qda.html#dimensionality-reduction-using-linear-discriminant-analysis) does as great job explaining this classifier. Here's how we instanciate the classifier:"
      ]
    },
    {
      "metadata": {
        "id": "mc8mheWltSwL",
        "colab_type": "code",
        "colab": {}
      },
      "cell_type": "code",
      "source": [
        "import sklearn.discriminant_analysis as DA\n",
        "Fisher=DA.LinearDiscriminantAnalysis()"
      ],
      "execution_count": 0,
      "outputs": []
    },
    {
      "metadata": {
        "id": "kcMLE4M2jZuB",
        "colab_type": "text"
      },
      "cell_type": "markdown",
      "source": [
        "We can train the classifier as follow:"
      ]
    },
    {
      "metadata": {
        "id": "uap-HIUmTqtz",
        "colab_type": "code",
        "colab": {
          "base_uri": "https://localhost:8080/",
          "height": 53
        },
        "outputId": "23c13e93-88a2-41d9-f497-8d4421a1c0cf"
      },
      "cell_type": "code",
      "source": [
        "Fisher.fit(X_Train,y_Train)"
      ],
      "execution_count": 19,
      "outputs": [
        {
          "output_type": "execute_result",
          "data": {
            "text/plain": [
              "LinearDiscriminantAnalysis(n_components=None, priors=None, shrinkage=None,\n",
              "              solver='svd', store_covariance=False, tol=0.0001)"
            ]
          },
          "metadata": {
            "tags": []
          },
          "execution_count": 19
        }
      ]
    },
    {
      "metadata": {
        "id": "TrDiyQ4JTyQy",
        "colab_type": "code",
        "colab": {
          "base_uri": "https://localhost:8080/",
          "height": 265
        },
        "outputId": "ca6702ac-980b-4930-9a26-54cb43e4befd"
      },
      "cell_type": "code",
      "source": [
        "plt.figure()\n",
        "plt.hist(Fisher.decision_function(Test_sig[vars[1:]]),bins=100,histtype=\"step\", color=\"blue\", label=\"signal\",stacked=True)\n",
        "plt.hist(Fisher.decision_function(Test_bkg[vars[1:]]),bins=100,histtype=\"step\", color=\"red\", label=\"background\",stacked=True)\n",
        "plt.legend(loc='upper right')\n",
        "plt.show()"
      ],
      "execution_count": 20,
      "outputs": [
        {
          "output_type": "display_data",
          "data": {
            "image/png": "[encoded data removed]",
            "text/plain": [
              "<matplotlib.figure.Figure at 0x7f894bdb4278>"
            ]
          },
          "metadata": {
            "tags": []
          }
        }
      ]
    },
    {
      "metadata": {
        "id": "tg3-ChuZjqve",
        "colab_type": "text"
      },
      "cell_type": "markdown",
      "source": [
        "\n",
        "And we can make a ROC curve and evaluate the AUC:"
      ]
    },
    {
      "metadata": {
        "id": "rspzLsQdzaAE",
        "colab_type": "code",
        "outputId": "c1f00bf4-2d23-4364-f013-50578bd037d8",
        "colab": {
          "base_uri": "https://localhost:8080/",
          "height": 279
        }
      },
      "cell_type": "code",
      "source": [
        "from sklearn.metrics import roc_curve, auc\n",
        "fpr, tpr, _ = roc_curve(y_Test, Fisher.decision_function(X_Test))\n",
        "\n",
        "roc_auc = auc(fpr, tpr)\n",
        "\n",
        "plt.plot(fpr,tpr,color='darkorange',label='ROC curve (area = %0.2f)' % roc_auc)\n",
        "plt.legend(loc=\"lower right\")\n",
        "plt.xlabel('False Positive Rate')\n",
        "plt.ylabel('True Positive Rate')\n",
        "\n",
        "plt.show()"
      ],
      "execution_count": 21,
      "outputs": [
        {
          "output_type": "display_data",
          "data": {
            "image/png": "[encoded data removed]",
            "text/plain": [
              "<matplotlib.figure.Figure at 0x7f894bed9668>"
            ]
          },
          "metadata": {
            "tags": []
          }
        }
      ]
    },
    {
      "metadata": {
        "id": "kctbAlyY9QYn",
        "colab_type": "text"
      },
      "cell_type": "markdown",
      "source": [
        "## Let's introduce features"
      ]
    },
    {
      "metadata": {
        "id": "O52lVGDI9X54",
        "colab_type": "code",
        "colab": {}
      },
      "cell_type": "code",
      "source": [
        "pp_h_4l['m2'] = (pp_h_4l['lep1vsPt_e'] +pp_h_4l['lep2vsPt_e'] +pp_h_4l['lep3vsPt_e'] +pp_h_4l['lep4vsPt_e'])**2 \\\n",
        "              - (pp_h_4l['lep1vsPt_px']+pp_h_4l['lep2vsPt_px']+pp_h_4l['lep3vsPt_px']+pp_h_4l['lep4vsPt_px'])**2 \\\n",
        "              - (pp_h_4l['lep1vsPt_py']+pp_h_4l['lep2vsPt_py']+pp_h_4l['lep3vsPt_py']+pp_h_4l['lep4vsPt_py'])**2 \\\n",
        "              - (pp_h_4l['lep1vsPt_pz']+pp_h_4l['lep2vsPt_pz']+pp_h_4l['lep3vsPt_pz']+pp_h_4l['lep4vsPt_pz'])**2\n",
        "\n",
        "pp_h_4l['m'] = pp_h_4l['m2']**0.5\n",
        "\n",
        "pp_zgzg_4l['m2'] = (pp_zgzg_4l['lep1vsPt_e'] +pp_zgzg_4l['lep2vsPt_e'] +pp_zgzg_4l['lep3vsPt_e'] +pp_zgzg_4l['lep4vsPt_e'])**2 \\\n",
        "                 - (pp_zgzg_4l['lep1vsPt_px']+pp_zgzg_4l['lep2vsPt_px']+pp_zgzg_4l['lep3vsPt_px']+pp_zgzg_4l['lep4vsPt_px'])**2 \\\n",
        "                 - (pp_zgzg_4l['lep1vsPt_py']+pp_zgzg_4l['lep2vsPt_py']+pp_zgzg_4l['lep3vsPt_py']+pp_zgzg_4l['lep4vsPt_py'])**2 \\\n",
        "                 - (pp_zgzg_4l['lep1vsPt_pz']+pp_zgzg_4l['lep2vsPt_pz']+pp_zgzg_4l['lep3vsPt_pz']+pp_zgzg_4l['lep4vsPt_pz'])**2\n",
        "\n",
        "pp_zgzg_4l['m'] = pp_zgzg_4l['m2']**0.5"
      ],
      "execution_count": 0,
      "outputs": []
    },
    {
      "metadata": {
        "id": "9-0C_m1BnvEY",
        "colab_type": "code",
        "colab": {
          "base_uri": "https://localhost:8080/",
          "height": 1125
        },
        "outputId": "93d2f534-135f-45d2-c62d-ab0986a6e9ea"
      },
      "cell_type": "code",
      "source": [
        "pp_h_4l['m']"
      ],
      "execution_count": 43,
      "outputs": [
        {
          "output_type": "execute_result",
          "data": {
            "text/plain": [
              "0        124.814467\n",
              "1        122.435429\n",
              "2        124.995566\n",
              "3        124.975515\n",
              "4        124.998809\n",
              "5        116.318009\n",
              "6        125.016686\n",
              "7        124.064123\n",
              "8        124.991429\n",
              "9        122.234969\n",
              "10       124.906396\n",
              "11        87.731456\n",
              "12       124.991483\n",
              "13       116.579235\n",
              "14       124.994164\n",
              "15      1592.326127\n",
              "16       124.676909\n",
              "17       125.001073\n",
              "18       235.244046\n",
              "19       124.993245\n",
              "20       125.002391\n",
              "21       118.465049\n",
              "22       125.001336\n",
              "23       125.016311\n",
              "24       125.002407\n",
              "25       124.997122\n",
              "26       120.827308\n",
              "27       125.000517\n",
              "28       122.891304\n",
              "29       122.510452\n",
              "           ...     \n",
              "9970     234.960090\n",
              "9971      90.552204\n",
              "9972     124.997821\n",
              "9973     114.111283\n",
              "9974     124.997061\n",
              "9975     124.963697\n",
              "9976     124.993077\n",
              "9977     124.623037\n",
              "9978     279.844298\n",
              "9979     124.817290\n",
              "9980     124.868428\n",
              "9981     124.816513\n",
              "9982     123.654885\n",
              "9983     125.004215\n",
              "9984     125.005480\n",
              "9985     124.961858\n",
              "9986     124.979485\n",
              "9987     124.944629\n",
              "9988     124.991000\n",
              "9989     124.999667\n",
              "9990     124.999034\n",
              "9991     124.984497\n",
              "9992     124.975261\n",
              "9993     123.162386\n",
              "9994     124.992937\n",
              "9995     124.987241\n",
              "9996     124.997695\n",
              "9997     124.894338\n",
              "9998     107.808568\n",
              "9999     124.983360\n",
              "Name: m, Length: 10000, dtype: float64"
            ]
          },
          "metadata": {
            "tags": []
          },
          "execution_count": 43
        }
      ]
    },
    {
      "metadata": {
        "id": "mLsDC9Z9FMQ4",
        "colab_type": "code",
        "colab": {}
      },
      "cell_type": "code",
      "source": [
        "def combine_two_particles(data, tr1, tr2):\n",
        "    '''\n",
        "    returns the invariant mass of tr1 + tr2\n",
        "\n",
        "    Keyword arguments:\n",
        "    data:\n",
        "        DataFrame containing the required information, which are:\n",
        "        {tr1,tr2}_{PE,PX,PY,PZ}\n",
        "    tr1, tr2:\n",
        "        names of particles (prefix of the branches) that are combined\n",
        "    '''\n",
        "    # reminder: m**2 = E**2 - p**2\n",
        "    px = data[tr1 + '_px'] + data[tr2 + '_px']\n",
        "    py = data[tr1 + '_py'] + data[tr2 + '_py']\n",
        "    pz = data[tr1 + '_pz'] + data[tr2 + '_pz']\n",
        "    t = data[tr1 + '_e'] + data[tr2 + '_e']\n",
        "    return np.sqrt(t**2 - px**2 - py**2 - pz**2)\n",
        "\n",
        "def mass_swap(df, tracks, swap={}):\n",
        "    '''\n",
        "    Returns a numpy array containing the invariant mass of the compination of\n",
        "    the given tracks\n",
        "\n",
        "    Keyword arguments:\n",
        "    df:\n",
        "        DataFrame containing the required information, which are:\n",
        "        {tracks}_{PE,PX,PY,PZ}\n",
        "    tracks:\n",
        "        name of particles that are compined\n",
        "    swap:\n",
        "        dictionary, key is the name of the particle whose mass is swapped\n",
        "        value is the mass that shall be used, if empty, no mass is swapped\n",
        "        and particles are still compined\n",
        "    '''\n",
        "\n",
        "    px = np.zeros_like(df[tracks[0] + '_PX'])\n",
        "    py = np.zeros_like(df[tracks[0] + '_PX'])\n",
        "    pz = np.zeros_like(df[tracks[0] + '_PX'])\n",
        "    t  = np.zeros_like(df[tracks[0] + '_PX'])\n",
        "\n",
        "    for tr in tracks:\n",
        "        px += df[tr + '_PX']\n",
        "        py += df[tr + '_PY']\n",
        "        pz += df[tr + '_PZ']\n",
        "        if tr in swap.keys():\n",
        "            print('Replacing mass of {} by {}'.format(tr, swap[tr]))\n",
        "            t += np.sqrt(\n",
        "                df[tr + '_PX']**2 +\n",
        "                df[tr + '_PY']**2 +\n",
        "                df[tr + '_PZ']**2 +\n",
        "                swap[tr]**2\n",
        "            )\n",
        "        else:\n",
        "            print('Adding momentum of {}'.format(tr))\n",
        "            t += df[tr + '_PE']\n",
        "\n",
        "    return np.sqrt(t**2 - px**2 - py**2 - pz**2)\n"
      ],
      "execution_count": 0,
      "outputs": []
    },
    {
      "metadata": {
        "colab_type": "text",
        "id": "Q-ZQ8SpUIRcW"
      },
      "cell_type": "markdown",
      "source": [
        "## Applying weights"
      ]
    },
    {
      "metadata": {
        "colab_type": "code",
        "id": "SrHGi_OKIRck",
        "colab": {}
      },
      "cell_type": "code",
      "source": [
        "# number of generated events\n",
        "nGenS = 10000\n",
        "nGenB = 9998\n",
        "\n",
        "# integrated luminosity\n",
        "intLumi = 25000\n",
        "\n",
        "kFactorS = 3.50\n",
        "kFactorB = 1.80\n",
        "\n",
        "# MG5 LO XS x BR in (pb)\n",
        "sigmaS = 0.026\n",
        "sigmaB = 1.04\n",
        "\n",
        "weightS = kFactorS*sigmaS*intLumi/nGenS\n",
        "weightB = kFactorB*sigmaB*intLumi/nGenB\n",
        "\n",
        "weight_pp_h_4l = np.full(10000, weightS)\n",
        "weight_pp_zgzg_4l = np.full(9998, weightB)"
      ],
      "execution_count": 0,
      "outputs": []
    },
    {
      "metadata": {
        "colab_type": "text",
        "id": "bOO0aUzGIRdJ"
      },
      "cell_type": "markdown",
      "source": [
        "**Invariant mass of 4 leptons: unweighted events**"
      ]
    },
    {
      "metadata": {
        "colab_type": "code",
        "outputId": "1ee94493-d4ed-4a33-dcf2-eede9e652a0e",
        "id": "XGqaNu_nIRdN",
        "colab": {
          "base_uri": "https://localhost:8080/",
          "height": 301
        }
      },
      "cell_type": "code",
      "source": [
        "print(\"m_4l\")\n",
        "plt.figure()\n",
        "plt.hist(pp_h_4l['m'],    bins=100, range=(70., 170.), histtype=\"step\", color=\"red\", label=\"signal\", stacked=True)\n",
        "plt.hist(pp_zgzg_4l['m'], bins=100, range=(70., 170.), histtype=\"step\", color=\"blue\", label=\"background\", stacked=True)\n",
        "plt.legend(loc='upper right')\n",
        "plt.xlabel('$\\mathregular{m_{4l}}$ [GeV]')\n",
        "plt.ylabel('Events / 2.5 GeV')\n",
        "plt.show()"
      ],
      "execution_count": 25,
      "outputs": [
        {
          "output_type": "stream",
          "text": [
            "m_4l\n"
          ],
          "name": "stdout"
        },
        {
          "output_type": "display_data",
          "data": {
            "image/png": "[encoded data removed]",
            "text/plain": [
              "<matplotlib.figure.Figure at 0x7f894c0d2160>"
            ]
          },
          "metadata": {
            "tags": []
          }
        }
      ]
    },
    {
      "metadata": {
        "colab_type": "text",
        "id": "VnX8w5p5IRdb"
      },
      "cell_type": "markdown",
      "source": [
        "**Invariant mass of 4 leptons: weighted events**"
      ]
    },
    {
      "metadata": {
        "colab_type": "code",
        "outputId": "dc5297a3-a082-44ac-b227-5f16a84d6aad",
        "id": "VMPBHeHmIRdf",
        "colab": {
          "base_uri": "https://localhost:8080/",
          "height": 301
        }
      },
      "cell_type": "code",
      "source": [
        "print(\"m_4l\")\n",
        "plt.figure()\n",
        "plt.hist(pp_h_4l['m'],    bins=100, range=(70., 170.), weights=weight_pp_h_4l, histtype=\"step\", color=\"red\", label=\"signal\", stacked=True)\n",
        "plt.hist(pp_zgzg_4l['m'], bins=100, range=(70., 170.), weights=weight_pp_zgzg_4l, histtype=\"step\", color=\"blue\", label=\"background\", stacked=True)\n",
        "plt.legend(loc='upper right')\n",
        "plt.xlabel('$\\mathregular{m_{4l}}$ [GeV]')\n",
        "plt.ylabel('Events / 2.5 GeV')\n",
        "plt.show()"
      ],
      "execution_count": 26,
      "outputs": [
        {
          "output_type": "stream",
          "text": [
            "m_4l\n"
          ],
          "name": "stdout"
        },
        {
          "output_type": "display_data",
          "data": {
            "image/png": "[encoded data removed]",
            "text/plain": [
              "<matplotlib.figure.Figure at 0x7f894bdef198>"
            ]
          },
          "metadata": {
            "tags": []
          }
        }
      ]
    },
    {
      "metadata": {
        "id": "HXdsE2u_OtL9",
        "colab_type": "text"
      },
      "cell_type": "markdown",
      "source": [
        "## Preparing samples (again)"
      ]
    },
    {
      "metadata": {
        "id": "HUitbsa0lzM8",
        "colab_type": "code",
        "colab": {
          "base_uri": "https://localhost:8080/",
          "height": 256
        },
        "outputId": "66721991-7a66-416d-cb86-823e97813f1c"
      },
      "cell_type": "code",
      "source": [
        "frames = [pp_h_4l, pp_zgzg_4l]\n",
        "ds_with_features = pd.concat(frames, ignore_index=True)\n",
        "np.random.seed(14)\n",
        "ds_with_features = ds_with_features.iloc[np.random.permutation(len(ds))].reset_index(drop=True).copy()\n",
        "ds_with_features.head()"
      ],
      "execution_count": 45,
      "outputs": [
        {
          "output_type": "execute_result",
          "data": {
            "text/html": [
              "<div>\n",
              "<style scoped>\n",
              "    .dataframe tbody tr th:only-of-type {\n",
              "        vertical-align: middle;\n",
              "    }\n",
              "\n",
              "    .dataframe tbody tr th {\n",
              "        vertical-align: top;\n",
              "    }\n",
              "\n",
              "    .dataframe thead th {\n",
              "        text-align: right;\n",
              "    }\n",
              "</style>\n",
              "<table border=\"1\" class=\"dataframe\">\n",
              "  <thead>\n",
              "    <tr style=\"text-align: right;\">\n",
              "      <th></th>\n",
              "      <th>signal</th>\n",
              "      <th>lep1vsPt_e</th>\n",
              "      <th>lep1vsPt_pt</th>\n",
              "      <th>lep1vsPt_px</th>\n",
              "      <th>lep1vsPt_py</th>\n",
              "      <th>lep1vsPt_pz</th>\n",
              "      <th>lep1vsPt_theta</th>\n",
              "      <th>lep1vsPt_eta</th>\n",
              "      <th>lep1vsPt_phi</th>\n",
              "      <th>lep2vsPt_e</th>\n",
              "      <th>...</th>\n",
              "      <th>lep4vsPt_e</th>\n",
              "      <th>lep4vsPt_pt</th>\n",
              "      <th>lep4vsPt_px</th>\n",
              "      <th>lep4vsPt_py</th>\n",
              "      <th>lep4vsPt_pz</th>\n",
              "      <th>lep4vsPt_theta</th>\n",
              "      <th>lep4vsPt_eta</th>\n",
              "      <th>lep4vsPt_phi</th>\n",
              "      <th>m2</th>\n",
              "      <th>m</th>\n",
              "    </tr>\n",
              "  </thead>\n",
              "  <tbody>\n",
              "    <tr>\n",
              "      <th>0</th>\n",
              "      <td>1.0</td>\n",
              "      <td>833.432619</td>\n",
              "      <td>471.187987</td>\n",
              "      <td>-205.087784</td>\n",
              "      <td>424.213531</td>\n",
              "      <td>-687.453125</td>\n",
              "      <td>-0.969929</td>\n",
              "      <td>-1.171791</td>\n",
              "      <td>2.021120</td>\n",
              "      <td>784.197783</td>\n",
              "      <td>...</td>\n",
              "      <td>75.732588</td>\n",
              "      <td>42.164620</td>\n",
              "      <td>1.617603</td>\n",
              "      <td>42.133579</td>\n",
              "      <td>-62.909218</td>\n",
              "      <td>-0.980320</td>\n",
              "      <td>-1.190312</td>\n",
              "      <td>1.532423</td>\n",
              "      <td>15620.670527</td>\n",
              "      <td>124.982681</td>\n",
              "    </tr>\n",
              "    <tr>\n",
              "      <th>1</th>\n",
              "      <td>1.0</td>\n",
              "      <td>1025.844604</td>\n",
              "      <td>461.163817</td>\n",
              "      <td>461.162842</td>\n",
              "      <td>-0.948175</td>\n",
              "      <td>916.343323</td>\n",
              "      <td>1.104540</td>\n",
              "      <td>1.437817</td>\n",
              "      <td>-0.002056</td>\n",
              "      <td>376.039397</td>\n",
              "      <td>...</td>\n",
              "      <td>18.836407</td>\n",
              "      <td>3.537480</td>\n",
              "      <td>2.847296</td>\n",
              "      <td>2.099206</td>\n",
              "      <td>18.500954</td>\n",
              "      <td>1.381871</td>\n",
              "      <td>2.356572</td>\n",
              "      <td>0.635299</td>\n",
              "      <td>15502.778496</td>\n",
              "      <td>124.510154</td>\n",
              "    </tr>\n",
              "    <tr>\n",
              "      <th>2</th>\n",
              "      <td>0.0</td>\n",
              "      <td>169.753386</td>\n",
              "      <td>73.144065</td>\n",
              "      <td>52.182674</td>\n",
              "      <td>51.254490</td>\n",
              "      <td>153.186676</td>\n",
              "      <td>1.125324</td>\n",
              "      <td>1.485036</td>\n",
              "      <td>0.776425</td>\n",
              "      <td>198.402303</td>\n",
              "      <td>...</td>\n",
              "      <td>18.806057</td>\n",
              "      <td>17.351076</td>\n",
              "      <td>-7.223897</td>\n",
              "      <td>-15.775778</td>\n",
              "      <td>-7.253134</td>\n",
              "      <td>-0.395946</td>\n",
              "      <td>-0.406716</td>\n",
              "      <td>-2.000209</td>\n",
              "      <td>46549.853102</td>\n",
              "      <td>215.754150</td>\n",
              "    </tr>\n",
              "    <tr>\n",
              "      <th>3</th>\n",
              "      <td>1.0</td>\n",
              "      <td>300.398885</td>\n",
              "      <td>178.375267</td>\n",
              "      <td>-9.593818</td>\n",
              "      <td>178.117081</td>\n",
              "      <td>-241.705902</td>\n",
              "      <td>-0.935029</td>\n",
              "      <td>-1.111570</td>\n",
              "      <td>1.624607</td>\n",
              "      <td>57.559493</td>\n",
              "      <td>...</td>\n",
              "      <td>10.308361</td>\n",
              "      <td>9.946511</td>\n",
              "      <td>-1.608201</td>\n",
              "      <td>-9.815639</td>\n",
              "      <td>-2.705195</td>\n",
              "      <td>-0.265551</td>\n",
              "      <td>-0.268728</td>\n",
              "      <td>-1.733194</td>\n",
              "      <td>22300.857926</td>\n",
              "      <td>149.334718</td>\n",
              "    </tr>\n",
              "    <tr>\n",
              "      <th>4</th>\n",
              "      <td>0.0</td>\n",
              "      <td>428.461306</td>\n",
              "      <td>59.574351</td>\n",
              "      <td>9.803563</td>\n",
              "      <td>58.762177</td>\n",
              "      <td>-424.299408</td>\n",
              "      <td>-1.431302</td>\n",
              "      <td>-2.661254</td>\n",
              "      <td>1.405484</td>\n",
              "      <td>221.848918</td>\n",
              "      <td>...</td>\n",
              "      <td>309.263349</td>\n",
              "      <td>37.593548</td>\n",
              "      <td>6.456899</td>\n",
              "      <td>-37.034893</td>\n",
              "      <td>-306.969940</td>\n",
              "      <td>-1.448937</td>\n",
              "      <td>-2.796793</td>\n",
              "      <td>-1.398185</td>\n",
              "      <td>42386.002013</td>\n",
              "      <td>205.878610</td>\n",
              "    </tr>\n",
              "  </tbody>\n",
              "</table>\n",
              "<p>5 rows × 35 columns</p>\n",
              "</div>"
            ],
            "text/plain": [
              "   signal   lep1vsPt_e  lep1vsPt_pt  lep1vsPt_px  lep1vsPt_py  lep1vsPt_pz  \\\n",
              "0     1.0   833.432619   471.187987  -205.087784   424.213531  -687.453125   \n",
              "1     1.0  1025.844604   461.163817   461.162842    -0.948175   916.343323   \n",
              "2     0.0   169.753386    73.144065    52.182674    51.254490   153.186676   \n",
              "3     1.0   300.398885   178.375267    -9.593818   178.117081  -241.705902   \n",
              "4     0.0   428.461306    59.574351     9.803563    58.762177  -424.299408   \n",
              "\n",
              "   lep1vsPt_theta  lep1vsPt_eta  lep1vsPt_phi  lep2vsPt_e     ...      \\\n",
              "0       -0.969929     -1.171791      2.021120  784.197783     ...       \n",
              "1        1.104540      1.437817     -0.002056  376.039397     ...       \n",
              "2        1.125324      1.485036      0.776425  198.402303     ...       \n",
              "3       -0.935029     -1.111570      1.624607   57.559493     ...       \n",
              "4       -1.431302     -2.661254      1.405484  221.848918     ...       \n",
              "\n",
              "   lep4vsPt_e  lep4vsPt_pt  lep4vsPt_px  lep4vsPt_py  lep4vsPt_pz  \\\n",
              "0   75.732588    42.164620     1.617603    42.133579   -62.909218   \n",
              "1   18.836407     3.537480     2.847296     2.099206    18.500954   \n",
              "2   18.806057    17.351076    -7.223897   -15.775778    -7.253134   \n",
              "3   10.308361     9.946511    -1.608201    -9.815639    -2.705195   \n",
              "4  309.263349    37.593548     6.456899   -37.034893  -306.969940   \n",
              "\n",
              "   lep4vsPt_theta  lep4vsPt_eta  lep4vsPt_phi            m2           m  \n",
              "0       -0.980320     -1.190312      1.532423  15620.670527  124.982681  \n",
              "1        1.381871      2.356572      0.635299  15502.778496  124.510154  \n",
              "2       -0.395946     -0.406716     -2.000209  46549.853102  215.754150  \n",
              "3       -0.265551     -0.268728     -1.733194  22300.857926  149.334718  \n",
              "4       -1.448937     -2.796793     -1.398185  42386.002013  205.878610  \n",
              "\n",
              "[5 rows x 35 columns]"
            ]
          },
          "metadata": {
            "tags": []
          },
          "execution_count": 45
        }
      ]
    },
    {
      "metadata": {
        "id": "J8QD2d8ePJOP",
        "colab_type": "code",
        "colab": {}
      },
      "cell_type": "code",
      "source": [
        "allvars = vars + features"
      ],
      "execution_count": 0,
      "outputs": []
    },
    {
      "metadata": {
        "id": "YtwCHP0f-tr4",
        "colab_type": "code",
        "colab": {}
      },
      "cell_type": "code",
      "source": [
        "N_Train=9999\n",
        "\n",
        "Train_Sample=ds_with_features[:N_Train]\n",
        "Test_Sample=ds_with_features[N_Train:]\n",
        "\n",
        "X_Train=Train_Sample[vars[1:]]\n",
        "y_Train=Train_Sample[\"signal\"]\n",
        "\n",
        "X_Test=Test_Sample[vars[1:]]\n",
        "y_Test=Test_Sample[\"signal\"]\n",
        "\n",
        "Test_sig=Test_Sample[Test_Sample.signal==1]\n",
        "Test_bkg=Test_Sample[Test_Sample.signal==0]\n",
        "\n",
        "\n",
        "\n",
        "X_Train_Raw=Train_Sample[vars]\n",
        "X_Test_Raw=Test_Sample[vars]\n",
        "\n",
        "X_Train_Features=Train_Sample[features]\n",
        "X_Test_Features=Test_Sample[features]\n",
        "\n",
        "X_Train_allvars=Train_Sample[allvars]\n",
        "X_Test_allvars=Test_Sample[allvars]"
      ],
      "execution_count": 0,
      "outputs": []
    },
    {
      "metadata": {
        "id": "cZdnzGG9_BVd",
        "colab_type": "code",
        "outputId": "b59c1d14-74d2-447b-9067-668af2cf8bf4",
        "colab": {
          "base_uri": "https://localhost:8080/",
          "height": 803
        }
      },
      "cell_type": "code",
      "source": [
        "def TrainFisher(X_Train,X_Test,y_Train):\n",
        "    Fisher=DA.LinearDiscriminantAnalysis()\n",
        "    Fisher.fit(X_Train,y_Train)\n",
        "\n",
        "    fpr, tpr, _ = roc_curve(y_Test, Fisher.decision_function(X_Test))\n",
        "    roc_auc = auc(fpr, tpr)\n",
        "\n",
        "    plt.plot(fpr,tpr,color='darkorange',label='ROC curve (area = %0.2f)' % roc_auc)\n",
        "    plt.legend(loc=\"lower right\")\n",
        "    plt.xlabel('False Positive Rate')\n",
        "    plt.ylabel('True Positive Rate')\n",
        "    plt.show()\n",
        "    \n",
        "    return Fisher\n",
        "\n",
        "RawFisher=TrainFisher(X_Train_Raw,X_Test_Raw,y_Train)\n",
        "FeatureFisher=TrainFisher(X_Train_Features,X_Test_Features,y_Train)\n",
        "allvarsFisher=TrainFisher(X_Train_allvars,X_Test_allvars,y_Train)"
      ],
      "execution_count": 50,
      "outputs": [
        {
          "output_type": "display_data",
          "data": {
            "image/png": "[encoded data removed]",
            "text/plain": [
              "<matplotlib.figure.Figure at 0x7f894f1c3860>"
            ]
          },
          "metadata": {
            "tags": []
          }
        },
        {
          "output_type": "display_data",
          "data": {
            "image/png": "[encoded data removed]",
            "text/plain": [
              "<matplotlib.figure.Figure at 0x7f894befb3c8>"
            ]
          },
          "metadata": {
            "tags": []
          }
        },
        {
          "output_type": "display_data",
          "data": {
            "image/png": "[encoded data removed]",
            "text/plain": [
              "<matplotlib.figure.Figure at 0x7f8949546898>"
            ]
          },
          "metadata": {
            "tags": []
          }
        }
      ]
    },
    {
      "metadata": {
        "id": "955GlFeEBpAO",
        "colab_type": "text"
      },
      "cell_type": "markdown",
      "source": [
        "## Significance\n",
        "\n",
        "The following function calculates the significance of the observation of the signal given the number of expected Signal and Background events, using the simple formula $\\sigma_S= \\frac{N_S}{\\sqrt{N_S+N_B}}$. Read through the code carefully."
      ]
    },
    {
      "metadata": {
        "id": "RTzmz_KWBr-G",
        "colab_type": "code",
        "outputId": "809d8221-01d1-4a06-c0f6-86421d72666f",
        "colab": {
          "base_uri": "https://localhost:8080/",
          "height": 567
        }
      },
      "cell_type": "code",
      "source": [
        "def PlotSignificance(N_S,N_B, N_S_min=1):\n",
        "    plt.figure()\n",
        "    eff_sig,bins_sig,p_sig=plt.hist(Fisher.decision_function(Test_sig[vars[1:]]),bins=100,histtype=\"step\", color=\"blue\", label=\"signal\",cumulative=-1,stacked=True,normed=True)\n",
        "    eff_bkg,bins_bkg,p_bkg=plt.hist(Fisher.decision_function(Test_bkg[vars[1:]]),bins=100,histtype=\"step\", color=\"red\", label=\"background\",cumulative=-1,stacked=True,normed=True)\n",
        "    plt.legend(loc='upper right')\n",
        "    plt.show()\n",
        "    \n",
        "    good_bins = np.where(eff_sig*N_S>=N_S_min)\n",
        "\n",
        "    print(len(good_bins[0]))\n",
        "    if len(good_bins[0])<1:\n",
        "        print(\"Insufficient Signal.\")\n",
        "        return 0,0,0\n",
        "    \n",
        "    significance=(N_S*eff_sig)/np.sqrt((N_B*eff_bkg)+(N_S*eff_sig))\n",
        "\n",
        "    plt.figure()\n",
        "    plt.plot(bins_sig[:-1],significance)\n",
        "    \n",
        "    max_sign=np.max(significance[good_bins])\n",
        "    max_signI=np.argmax(significance[good_bins])\n",
        "    \n",
        "    plt.show()\n",
        "    print(\"Max significance at \", bins_sig[max_signI], \" of\", max_sign)\n",
        "    return bins_sig[max_signI],max_sign, max_signI\n",
        "    \n",
        "PlotSignificance(1000000,1e11)"
      ],
      "execution_count": 51,
      "outputs": [
        {
          "output_type": "display_data",
          "data": {
            "image/png": "[encoded data removed]",
            "text/plain": [
              "<matplotlib.figure.Figure at 0x7f8951cdcb00>"
            ]
          },
          "metadata": {
            "tags": []
          }
        },
        {
          "output_type": "stream",
          "text": [
            "100\n"
          ],
          "name": "stdout"
        },
        {
          "output_type": "display_data",
          "data": {
            "image/png": "[encoded data removed]",
            "text/plain": [
              "<matplotlib.figure.Figure at 0x7f894f1ab4e0>"
            ]
          },
          "metadata": {
            "tags": []
          }
        },
        {
          "output_type": "stream",
          "text": [
            "Max significance at  -0.3235560329897069  of 54.44154096566929\n"
          ],
          "name": "stdout"
        },
        {
          "output_type": "execute_result",
          "data": {
            "text/plain": [
              "(-0.3235560329897069, 54.44154096566929, 67)"
            ]
          },
          "metadata": {
            "tags": []
          },
          "execution_count": 51
        }
      ]
    },
    {
      "metadata": {
        "id": "6KlgToYv6EM8",
        "colab_type": "text"
      },
      "cell_type": "markdown",
      "source": [
        "# LogisticRegression"
      ]
    },
    {
      "metadata": {
        "colab_type": "code",
        "id": "RaovIm4LMZ3p",
        "colab": {}
      },
      "cell_type": "code",
      "source": [
        "from sklearn.metrics import roc_auc_score, roc_curve\n",
        "from sklearn.model_selection import train_test_split\n",
        "from sklearn.linear_model import LogisticRegression"
      ],
      "execution_count": 0,
      "outputs": []
    },
    {
      "metadata": {
        "colab_type": "code",
        "id": "t3DgOG5NMZ4a",
        "colab": {}
      },
      "cell_type": "code",
      "source": [
        "np.random.seed(14)\n",
        "ds = ds.iloc[np.random.permutation(len(ds))].reset_index(drop=True).copy()"
      ],
      "execution_count": 0,
      "outputs": []
    },
    {
      "metadata": {
        "colab_type": "code",
        "id": "ahuSyo7LMZ4w",
        "colab": {}
      },
      "cell_type": "code",
      "source": [
        "train, test = train_test_split(ds, test_size=0.25)"
      ],
      "execution_count": 0,
      "outputs": []
    },
    {
      "metadata": {
        "id": "1ZktgtapMuNQ",
        "colab_type": "code",
        "colab": {}
      },
      "cell_type": "code",
      "source": [
        "from sklearn.preprocessing import RobustScaler"
      ],
      "execution_count": 0,
      "outputs": []
    },
    {
      "metadata": {
        "id": "r25GtjImGpVr",
        "colab_type": "code",
        "outputId": "f7cb4481-1c8c-4f7f-9cbc-20f15f847c5c",
        "colab": {
          "base_uri": "https://localhost:8080/",
          "height": 53
        }
      },
      "cell_type": "code",
      "source": [
        "def features(x):\n",
        "    return np.array([\n",
        "x['lep1vsPt_px'], x['lep1vsPt_py'], x['lep1vsPt_pz'], x['lep1vsPt_e'], x['lep1vsPt_m'], \\\n",
        "x['lep2vsPt_px'], x['lep2vsPt_py'], x['lep2vsPt_pz'], x['lep2vsPt_e'], x['lep2vsPt_m'], \\\n",
        "x['lep3vsPt_px'], x['lep3vsPt_py'], x['lep3vsPt_pz'], x['lep3vsPt_e'], x['lep3vsPt_m'], \\\n",
        "x['lep4vsPt_px'], x['lep4vsPt_py'], x['lep4vsPt_pz'], x['lep4vsPt_e'], x['lep4vsPt_m'], \\\n",
        "x['m'],\n",
        "    ]).T\n",
        "\n",
        "scaler = RobustScaler()\n",
        "model = LogisticRegression()\n",
        "scaler.fit(features(train))\n",
        "model.fit(scaler.transform(features(train)), train.signal)\n",
        "\n",
        "preds_train = model.predict_proba(scaler.transform(features(train)))[:,1]\n",
        "preds_test  = model.predict_proba(scaler.transform(features(test )))[:,1]\n",
        "\n",
        "print(roc_auc_score(train.signal, preds_train))\n",
        "print(roc_auc_score(test .signal, preds_test ))"
      ],
      "execution_count": 0,
      "outputs": [
        {
          "output_type": "stream",
          "text": [
            "0.675638327991111\n",
            "0.6820845607069672\n"
          ],
          "name": "stdout"
        }
      ]
    },
    {
      "metadata": {
        "id": "Au1O0Wn_JeYq",
        "colab_type": "code",
        "outputId": "35e3b85c-59f4-410b-f765-83f6097bc194",
        "colab": {
          "base_uri": "https://localhost:8080/",
          "height": 279
        }
      },
      "cell_type": "code",
      "source": [
        "fpr_mod, tpr_mod, _ = roc_curve(test.signal, preds_test)\n",
        "\n",
        "plt.plot(fpr_mod, tpr_mod, label='Our Model')\n",
        "plt.legend()\n",
        "plt.xlabel('False pos rate')\n",
        "plt.ylabel('True pos rate')\n",
        "\n",
        "plt.show();"
      ],
      "execution_count": 0,
      "outputs": [
        {
          "output_type": "display_data",
          "data": {
            "image/png": "[encoded data removed]",
            "text/plain": [
              "<matplotlib.figure.Figure at 0x7f91d10c3710>"
            ]
          },
          "metadata": {
            "tags": []
          }
        }
      ]
    },
    {
      "metadata": {
        "id": "w_tgBN9SGpq2",
        "colab_type": "code",
        "outputId": "bb06f15b-228c-42f1-a1b9-562051c63012",
        "colab": {
          "base_uri": "https://localhost:8080/",
          "height": 243
        }
      },
      "cell_type": "code",
      "source": [
        "fpr_mod, tpr_mod, _ = roc_curve(test.signal, preds_test)\n",
        "\n",
        "roc_auc = auc(fpr_mod, tpr_mod)\n",
        "\n",
        "plt.plot(fpr,tpr,color='darkorange',label='ROC curve (area = %0.2f)' % roc_auc)\n",
        "plt.legend(loc=\"lower right\")\n",
        "plt.xlabel('False Positive Rate')\n",
        "plt.ylabel('True Positive Rate')\n",
        "\n",
        "plt.show()"
      ],
      "execution_count": 0,
      "outputs": [
        {
          "output_type": "error",
          "ename": "NameError",
          "evalue": "ignored",
          "traceback": [
            "\u001b[0;31m---------------------------------------------------------------------------\u001b[0m",
            "\u001b[0;31mNameError\u001b[0m                                 Traceback (most recent call last)",
            "\u001b[0;32m<ipython-input-65-551b884eb5df>\u001b[0m in \u001b[0;36m<module>\u001b[0;34m()\u001b[0m\n\u001b[1;32m      1\u001b[0m \u001b[0mfpr_mod\u001b[0m\u001b[0;34m,\u001b[0m \u001b[0mtpr_mod\u001b[0m\u001b[0;34m,\u001b[0m \u001b[0m_\u001b[0m \u001b[0;34m=\u001b[0m \u001b[0mroc_curve\u001b[0m\u001b[0;34m(\u001b[0m\u001b[0mtest\u001b[0m\u001b[0;34m.\u001b[0m\u001b[0msignal\u001b[0m\u001b[0;34m,\u001b[0m \u001b[0mpreds_test\u001b[0m\u001b[0;34m)\u001b[0m\u001b[0;34m\u001b[0m\u001b[0m\n\u001b[1;32m      2\u001b[0m \u001b[0;34m\u001b[0m\u001b[0m\n\u001b[0;32m----> 3\u001b[0;31m \u001b[0mroc_auc\u001b[0m \u001b[0;34m=\u001b[0m \u001b[0mauc\u001b[0m\u001b[0;34m(\u001b[0m\u001b[0mfpr_mod\u001b[0m\u001b[0;34m,\u001b[0m \u001b[0mtpr_mod\u001b[0m\u001b[0;34m)\u001b[0m\u001b[0;34m\u001b[0m\u001b[0m\n\u001b[0m\u001b[1;32m      4\u001b[0m \u001b[0;34m\u001b[0m\u001b[0m\n\u001b[1;32m      5\u001b[0m \u001b[0mplt\u001b[0m\u001b[0;34m.\u001b[0m\u001b[0mplot\u001b[0m\u001b[0;34m(\u001b[0m\u001b[0mfpr\u001b[0m\u001b[0;34m,\u001b[0m\u001b[0mtpr\u001b[0m\u001b[0;34m,\u001b[0m\u001b[0mcolor\u001b[0m\u001b[0;34m=\u001b[0m\u001b[0;34m'darkorange'\u001b[0m\u001b[0;34m,\u001b[0m\u001b[0mlabel\u001b[0m\u001b[0;34m=\u001b[0m\u001b[0;34m'ROC curve (area = %0.2f)'\u001b[0m \u001b[0;34m%\u001b[0m \u001b[0mroc_auc\u001b[0m\u001b[0;34m)\u001b[0m\u001b[0;34m\u001b[0m\u001b[0m\n",
            "\u001b[0;31mNameError\u001b[0m: name 'auc' is not defined"
          ]
        }
      ]
    }
  ]
}