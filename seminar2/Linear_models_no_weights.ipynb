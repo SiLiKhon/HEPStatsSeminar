{
  "nbformat": 4,
  "nbformat_minor": 0,
  "metadata": {
    "colab": {
      "name": "Linear_models_no_weights.ipynb",
      "version": "0.3.2",
      "provenance": [],
      "collapsed_sections": [],
      "toc_visible": true,
      "include_colab_link": true
    },
    "kernelspec": {
      "name": "python3",
      "display_name": "Python 3"
    }
  },
  "cells": [
    {
      "cell_type": "markdown",
      "metadata": {
        "id": "view-in-github",
        "colab_type": "text"
      },
      "source": [
        "<a href=\"https://colab.research.google.com/github/SiLiKhon/HEPStatsSeminar/blob/Alexey/seminar2/Linear_models_no_weights.ipynb\" target=\"_parent\"><img src=\"https://colab.research.google.com/assets/colab-badge.svg\" alt=\"Open In Colab\"/></a>"
      ]
    },
    {
      "metadata": {
        "id": "E6Z26DaAgSF_",
        "colab_type": "code",
        "outputId": "192c4543-8a7e-4660-af99-ffd69a3f2c59",
        "colab": {
          "base_uri": "https://localhost:8080/",
          "height": 356
        }
      },
      "cell_type": "code",
      "source": [
        "import pandas as pd\n",
        "import numpy as np\n",
        "import matplotlib.pyplot as plt\n",
        "!pip install uproot\n",
        "import uproot\n",
        "%matplotlib inline"
      ],
      "execution_count": 1,
      "outputs": [
        {
          "output_type": "stream",
          "text": [
            "Collecting uproot\n",
            "\u001b[?25l  Downloading https://files.pythonhosted.org/packages/a2/7b/877967f96a588c2690d99fee61cb5f57fc486e6ded0ed0fc715d858bafa7/uproot-3.2.12-py2.py3-none-any.whl (135kB)\n",
            "\u001b[K    100% |████████████████████████████████| 143kB 6.7MB/s \n",
            "\u001b[?25hCollecting uproot-methods>=0.2.0 (from uproot)\n",
            "  Downloading https://files.pythonhosted.org/packages/76/b2/33656b12805bfb7ba4559657622d343f475460680e4d4e25b7c2cf4ac33a/uproot_methods-0.2.7-py2.py3-none-any.whl\n",
            "Requirement already satisfied: numpy>=1.13.1 in /usr/local/lib/python3.6/dist-packages (from uproot) (1.14.6)\n",
            "Collecting awkward (from uproot)\n",
            "\u001b[?25l  Downloading https://files.pythonhosted.org/packages/c3/5f/eab13d41a74f8c4e2fcc820f9d81bb5accec570a0a822a53462ca5dcf3f4/awkward-0.4.4-py2.py3-none-any.whl (79kB)\n",
            "\u001b[K    100% |████████████████████████████████| 81kB 6.9MB/s \n",
            "\u001b[?25hRequirement already satisfied: cachetools in /usr/local/lib/python3.6/dist-packages (from uproot) (3.0.0)\n",
            "Collecting lz4 (from uproot)\n",
            "\u001b[?25l  Downloading https://files.pythonhosted.org/packages/f1/4f/878f1827042c5b6828bc23d160f31e242ec820810b8bd04b30b631029952/lz4-2.1.2.tar.gz (128kB)\n",
            "\u001b[K    100% |████████████████████████████████| 133kB 7.1MB/s \n",
            "\u001b[?25hBuilding wheels for collected packages: lz4\n",
            "  Running setup.py bdist_wheel for lz4 ... \u001b[?25l-\b \b\\\b \b|\b \b/\b \b-\b \b\\\b \b|\b \b/\b \b-\b \b\\\b \b|\b \b/\b \b-\b \bdone\n",
            "\u001b[?25h  Stored in directory: /root/.cache/pip/wheels/9a/bf/d1/b771620d908af63302309490d1892224364bb541f8e84af67d\n",
            "Successfully built lz4\n",
            "Installing collected packages: awkward, uproot-methods, lz4, uproot\n",
            "Successfully installed awkward-0.4.4 lz4-2.1.2 uproot-3.2.12 uproot-methods-0.2.7\n"
          ],
          "name": "stdout"
        }
      ]
    },
    {
      "metadata": {
        "id": "qJq1Bo5RvnW8",
        "colab_type": "text"
      },
      "cell_type": "markdown",
      "source": [
        "# Samples\n",
        "\n",
        "We will consider the following physics processes:\n",
        "* Signal: $pp \\rightarrow H \\rightarrow ZZ^{*} \\rightarrow \\ell\\ell\\ell\\ell$\n",
        "* Background: $pp \\rightarrow ZZ^{*} \\rightarrow \\ell\\ell\\ell\\ell$\n",
        "\n",
        "These samples are produced using [FCCSW](https://github.com/HEP-FCC/FCCSW) , which is proposed Common software for all [FCC experiments](http://cern.ch/fcc). The samples are:\n",
        "* generated with [Pythia8](http://home.thep.lu.se/Pythia/) (interfaced to FCCSW)\n",
        "* went through parametric detector simulation with [Delphes](https://cp3.irmp.ucl.ac.be/projects/delphes) (interfaced to FCCSW)\n",
        "* passed event selection with [Heppy analysis framework](https://github.com/cbernet/heppy)\n",
        "\n",
        "The samples are flat n-tuples.\n",
        "\n",
        "See [FCC tutorials](https://github.com/HEP-FCC/fcc-tutorials/blob/master/FccFullAnalysis.md) for details.\n"
      ]
    },
    {
      "metadata": {
        "id": "nyS0yX0xhAwX",
        "colab_type": "code",
        "colab": {}
      },
      "cell_type": "code",
      "source": [
        "pp_h_4l_file = uproot.open(\"https://raw.githubusercontent.com/SiLiKhon/HEPStatsSeminar/master/data/pp_h_4l_tree.root\")[\"events\"]\n",
        "pp_zgzg_4l_file = uproot.open(\"https://boldyrev.web.cern.ch/test-boldyrev/pp_zgzg_4l_full_tree.root\")[\"events\"]"
      ],
      "execution_count": 0,
      "outputs": []
    },
    {
      "metadata": {
        "id": "kYyxFMZL7sBT",
        "colab_type": "code",
        "outputId": "b27420b9-9603-418b-a88f-2a1aad78d09a",
        "colab": {
          "base_uri": "https://localhost:8080/",
          "height": 1464
        }
      },
      "cell_type": "code",
      "source": [
        "pp_zgzg_4l_file.keys()"
      ],
      "execution_count": 3,
      "outputs": [
        {
          "output_type": "execute_result",
          "data": {
            "text/plain": [
              "[b'weight',\n",
              " b'lep1vsPt_pdgid',\n",
              " b'lep1vsPt_e',\n",
              " b'lep1vsPt_pt',\n",
              " b'lep1vsPt_px',\n",
              " b'lep1vsPt_py',\n",
              " b'lep1vsPt_pz',\n",
              " b'lep1vsPt_theta',\n",
              " b'lep1vsPt_eta',\n",
              " b'lep1vsPt_phi',\n",
              " b'lep1vsPt_m',\n",
              " b'lep2vsPt_pdgid',\n",
              " b'lep2vsPt_e',\n",
              " b'lep2vsPt_pt',\n",
              " b'lep2vsPt_px',\n",
              " b'lep2vsPt_py',\n",
              " b'lep2vsPt_pz',\n",
              " b'lep2vsPt_theta',\n",
              " b'lep2vsPt_eta',\n",
              " b'lep2vsPt_phi',\n",
              " b'lep2vsPt_m',\n",
              " b'lep3vsPt_pdgid',\n",
              " b'lep3vsPt_e',\n",
              " b'lep3vsPt_pt',\n",
              " b'lep3vsPt_px',\n",
              " b'lep3vsPt_py',\n",
              " b'lep3vsPt_pz',\n",
              " b'lep3vsPt_theta',\n",
              " b'lep3vsPt_eta',\n",
              " b'lep3vsPt_phi',\n",
              " b'lep3vsPt_m',\n",
              " b'lep4vsPt_pdgid',\n",
              " b'lep4vsPt_e',\n",
              " b'lep4vsPt_pt',\n",
              " b'lep4vsPt_px',\n",
              " b'lep4vsPt_py',\n",
              " b'lep4vsPt_pz',\n",
              " b'lep4vsPt_theta',\n",
              " b'lep4vsPt_eta',\n",
              " b'lep4vsPt_phi',\n",
              " b'lep4vsPt_m',\n",
              " b'lep1vsEta_pdgid',\n",
              " b'lep1vsEta_e',\n",
              " b'lep1vsEta_pt',\n",
              " b'lep1vsEta_px',\n",
              " b'lep1vsEta_py',\n",
              " b'lep1vsEta_pz',\n",
              " b'lep1vsEta_theta',\n",
              " b'lep1vsEta_eta',\n",
              " b'lep1vsEta_phi',\n",
              " b'lep1vsEta_m',\n",
              " b'lep2vsEta_pdgid',\n",
              " b'lep2vsEta_e',\n",
              " b'lep2vsEta_pt',\n",
              " b'lep2vsEta_px',\n",
              " b'lep2vsEta_py',\n",
              " b'lep2vsEta_pz',\n",
              " b'lep2vsEta_theta',\n",
              " b'lep2vsEta_eta',\n",
              " b'lep2vsEta_phi',\n",
              " b'lep2vsEta_m',\n",
              " b'lep3vsEta_pdgid',\n",
              " b'lep3vsEta_e',\n",
              " b'lep3vsEta_pt',\n",
              " b'lep3vsEta_px',\n",
              " b'lep3vsEta_py',\n",
              " b'lep3vsEta_pz',\n",
              " b'lep3vsEta_theta',\n",
              " b'lep3vsEta_eta',\n",
              " b'lep3vsEta_phi',\n",
              " b'lep3vsEta_m',\n",
              " b'lep4vsEta_pdgid',\n",
              " b'lep4vsEta_e',\n",
              " b'lep4vsEta_pt',\n",
              " b'lep4vsEta_px',\n",
              " b'lep4vsEta_py',\n",
              " b'lep4vsEta_pz',\n",
              " b'lep4vsEta_theta',\n",
              " b'lep4vsEta_eta',\n",
              " b'lep4vsEta_phi',\n",
              " b'lep4vsEta_m']"
            ]
          },
          "metadata": {
            "tags": []
          },
          "execution_count": 3
        }
      ]
    },
    {
      "metadata": {
        "id": "dIO_J9FRI0Zi",
        "colab_type": "text"
      },
      "cell_type": "markdown",
      "source": [
        "Let's select kinematic variables and insert them into pandas dataframe (it may take a while):"
      ]
    },
    {
      "metadata": {
        "id": "mj4s_yZ5hcES",
        "colab_type": "code",
        "colab": {}
      },
      "cell_type": "code",
      "source": [
        "kin_vars = ['lep1vsPt_e', 'lep1vsPt_pt', 'lep1vsPt_px', 'lep1vsPt_py', 'lep1vsPt_pz', 'lep1vsPt_theta', 'lep1vsPt_eta', 'lep1vsPt_phi', \\\n",
        "        'lep2vsPt_e', 'lep2vsPt_pt', 'lep2vsPt_px', 'lep2vsPt_py', 'lep2vsPt_pz', 'lep2vsPt_theta', 'lep2vsPt_eta', 'lep2vsPt_phi', \\\n",
        "        'lep3vsPt_e', 'lep3vsPt_pt', 'lep3vsPt_px', 'lep3vsPt_py', 'lep3vsPt_pz', 'lep3vsPt_theta', 'lep3vsPt_eta', 'lep3vsPt_phi', \\\n",
        "        'lep4vsPt_e', 'lep4vsPt_pt', 'lep4vsPt_px', 'lep4vsPt_py', 'lep4vsPt_pz', 'lep4vsPt_theta', 'lep4vsPt_eta', 'lep4vsPt_phi']\n",
        "pp_h_4l = pp_h_4l_file.pandas.df(kin_vars)\n",
        "pp_zgzg_4l = pp_zgzg_4l_file.pandas.df(kin_vars)\n",
        "# pp_h_4l.head()"
      ],
      "execution_count": 0,
      "outputs": []
    },
    {
      "metadata": {
        "id": "3rj2R842hzq3",
        "colab_type": "code",
        "outputId": "3723d8ba-f9e9-41a2-d116-4e6db1d84907",
        "colab": {
          "base_uri": "https://localhost:8080/",
          "height": 256
        }
      },
      "cell_type": "code",
      "source": [
        "pp_zgzg_4l.head()"
      ],
      "execution_count": 5,
      "outputs": [
        {
          "output_type": "execute_result",
          "data": {
            "text/html": [
              "<div>\n",
              "<style scoped>\n",
              "    .dataframe tbody tr th:only-of-type {\n",
              "        vertical-align: middle;\n",
              "    }\n",
              "\n",
              "    .dataframe tbody tr th {\n",
              "        vertical-align: top;\n",
              "    }\n",
              "\n",
              "    .dataframe thead th {\n",
              "        text-align: right;\n",
              "    }\n",
              "</style>\n",
              "<table border=\"1\" class=\"dataframe\">\n",
              "  <thead>\n",
              "    <tr style=\"text-align: right;\">\n",
              "      <th></th>\n",
              "      <th>lep1vsPt_e</th>\n",
              "      <th>lep1vsPt_pt</th>\n",
              "      <th>lep1vsPt_px</th>\n",
              "      <th>lep1vsPt_py</th>\n",
              "      <th>lep1vsPt_pz</th>\n",
              "      <th>lep1vsPt_theta</th>\n",
              "      <th>lep1vsPt_eta</th>\n",
              "      <th>lep1vsPt_phi</th>\n",
              "      <th>lep2vsPt_e</th>\n",
              "      <th>lep2vsPt_pt</th>\n",
              "      <th>...</th>\n",
              "      <th>lep3vsPt_eta</th>\n",
              "      <th>lep3vsPt_phi</th>\n",
              "      <th>lep4vsPt_e</th>\n",
              "      <th>lep4vsPt_pt</th>\n",
              "      <th>lep4vsPt_px</th>\n",
              "      <th>lep4vsPt_py</th>\n",
              "      <th>lep4vsPt_pz</th>\n",
              "      <th>lep4vsPt_theta</th>\n",
              "      <th>lep4vsPt_eta</th>\n",
              "      <th>lep4vsPt_phi</th>\n",
              "    </tr>\n",
              "  </thead>\n",
              "  <tbody>\n",
              "    <tr>\n",
              "      <th>0</th>\n",
              "      <td>359.623652</td>\n",
              "      <td>220.885788</td>\n",
              "      <td>185.147583</td>\n",
              "      <td>-120.461212</td>\n",
              "      <td>-283.793304</td>\n",
              "      <td>-0.909407</td>\n",
              "      <td>-1.069147</td>\n",
              "      <td>-0.576813</td>\n",
              "      <td>664.367811</td>\n",
              "      <td>210.392846</td>\n",
              "      <td>...</td>\n",
              "      <td>-1.379478</td>\n",
              "      <td>-1.272788</td>\n",
              "      <td>56.658779</td>\n",
              "      <td>25.239162</td>\n",
              "      <td>-2.072085</td>\n",
              "      <td>25.153961</td>\n",
              "      <td>-50.726738</td>\n",
              "      <td>-1.109109</td>\n",
              "      <td>-1.448028</td>\n",
              "      <td>1.652987</td>\n",
              "    </tr>\n",
              "    <tr>\n",
              "      <th>1</th>\n",
              "      <td>137.607901</td>\n",
              "      <td>118.920024</td>\n",
              "      <td>-75.331207</td>\n",
              "      <td>92.017288</td>\n",
              "      <td>69.238365</td>\n",
              "      <td>0.527248</td>\n",
              "      <td>0.553524</td>\n",
              "      <td>2.256814</td>\n",
              "      <td>116.168970</td>\n",
              "      <td>88.153423</td>\n",
              "      <td>...</td>\n",
              "      <td>0.210306</td>\n",
              "      <td>0.763760</td>\n",
              "      <td>151.800959</td>\n",
              "      <td>26.898023</td>\n",
              "      <td>13.308238</td>\n",
              "      <td>-23.375082</td>\n",
              "      <td>149.398849</td>\n",
              "      <td>1.392663</td>\n",
              "      <td>2.415721</td>\n",
              "      <td>-1.053230</td>\n",
              "    </tr>\n",
              "    <tr>\n",
              "      <th>2</th>\n",
              "      <td>68.943352</td>\n",
              "      <td>68.862544</td>\n",
              "      <td>62.130150</td>\n",
              "      <td>-29.696709</td>\n",
              "      <td>3.335363</td>\n",
              "      <td>0.048397</td>\n",
              "      <td>0.048416</td>\n",
              "      <td>-0.445874</td>\n",
              "      <td>24.910594</td>\n",
              "      <td>8.082096</td>\n",
              "      <td>...</td>\n",
              "      <td>-0.095600</td>\n",
              "      <td>3.032638</td>\n",
              "      <td>13.356255</td>\n",
              "      <td>6.676740</td>\n",
              "      <td>-4.621915</td>\n",
              "      <td>-4.818377</td>\n",
              "      <td>11.567657</td>\n",
              "      <td>1.047318</td>\n",
              "      <td>1.317198</td>\n",
              "      <td>-2.335386</td>\n",
              "    </tr>\n",
              "    <tr>\n",
              "      <th>3</th>\n",
              "      <td>114.641608</td>\n",
              "      <td>25.437161</td>\n",
              "      <td>11.195876</td>\n",
              "      <td>-22.840786</td>\n",
              "      <td>-111.783890</td>\n",
              "      <td>-1.347050</td>\n",
              "      <td>-2.186205</td>\n",
              "      <td>-1.115043</td>\n",
              "      <td>181.883670</td>\n",
              "      <td>22.942466</td>\n",
              "      <td>...</td>\n",
              "      <td>-1.317055</td>\n",
              "      <td>0.158419</td>\n",
              "      <td>131.152192</td>\n",
              "      <td>6.405683</td>\n",
              "      <td>6.230175</td>\n",
              "      <td>1.489192</td>\n",
              "      <td>-130.995667</td>\n",
              "      <td>-1.521935</td>\n",
              "      <td>-3.711723</td>\n",
              "      <td>0.234627</td>\n",
              "    </tr>\n",
              "    <tr>\n",
              "      <th>4</th>\n",
              "      <td>4711.518806</td>\n",
              "      <td>42.712477</td>\n",
              "      <td>30.245499</td>\n",
              "      <td>-30.159004</td>\n",
              "      <td>-4711.325195</td>\n",
              "      <td>-1.561731</td>\n",
              "      <td>-5.396401</td>\n",
              "      <td>-0.783966</td>\n",
              "      <td>1340.547067</td>\n",
              "      <td>36.527474</td>\n",
              "      <td>...</td>\n",
              "      <td>-1.742168</td>\n",
              "      <td>2.168648</td>\n",
              "      <td>557.710604</td>\n",
              "      <td>28.543984</td>\n",
              "      <td>23.542189</td>\n",
              "      <td>-16.140768</td>\n",
              "      <td>-556.979675</td>\n",
              "      <td>-1.519593</td>\n",
              "      <td>-3.664886</td>\n",
              "      <td>-0.601003</td>\n",
              "    </tr>\n",
              "  </tbody>\n",
              "</table>\n",
              "<p>5 rows × 32 columns</p>\n",
              "</div>"
            ],
            "text/plain": [
              "    lep1vsPt_e  lep1vsPt_pt  lep1vsPt_px  lep1vsPt_py  lep1vsPt_pz  \\\n",
              "0   359.623652   220.885788   185.147583  -120.461212  -283.793304   \n",
              "1   137.607901   118.920024   -75.331207    92.017288    69.238365   \n",
              "2    68.943352    68.862544    62.130150   -29.696709     3.335363   \n",
              "3   114.641608    25.437161    11.195876   -22.840786  -111.783890   \n",
              "4  4711.518806    42.712477    30.245499   -30.159004 -4711.325195   \n",
              "\n",
              "   lep1vsPt_theta  lep1vsPt_eta  lep1vsPt_phi   lep2vsPt_e  lep2vsPt_pt  \\\n",
              "0       -0.909407     -1.069147     -0.576813   664.367811   210.392846   \n",
              "1        0.527248      0.553524      2.256814   116.168970    88.153423   \n",
              "2        0.048397      0.048416     -0.445874    24.910594     8.082096   \n",
              "3       -1.347050     -2.186205     -1.115043   181.883670    22.942466   \n",
              "4       -1.561731     -5.396401     -0.783966  1340.547067    36.527474   \n",
              "\n",
              "       ...       lep3vsPt_eta  lep3vsPt_phi  lep4vsPt_e  lep4vsPt_pt  \\\n",
              "0      ...          -1.379478     -1.272788   56.658779    25.239162   \n",
              "1      ...           0.210306      0.763760  151.800959    26.898023   \n",
              "2      ...          -0.095600      3.032638   13.356255     6.676740   \n",
              "3      ...          -1.317055      0.158419  131.152192     6.405683   \n",
              "4      ...          -1.742168      2.168648  557.710604    28.543984   \n",
              "\n",
              "   lep4vsPt_px  lep4vsPt_py  lep4vsPt_pz  lep4vsPt_theta  lep4vsPt_eta  \\\n",
              "0    -2.072085    25.153961   -50.726738       -1.109109     -1.448028   \n",
              "1    13.308238   -23.375082   149.398849        1.392663      2.415721   \n",
              "2    -4.621915    -4.818377    11.567657        1.047318      1.317198   \n",
              "3     6.230175     1.489192  -130.995667       -1.521935     -3.711723   \n",
              "4    23.542189   -16.140768  -556.979675       -1.519593     -3.664886   \n",
              "\n",
              "   lep4vsPt_phi  \n",
              "0      1.652987  \n",
              "1     -1.053230  \n",
              "2     -2.335386  \n",
              "3      0.234627  \n",
              "4     -0.601003  \n",
              "\n",
              "[5 rows x 32 columns]"
            ]
          },
          "metadata": {
            "tags": []
          },
          "execution_count": 5
        }
      ]
    },
    {
      "metadata": {
        "id": "e0WHg1puJOTz",
        "colab_type": "text"
      },
      "cell_type": "markdown",
      "source": [
        "The following example plots the signal and background distributions of every variable for the 1st lepton.\n",
        "\n",
        "One can see that the same variables from two samples are close each other."
      ]
    },
    {
      "metadata": {
        "id": "vJmHLY5CqFRX",
        "colab_type": "code",
        "outputId": "76e6af09-03a2-4a00-aff1-c88892b8969d",
        "colab": {
          "base_uri": "https://localhost:8080/",
          "height": 2144
        }
      },
      "cell_type": "code",
      "source": [
        "for var in kin_vars[:8]:\n",
        "    print(var)\n",
        "    plt.figure()\n",
        "    plt.hist(pp_h_4l[var], bins=100, histtype=\"step\", density=True, color=\"red\", label=\"signal\", stacked=True)\n",
        "    plt.hist(pp_zgzg_4l[var], bins=100, histtype=\"step\", density=True, color=\"blue\", label=\"background\", stacked=True)\n",
        "    plt.legend(loc='upper right')\n",
        "    plt.show()\n"
      ],
      "execution_count": 6,
      "outputs": [
        {
          "output_type": "stream",
          "text": [
            "lep1vsPt_e\n"
          ],
          "name": "stdout"
        },
        {
          "output_type": "display_data",
          "data": {
            "image/png": "[encoded data removed]",
            "text/plain": [
              "<matplotlib.figure.Figure at 0x7ff46a966208>"
            ]
          },
          "metadata": {
            "tags": []
          }
        },
        {
          "output_type": "stream",
          "text": [
            "lep1vsPt_pt\n"
          ],
          "name": "stdout"
        },
        {
          "output_type": "display_data",
          "data": {
            "image/png": "[encoded data removed]",
            "text/plain": [
              "<matplotlib.figure.Figure at 0x7ff46a926c50>"
            ]
          },
          "metadata": {
            "tags": []
          }
        },
        {
          "output_type": "stream",
          "text": [
            "lep1vsPt_px\n"
          ],
          "name": "stdout"
        },
        {
          "output_type": "display_data",
          "data": {
            "image/png": "[encoded data removed]",
            "text/plain": [
              "<matplotlib.figure.Figure at 0x7ff46a862da0>"
            ]
          },
          "metadata": {
            "tags": []
          }
        },
        {
          "output_type": "stream",
          "text": [
            "lep1vsPt_py\n"
          ],
          "name": "stdout"
        },
        {
          "output_type": "display_data",
          "data": {
            "image/png": "[encoded data removed]",
            "text/plain": [
              "<matplotlib.figure.Figure at 0x7ff467e4c3c8>"
            ]
          },
          "metadata": {
            "tags": []
          }
        },
        {
          "output_type": "stream",
          "text": [
            "lep1vsPt_pz\n"
          ],
          "name": "stdout"
        },
        {
          "output_type": "display_data",
          "data": {
            "image/png": "[encoded data removed]",
            "text/plain": [
              "<matplotlib.figure.Figure at 0x7ff46a802d30>"
            ]
          },
          "metadata": {
            "tags": []
          }
        },
        {
          "output_type": "stream",
          "text": [
            "lep1vsPt_theta\n"
          ],
          "name": "stdout"
        },
        {
          "output_type": "display_data",
          "data": {
            "image/png": "[encoded data removed]",
            "text/plain": [
              "<matplotlib.figure.Figure at 0x7ff467ce7f98>"
            ]
          },
          "metadata": {
            "tags": []
          }
        },
        {
          "output_type": "stream",
          "text": [
            "lep1vsPt_eta\n"
          ],
          "name": "stdout"
        },
        {
          "output_type": "display_data",
          "data": {
            "image/png": "[encoded data removed]",
            "text/plain": [
              "<matplotlib.figure.Figure at 0x7ff467cf2978>"
            ]
          },
          "metadata": {
            "tags": []
          }
        },
        {
          "output_type": "stream",
          "text": [
            "lep1vsPt_phi\n"
          ],
          "name": "stdout"
        },
        {
          "output_type": "display_data",
          "data": {
            "image/png": "[encoded data removed]",
            "text/plain": [
              "<matplotlib.figure.Figure at 0x7ff46a9200b8>"
            ]
          },
          "metadata": {
            "tags": []
          }
        }
      ]
    },
    {
      "metadata": {
        "id": "r53_egVV1cjd",
        "colab_type": "text"
      },
      "cell_type": "markdown",
      "source": [
        "# Fisher Discriminant\n",
        "(aka Linear Discriminant Analysis, or LDA)"
      ]
    },
    {
      "metadata": {
        "id": "KbXReWJoPT2Y",
        "colab_type": "text"
      },
      "cell_type": "markdown",
      "source": [
        "## Preparing samples"
      ]
    },
    {
      "metadata": {
        "colab_type": "text",
        "id": "HER0ltrFfLKS"
      },
      "cell_type": "markdown",
      "source": [
        "Let's put `signal` label to our samples in order to dinstigush them after combining. Now the first column stores the \"truth\" label of whether an event was signal or background:"
      ]
    },
    {
      "metadata": {
        "colab_type": "code",
        "id": "G53CblbCfLKj",
        "outputId": "fdacd6ab-5cf4-48d1-e639-5093176193c4",
        "colab": {
          "base_uri": "https://localhost:8080/",
          "height": 256
        }
      },
      "cell_type": "code",
      "source": [
        "pp_h_4l.insert(loc=0, column='signal', value=1.0)\n",
        "pp_zgzg_4l.insert(loc=0, column='signal', value=0.0)\n",
        "\n",
        "kin_vars.insert(0, 'signal') # insert 'signal' to our variables list too\n",
        "\n",
        "# pp_h_4l['signal'] = 1.0\n",
        "# pp_zgzg_4l['signal'] = 0.0\n",
        "pp_h_4l.head()"
      ],
      "execution_count": 7,
      "outputs": [
        {
          "output_type": "execute_result",
          "data": {
            "text/html": [
              "<div>\n",
              "<style scoped>\n",
              "    .dataframe tbody tr th:only-of-type {\n",
              "        vertical-align: middle;\n",
              "    }\n",
              "\n",
              "    .dataframe tbody tr th {\n",
              "        vertical-align: top;\n",
              "    }\n",
              "\n",
              "    .dataframe thead th {\n",
              "        text-align: right;\n",
              "    }\n",
              "</style>\n",
              "<table border=\"1\" class=\"dataframe\">\n",
              "  <thead>\n",
              "    <tr style=\"text-align: right;\">\n",
              "      <th></th>\n",
              "      <th>signal</th>\n",
              "      <th>lep1vsPt_e</th>\n",
              "      <th>lep1vsPt_pt</th>\n",
              "      <th>lep1vsPt_px</th>\n",
              "      <th>lep1vsPt_py</th>\n",
              "      <th>lep1vsPt_pz</th>\n",
              "      <th>lep1vsPt_theta</th>\n",
              "      <th>lep1vsPt_eta</th>\n",
              "      <th>lep1vsPt_phi</th>\n",
              "      <th>lep2vsPt_e</th>\n",
              "      <th>...</th>\n",
              "      <th>lep3vsPt_eta</th>\n",
              "      <th>lep3vsPt_phi</th>\n",
              "      <th>lep4vsPt_e</th>\n",
              "      <th>lep4vsPt_pt</th>\n",
              "      <th>lep4vsPt_px</th>\n",
              "      <th>lep4vsPt_py</th>\n",
              "      <th>lep4vsPt_pz</th>\n",
              "      <th>lep4vsPt_theta</th>\n",
              "      <th>lep4vsPt_eta</th>\n",
              "      <th>lep4vsPt_phi</th>\n",
              "    </tr>\n",
              "  </thead>\n",
              "  <tbody>\n",
              "    <tr>\n",
              "      <th>0</th>\n",
              "      <td>1.0</td>\n",
              "      <td>40.817599</td>\n",
              "      <td>40.816309</td>\n",
              "      <td>-7.430504</td>\n",
              "      <td>-40.134258</td>\n",
              "      <td>0.324458</td>\n",
              "      <td>0.007949</td>\n",
              "      <td>0.007949</td>\n",
              "      <td>-1.753865</td>\n",
              "      <td>88.221803</td>\n",
              "      <td>...</td>\n",
              "      <td>0.904967</td>\n",
              "      <td>1.695575</td>\n",
              "      <td>11.299976</td>\n",
              "      <td>8.581384</td>\n",
              "      <td>-8.410522</td>\n",
              "      <td>1.703895</td>\n",
              "      <td>-7.351065</td>\n",
              "      <td>-0.708330</td>\n",
              "      <td>-0.776280</td>\n",
              "      <td>2.941707</td>\n",
              "    </tr>\n",
              "    <tr>\n",
              "      <th>1</th>\n",
              "      <td>1.0</td>\n",
              "      <td>1110.684463</td>\n",
              "      <td>50.237450</td>\n",
              "      <td>47.376976</td>\n",
              "      <td>-16.709984</td>\n",
              "      <td>1109.547729</td>\n",
              "      <td>1.525550</td>\n",
              "      <td>3.788606</td>\n",
              "      <td>-0.339080</td>\n",
              "      <td>916.350779</td>\n",
              "      <td>...</td>\n",
              "      <td>2.951899</td>\n",
              "      <td>2.957064</td>\n",
              "      <td>151.782980</td>\n",
              "      <td>9.268806</td>\n",
              "      <td>4.757098</td>\n",
              "      <td>7.954923</td>\n",
              "      <td>151.499710</td>\n",
              "      <td>1.509692</td>\n",
              "      <td>3.488011</td>\n",
              "      <td>1.031844</td>\n",
              "    </tr>\n",
              "    <tr>\n",
              "      <th>2</th>\n",
              "      <td>1.0</td>\n",
              "      <td>183.672265</td>\n",
              "      <td>73.585952</td>\n",
              "      <td>-32.633724</td>\n",
              "      <td>-65.954018</td>\n",
              "      <td>-168.287247</td>\n",
              "      <td>-1.158584</td>\n",
              "      <td>-1.565062</td>\n",
              "      <td>-2.030271</td>\n",
              "      <td>89.974504</td>\n",
              "      <td>...</td>\n",
              "      <td>-1.850662</td>\n",
              "      <td>2.450955</td>\n",
              "      <td>15.433533</td>\n",
              "      <td>4.738079</td>\n",
              "      <td>3.668590</td>\n",
              "      <td>2.998472</td>\n",
              "      <td>-14.687865</td>\n",
              "      <td>-1.258751</td>\n",
              "      <td>-1.849592</td>\n",
              "      <td>0.685223</td>\n",
              "    </tr>\n",
              "    <tr>\n",
              "      <th>3</th>\n",
              "      <td>1.0</td>\n",
              "      <td>42.281700</td>\n",
              "      <td>39.489943</td>\n",
              "      <td>-39.316151</td>\n",
              "      <td>-3.700795</td>\n",
              "      <td>-15.108787</td>\n",
              "      <td>-0.365416</td>\n",
              "      <td>-0.373830</td>\n",
              "      <td>-3.047740</td>\n",
              "      <td>46.944943</td>\n",
              "      <td>...</td>\n",
              "      <td>0.428923</td>\n",
              "      <td>0.706051</td>\n",
              "      <td>16.472994</td>\n",
              "      <td>15.589799</td>\n",
              "      <td>-7.054197</td>\n",
              "      <td>13.902523</td>\n",
              "      <td>5.321438</td>\n",
              "      <td>0.328940</td>\n",
              "      <td>0.335038</td>\n",
              "      <td>2.040350</td>\n",
              "    </tr>\n",
              "    <tr>\n",
              "      <th>4</th>\n",
              "      <td>1.0</td>\n",
              "      <td>704.754401</td>\n",
              "      <td>654.673065</td>\n",
              "      <td>190.100601</td>\n",
              "      <td>-626.465149</td>\n",
              "      <td>260.925171</td>\n",
              "      <td>0.379263</td>\n",
              "      <td>0.388696</td>\n",
              "      <td>-1.276178</td>\n",
              "      <td>325.376137</td>\n",
              "      <td>...</td>\n",
              "      <td>0.299380</td>\n",
              "      <td>-1.490367</td>\n",
              "      <td>33.783233</td>\n",
              "      <td>33.571311</td>\n",
              "      <td>7.927998</td>\n",
              "      <td>-32.621769</td>\n",
              "      <td>3.776598</td>\n",
              "      <td>0.112024</td>\n",
              "      <td>0.112259</td>\n",
              "      <td>-1.332390</td>\n",
              "    </tr>\n",
              "  </tbody>\n",
              "</table>\n",
              "<p>5 rows × 33 columns</p>\n",
              "</div>"
            ],
            "text/plain": [
              "   signal   lep1vsPt_e  lep1vsPt_pt  lep1vsPt_px  lep1vsPt_py  lep1vsPt_pz  \\\n",
              "0     1.0    40.817599    40.816309    -7.430504   -40.134258     0.324458   \n",
              "1     1.0  1110.684463    50.237450    47.376976   -16.709984  1109.547729   \n",
              "2     1.0   183.672265    73.585952   -32.633724   -65.954018  -168.287247   \n",
              "3     1.0    42.281700    39.489943   -39.316151    -3.700795   -15.108787   \n",
              "4     1.0   704.754401   654.673065   190.100601  -626.465149   260.925171   \n",
              "\n",
              "   lep1vsPt_theta  lep1vsPt_eta  lep1vsPt_phi  lep2vsPt_e      ...       \\\n",
              "0        0.007949      0.007949     -1.753865   88.221803      ...        \n",
              "1        1.525550      3.788606     -0.339080  916.350779      ...        \n",
              "2       -1.158584     -1.565062     -2.030271   89.974504      ...        \n",
              "3       -0.365416     -0.373830     -3.047740   46.944943      ...        \n",
              "4        0.379263      0.388696     -1.276178  325.376137      ...        \n",
              "\n",
              "   lep3vsPt_eta  lep3vsPt_phi  lep4vsPt_e  lep4vsPt_pt  lep4vsPt_px  \\\n",
              "0      0.904967      1.695575   11.299976     8.581384    -8.410522   \n",
              "1      2.951899      2.957064  151.782980     9.268806     4.757098   \n",
              "2     -1.850662      2.450955   15.433533     4.738079     3.668590   \n",
              "3      0.428923      0.706051   16.472994    15.589799    -7.054197   \n",
              "4      0.299380     -1.490367   33.783233    33.571311     7.927998   \n",
              "\n",
              "   lep4vsPt_py  lep4vsPt_pz  lep4vsPt_theta  lep4vsPt_eta  lep4vsPt_phi  \n",
              "0     1.703895    -7.351065       -0.708330     -0.776280      2.941707  \n",
              "1     7.954923   151.499710        1.509692      3.488011      1.031844  \n",
              "2     2.998472   -14.687865       -1.258751     -1.849592      0.685223  \n",
              "3    13.902523     5.321438        0.328940      0.335038      2.040350  \n",
              "4   -32.621769     3.776598        0.112024      0.112259     -1.332390  \n",
              "\n",
              "[5 rows x 33 columns]"
            ]
          },
          "metadata": {
            "tags": []
          },
          "execution_count": 7
        }
      ]
    },
    {
      "metadata": {
        "colab_type": "text",
        "id": "UO8bsfhBfLK4"
      },
      "cell_type": "markdown",
      "source": [
        "Combine the samples:"
      ]
    },
    {
      "metadata": {
        "colab_type": "code",
        "id": "PR7wuvP5fLLB",
        "outputId": "9ba26a3a-1209-4281-becd-8db13ddac454",
        "colab": {
          "base_uri": "https://localhost:8080/",
          "height": 256
        }
      },
      "cell_type": "code",
      "source": [
        "frames = [pp_h_4l, pp_zgzg_4l]\n",
        "ds = pd.concat(frames, ignore_index=True)\n",
        "ds.head()"
      ],
      "execution_count": 35,
      "outputs": [
        {
          "output_type": "execute_result",
          "data": {
            "text/html": [
              "<div>\n",
              "<style scoped>\n",
              "    .dataframe tbody tr th:only-of-type {\n",
              "        vertical-align: middle;\n",
              "    }\n",
              "\n",
              "    .dataframe tbody tr th {\n",
              "        vertical-align: top;\n",
              "    }\n",
              "\n",
              "    .dataframe thead th {\n",
              "        text-align: right;\n",
              "    }\n",
              "</style>\n",
              "<table border=\"1\" class=\"dataframe\">\n",
              "  <thead>\n",
              "    <tr style=\"text-align: right;\">\n",
              "      <th></th>\n",
              "      <th>signal</th>\n",
              "      <th>lep1vsPt_e</th>\n",
              "      <th>lep1vsPt_pt</th>\n",
              "      <th>lep1vsPt_px</th>\n",
              "      <th>lep1vsPt_py</th>\n",
              "      <th>lep1vsPt_pz</th>\n",
              "      <th>lep1vsPt_theta</th>\n",
              "      <th>lep1vsPt_eta</th>\n",
              "      <th>lep1vsPt_phi</th>\n",
              "      <th>lep2vsPt_e</th>\n",
              "      <th>...</th>\n",
              "      <th>lep3vsPt_eta</th>\n",
              "      <th>lep3vsPt_phi</th>\n",
              "      <th>lep4vsPt_e</th>\n",
              "      <th>lep4vsPt_pt</th>\n",
              "      <th>lep4vsPt_px</th>\n",
              "      <th>lep4vsPt_py</th>\n",
              "      <th>lep4vsPt_pz</th>\n",
              "      <th>lep4vsPt_theta</th>\n",
              "      <th>lep4vsPt_eta</th>\n",
              "      <th>lep4vsPt_phi</th>\n",
              "    </tr>\n",
              "  </thead>\n",
              "  <tbody>\n",
              "    <tr>\n",
              "      <th>0</th>\n",
              "      <td>1.0</td>\n",
              "      <td>40.817599</td>\n",
              "      <td>40.816309</td>\n",
              "      <td>-7.430504</td>\n",
              "      <td>-40.134258</td>\n",
              "      <td>0.324458</td>\n",
              "      <td>0.007949</td>\n",
              "      <td>0.007949</td>\n",
              "      <td>-1.753865</td>\n",
              "      <td>88.221803</td>\n",
              "      <td>...</td>\n",
              "      <td>0.904967</td>\n",
              "      <td>1.695575</td>\n",
              "      <td>11.299976</td>\n",
              "      <td>8.581384</td>\n",
              "      <td>-8.410522</td>\n",
              "      <td>1.703895</td>\n",
              "      <td>-7.351065</td>\n",
              "      <td>-0.708330</td>\n",
              "      <td>-0.776280</td>\n",
              "      <td>2.941707</td>\n",
              "    </tr>\n",
              "    <tr>\n",
              "      <th>1</th>\n",
              "      <td>1.0</td>\n",
              "      <td>1110.684463</td>\n",
              "      <td>50.237450</td>\n",
              "      <td>47.376976</td>\n",
              "      <td>-16.709984</td>\n",
              "      <td>1109.547729</td>\n",
              "      <td>1.525550</td>\n",
              "      <td>3.788606</td>\n",
              "      <td>-0.339080</td>\n",
              "      <td>916.350779</td>\n",
              "      <td>...</td>\n",
              "      <td>2.951899</td>\n",
              "      <td>2.957064</td>\n",
              "      <td>151.782980</td>\n",
              "      <td>9.268806</td>\n",
              "      <td>4.757098</td>\n",
              "      <td>7.954923</td>\n",
              "      <td>151.499710</td>\n",
              "      <td>1.509692</td>\n",
              "      <td>3.488011</td>\n",
              "      <td>1.031844</td>\n",
              "    </tr>\n",
              "    <tr>\n",
              "      <th>2</th>\n",
              "      <td>1.0</td>\n",
              "      <td>183.672265</td>\n",
              "      <td>73.585952</td>\n",
              "      <td>-32.633724</td>\n",
              "      <td>-65.954018</td>\n",
              "      <td>-168.287247</td>\n",
              "      <td>-1.158584</td>\n",
              "      <td>-1.565062</td>\n",
              "      <td>-2.030271</td>\n",
              "      <td>89.974504</td>\n",
              "      <td>...</td>\n",
              "      <td>-1.850662</td>\n",
              "      <td>2.450955</td>\n",
              "      <td>15.433533</td>\n",
              "      <td>4.738079</td>\n",
              "      <td>3.668590</td>\n",
              "      <td>2.998472</td>\n",
              "      <td>-14.687865</td>\n",
              "      <td>-1.258751</td>\n",
              "      <td>-1.849592</td>\n",
              "      <td>0.685223</td>\n",
              "    </tr>\n",
              "    <tr>\n",
              "      <th>3</th>\n",
              "      <td>1.0</td>\n",
              "      <td>42.281700</td>\n",
              "      <td>39.489943</td>\n",
              "      <td>-39.316151</td>\n",
              "      <td>-3.700795</td>\n",
              "      <td>-15.108787</td>\n",
              "      <td>-0.365416</td>\n",
              "      <td>-0.373830</td>\n",
              "      <td>-3.047740</td>\n",
              "      <td>46.944943</td>\n",
              "      <td>...</td>\n",
              "      <td>0.428923</td>\n",
              "      <td>0.706051</td>\n",
              "      <td>16.472994</td>\n",
              "      <td>15.589799</td>\n",
              "      <td>-7.054197</td>\n",
              "      <td>13.902523</td>\n",
              "      <td>5.321438</td>\n",
              "      <td>0.328940</td>\n",
              "      <td>0.335038</td>\n",
              "      <td>2.040350</td>\n",
              "    </tr>\n",
              "    <tr>\n",
              "      <th>4</th>\n",
              "      <td>1.0</td>\n",
              "      <td>704.754401</td>\n",
              "      <td>654.673065</td>\n",
              "      <td>190.100601</td>\n",
              "      <td>-626.465149</td>\n",
              "      <td>260.925171</td>\n",
              "      <td>0.379263</td>\n",
              "      <td>0.388696</td>\n",
              "      <td>-1.276178</td>\n",
              "      <td>325.376137</td>\n",
              "      <td>...</td>\n",
              "      <td>0.299380</td>\n",
              "      <td>-1.490367</td>\n",
              "      <td>33.783233</td>\n",
              "      <td>33.571311</td>\n",
              "      <td>7.927998</td>\n",
              "      <td>-32.621769</td>\n",
              "      <td>3.776598</td>\n",
              "      <td>0.112024</td>\n",
              "      <td>0.112259</td>\n",
              "      <td>-1.332390</td>\n",
              "    </tr>\n",
              "  </tbody>\n",
              "</table>\n",
              "<p>5 rows × 33 columns</p>\n",
              "</div>"
            ],
            "text/plain": [
              "   signal   lep1vsPt_e  lep1vsPt_pt  lep1vsPt_px  lep1vsPt_py  lep1vsPt_pz  \\\n",
              "0     1.0    40.817599    40.816309    -7.430504   -40.134258     0.324458   \n",
              "1     1.0  1110.684463    50.237450    47.376976   -16.709984  1109.547729   \n",
              "2     1.0   183.672265    73.585952   -32.633724   -65.954018  -168.287247   \n",
              "3     1.0    42.281700    39.489943   -39.316151    -3.700795   -15.108787   \n",
              "4     1.0   704.754401   654.673065   190.100601  -626.465149   260.925171   \n",
              "\n",
              "   lep1vsPt_theta  lep1vsPt_eta  lep1vsPt_phi  lep2vsPt_e      ...       \\\n",
              "0        0.007949      0.007949     -1.753865   88.221803      ...        \n",
              "1        1.525550      3.788606     -0.339080  916.350779      ...        \n",
              "2       -1.158584     -1.565062     -2.030271   89.974504      ...        \n",
              "3       -0.365416     -0.373830     -3.047740   46.944943      ...        \n",
              "4        0.379263      0.388696     -1.276178  325.376137      ...        \n",
              "\n",
              "   lep3vsPt_eta  lep3vsPt_phi  lep4vsPt_e  lep4vsPt_pt  lep4vsPt_px  \\\n",
              "0      0.904967      1.695575   11.299976     8.581384    -8.410522   \n",
              "1      2.951899      2.957064  151.782980     9.268806     4.757098   \n",
              "2     -1.850662      2.450955   15.433533     4.738079     3.668590   \n",
              "3      0.428923      0.706051   16.472994    15.589799    -7.054197   \n",
              "4      0.299380     -1.490367   33.783233    33.571311     7.927998   \n",
              "\n",
              "   lep4vsPt_py  lep4vsPt_pz  lep4vsPt_theta  lep4vsPt_eta  lep4vsPt_phi  \n",
              "0     1.703895    -7.351065       -0.708330     -0.776280      2.941707  \n",
              "1     7.954923   151.499710        1.509692      3.488011      1.031844  \n",
              "2     2.998472   -14.687865       -1.258751     -1.849592      0.685223  \n",
              "3    13.902523     5.321438        0.328940      0.335038      2.040350  \n",
              "4   -32.621769     3.776598        0.112024      0.112259     -1.332390  \n",
              "\n",
              "[5 rows x 33 columns]"
            ]
          },
          "metadata": {
            "tags": []
          },
          "execution_count": 35
        }
      ]
    },
    {
      "metadata": {
        "colab_type": "text",
        "id": "FmGXenS_fLLK"
      },
      "cell_type": "markdown",
      "source": [
        "Randomly permute rows in the combined sample:"
      ]
    },
    {
      "metadata": {
        "colab_type": "code",
        "id": "DCRH47pnfLLO",
        "outputId": "ccf8735f-421f-4c15-f697-ce6ebb26ee50",
        "colab": {
          "base_uri": "https://localhost:8080/",
          "height": 256
        }
      },
      "cell_type": "code",
      "source": [
        "np.random.seed(14)\n",
        "ds = ds.iloc[np.random.permutation(len(ds))].reset_index(drop=True).copy()\n",
        "ds.head()"
      ],
      "execution_count": 36,
      "outputs": [
        {
          "output_type": "execute_result",
          "data": {
            "text/html": [
              "<div>\n",
              "<style scoped>\n",
              "    .dataframe tbody tr th:only-of-type {\n",
              "        vertical-align: middle;\n",
              "    }\n",
              "\n",
              "    .dataframe tbody tr th {\n",
              "        vertical-align: top;\n",
              "    }\n",
              "\n",
              "    .dataframe thead th {\n",
              "        text-align: right;\n",
              "    }\n",
              "</style>\n",
              "<table border=\"1\" class=\"dataframe\">\n",
              "  <thead>\n",
              "    <tr style=\"text-align: right;\">\n",
              "      <th></th>\n",
              "      <th>signal</th>\n",
              "      <th>lep1vsPt_e</th>\n",
              "      <th>lep1vsPt_pt</th>\n",
              "      <th>lep1vsPt_px</th>\n",
              "      <th>lep1vsPt_py</th>\n",
              "      <th>lep1vsPt_pz</th>\n",
              "      <th>lep1vsPt_theta</th>\n",
              "      <th>lep1vsPt_eta</th>\n",
              "      <th>lep1vsPt_phi</th>\n",
              "      <th>lep2vsPt_e</th>\n",
              "      <th>...</th>\n",
              "      <th>lep3vsPt_eta</th>\n",
              "      <th>lep3vsPt_phi</th>\n",
              "      <th>lep4vsPt_e</th>\n",
              "      <th>lep4vsPt_pt</th>\n",
              "      <th>lep4vsPt_px</th>\n",
              "      <th>lep4vsPt_py</th>\n",
              "      <th>lep4vsPt_pz</th>\n",
              "      <th>lep4vsPt_theta</th>\n",
              "      <th>lep4vsPt_eta</th>\n",
              "      <th>lep4vsPt_phi</th>\n",
              "    </tr>\n",
              "  </thead>\n",
              "  <tbody>\n",
              "    <tr>\n",
              "      <th>0</th>\n",
              "      <td>0.0</td>\n",
              "      <td>445.321523</td>\n",
              "      <td>57.944229</td>\n",
              "      <td>-42.477551</td>\n",
              "      <td>-39.410549</td>\n",
              "      <td>441.535645</td>\n",
              "      <td>1.440309</td>\n",
              "      <td>2.728203</td>\n",
              "      <td>-2.393631</td>\n",
              "      <td>53.248678</td>\n",
              "      <td>...</td>\n",
              "      <td>1.902200</td>\n",
              "      <td>1.175048</td>\n",
              "      <td>602.237690</td>\n",
              "      <td>12.472126</td>\n",
              "      <td>11.300107</td>\n",
              "      <td>-5.278400</td>\n",
              "      <td>602.108521</td>\n",
              "      <td>1.550085</td>\n",
              "      <td>4.570196</td>\n",
              "      <td>-0.436992</td>\n",
              "    </tr>\n",
              "    <tr>\n",
              "      <th>1</th>\n",
              "      <td>0.0</td>\n",
              "      <td>140.055417</td>\n",
              "      <td>136.332350</td>\n",
              "      <td>-108.544930</td>\n",
              "      <td>82.489441</td>\n",
              "      <td>32.078190</td>\n",
              "      <td>0.231091</td>\n",
              "      <td>0.233175</td>\n",
              "      <td>2.491750</td>\n",
              "      <td>891.217773</td>\n",
              "      <td>...</td>\n",
              "      <td>-1.632444</td>\n",
              "      <td>-0.326208</td>\n",
              "      <td>38.908363</td>\n",
              "      <td>31.731214</td>\n",
              "      <td>4.377998</td>\n",
              "      <td>31.427744</td>\n",
              "      <td>-22.516455</td>\n",
              "      <td>-0.617140</td>\n",
              "      <td>-0.660513</td>\n",
              "      <td>1.432383</td>\n",
              "    </tr>\n",
              "    <tr>\n",
              "      <th>2</th>\n",
              "      <td>0.0</td>\n",
              "      <td>6447.025049</td>\n",
              "      <td>121.690473</td>\n",
              "      <td>-85.802719</td>\n",
              "      <td>86.292900</td>\n",
              "      <td>-6445.876465</td>\n",
              "      <td>-1.551920</td>\n",
              "      <td>-4.662951</td>\n",
              "      <td>2.353346</td>\n",
              "      <td>864.940291</td>\n",
              "      <td>...</td>\n",
              "      <td>-3.439142</td>\n",
              "      <td>2.217880</td>\n",
              "      <td>85.853992</td>\n",
              "      <td>18.497323</td>\n",
              "      <td>-8.081850</td>\n",
              "      <td>16.638350</td>\n",
              "      <td>-83.837616</td>\n",
              "      <td>-1.353643</td>\n",
              "      <td>-2.216356</td>\n",
              "      <td>2.022968</td>\n",
              "    </tr>\n",
              "    <tr>\n",
              "      <th>3</th>\n",
              "      <td>0.0</td>\n",
              "      <td>158.721086</td>\n",
              "      <td>152.341702</td>\n",
              "      <td>122.331612</td>\n",
              "      <td>90.790810</td>\n",
              "      <td>-44.546478</td>\n",
              "      <td>-0.284480</td>\n",
              "      <td>-0.288397</td>\n",
              "      <td>0.638471</td>\n",
              "      <td>33.440456</td>\n",
              "      <td>...</td>\n",
              "      <td>-0.744746</td>\n",
              "      <td>2.525607</td>\n",
              "      <td>13.407958</td>\n",
              "      <td>8.359232</td>\n",
              "      <td>4.510383</td>\n",
              "      <td>7.037983</td>\n",
              "      <td>-10.483157</td>\n",
              "      <td>-0.897645</td>\n",
              "      <td>-1.050140</td>\n",
              "      <td>1.000871</td>\n",
              "    </tr>\n",
              "    <tr>\n",
              "      <th>4</th>\n",
              "      <td>0.0</td>\n",
              "      <td>237.150139</td>\n",
              "      <td>36.368379</td>\n",
              "      <td>1.744334</td>\n",
              "      <td>-36.326523</td>\n",
              "      <td>234.344894</td>\n",
              "      <td>1.416833</td>\n",
              "      <td>2.562209</td>\n",
              "      <td>-1.522815</td>\n",
              "      <td>38.519199</td>\n",
              "      <td>...</td>\n",
              "      <td>4.663505</td>\n",
              "      <td>0.974437</td>\n",
              "      <td>100.019126</td>\n",
              "      <td>22.121250</td>\n",
              "      <td>-0.835638</td>\n",
              "      <td>22.105461</td>\n",
              "      <td>97.542175</td>\n",
              "      <td>1.347782</td>\n",
              "      <td>2.189510</td>\n",
              "      <td>1.608581</td>\n",
              "    </tr>\n",
              "  </tbody>\n",
              "</table>\n",
              "<p>5 rows × 33 columns</p>\n",
              "</div>"
            ],
            "text/plain": [
              "   signal   lep1vsPt_e  lep1vsPt_pt  lep1vsPt_px  lep1vsPt_py  lep1vsPt_pz  \\\n",
              "0     0.0   445.321523    57.944229   -42.477551   -39.410549   441.535645   \n",
              "1     0.0   140.055417   136.332350  -108.544930    82.489441    32.078190   \n",
              "2     0.0  6447.025049   121.690473   -85.802719    86.292900 -6445.876465   \n",
              "3     0.0   158.721086   152.341702   122.331612    90.790810   -44.546478   \n",
              "4     0.0   237.150139    36.368379     1.744334   -36.326523   234.344894   \n",
              "\n",
              "   lep1vsPt_theta  lep1vsPt_eta  lep1vsPt_phi  lep2vsPt_e      ...       \\\n",
              "0        1.440309      2.728203     -2.393631   53.248678      ...        \n",
              "1        0.231091      0.233175      2.491750  891.217773      ...        \n",
              "2       -1.551920     -4.662951      2.353346  864.940291      ...        \n",
              "3       -0.284480     -0.288397      0.638471   33.440456      ...        \n",
              "4        1.416833      2.562209     -1.522815   38.519199      ...        \n",
              "\n",
              "   lep3vsPt_eta  lep3vsPt_phi  lep4vsPt_e  lep4vsPt_pt  lep4vsPt_px  \\\n",
              "0      1.902200      1.175048  602.237690    12.472126    11.300107   \n",
              "1     -1.632444     -0.326208   38.908363    31.731214     4.377998   \n",
              "2     -3.439142      2.217880   85.853992    18.497323    -8.081850   \n",
              "3     -0.744746      2.525607   13.407958     8.359232     4.510383   \n",
              "4      4.663505      0.974437  100.019126    22.121250    -0.835638   \n",
              "\n",
              "   lep4vsPt_py  lep4vsPt_pz  lep4vsPt_theta  lep4vsPt_eta  lep4vsPt_phi  \n",
              "0    -5.278400   602.108521        1.550085      4.570196     -0.436992  \n",
              "1    31.427744   -22.516455       -0.617140     -0.660513      1.432383  \n",
              "2    16.638350   -83.837616       -1.353643     -2.216356      2.022968  \n",
              "3     7.037983   -10.483157       -0.897645     -1.050140      1.000871  \n",
              "4    22.105461    97.542175        1.347782      2.189510      1.608581  \n",
              "\n",
              "[5 rows x 33 columns]"
            ]
          },
          "metadata": {
            "tags": []
          },
          "execution_count": 36
        }
      ]
    },
    {
      "metadata": {
        "id": "8QA2sb95tZuw",
        "colab_type": "code",
        "colab": {}
      },
      "cell_type": "code",
      "source": [
        "N_Train=9999\n",
        "\n",
        "Train_Sample=ds[:N_Train]\n",
        "Test_Sample=ds[N_Train:]\n",
        "\n",
        "X_Train=Train_Sample[kin_vars[1:]]\n",
        "y_Train=Train_Sample[\"signal\"]\n",
        "\n",
        "X_Test=Test_Sample[kin_vars[1:]]\n",
        "y_Test=Test_Sample[\"signal\"]\n",
        "\n",
        "Test_sig=Test_Sample[Test_Sample.signal==1]\n",
        "Test_bkg=Test_Sample[Test_Sample.signal==0]"
      ],
      "execution_count": 0,
      "outputs": []
    },
    {
      "metadata": {
        "id": "biVE6q4Wofgw",
        "colab_type": "text"
      },
      "cell_type": "markdown",
      "source": [
        "## Using classifier"
      ]
    },
    {
      "metadata": {
        "id": "s2GmPtP0ilqc",
        "colab_type": "text"
      },
      "cell_type": "markdown",
      "source": [
        "[Scikit-learn](http://scikit-learn.org/) is a rich python library for data science, including machine learning. The [LDA Documentation](https://scikit-learn.org/stable/modules/lda_qda.html#dimensionality-reduction-using-linear-discriminant-analysis) does as great job explaining this classifier. Here's how we instanciate the classifier:"
      ]
    },
    {
      "metadata": {
        "id": "mc8mheWltSwL",
        "colab_type": "code",
        "colab": {}
      },
      "cell_type": "code",
      "source": [
        "import sklearn.discriminant_analysis as DA\n",
        "Fisher=DA.LinearDiscriminantAnalysis()"
      ],
      "execution_count": 0,
      "outputs": []
    },
    {
      "metadata": {
        "id": "kcMLE4M2jZuB",
        "colab_type": "text"
      },
      "cell_type": "markdown",
      "source": [
        "We can train the classifier as follow:"
      ]
    },
    {
      "metadata": {
        "id": "uap-HIUmTqtz",
        "colab_type": "code",
        "outputId": "4ad7ddbe-5305-4d60-f198-1b4898edcbba",
        "colab": {
          "base_uri": "https://localhost:8080/",
          "height": 53
        }
      },
      "cell_type": "code",
      "source": [
        "Fisher.fit(X_Train,y_Train)"
      ],
      "execution_count": 39,
      "outputs": [
        {
          "output_type": "execute_result",
          "data": {
            "text/plain": [
              "LinearDiscriminantAnalysis(n_components=None, priors=None, shrinkage=None,\n",
              "              solver='svd', store_covariance=False, tol=0.0001)"
            ]
          },
          "metadata": {
            "tags": []
          },
          "execution_count": 39
        }
      ]
    },
    {
      "metadata": {
        "id": "TrDiyQ4JTyQy",
        "colab_type": "code",
        "outputId": "5c4b9877-5a77-4a4a-ac5e-b1b4aa8b74a9",
        "colab": {
          "base_uri": "https://localhost:8080/",
          "height": 265
        }
      },
      "cell_type": "code",
      "source": [
        "plt.figure()\n",
        "plt.hist(Fisher.decision_function(Test_sig[kin_vars[1:]]),bins=100,histtype=\"step\", color=\"red\", label=\"signal\",stacked=True)\n",
        "plt.hist(Fisher.decision_function(Test_bkg[kin_vars[1:]]),bins=100,histtype=\"step\", color=\"blue\", label=\"background\",stacked=True)\n",
        "plt.legend(loc='upper right')\n",
        "plt.show()"
      ],
      "execution_count": 40,
      "outputs": [
        {
          "output_type": "display_data",
          "data": {
            "image/png": "[encoded data removed]",
            "text/plain": [
              "<matplotlib.figure.Figure at 0x7ff46a8a7c88>"
            ]
          },
          "metadata": {
            "tags": []
          }
        }
      ]
    },
    {
      "metadata": {
        "id": "tg3-ChuZjqve",
        "colab_type": "text"
      },
      "cell_type": "markdown",
      "source": [
        "## Retrieving ROC\n",
        "And we can make a ROC curve and evaluate the AUC:"
      ]
    },
    {
      "metadata": {
        "id": "rspzLsQdzaAE",
        "colab_type": "code",
        "outputId": "36b857ac-1854-41b4-8f02-92005d74b4b0",
        "colab": {
          "base_uri": "https://localhost:8080/",
          "height": 279
        }
      },
      "cell_type": "code",
      "source": [
        "from sklearn.metrics import roc_curve, auc\n",
        "fpr, tpr, _ = roc_curve(y_Test, Fisher.decision_function(X_Test))\n",
        "\n",
        "roc_auc = auc(fpr, tpr)\n",
        "\n",
        "plt.plot(fpr,tpr,color='darkorange',label='ROC curve (area = %0.2f)' % roc_auc)\n",
        "plt.legend(loc=\"lower right\")\n",
        "plt.xlabel('False Positive Rate')\n",
        "plt.ylabel('True Positive Rate')\n",
        "\n",
        "plt.show()"
      ],
      "execution_count": 41,
      "outputs": [
        {
          "output_type": "display_data",
          "data": {
            "image/png": "[encoded data removed]",
            "text/plain": [
              "<matplotlib.figure.Figure at 0x7ff467dcafd0>"
            ]
          },
          "metadata": {
            "tags": []
          }
        }
      ]
    },
    {
      "metadata": {
        "id": "kctbAlyY9QYn",
        "colab_type": "text"
      },
      "cell_type": "markdown",
      "source": [
        "## Let's introduce features"
      ]
    },
    {
      "metadata": {
        "id": "O52lVGDI9X54",
        "colab_type": "code",
        "colab": {}
      },
      "cell_type": "code",
      "source": [
        "ds['m2'] = (ds['lep1vsPt_e'] +ds['lep2vsPt_e'] +ds['lep3vsPt_e'] +ds['lep4vsPt_e'])**2 \\\n",
        "         - (ds['lep1vsPt_px']+ds['lep2vsPt_px']+ds['lep3vsPt_px']+ds['lep4vsPt_px'])**2 \\\n",
        "         - (ds['lep1vsPt_py']+ds['lep2vsPt_py']+ds['lep3vsPt_py']+ds['lep4vsPt_py'])**2 \\\n",
        "         - (ds['lep1vsPt_pz']+ds['lep2vsPt_pz']+ds['lep3vsPt_pz']+ds['lep4vsPt_pz'])**2\n",
        "\n",
        "ds['m'] = ds['m2']**0.5"
      ],
      "execution_count": 0,
      "outputs": []
    },
    {
      "metadata": {
        "colab_type": "text",
        "id": "bOO0aUzGIRdJ"
      },
      "cell_type": "markdown",
      "source": [
        "**Invariant mass of 4 leptons**"
      ]
    },
    {
      "metadata": {
        "colab_type": "code",
        "outputId": "fb006412-84e1-46d0-97b1-8fe6b618da00",
        "id": "XGqaNu_nIRdN",
        "colab": {
          "base_uri": "https://localhost:8080/",
          "height": 301
        }
      },
      "cell_type": "code",
      "source": [
        "print(\"m_4l\")\n",
        "plt.figure()\n",
        "plt.hist(ds.loc[ds['signal'] == 1.0]['m'], bins=100, range=(70., 170.), histtype=\"step\", color=\"red\", label=\"signal\", stacked=True)\n",
        "plt.hist(ds.loc[ds['signal'] == 0.0]['m'], bins=100, range=(70., 170.), histtype=\"step\", color=\"blue\", label=\"background\", stacked=True)\n",
        "plt.legend(loc='upper right')\n",
        "plt.xlabel('$\\mathregular{m_{4l}}$ [GeV]')\n",
        "plt.ylabel('Events / 2.5 GeV')\n",
        "plt.show()"
      ],
      "execution_count": 43,
      "outputs": [
        {
          "output_type": "stream",
          "text": [
            "m_4l\n"
          ],
          "name": "stdout"
        },
        {
          "output_type": "display_data",
          "data": {
            "image/png": "[encoded data removed]",
            "text/plain": [
              "<matplotlib.figure.Figure at 0x7ff462644a90>"
            ]
          },
          "metadata": {
            "tags": []
          }
        }
      ]
    },
    {
      "metadata": {
        "id": "HXdsE2u_OtL9",
        "colab_type": "text"
      },
      "cell_type": "markdown",
      "source": [
        "## Preparing samples (again)"
      ]
    },
    {
      "metadata": {
        "id": "HUitbsa0lzM8",
        "colab_type": "code",
        "colab": {
          "base_uri": "https://localhost:8080/",
          "height": 256
        },
        "outputId": "415a3512-2a85-4319-9577-b156ba197eca"
      },
      "cell_type": "code",
      "source": [
        "ds_with_features = ds.copy()\n",
        "ds_with_features.head()"
      ],
      "execution_count": 45,
      "outputs": [
        {
          "output_type": "execute_result",
          "data": {
            "text/html": [
              "<div>\n",
              "<style scoped>\n",
              "    .dataframe tbody tr th:only-of-type {\n",
              "        vertical-align: middle;\n",
              "    }\n",
              "\n",
              "    .dataframe tbody tr th {\n",
              "        vertical-align: top;\n",
              "    }\n",
              "\n",
              "    .dataframe thead th {\n",
              "        text-align: right;\n",
              "    }\n",
              "</style>\n",
              "<table border=\"1\" class=\"dataframe\">\n",
              "  <thead>\n",
              "    <tr style=\"text-align: right;\">\n",
              "      <th></th>\n",
              "      <th>signal</th>\n",
              "      <th>lep1vsPt_e</th>\n",
              "      <th>lep1vsPt_pt</th>\n",
              "      <th>lep1vsPt_px</th>\n",
              "      <th>lep1vsPt_py</th>\n",
              "      <th>lep1vsPt_pz</th>\n",
              "      <th>lep1vsPt_theta</th>\n",
              "      <th>lep1vsPt_eta</th>\n",
              "      <th>lep1vsPt_phi</th>\n",
              "      <th>lep2vsPt_e</th>\n",
              "      <th>...</th>\n",
              "      <th>lep4vsPt_e</th>\n",
              "      <th>lep4vsPt_pt</th>\n",
              "      <th>lep4vsPt_px</th>\n",
              "      <th>lep4vsPt_py</th>\n",
              "      <th>lep4vsPt_pz</th>\n",
              "      <th>lep4vsPt_theta</th>\n",
              "      <th>lep4vsPt_eta</th>\n",
              "      <th>lep4vsPt_phi</th>\n",
              "      <th>m2</th>\n",
              "      <th>m</th>\n",
              "    </tr>\n",
              "  </thead>\n",
              "  <tbody>\n",
              "    <tr>\n",
              "      <th>0</th>\n",
              "      <td>0.0</td>\n",
              "      <td>445.321523</td>\n",
              "      <td>57.944229</td>\n",
              "      <td>-42.477551</td>\n",
              "      <td>-39.410549</td>\n",
              "      <td>441.535645</td>\n",
              "      <td>1.440309</td>\n",
              "      <td>2.728203</td>\n",
              "      <td>-2.393631</td>\n",
              "      <td>53.248678</td>\n",
              "      <td>...</td>\n",
              "      <td>602.237690</td>\n",
              "      <td>12.472126</td>\n",
              "      <td>11.300107</td>\n",
              "      <td>-5.278400</td>\n",
              "      <td>602.108521</td>\n",
              "      <td>1.550085</td>\n",
              "      <td>4.570196</td>\n",
              "      <td>-0.436992</td>\n",
              "      <td>39802.175172</td>\n",
              "      <td>199.504825</td>\n",
              "    </tr>\n",
              "    <tr>\n",
              "      <th>1</th>\n",
              "      <td>0.0</td>\n",
              "      <td>140.055417</td>\n",
              "      <td>136.332350</td>\n",
              "      <td>-108.544930</td>\n",
              "      <td>82.489441</td>\n",
              "      <td>32.078190</td>\n",
              "      <td>0.231091</td>\n",
              "      <td>0.233175</td>\n",
              "      <td>2.491750</td>\n",
              "      <td>891.217773</td>\n",
              "      <td>...</td>\n",
              "      <td>38.908363</td>\n",
              "      <td>31.731214</td>\n",
              "      <td>4.377998</td>\n",
              "      <td>31.427744</td>\n",
              "      <td>-22.516455</td>\n",
              "      <td>-0.617140</td>\n",
              "      <td>-0.660513</td>\n",
              "      <td>1.432383</td>\n",
              "      <td>473583.527508</td>\n",
              "      <td>688.174053</td>\n",
              "    </tr>\n",
              "    <tr>\n",
              "      <th>2</th>\n",
              "      <td>0.0</td>\n",
              "      <td>6447.025049</td>\n",
              "      <td>121.690473</td>\n",
              "      <td>-85.802719</td>\n",
              "      <td>86.292900</td>\n",
              "      <td>-6445.876465</td>\n",
              "      <td>-1.551920</td>\n",
              "      <td>-4.662951</td>\n",
              "      <td>2.353346</td>\n",
              "      <td>864.940291</td>\n",
              "      <td>...</td>\n",
              "      <td>85.853992</td>\n",
              "      <td>18.497323</td>\n",
              "      <td>-8.081850</td>\n",
              "      <td>16.638350</td>\n",
              "      <td>-83.837616</td>\n",
              "      <td>-1.353643</td>\n",
              "      <td>-2.216356</td>\n",
              "      <td>2.022968</td>\n",
              "      <td>166993.904892</td>\n",
              "      <td>408.648877</td>\n",
              "    </tr>\n",
              "    <tr>\n",
              "      <th>3</th>\n",
              "      <td>0.0</td>\n",
              "      <td>158.721086</td>\n",
              "      <td>152.341702</td>\n",
              "      <td>122.331612</td>\n",
              "      <td>90.790810</td>\n",
              "      <td>-44.546478</td>\n",
              "      <td>-0.284480</td>\n",
              "      <td>-0.288397</td>\n",
              "      <td>0.638471</td>\n",
              "      <td>33.440456</td>\n",
              "      <td>...</td>\n",
              "      <td>13.407958</td>\n",
              "      <td>8.359232</td>\n",
              "      <td>4.510383</td>\n",
              "      <td>7.037983</td>\n",
              "      <td>-10.483157</td>\n",
              "      <td>-0.897645</td>\n",
              "      <td>-1.050140</td>\n",
              "      <td>1.000871</td>\n",
              "      <td>27154.777155</td>\n",
              "      <td>164.787066</td>\n",
              "    </tr>\n",
              "    <tr>\n",
              "      <th>4</th>\n",
              "      <td>0.0</td>\n",
              "      <td>237.150139</td>\n",
              "      <td>36.368379</td>\n",
              "      <td>1.744334</td>\n",
              "      <td>-36.326523</td>\n",
              "      <td>234.344894</td>\n",
              "      <td>1.416833</td>\n",
              "      <td>2.562209</td>\n",
              "      <td>-1.522815</td>\n",
              "      <td>38.519199</td>\n",
              "      <td>...</td>\n",
              "      <td>100.019126</td>\n",
              "      <td>22.121250</td>\n",
              "      <td>-0.835638</td>\n",
              "      <td>22.105461</td>\n",
              "      <td>97.542175</td>\n",
              "      <td>1.347782</td>\n",
              "      <td>2.189510</td>\n",
              "      <td>1.608581</td>\n",
              "      <td>119510.274328</td>\n",
              "      <td>345.702581</td>\n",
              "    </tr>\n",
              "  </tbody>\n",
              "</table>\n",
              "<p>5 rows × 35 columns</p>\n",
              "</div>"
            ],
            "text/plain": [
              "   signal   lep1vsPt_e  lep1vsPt_pt  lep1vsPt_px  lep1vsPt_py  lep1vsPt_pz  \\\n",
              "0     0.0   445.321523    57.944229   -42.477551   -39.410549   441.535645   \n",
              "1     0.0   140.055417   136.332350  -108.544930    82.489441    32.078190   \n",
              "2     0.0  6447.025049   121.690473   -85.802719    86.292900 -6445.876465   \n",
              "3     0.0   158.721086   152.341702   122.331612    90.790810   -44.546478   \n",
              "4     0.0   237.150139    36.368379     1.744334   -36.326523   234.344894   \n",
              "\n",
              "   lep1vsPt_theta  lep1vsPt_eta  lep1vsPt_phi  lep2vsPt_e     ...      \\\n",
              "0        1.440309      2.728203     -2.393631   53.248678     ...       \n",
              "1        0.231091      0.233175      2.491750  891.217773     ...       \n",
              "2       -1.551920     -4.662951      2.353346  864.940291     ...       \n",
              "3       -0.284480     -0.288397      0.638471   33.440456     ...       \n",
              "4        1.416833      2.562209     -1.522815   38.519199     ...       \n",
              "\n",
              "   lep4vsPt_e  lep4vsPt_pt  lep4vsPt_px  lep4vsPt_py  lep4vsPt_pz  \\\n",
              "0  602.237690    12.472126    11.300107    -5.278400   602.108521   \n",
              "1   38.908363    31.731214     4.377998    31.427744   -22.516455   \n",
              "2   85.853992    18.497323    -8.081850    16.638350   -83.837616   \n",
              "3   13.407958     8.359232     4.510383     7.037983   -10.483157   \n",
              "4  100.019126    22.121250    -0.835638    22.105461    97.542175   \n",
              "\n",
              "   lep4vsPt_theta  lep4vsPt_eta  lep4vsPt_phi             m2           m  \n",
              "0        1.550085      4.570196     -0.436992   39802.175172  199.504825  \n",
              "1       -0.617140     -0.660513      1.432383  473583.527508  688.174053  \n",
              "2       -1.353643     -2.216356      2.022968  166993.904892  408.648877  \n",
              "3       -0.897645     -1.050140      1.000871   27154.777155  164.787066  \n",
              "4        1.347782      2.189510      1.608581  119510.274328  345.702581  \n",
              "\n",
              "[5 rows x 35 columns]"
            ]
          },
          "metadata": {
            "tags": []
          },
          "execution_count": 45
        }
      ]
    },
    {
      "metadata": {
        "id": "J8QD2d8ePJOP",
        "colab_type": "code",
        "colab": {}
      },
      "cell_type": "code",
      "source": [
        "features = kin_vars.copy()\n",
        "\n",
        "features.append('m')"
      ],
      "execution_count": 0,
      "outputs": []
    },
    {
      "metadata": {
        "id": "YtwCHP0f-tr4",
        "colab_type": "code",
        "colab": {}
      },
      "cell_type": "code",
      "source": [
        "N_Train=9999\n",
        "\n",
        "Train_Sample=ds_with_features[:N_Train]\n",
        "Test_Sample=ds_with_features[N_Train:]\n",
        "\n",
        "X_Train=Train_Sample[kin_vars[1:]]\n",
        "y_Train=Train_Sample[\"signal\"]\n",
        "\n",
        "X_Test=Test_Sample[kin_vars[1:]]\n",
        "y_Test=Test_Sample[\"signal\"]\n",
        "\n",
        "Test_sig=Test_Sample[Test_Sample.signal==1]\n",
        "Test_bkg=Test_Sample[Test_Sample.signal==0]\n",
        "\n",
        "\n",
        "\n",
        "X_Train_Raw=Train_Sample[kin_vars]\n",
        "X_Test_Raw=Test_Sample[kin_vars]\n",
        "\n",
        "X_Train_Features=Train_Sample[features]\n",
        "X_Test_Features=Test_Sample[features]"
      ],
      "execution_count": 0,
      "outputs": []
    },
    {
      "metadata": {
        "id": "cZdnzGG9_BVd",
        "colab_type": "code",
        "colab": {
          "base_uri": "https://localhost:8080/",
          "height": 577
        },
        "outputId": "2fca62d1-3733-4fdf-a940-b930bed823be"
      },
      "cell_type": "code",
      "source": [
        "def TrainFisher(X_Train,X_Test,y_Train):\n",
        "    Fisher=DA.LinearDiscriminantAnalysis()\n",
        "    Fisher.fit(X_Train,y_Train)\n",
        "\n",
        "    fpr, tpr, _ = roc_curve(y_Test, Fisher.decision_function(X_Test))\n",
        "    roc_auc = auc(fpr, tpr)\n",
        "\n",
        "    plt.plot(fpr,tpr,color='darkorange',label='ROC curve (area = %0.2f)' % roc_auc)\n",
        "    plt.legend(loc=\"lower right\")\n",
        "    plt.xlabel('False Positive Rate')\n",
        "    plt.ylabel('True Positive Rate')\n",
        "    plt.show()\n",
        "    \n",
        "    return Fisher\n",
        "\n",
        "kin_vars_Fisher=TrainFisher(X_Train_Raw,X_Test_Raw,y_Train)\n",
        "features_Fisher=TrainFisher(X_Train_Features,X_Test_Features,y_Train)"
      ],
      "execution_count": 48,
      "outputs": [
        {
          "output_type": "stream",
          "text": [
            "/usr/local/lib/python3.6/dist-packages/sklearn/discriminant_analysis.py:388: UserWarning: Variables are collinear.\n",
            "  warnings.warn(\"Variables are collinear.\")\n"
          ],
          "name": "stderr"
        },
        {
          "output_type": "display_data",
          "data": {
            "image/png": "[encoded data removed]",
            "text/plain": [
              "<matplotlib.figure.Figure at 0x7ff462602d68>"
            ]
          },
          "metadata": {
            "tags": []
          }
        },
        {
          "output_type": "display_data",
          "data": {
            "image/png": "[encoded data removed]",
            "text/plain": [
              "<matplotlib.figure.Figure at 0x7ff467d27780>"
            ]
          },
          "metadata": {
            "tags": []
          }
        }
      ]
    },
    {
      "metadata": {
        "id": "955GlFeEBpAO",
        "colab_type": "text"
      },
      "cell_type": "markdown",
      "source": [
        "## Significance\n",
        "\n",
        "The following function calculates the significance of the observation of the signal given the number of expected Signal and Background events, using the simple formula $\\sigma_S= \\frac{N_S}{\\sqrt{N_S+N_B}}$. Read through the code carefully."
      ]
    },
    {
      "metadata": {
        "id": "RTzmz_KWBr-G",
        "colab_type": "code",
        "colab": {
          "base_uri": "https://localhost:8080/",
          "height": 567
        },
        "outputId": "1ed83114-4f0b-4c33-e902-c0a0bed91075"
      },
      "cell_type": "code",
      "source": [
        "def PlotSignificance(N_S,N_B, N_S_min=1):\n",
        "    plt.figure()\n",
        "    eff_sig,bins_sig,p_sig=plt.hist(Fisher.decision_function(Test_sig[kin_vars[1:]]),bins=100,histtype=\"step\",color=\"red\",label=\"signal\",cumulative=-1,stacked=True,normed=True)\n",
        "    eff_bkg,bins_bkg,p_bkg=plt.hist(Fisher.decision_function(Test_bkg[kin_vars[1:]]),bins=100,histtype=\"step\",color=\"blue\",label=\"background\",cumulative=-1,stacked=True,normed=True)\n",
        "    plt.legend(loc='upper right')\n",
        "    plt.show()\n",
        "    \n",
        "    good_bins = np.where(eff_sig*N_S>=N_S_min)\n",
        "\n",
        "    print(len(good_bins[0]))\n",
        "    if len(good_bins[0])<1:\n",
        "        print(\"Insufficient Signal.\")\n",
        "        return 0,0,0\n",
        "    \n",
        "    significance=(N_S*eff_sig)/np.sqrt((N_B*eff_bkg)+(N_S*eff_sig))\n",
        "\n",
        "    plt.figure()\n",
        "    plt.plot(bins_sig[:-1],significance)\n",
        "    \n",
        "    max_sign=np.max(significance[good_bins])\n",
        "    max_signI=np.argmax(significance[good_bins])\n",
        "    \n",
        "    plt.show()\n",
        "    print(\"Max significance at \", bins_sig[max_signI], \" of\", max_sign)\n",
        "    return bins_sig[max_signI],max_sign, max_signI\n",
        "    \n",
        "PlotSignificance(1000000,1e11)"
      ],
      "execution_count": 51,
      "outputs": [
        {
          "output_type": "display_data",
          "data": {
            "image/png": "[encoded data removed]",
            "text/plain": [
              "<matplotlib.figure.Figure at 0x7ff462156320>"
            ]
          },
          "metadata": {
            "tags": []
          }
        },
        {
          "output_type": "stream",
          "text": [
            "100\n"
          ],
          "name": "stdout"
        },
        {
          "output_type": "display_data",
          "data": {
            "image/png": "[encoded data removed]",
            "text/plain": [
              "<matplotlib.figure.Figure at 0x7ff4621644a8>"
            ]
          },
          "metadata": {
            "tags": []
          }
        },
        {
          "output_type": "stream",
          "text": [
            "Max significance at  -2.5961710140266714  of 3.5330026264849317\n"
          ],
          "name": "stdout"
        },
        {
          "output_type": "execute_result",
          "data": {
            "text/plain": [
              "(-2.5961710140266714, 3.5330026264849317, 34)"
            ]
          },
          "metadata": {
            "tags": []
          },
          "execution_count": 51
        }
      ]
    },
    {
      "metadata": {
        "id": "6KlgToYv6EM8",
        "colab_type": "text"
      },
      "cell_type": "markdown",
      "source": [
        "# LogisticRegression"
      ]
    },
    {
      "metadata": {
        "id": "BogFKP-m5S9g",
        "colab_type": "text"
      },
      "cell_type": "markdown",
      "source": [
        "## Preparing samples"
      ]
    },
    {
      "metadata": {
        "id": "hSssndWqyhME",
        "colab_type": "code",
        "colab": {}
      },
      "cell_type": "code",
      "source": [
        "dsw = ds.copy()"
      ],
      "execution_count": 0,
      "outputs": []
    },
    {
      "metadata": {
        "id": "fFzF0V6V-s7V",
        "colab_type": "code",
        "colab": {
          "base_uri": "https://localhost:8080/",
          "height": 256
        },
        "outputId": "0fe1178f-3419-4778-91a2-5707a89dc288"
      },
      "cell_type": "code",
      "source": [
        "dsw['m2'] = (dsw['lep1vsPt_e'] +dsw['lep2vsPt_e'] +dsw['lep3vsPt_e'] +dsw['lep4vsPt_e'])**2 \\\n",
        "          - (dsw['lep1vsPt_px']+dsw['lep2vsPt_px']+dsw['lep3vsPt_px']+dsw['lep4vsPt_px'])**2 \\\n",
        "          - (dsw['lep1vsPt_py']+dsw['lep2vsPt_py']+dsw['lep3vsPt_py']+dsw['lep4vsPt_py'])**2 \\\n",
        "          - (dsw['lep1vsPt_pz']+dsw['lep2vsPt_pz']+dsw['lep3vsPt_pz']+dsw['lep4vsPt_pz'])**2\n",
        "\n",
        "dsw['m'] = dsw['m2']**0.5\n",
        "dsw.head()"
      ],
      "execution_count": 54,
      "outputs": [
        {
          "output_type": "execute_result",
          "data": {
            "text/html": [
              "<div>\n",
              "<style scoped>\n",
              "    .dataframe tbody tr th:only-of-type {\n",
              "        vertical-align: middle;\n",
              "    }\n",
              "\n",
              "    .dataframe tbody tr th {\n",
              "        vertical-align: top;\n",
              "    }\n",
              "\n",
              "    .dataframe thead th {\n",
              "        text-align: right;\n",
              "    }\n",
              "</style>\n",
              "<table border=\"1\" class=\"dataframe\">\n",
              "  <thead>\n",
              "    <tr style=\"text-align: right;\">\n",
              "      <th></th>\n",
              "      <th>signal</th>\n",
              "      <th>lep1vsPt_e</th>\n",
              "      <th>lep1vsPt_pt</th>\n",
              "      <th>lep1vsPt_px</th>\n",
              "      <th>lep1vsPt_py</th>\n",
              "      <th>lep1vsPt_pz</th>\n",
              "      <th>lep1vsPt_theta</th>\n",
              "      <th>lep1vsPt_eta</th>\n",
              "      <th>lep1vsPt_phi</th>\n",
              "      <th>lep2vsPt_e</th>\n",
              "      <th>...</th>\n",
              "      <th>lep4vsPt_e</th>\n",
              "      <th>lep4vsPt_pt</th>\n",
              "      <th>lep4vsPt_px</th>\n",
              "      <th>lep4vsPt_py</th>\n",
              "      <th>lep4vsPt_pz</th>\n",
              "      <th>lep4vsPt_theta</th>\n",
              "      <th>lep4vsPt_eta</th>\n",
              "      <th>lep4vsPt_phi</th>\n",
              "      <th>m2</th>\n",
              "      <th>m</th>\n",
              "    </tr>\n",
              "  </thead>\n",
              "  <tbody>\n",
              "    <tr>\n",
              "      <th>0</th>\n",
              "      <td>0.0</td>\n",
              "      <td>445.321523</td>\n",
              "      <td>57.944229</td>\n",
              "      <td>-42.477551</td>\n",
              "      <td>-39.410549</td>\n",
              "      <td>441.535645</td>\n",
              "      <td>1.440309</td>\n",
              "      <td>2.728203</td>\n",
              "      <td>-2.393631</td>\n",
              "      <td>53.248678</td>\n",
              "      <td>...</td>\n",
              "      <td>602.237690</td>\n",
              "      <td>12.472126</td>\n",
              "      <td>11.300107</td>\n",
              "      <td>-5.278400</td>\n",
              "      <td>602.108521</td>\n",
              "      <td>1.550085</td>\n",
              "      <td>4.570196</td>\n",
              "      <td>-0.436992</td>\n",
              "      <td>39802.175172</td>\n",
              "      <td>199.504825</td>\n",
              "    </tr>\n",
              "    <tr>\n",
              "      <th>1</th>\n",
              "      <td>0.0</td>\n",
              "      <td>140.055417</td>\n",
              "      <td>136.332350</td>\n",
              "      <td>-108.544930</td>\n",
              "      <td>82.489441</td>\n",
              "      <td>32.078190</td>\n",
              "      <td>0.231091</td>\n",
              "      <td>0.233175</td>\n",
              "      <td>2.491750</td>\n",
              "      <td>891.217773</td>\n",
              "      <td>...</td>\n",
              "      <td>38.908363</td>\n",
              "      <td>31.731214</td>\n",
              "      <td>4.377998</td>\n",
              "      <td>31.427744</td>\n",
              "      <td>-22.516455</td>\n",
              "      <td>-0.617140</td>\n",
              "      <td>-0.660513</td>\n",
              "      <td>1.432383</td>\n",
              "      <td>473583.527508</td>\n",
              "      <td>688.174053</td>\n",
              "    </tr>\n",
              "    <tr>\n",
              "      <th>2</th>\n",
              "      <td>0.0</td>\n",
              "      <td>6447.025049</td>\n",
              "      <td>121.690473</td>\n",
              "      <td>-85.802719</td>\n",
              "      <td>86.292900</td>\n",
              "      <td>-6445.876465</td>\n",
              "      <td>-1.551920</td>\n",
              "      <td>-4.662951</td>\n",
              "      <td>2.353346</td>\n",
              "      <td>864.940291</td>\n",
              "      <td>...</td>\n",
              "      <td>85.853992</td>\n",
              "      <td>18.497323</td>\n",
              "      <td>-8.081850</td>\n",
              "      <td>16.638350</td>\n",
              "      <td>-83.837616</td>\n",
              "      <td>-1.353643</td>\n",
              "      <td>-2.216356</td>\n",
              "      <td>2.022968</td>\n",
              "      <td>166993.904892</td>\n",
              "      <td>408.648877</td>\n",
              "    </tr>\n",
              "    <tr>\n",
              "      <th>3</th>\n",
              "      <td>0.0</td>\n",
              "      <td>158.721086</td>\n",
              "      <td>152.341702</td>\n",
              "      <td>122.331612</td>\n",
              "      <td>90.790810</td>\n",
              "      <td>-44.546478</td>\n",
              "      <td>-0.284480</td>\n",
              "      <td>-0.288397</td>\n",
              "      <td>0.638471</td>\n",
              "      <td>33.440456</td>\n",
              "      <td>...</td>\n",
              "      <td>13.407958</td>\n",
              "      <td>8.359232</td>\n",
              "      <td>4.510383</td>\n",
              "      <td>7.037983</td>\n",
              "      <td>-10.483157</td>\n",
              "      <td>-0.897645</td>\n",
              "      <td>-1.050140</td>\n",
              "      <td>1.000871</td>\n",
              "      <td>27154.777155</td>\n",
              "      <td>164.787066</td>\n",
              "    </tr>\n",
              "    <tr>\n",
              "      <th>4</th>\n",
              "      <td>0.0</td>\n",
              "      <td>237.150139</td>\n",
              "      <td>36.368379</td>\n",
              "      <td>1.744334</td>\n",
              "      <td>-36.326523</td>\n",
              "      <td>234.344894</td>\n",
              "      <td>1.416833</td>\n",
              "      <td>2.562209</td>\n",
              "      <td>-1.522815</td>\n",
              "      <td>38.519199</td>\n",
              "      <td>...</td>\n",
              "      <td>100.019126</td>\n",
              "      <td>22.121250</td>\n",
              "      <td>-0.835638</td>\n",
              "      <td>22.105461</td>\n",
              "      <td>97.542175</td>\n",
              "      <td>1.347782</td>\n",
              "      <td>2.189510</td>\n",
              "      <td>1.608581</td>\n",
              "      <td>119510.274328</td>\n",
              "      <td>345.702581</td>\n",
              "    </tr>\n",
              "  </tbody>\n",
              "</table>\n",
              "<p>5 rows × 35 columns</p>\n",
              "</div>"
            ],
            "text/plain": [
              "   signal   lep1vsPt_e  lep1vsPt_pt  lep1vsPt_px  lep1vsPt_py  lep1vsPt_pz  \\\n",
              "0     0.0   445.321523    57.944229   -42.477551   -39.410549   441.535645   \n",
              "1     0.0   140.055417   136.332350  -108.544930    82.489441    32.078190   \n",
              "2     0.0  6447.025049   121.690473   -85.802719    86.292900 -6445.876465   \n",
              "3     0.0   158.721086   152.341702   122.331612    90.790810   -44.546478   \n",
              "4     0.0   237.150139    36.368379     1.744334   -36.326523   234.344894   \n",
              "\n",
              "   lep1vsPt_theta  lep1vsPt_eta  lep1vsPt_phi  lep2vsPt_e     ...      \\\n",
              "0        1.440309      2.728203     -2.393631   53.248678     ...       \n",
              "1        0.231091      0.233175      2.491750  891.217773     ...       \n",
              "2       -1.551920     -4.662951      2.353346  864.940291     ...       \n",
              "3       -0.284480     -0.288397      0.638471   33.440456     ...       \n",
              "4        1.416833      2.562209     -1.522815   38.519199     ...       \n",
              "\n",
              "   lep4vsPt_e  lep4vsPt_pt  lep4vsPt_px  lep4vsPt_py  lep4vsPt_pz  \\\n",
              "0  602.237690    12.472126    11.300107    -5.278400   602.108521   \n",
              "1   38.908363    31.731214     4.377998    31.427744   -22.516455   \n",
              "2   85.853992    18.497323    -8.081850    16.638350   -83.837616   \n",
              "3   13.407958     8.359232     4.510383     7.037983   -10.483157   \n",
              "4  100.019126    22.121250    -0.835638    22.105461    97.542175   \n",
              "\n",
              "   lep4vsPt_theta  lep4vsPt_eta  lep4vsPt_phi             m2           m  \n",
              "0        1.550085      4.570196     -0.436992   39802.175172  199.504825  \n",
              "1       -0.617140     -0.660513      1.432383  473583.527508  688.174053  \n",
              "2       -1.353643     -2.216356      2.022968  166993.904892  408.648877  \n",
              "3       -0.897645     -1.050140      1.000871   27154.777155  164.787066  \n",
              "4        1.347782      2.189510      1.608581  119510.274328  345.702581  \n",
              "\n",
              "[5 rows x 35 columns]"
            ]
          },
          "metadata": {
            "tags": []
          },
          "execution_count": 54
        }
      ]
    },
    {
      "metadata": {
        "colab_type": "code",
        "id": "RaovIm4LMZ3p",
        "colab": {}
      },
      "cell_type": "code",
      "source": [
        "from sklearn.metrics import roc_auc_score, roc_curve\n",
        "from sklearn.model_selection import train_test_split\n",
        "from sklearn.linear_model import LogisticRegression"
      ],
      "execution_count": 0,
      "outputs": []
    },
    {
      "metadata": {
        "colab_type": "code",
        "id": "ahuSyo7LMZ4w",
        "colab": {}
      },
      "cell_type": "code",
      "source": [
        "train, test = train_test_split(dsw, test_size=0.25)"
      ],
      "execution_count": 0,
      "outputs": []
    },
    {
      "metadata": {
        "id": "1ZktgtapMuNQ",
        "colab_type": "code",
        "colab": {}
      },
      "cell_type": "code",
      "source": [
        "from sklearn.preprocessing import RobustScaler"
      ],
      "execution_count": 0,
      "outputs": []
    },
    {
      "metadata": {
        "id": "DFas5PZz5aDQ",
        "colab_type": "text"
      },
      "cell_type": "markdown",
      "source": [
        "## Defining features"
      ]
    },
    {
      "metadata": {
        "id": "YMAV2b0h5jEA",
        "colab_type": "code",
        "colab": {}
      },
      "cell_type": "code",
      "source": [
        "def features(x):\n",
        "    return np.array([\n",
        "x['lep1vsPt_e'], x['lep1vsPt_pt'], x['lep1vsPt_px'], x['lep1vsPt_py'], x['lep1vsPt_pz'], x['lep1vsPt_theta'], x['lep1vsPt_eta'], x['lep1vsPt_phi'], \\\n",
        "x['lep2vsPt_e'], x['lep2vsPt_pt'], x['lep2vsPt_px'], x['lep2vsPt_py'], x['lep2vsPt_pz'], x['lep2vsPt_theta'], x['lep2vsPt_eta'], x['lep2vsPt_phi'], \\\n",
        "x['lep3vsPt_e'], x['lep3vsPt_pt'], x['lep3vsPt_px'], x['lep3vsPt_py'], x['lep3vsPt_pz'], x['lep3vsPt_theta'], x['lep3vsPt_eta'], x['lep3vsPt_phi'], \\\n",
        "x['lep4vsPt_e'], x['lep4vsPt_pt'], x['lep4vsPt_px'], x['lep4vsPt_py'], x['lep4vsPt_pz'], x['lep4vsPt_theta'], x['lep4vsPt_eta'], x['lep4vsPt_phi'], \\\n",
        "x['m'], \\\n",
        "    ]).T"
      ],
      "execution_count": 0,
      "outputs": []
    },
    {
      "metadata": {
        "id": "wpg15uIl5t60",
        "colab_type": "text"
      },
      "cell_type": "markdown",
      "source": [
        "## Using classifier"
      ]
    },
    {
      "metadata": {
        "id": "r25GtjImGpVr",
        "colab_type": "code",
        "colab": {
          "base_uri": "https://localhost:8080/",
          "height": 53
        },
        "outputId": "80a78528-44b6-470b-8d9a-cf32586ceda4"
      },
      "cell_type": "code",
      "source": [
        "scaler = RobustScaler()\n",
        "model = LogisticRegression()\n",
        "scaler.fit(features(train))\n",
        "model.fit(scaler.transform(features(train)), train.signal)\n",
        "\n",
        "preds_train = model.predict_proba(scaler.transform(features(train)))[:,1]\n",
        "preds_test  = model.predict_proba(scaler.transform(features(test )))[:,1]\n",
        "\n",
        "print(roc_auc_score(train.signal, preds_train))\n",
        "print(roc_auc_score(test .signal, preds_test ))"
      ],
      "execution_count": 59,
      "outputs": [
        {
          "output_type": "stream",
          "text": [
            "0.771586654051376\n",
            "0.7607986050659905\n"
          ],
          "name": "stdout"
        }
      ]
    },
    {
      "metadata": {
        "id": "Cm9yqSw-5kze",
        "colab_type": "text"
      },
      "cell_type": "markdown",
      "source": [
        "## Retrieving ROC"
      ]
    },
    {
      "metadata": {
        "id": "w_tgBN9SGpq2",
        "colab_type": "code",
        "colab": {
          "base_uri": "https://localhost:8080/",
          "height": 279
        },
        "outputId": "c6bcb152-743a-4522-b8bb-1b8876157abb"
      },
      "cell_type": "code",
      "source": [
        "fpr_mod, tpr_mod, _ = roc_curve(test.signal, preds_test)\n",
        "\n",
        "roc_auc = auc(fpr_mod, tpr_mod)\n",
        "\n",
        "plt.plot(fpr,tpr,color='darkorange',label='ROC curve (area = %0.2f)' % roc_auc)\n",
        "plt.legend(loc=\"lower right\")\n",
        "plt.xlabel('False Positive Rate')\n",
        "plt.ylabel('True Positive Rate')\n",
        "\n",
        "plt.show()"
      ],
      "execution_count": 60,
      "outputs": [
        {
          "output_type": "display_data",
          "data": {
            "image/png": "[encoded data removed]",
            "text/plain": [
              "<matplotlib.figure.Figure at 0x7ff4623958d0>"
            ]
          },
          "metadata": {
            "tags": []
          }
        }
      ]
    },
    {
      "metadata": {
        "id": "9ulPJ19nFAgU",
        "colab_type": "code",
        "colab": {
          "base_uri": "https://localhost:8080/",
          "height": 249
        },
        "outputId": "2844eb30-641d-47ef-ea95-ed7ce1d10afb"
      },
      "cell_type": "code",
      "source": [
        "scaler.transform(features(train))"
      ],
      "execution_count": 61,
      "outputs": [
        {
          "output_type": "execute_result",
          "data": {
            "text/plain": [
              "array([[ 2.21098748e-03, -1.11291435e+00, -1.06981034e-01, ...,\n",
              "         9.72158783e-01, -8.29840091e-02, -8.17787116e-01],\n",
              "       [-2.30300314e-01, -1.05871709e+00, -1.00504881e-01, ...,\n",
              "        -3.83899547e-02, -2.97439556e-01, -7.04016916e-01],\n",
              "       [-2.25104256e-01,  4.45154864e-01,  1.06715026e+00, ...,\n",
              "        -3.71438768e-01,  3.34318611e-01,  5.06902962e-01],\n",
              "       ...,\n",
              "       [ 4.31295929e+00,  4.12550056e-01,  5.69301021e-01, ...,\n",
              "         9.78170409e-01, -8.55649334e-01, -1.01040888e-01],\n",
              "       [-2.27719143e-01, -2.99571739e-02, -7.10698228e-01, ...,\n",
              "        -2.26014293e-01, -9.22816195e-01, -3.45959416e-01],\n",
              "       [-2.58468423e-01, -6.71411317e-01,  2.68707686e-01, ...,\n",
              "        -3.69617987e-01,  5.72026076e-03, -3.66000085e-01]])"
            ]
          },
          "metadata": {
            "tags": []
          },
          "execution_count": 61
        }
      ]
    },
    {
      "metadata": {
        "id": "yt0YSFq055Bm",
        "colab_type": "text"
      },
      "cell_type": "markdown",
      "source": [
        "## Significance"
      ]
    },
    {
      "metadata": {
        "id": "LGVYQAznAi8D",
        "colab_type": "code",
        "colab": {
          "base_uri": "https://localhost:8080/",
          "height": 567
        },
        "outputId": "8793bfeb-9e74-46ca-ccd1-d99ce691869c"
      },
      "cell_type": "code",
      "source": [
        "def PlotSignificance(N_S,N_B, N_S_min=1):\n",
        "    plt.figure()\n",
        "    eff_sig,bins_sig,p_sig=plt.hist(model.decision_function(scaler.transform(features(train[train.signal == 1.0]))),bins=100,histtype=\"step\",color=\"red\",label=\"signal\",cumulative=-1,stacked=True,normed=True)\n",
        "    eff_bkg,bins_bkg,p_bkg=plt.hist(model.decision_function(scaler.transform(features(train[train.signal == 0.0]))),bins=100,histtype=\"step\",color=\"blue\",label=\"background\",cumulative=-1,stacked=True,normed=True)\n",
        "    plt.legend(loc='upper right')\n",
        "    plt.show()\n",
        "    \n",
        "    good_bins = np.where(eff_sig*N_S>=N_S_min)\n",
        "\n",
        "    print(len(good_bins[0]))\n",
        "    if len(good_bins[0])<1:\n",
        "        print(\"Insufficient Signal.\")\n",
        "        return 0,0,0\n",
        "    \n",
        "    significance=(N_S*eff_sig)/np.sqrt((N_B*eff_bkg)+(N_S*eff_sig))\n",
        "\n",
        "    plt.figure()\n",
        "    plt.plot(bins_sig[:-1],significance)\n",
        "    \n",
        "    max_sign=np.max(significance[good_bins])\n",
        "    max_signI=np.argmax(significance[good_bins])\n",
        "    \n",
        "    plt.show()\n",
        "    print(\"Max significance at \", bins_sig[max_signI], \" of\", max_sign)\n",
        "    return bins_sig[max_signI],max_sign, max_signI\n",
        "    \n",
        "PlotSignificance(1000000,1e11)"
      ],
      "execution_count": 62,
      "outputs": [
        {
          "output_type": "display_data",
          "data": {
            "image/png": "[encoded data removed]",
            "text/plain": [
              "<matplotlib.figure.Figure at 0x7ff4620cfda0>"
            ]
          },
          "metadata": {
            "tags": []
          }
        },
        {
          "output_type": "stream",
          "text": [
            "100\n"
          ],
          "name": "stdout"
        },
        {
          "output_type": "display_data",
          "data": {
            "image/png": "[encoded data removed]",
            "text/plain": [
              "<matplotlib.figure.Figure at 0x7ff461f220b8>"
            ]
          },
          "metadata": {
            "tags": []
          }
        },
        {
          "output_type": "stream",
          "text": [
            "Max significance at  -7.666978840986765  of 3.163385965133351\n"
          ],
          "name": "stdout"
        },
        {
          "output_type": "execute_result",
          "data": {
            "text/plain": [
              "(-7.666978840986765, 3.163385965133351, 66)"
            ]
          },
          "metadata": {
            "tags": []
          },
          "execution_count": 62
        }
      ]
    }
  ]
}